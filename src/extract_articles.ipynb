{
 "cells": [
  {
   "cell_type": "markdown",
   "metadata": {},
   "source": [
    "## Zhlukovanie článkov Wikipédie do kategórií na základe ich vedecko-spoločenskej oblasti"
   ]
  },
  {
   "cell_type": "markdown",
   "metadata": {},
   "source": [
    "**Vypracoval:** Tomáš Babjak\n",
    "\n",
    "**Predmet:** Vyhľadávanie informácii\n",
    "\n",
    "**GitHub:** https://github.com/tomasbabjak/VINF_Wikipedia"
   ]
  },
  {
   "cell_type": "markdown",
   "metadata": {},
   "source": [
    "Imports"
   ]
  },
  {
   "cell_type": "code",
   "execution_count": 169,
   "metadata": {
    "scrolled": true
   },
   "outputs": [],
   "source": [
    "import regex\n",
    "import re\n",
    "import datamuse\n",
    "import nltk\n",
    "import json\n",
    "import string\n",
    "import time\n",
    "from nltk.corpus import stopwords\n",
    "from nltk.tokenize import word_tokenize\n",
    "from nltk.stem.porter import *\n",
    "from sklearn.feature_extraction.text import TfidfVectorizer"
   ]
  },
  {
   "cell_type": "markdown",
   "metadata": {},
   "source": [
    "### 1. Vytvoriť testovaciu vzorku dát, na ktorej budeme prvotne projekt realizovať"
   ]
  },
  {
   "cell_type": "markdown",
   "metadata": {},
   "source": [
    "Read XML file with Wiki articles and parse articles to list:"
   ]
  },
  {
   "cell_type": "code",
   "execution_count": 175,
   "metadata": {},
   "outputs": [],
   "source": [
    "def read_xml(file_name, n_first_articles):\n",
    "    \n",
    "    start_tag = f'<page>'\n",
    "    end_tag = f'</page>'\n",
    "    \n",
    "    start_found = False\n",
    "    articles_found = []\n",
    "    lines = ''\n",
    "    \n",
    "    with open(file_name, encoding=\"utf8\") as f:\n",
    "        for line in f:\n",
    "            if start_tag in line:\n",
    "                start_found = True\n",
    "            if start_found:\n",
    "                lines += line\n",
    "            if end_tag in line:\n",
    "                start_found = False\n",
    "                articles_found.append(lines)\n",
    "                lines = ''\n",
    "            if len(articles_found) == n_first_articles:\n",
    "                break\n",
    "    with open(f'../data/wiki_{n_first_articles}_before.json', 'w') as outfile:\n",
    "        json.dump(articles_found, outfile)\n",
    "    return articles_found"
   ]
  },
  {
   "cell_type": "markdown",
   "metadata": {},
   "source": [
    "Extract Title and Text attributes from article and create dictionary from them:"
   ]
  },
  {
   "cell_type": "code",
   "execution_count": 171,
   "metadata": {},
   "outputs": [],
   "source": [
    "def extract_text(text):\n",
    "    title_regex = r'<title[^>]*>([^<]+)</title>'\n",
    "    text_regex = r'<text[^>]*>([^<]+)</text>'\n",
    "    pages = []\n",
    "    for page in text:\n",
    "        title = regex.findall(title_regex, page)\n",
    "        text = regex.findall(text_regex, page)\n",
    "        pages.append({\"title\": title[0] if title else '',\n",
    "                      \"text\": text[0] if text else ''})\n",
    "    return pages"
   ]
  },
  {
   "cell_type": "markdown",
   "metadata": {},
   "source": [
    "## Najst infobox, anchor texty a wiki kategorie"
   ]
  },
  {
   "cell_type": "markdown",
   "metadata": {},
   "source": [
    "### 4. Z článkov testovacej sady vyhľadať dôležité pojmy - zamerať sa na Infobox, kde sa nachádzajú dôležité informácie o článku\n",
    "\n",
    "### 5. Vyhľadať odkazy na iné články Wikipédie (anchor text), ktoré môžu smerovať priamo na oblasť alebo aspoň priblížiť kontext článku"
   ]
  },
  {
   "cell_type": "markdown",
   "metadata": {},
   "source": [
    "Find Infobox and Achor texts from Text attribute of article and add them to dictionary"
   ]
  },
  {
   "cell_type": "code",
   "execution_count": 172,
   "metadata": {},
   "outputs": [],
   "source": [
    "def find_infobox_anchor(text):\n",
    "    regex_infobox = r\"(?=\\{Infobox )(\\{([^{}]|(?1))*\\})\"\n",
    "    regex_anchor = r\"\\[\\[([^\\]\\[:]+)\\|([^\\]\\[:]+)\\]\\]\"\n",
    "    regex_category = r\"\\[\\[Category:([^\\]]*\\b)\"\n",
    "    for page in text:\n",
    "        page['infobox'] = regex.findall(regex_infobox, page['text'])\n",
    "        page['anchors'] = regex.findall(regex_anchor, page['text'])\n",
    "        page['category_wiki'] = regex.findall(regex_category, page['text'])\n",
    "        page['text'] = regex.sub(regex_infobox, '', page['text'])\n",
    "        page['text'] = regex.sub(regex_anchor, '', page['text'])\n",
    "        page['text'] = regex.sub(regex_category, '', page['text'])\n",
    "    return text"
   ]
  },
  {
   "cell_type": "markdown",
   "metadata": {},
   "source": [
    "Separate Redirect articles from others into two separate lists"
   ]
  },
  {
   "cell_type": "code",
   "execution_count": 173,
   "metadata": {},
   "outputs": [],
   "source": [
    "def find_redirect(text):\n",
    "    regex_redirect = r\"^#REDIRECT[^\\[]*\\[\\[([^\\]]+)\"\n",
    "    redirect_pages = []\n",
    "    article_pages = []\n",
    "    for page in text:\n",
    "        if regex.findall(regex_redirect, page['text']):\n",
    "            redirect_pages.append(page)\n",
    "        else:\n",
    "            article_pages.append(page)\n",
    "    return (redirect_pages, article_pages)"
   ]
  },
  {
   "cell_type": "code",
   "execution_count": 176,
   "metadata": {},
   "outputs": [],
   "source": [
    "redirects, articles_test = find_redirect(find_infobox_anchor(extract_text(read_xml('../data/enwiki-latest-pages-articles.xml', 100))))"
   ]
  },
  {
   "cell_type": "markdown",
   "metadata": {},
   "source": [
    "### 2. Vytvoriť zoznam (strom) spoločensko-vedných oblastí, do ktorých budeme jednotlivé stránky zaraďovať, ku každej oblasti nájsť aj slová, ktoré sa s ňou spájajú"
   ]
  },
  {
   "cell_type": "markdown",
   "metadata": {},
   "source": [
    "Find terms related to our categories with Datamuse library. Split words of each category and find 100 terms related to them"
   ]
  },
  {
   "cell_type": "code",
   "execution_count": null,
   "metadata": {},
   "outputs": [],
   "source": [
    "categories = [\n",
    "    'Culture, literature and the arts',\n",
    "    'Geography - places and states',\n",
    "    'Medicine - health and fitness',\n",
    "    'History and events',\n",
    "    'Mathematics and logic',\n",
    "    'Nature and physics',\n",
    "    'Technology and computing',\n",
    "    'Philosophy and thinking',\n",
    "    'Religion and belief',\n",
    "    'Society, politics and people'\n",
    "]\n",
    "\n",
    "new_categories = [\n",
    "    'Culture',\n",
    "    'Food',\n",
    "    'Language',\n",
    "    'Literature',\n",
    "    'Art',\n",
    "    'Dance',\n",
    "    'Film',\n",
    "    'Music',\n",
    "    'Theatre',\n",
    "    'Architecture',\n",
    "    'Painting',\n",
    "    'Sculpture',\n",
    "    'Games',\n",
    "    'Sport',\n",
    "    'Recreation',\n",
    "    'Media',\n",
    "    'Internet',\n",
    "    'Geography',\n",
    "    'Earth',\n",
    "    'Health',\n",
    "    'Fitness',\n",
    "    'Exercise',\n",
    "    'Life',\n",
    "    'Medicine',\n",
    "    'History',\n",
    "    'Education',\n",
    "    'Crime',\n",
    "    'War',\n",
    "    'Transport',\n",
    "    'Mathematics',\n",
    "    'Logic',\n",
    "    'Statistics',\n",
    "    'Biology',\n",
    "    'Nature',\n",
    "    'Science',\n",
    "    'Philosophy',\n",
    "    'Religion',\n",
    "    'Belief',\n",
    "    'Society',\n",
    "    'Technology',\n",
    "    'Computing',\n",
    "    'Electronics',\n",
    "    'Engineering']"
   ]
  },
  {
   "cell_type": "markdown",
   "metadata": {},
   "source": [
    "### Vytvorit gazeteer pomocou Wiki clankov mojich kategorii"
   ]
  },
  {
   "cell_type": "markdown",
   "metadata": {},
   "source": [
    "Ku kazdej z mojich kategorii najst clanok wikipedie s rovnakym nazvom a pomocou neho neskor vytvorit gazeteer."
   ]
  },
  {
   "cell_type": "code",
   "execution_count": null,
   "metadata": {},
   "outputs": [],
   "source": [
    "def find_categories_articles(file_name):\n",
    "    start_tag = f'<page>'\n",
    "    end_tag = f'</page>'\n",
    "    title_regex = r'<title[^>]*>([^<]+)</title>'\n",
    "\n",
    "    start_found = False\n",
    "    reading = False\n",
    "    start_just = False\n",
    "    articles_found = []\n",
    "    lines = ''\n",
    "    \n",
    "    try:\n",
    "        with open(file_name, encoding=\"utf8\") as f:\n",
    "            for line in f:\n",
    "                if start_tag in line:\n",
    "                    start_found = True\n",
    "                    start_just = True\n",
    "                    continue\n",
    "                if start_just:\n",
    "                    category = regex.findall(title_regex, line)\n",
    "                    if category[0] in new_categories:\n",
    "                        print(category[0])\n",
    "                        reading = True\n",
    "                    start_just = False\n",
    "                if start_found and reading:\n",
    "                    lines += line\n",
    "                if end_tag in line:\n",
    "                    start_found = False\n",
    "                    reading = False\n",
    "                    if category[0] in new_categories:\n",
    "                        articles_found.append(lines)\n",
    "                    category = ''\n",
    "                    lines = ''\n",
    "                if len(articles_found) == len(new_categories):\n",
    "                    break\n",
    "        with open(f'../data/wiki_categories.json', 'w') as outfile:\n",
    "            json.dump(articles_found, outfile)\n",
    "        return articles_found\n",
    "    except:\n",
    "          print(\"An exception occurred\")\n",
    "    finally:\n",
    "        with open(f'../data/wiki_categories.json', 'w') as outfile:\n",
    "            json.dump(articles_found, outfile)    \n",
    "        return articles_found"
   ]
  },
  {
   "cell_type": "code",
   "execution_count": null,
   "metadata": {
    "scrolled": true
   },
   "outputs": [],
   "source": [
    "categories_articles = find_categories_articles('../data/enwiki-latest-pages-articles.xml')"
   ]
  },
  {
   "cell_type": "markdown",
   "metadata": {},
   "source": [
    "### Vytvorit gazeteer pomocou Datamuse kniznice"
   ]
  },
  {
   "cell_type": "markdown",
   "metadata": {},
   "source": [
    "Ku kazdej z mojich kategorii najst gazeteer pomocou kniznice Datamuse - related words"
   ]
  },
  {
   "cell_type": "code",
   "execution_count": null,
   "metadata": {
    "scrolled": true
   },
   "outputs": [],
   "source": [
    "api = datamuse.Datamuse()\n",
    "        \n",
    "def categories_find_related(categories):\n",
    "    cats_with_words = []\n",
    "\n",
    "    for c in categories:\n",
    "        api_words = api.words(ml=c, max=20)\n",
    "        result = list(map(lambda x: x.get('word'), api_words))\n",
    "        result.append(c.lower())\n",
    "        cats_with_words.append({'category':c,'related_words':result})\n",
    "\n",
    "    return cats_with_words"
   ]
  },
  {
   "cell_type": "markdown",
   "metadata": {},
   "source": [
    "## Predspracovanie"
   ]
  },
  {
   "cell_type": "markdown",
   "metadata": {},
   "source": [
    "### 3. Články vhodne predspracovať - stemming, tokenizácia, odstránenie stop slov"
   ]
  },
  {
   "cell_type": "code",
   "execution_count": null,
   "metadata": {},
   "outputs": [],
   "source": [
    "def tokenize_text(text):\n",
    "    text_tokens = word_tokenize(text)\n",
    "    text_tokens = [token.lower() for token in text_tokens if token not in [\"*+'-./:;,|<=>?@[\\]^_`{}~!\\\"#$%&()\\n\"]]\n",
    "    return text_tokens"
   ]
  },
  {
   "cell_type": "code",
   "execution_count": null,
   "metadata": {},
   "outputs": [],
   "source": [
    "def remove_stops(text):\n",
    "    tokens_without_stops = list(filter(lambda x: (x not in string.punctuation) and (x not in stopwords.words('english')),text))\n",
    "    return tokens_without_stops"
   ]
  },
  {
   "cell_type": "code",
   "execution_count": null,
   "metadata": {},
   "outputs": [],
   "source": [
    "def stem_list(llist):\n",
    "    stemmer = PorterStemmer()\n",
    "    return [stemmer.stem(word) for word in llist]"
   ]
  },
  {
   "cell_type": "code",
   "execution_count": null,
   "metadata": {},
   "outputs": [],
   "source": [
    "def preprocess_text(text):\n",
    "    if not text:\n",
    "        return []\n",
    "    else:\n",
    "        text = tokenize_text(text)\n",
    "        text = remove_stops(text)\n",
    "        text = stem_list(text)\n",
    "        return text"
   ]
  },
  {
   "cell_type": "markdown",
   "metadata": {},
   "source": [
    "### Predspracovat slova textu clanku, kategorii, infoboxov a anchor textov"
   ]
  },
  {
   "cell_type": "code",
   "execution_count": 177,
   "metadata": {
    "scrolled": true
   },
   "outputs": [],
   "source": [
    "for art in articles_test:\n",
    "    # Predspracovat slova textu clanku:\n",
    "    art['text_tokens'] = preprocess_text(art.get('text'))\n",
    "    # Predspracovat slova z kategorii:\n",
    "    art['category_wiki_tokens'] = preprocess_text(' '.join(art.get('category_wiki')))\n",
    "    # Predspracovat slova z infoboxov:\n",
    "    if art.get('infobox'):\n",
    "        art['infobox_tokens'] = preprocess_text(' '.join(art.get('infobox')[0]))\n",
    "    else:\n",
    "        art['infobox_tokens'] = []\n",
    "    # Predspracovat slova z anchor textov:\n",
    "    art['anchors_tokens'] = preprocess_text(' '.join([' '.join(tups) for tups in art.get('anchors')]))"
   ]
  },
  {
   "cell_type": "code",
   "execution_count": null,
   "metadata": {},
   "outputs": [],
   "source": [
    "dataset = []\n",
    "for a in articles:\n",
    "    dataset.extend(a.get('text_tokens'))"
   ]
  },
  {
   "cell_type": "markdown",
   "metadata": {},
   "source": [
    "### Predspracovat slova pre gazeteer - DATAMUSE"
   ]
  },
  {
   "cell_type": "code",
   "execution_count": 45,
   "metadata": {},
   "outputs": [],
   "source": [
    "#cats_with_words = categories_find_related(new_categories)\n",
    "for cat in cats_with_words:\n",
    "    cat['related_tokens'] = preprocess_text(' '.join(cat.get('related_words')))"
   ]
  },
  {
   "cell_type": "markdown",
   "metadata": {},
   "source": [
    "### Predspracovat slova pre gazeteer - WIKI clanky"
   ]
  },
  {
   "cell_type": "code",
   "execution_count": 62,
   "metadata": {},
   "outputs": [],
   "source": [
    "# categories_articles = find_categories_articles('../data/enwiki-latest-pages-articles.xml')\n",
    "with open('../data/wiki_categories.json') as json_file:\n",
    "    categories_articles = json.load(json_file)\n",
    "\n",
    "categories_articles = find_infobox_anchor(extract_text(categories_articles))\n",
    "for art in categories_articles:\n",
    "    art['text_tokens'] = preprocess_text(art.get('text'))# num = 0\n",
    "    art['category_wiki_tokens'] = preprocess_text(' '.join(art.get('category_wiki')))\n",
    "    if art.get('infobox'):\n",
    "        art['infobox_tokens'] = preprocess_text(' '.join(art.get('infobox')[0]))\n",
    "    else:\n",
    "        art['infobox_tokens'] = []\n",
    "    art['anchors_tokens'] = preprocess_text(' '.join([' '.join(tups) for tups in art.get('anchors')]))"
   ]
  },
  {
   "cell_type": "markdown",
   "metadata": {},
   "source": [
    "## TF-IDF"
   ]
  },
  {
   "cell_type": "code",
   "execution_count": 36,
   "metadata": {},
   "outputs": [],
   "source": [
    "import pandas as pd \n",
    "from sklearn.feature_extraction.text import TfidfTransformer \n",
    "from sklearn.feature_extraction.text import CountVectorizer \n",
    "import numpy as np\n",
    "import numpy.linalg as LA"
   ]
  },
  {
   "cell_type": "code",
   "execution_count": 165,
   "metadata": {},
   "outputs": [],
   "source": [
    "def tfidf_train(train_set):\n",
    "    vectorizer = TfidfVectorizer()\n",
    "    trainVectorizerArray = vectorizer.fit_transform(train_set).toarray()\n",
    "    return vectorizer, trainVectorizerArray\n",
    "\n",
    "def tfdif_test_cosine(test_set, vectorizer, trainVectorizerArray):\n",
    "    if not test_set[0]:\n",
    "        return {}\n",
    "    \n",
    "    testVectorizerArray = vectorizer.transform(test_set).toarray()\n",
    "    cx = lambda a, b : round(np.inner(a, b)/(LA.norm(a)*LA.norm(b)), 3)\n",
    "    \n",
    "    categories_sims = {}\n",
    "    for vector, category in zip(trainVectorizerArray, new_categories):\n",
    "        for testV in testVectorizerArray:\n",
    "            cosine = cx(vector, testV)\n",
    "            if cosine != 0:\n",
    "                categories_sims[category] = cosine\n",
    "    return categories_sims"
   ]
  },
  {
   "cell_type": "markdown",
   "metadata": {},
   "source": [
    "## Kosinusova podobnost TF-IDF"
   ]
  },
  {
   "cell_type": "markdown",
   "metadata": {},
   "source": [
    "Natrenovana Term frequency - Inverse document frequency na datasete mojho gazeteeru, teda slov jednotlivych kategorii.\n",
    "\n",
    "Tento model vyhodnotime na slovach textu clankov, infoboxov, kategorii a anchor textoch a vypocitame kosinusovu podobnost s kategoriami gazeteeru."
   ]
  },
  {
   "cell_type": "markdown",
   "metadata": {},
   "source": [
    "### Trenovanie TF-IDF na gazeteere z DATAMUSE"
   ]
  },
  {
   "cell_type": "code",
   "execution_count": 154,
   "metadata": {
    "scrolled": true
   },
   "outputs": [],
   "source": [
    "train_set = [' '.join(cat.get('related_tokens')) for cat in cats_with_words]\n",
    "\n",
    "vectorizer_datamuse, trained_model_datamuse  = tfidf_train(train_set)"
   ]
  },
  {
   "cell_type": "markdown",
   "metadata": {},
   "source": [
    "### Trenovanie TF-IDF na gazeteere z WIKI clankov kategorii"
   ]
  },
  {
   "cell_type": "code",
   "execution_count": 203,
   "metadata": {},
   "outputs": [],
   "source": [
    "train_set_text = [' '.join(cat.get('text_tokens')) for cat in categories_articles]\n",
    "train_set_category = [' '.join(cat.get('category_wiki_tokens')) for cat in categories_articles]\n",
    "# train_set_infobox = [' '.join(cat.get('infobox_tokens')) for cat in categories_articles]\n",
    "# train_set_anchors = [' '.join(cat.get('anchors_tokens')) for cat in categories_articles]\n",
    "\n",
    "vectorizer_wiki, trained_model_wiki = tfidf_train(train_set_text)\n",
    "vectorizer_wiki2, trained_model_wiki2 = tfidf_train(train_set_category)"
   ]
  },
  {
   "cell_type": "markdown",
   "metadata": {},
   "source": [
    "### Kosinusova podobnost s Kategorickymi clankami Wiki - DATAMUSE TFIDF"
   ]
  },
  {
   "cell_type": "markdown",
   "metadata": {},
   "source": [
    "### Anchor text - kosinusova podobnost"
   ]
  },
  {
   "cell_type": "code",
   "execution_count": 195,
   "metadata": {
    "scrolled": true
   },
   "outputs": [
    {
     "name": "stdout",
     "output_type": "stream",
     "text": [
      "Art\n",
      "{'Art': 0.3, 'Painting': 0.255, 'Theatre': 0.236, 'Culture': 0.176, 'Sculpture': 0.149, 'Literature': 0.13, 'Architecture': 0.105, 'Philosophy': 0.1, 'Media': 0.042, 'Belief': 0.04, 'Logic': 0.039, 'Nature': 0.031, 'History': 0.03, 'Engineering': 0.029, 'Earth': 0.026, 'Science': 0.026, 'Religion': 0.026, 'Computing': 0.023, 'Life': 0.021, 'Language': 0.02, 'Society': 0.014, 'Dance': 0.01, 'Exercise': 0.008, 'Recreation': 0.007, 'Medicine': 0.007, 'Education': 0.005}\n",
      "Computing\n",
      "{'Computing': 0.643, 'Technology': 0.359, 'Internet': 0.212, 'Engineering': 0.093, 'Language': 0.082, 'Science': 0.072, 'Education': 0.057, 'Logic': 0.05, 'Architecture': 0.037, 'Statistics': 0.037, 'Media': 0.034, 'Biology': 0.032, 'Geography': 0.031, 'Art': 0.018, 'Culture': 0.011, 'Mathematics': 0.009, 'Crime': 0.007, 'Society': 0.007, 'Literature': 0.006, 'Theatre': 0.006}\n",
      "Crime\n",
      "{'Crime': 0.328, 'Society': 0.144, 'Culture': 0.074, 'Life': 0.049, 'Nature': 0.047, 'War': 0.041, 'Architecture': 0.039, 'Language': 0.037, 'Statistics': 0.031, 'Literature': 0.028, 'Medicine': 0.028, 'Logic': 0.027, 'Engineering': 0.027, 'Technology': 0.026, 'Media': 0.021, 'Philosophy': 0.02, 'Electronics': 0.018, 'Science': 0.014, 'Health': 0.013, 'Biology': 0.013, 'History': 0.012, 'Art': 0.011, 'Belief': 0.011, 'Food': 0.009, 'Computing': 0.008, 'Exercise': 0.005, 'Mathematics': 0.003}\n",
      "Dance\n",
      "{'Dance': 0.258, 'Music': 0.252, 'Theatre': 0.194, 'History': 0.056, 'Medicine': 0.026, 'Art': 0.022, 'Society': 0.021, 'Culture': 0.019, 'Sculpture': 0.014, 'War': 0.013, 'Biology': 0.011, 'Architecture': 0.01, 'Painting': 0.01, 'Nature': 0.01, 'Life': 0.009, 'Literature': 0.007, 'Education': 0.007, 'Language': 0.006, 'Media': 0.006, 'Film': 0.005, 'Science': 0.005, 'Transport': 0.004, 'Philosophy': 0.004, 'Earth': 0.003, 'Mathematics': 0.002}\n",
      "Earth\n",
      "{'Earth': 0.267, 'Geography': 0.099, 'Nature': 0.098, 'Life': 0.096, 'Culture': 0.086, 'Biology': 0.07, 'Science': 0.061, 'History': 0.06, 'Logic': 0.036, 'Language': 0.034, 'Society': 0.03, 'Literature': 0.029, 'Technology': 0.028, 'Media': 0.026, 'Philosophy': 0.025, 'Engineering': 0.021, 'Recreation': 0.018, 'Religion': 0.018, 'Architecture': 0.017, 'War': 0.015, 'Statistics': 0.015, 'Mathematics': 0.009, 'Education': 0.006, 'Computing': 0.006, 'Sport': 0.005, 'Film': 0.004, 'Music': 0.004, 'Theatre': 0.004, 'Painting': 0.004, 'Belief': 0.004}\n",
      "Engineering\n",
      "{'Engineering': 0.458, 'Technology': 0.377, 'Architecture': 0.219, 'Computing': 0.114, 'Electronics': 0.113, 'Society': 0.071, 'Science': 0.049, 'Internet': 0.034, 'Logic': 0.026, 'Culture': 0.02, 'Geography': 0.02, 'Health': 0.017, 'Theatre': 0.014, 'Media': 0.014, 'Mathematics': 0.014, 'Biology': 0.014, 'Life': 0.013, 'Philosophy': 0.013, 'Art': 0.012, 'Literature': 0.011, 'Statistics': 0.01, 'Nature': 0.008, 'Belief': 0.008, 'Medicine': 0.007, 'Language': 0.004, 'War': 0.004}\n",
      "Education\n",
      "{'Education': 0.717, 'Science': 0.222, 'Culture': 0.128, 'Philosophy': 0.113, 'Nature': 0.098, 'Mathematics': 0.049, 'Engineering': 0.048, 'Technology': 0.04, 'Exercise': 0.035, 'Logic': 0.034, 'Architecture': 0.016, 'Computing': 0.016, 'Society': 0.012, 'Statistics': 0.011, 'Literature': 0.01, 'War': 0.01, 'Media': 0.009, 'Geography': 0.009, 'Language': 0.008, 'Medicine': 0.008, 'Biology': 0.006, 'Religion': 0.006, 'Fitness': 0.005, 'Belief': 0.004}\n",
      "Electronics\n",
      "{'Electronics': 0.444, 'Engineering': 0.28, 'Internet': 0.201, 'Computing': 0.189, 'Logic': 0.168, 'Technology': 0.165, 'Architecture': 0.096, 'Mathematics': 0.094, 'Statistics': 0.072, 'Earth': 0.067, 'Society': 0.055, 'Science': 0.053, 'Sculpture': 0.034, 'Life': 0.032, 'Philosophy': 0.031, 'Recreation': 0.027, 'Media': 0.024, 'Geography': 0.023, 'Education': 0.019, 'Literature': 0.013, 'Biology': 0.01}\n",
      "Food\n",
      "{'Food': 0.301, 'Biology': 0.067, 'Nature': 0.061, 'Earth': 0.048, 'Computing': 0.032, 'Language': 0.029, 'Technology': 0.028, 'Health': 0.02, 'Architecture': 0.019, 'Logic': 0.018, 'Life': 0.017, 'Education': 0.015, 'Medicine': 0.014, 'War': 0.014, 'Culture': 0.013, 'Geography': 0.013, 'History': 0.011, 'Science': 0.009, 'Engineering': 0.008, 'Statistics': 0.007, 'Media': 0.006, 'Society': 0.006, 'Music': 0.003, 'Recreation': 0.003, 'Internet': 0.003, 'Mathematics': 0.002, 'Electronics': 0.002}\n",
      "Games\n",
      "{}\n",
      "Internet\n",
      "{'Internet': 0.439, 'Computing': 0.16, 'Technology': 0.095, 'Electronics': 0.07, 'Statistics': 0.065, 'Society': 0.061, 'Language': 0.058, 'Engineering': 0.035, 'Exercise': 0.026, 'Media': 0.025, 'Nature': 0.025, 'Biology': 0.019, 'Education': 0.016, 'Logic': 0.014, 'War': 0.011, 'Theatre': 0.009, 'Games': 0.009, 'Science': 0.009, 'Architecture': 0.008, 'Crime': 0.008, 'Transport': 0.008, 'Philosophy': 0.008, 'Religion': 0.008, 'Literature': 0.007, 'Earth': 0.006, 'Fitness': 0.006, 'Mathematics': 0.006, 'Art': 0.004, 'Recreation': 0.004, 'Geography': 0.004, 'Culture': 0.003, 'Life': 0.003}\n",
      "Language\n",
      "{'Language': 0.516, 'Architecture': 0.028, 'Philosophy': 0.025, 'Logic': 0.022, 'Culture': 0.016, 'Nature': 0.016, 'Media': 0.014, 'Biology': 0.012, 'Science': 0.012, 'Society': 0.012, 'Life': 0.011, 'Technology': 0.01, 'Sport': 0.009, 'Engineering': 0.008, 'Computing': 0.006, 'Theatre': 0.005, 'Fitness': 0.005, 'History': 0.005, 'War': 0.005, 'Art': 0.004, 'Education': 0.004, 'Literature': 0.003, 'Earth': 0.003, 'Mathematics': 0.003, 'Statistics': 0.003, 'Internet': 0.001, 'Geography': 0.001, 'Belief': 0.001}\n",
      "Life\n",
      "{'Biology': 0.656, 'Life': 0.189, 'Nature': 0.179, 'Science': 0.112, 'Logic': 0.1, 'Mathematics': 0.093, 'Earth': 0.079, 'Geography': 0.057, 'Society': 0.051, 'Engineering': 0.05, 'Technology': 0.044, 'Internet': 0.041, 'Statistics': 0.04, 'Literature': 0.038, 'Culture': 0.027, 'Media': 0.027, 'Architecture': 0.024, 'Fitness': 0.022, 'Exercise': 0.022, 'History': 0.022, 'Philosophy': 0.021, 'Electronics': 0.016, 'Theatre': 0.014, 'Computing': 0.009, 'War': 0.007, 'Food': 0.004, 'Painting': 0.004, 'Games': 0.004, 'Language': 0.003, 'Belief': 0.003}\n",
      "Mathematics\n",
      "{'Mathematics': 0.439, 'Geography': 0.139, 'Logic': 0.133, 'Statistics': 0.103, 'Technology': 0.087, 'Science': 0.077, 'Computing': 0.075, 'Philosophy': 0.068, 'Architecture': 0.058, 'Engineering': 0.046, 'Nature': 0.033, 'Society': 0.027, 'Biology': 0.018, 'Language': 0.015, 'Internet': 0.014, 'Literature': 0.012, 'History': 0.011, 'Electronics': 0.01, 'Religion': 0.009, 'Film': 0.007, 'Fitness': 0.007, 'Exercise': 0.007, 'Life': 0.004, 'Media': 0.003}\n",
      "Music\n",
      "{'Music': 0.468, 'Dance': 0.193, 'Medicine': 0.125, 'Culture': 0.041, 'Theatre': 0.036, 'History': 0.035, 'Education': 0.033, 'Media': 0.019, 'Science': 0.018, 'Philosophy': 0.017, 'Literature': 0.016, 'Art': 0.016, 'Religion': 0.016, 'Technology': 0.016, 'Computing': 0.015, 'Electronics': 0.014, 'Engineering': 0.014, 'Statistics': 0.013, 'Language': 0.012, 'Film': 0.011, 'Exercise': 0.009, 'Biology': 0.009, 'Painting': 0.008, 'Life': 0.007, 'Logic': 0.007, 'Society': 0.007, 'Architecture': 0.006, 'Sculpture': 0.006, 'Fitness': 0.005, 'Games': 0.004, 'Internet': 0.004, 'Geography': 0.002, 'Earth': 0.002, 'Belief': 0.002, 'Sport': 0.001, 'Health': 0.001, 'Transport': 0.001, 'Nature': 0.001}\n",
      "Medicine\n",
      "{'Medicine': 0.706, 'Health': 0.19, 'Music': 0.127, 'Biology': 0.112, 'Science': 0.06, 'Technology': 0.056, 'Religion': 0.052, 'Electronics': 0.046, 'Language': 0.044, 'Nature': 0.041, 'Logic': 0.037, 'Mathematics': 0.034, 'History': 0.032, 'Philosophy': 0.029, 'Fitness': 0.028, 'Engineering': 0.028, 'Internet': 0.026, 'Earth': 0.024, 'Life': 0.023, 'Culture': 0.021, 'Exercise': 0.016, 'War': 0.013, 'Computing': 0.013, 'Food': 0.011, 'Society': 0.01, 'Education': 0.007, 'Sport': 0.006, 'Theatre': 0.005, 'Recreation': 0.005, 'Art': 0.004, 'Statistics': 0.004, 'Belief': 0.004}\n",
      "Nature\n",
      "{'Nature': 0.568, 'Biology': 0.187, 'Geography': 0.154, 'Earth': 0.097, 'Life': 0.072, 'Culture': 0.062, 'Fitness': 0.043, 'Exercise': 0.042, 'Science': 0.041, 'Architecture': 0.039, 'Medicine': 0.037, 'History': 0.037, 'Logic': 0.032, 'Literature': 0.025, 'Philosophy': 0.025, 'Mathematics': 0.021, 'Media': 0.017, 'Electronics': 0.015, 'Art': 0.013, 'Engineering': 0.013, 'War': 0.012, 'Music': 0.011, 'Belief': 0.01, 'Society': 0.01, 'Internet': 0.009, 'Dance': 0.008, 'Recreation': 0.008, 'Theatre': 0.007, 'Painting': 0.004, 'Sculpture': 0.004, 'Computing': 0.004}\n",
      "Recreation\n",
      "{'Games': 0.253, 'Theatre': 0.162, 'Art': 0.157, 'Literature': 0.14, 'Dance': 0.122, 'Computing': 0.108, 'Sport': 0.093, 'Exercise': 0.08, 'Culture': 0.079, 'Music': 0.078, 'Painting': 0.077, 'Technology': 0.077, 'Recreation': 0.064, 'Nature': 0.05, 'Sculpture': 0.048, 'Engineering': 0.048, 'Transport': 0.034, 'Society': 0.034, 'Education': 0.032, 'Science': 0.031, 'Media': 0.03, 'History': 0.029, 'War': 0.029, 'Life': 0.028, 'Internet': 0.022, 'Fitness': 0.022, 'Biology': 0.017, 'Philosophy': 0.015, 'Mathematics': 0.008}\n",
      "Religion\n",
      "{'Religion': 0.498, 'Literature': 0.053, 'Nature': 0.052, 'Philosophy': 0.049, 'Life': 0.042, 'Culture': 0.032, 'Earth': 0.031, 'History': 0.031, 'Society': 0.03, 'Education': 0.029, 'Biology': 0.027, 'Exercise': 0.026, 'Science': 0.021, 'Media': 0.019, 'Belief': 0.018, 'Crime': 0.016, 'Logic': 0.015, 'Language': 0.012, 'Engineering': 0.008, 'Technology': 0.007, 'Geography': 0.006, 'Fitness': 0.006, 'Health': 0.005, 'Medicine': 0.005, 'Painting': 0.004, 'Art': 0.003, 'War': 0.003, 'Computing': 0.003, 'Mathematics': 0.002}\n",
      "Statistics\n",
      "{'Statistics': 0.563, 'Mathematics': 0.082, 'Science': 0.051, 'Nature': 0.045, 'Technology': 0.038, 'Architecture': 0.035, 'Biology': 0.035, 'Internet': 0.025, 'Engineering': 0.024, 'Literature': 0.022, 'Geography': 0.022, 'Computing': 0.022, 'Logic': 0.017, 'Philosophy': 0.016, 'Language': 0.011, 'Crime': 0.006, 'Religion': 0.006, 'Life': 0.003, 'History': 0.003, 'Media': 0.002}\n",
      "Science\n",
      "{'Science': 0.472, 'Technology': 0.379, 'Nature': 0.212, 'Biology': 0.167, 'Engineering': 0.147, 'Philosophy': 0.119, 'Society': 0.115, 'Logic': 0.104, 'Exercise': 0.097, 'Medicine': 0.097, 'Mathematics': 0.093, 'Fitness': 0.082, 'Life': 0.069, 'Computing': 0.052, 'Literature': 0.05, 'Media': 0.048, 'Internet': 0.045, 'Language': 0.04, 'Electronics': 0.036, 'Earth': 0.031, 'Culture': 0.027, 'Music': 0.027, 'Architecture': 0.027, 'History': 0.025, 'Crime': 0.024, 'Health': 0.023, 'Education': 0.022, 'War': 0.016, 'Religion': 0.015, 'Theatre': 0.013, 'Art': 0.011, 'Geography': 0.011, 'Film': 0.008, 'Belief': 0.007}\n",
      "Sculpture\n",
      "{'Sculpture': 0.361, 'Art': 0.279, 'Theatre': 0.243, 'Culture': 0.196, 'Painting': 0.137, 'Literature': 0.121, 'History': 0.048, 'Architecture': 0.043, 'Religion': 0.042, 'War': 0.037, 'Engineering': 0.026, 'Geography': 0.024, 'Statistics': 0.024, 'Philosophy': 0.022, 'Society': 0.021, 'Music': 0.017, 'Dance': 0.016, 'Food': 0.014, 'Earth': 0.014, 'Fitness': 0.014, 'Exercise': 0.014, 'Nature': 0.014, 'Internet': 0.013, 'Life': 0.008, 'Film': 0.007, 'Language': 0.003, 'Computing': 0.003}\n",
      "Technology\n",
      "{'Technology': 0.279, 'Science': 0.257, 'History': 0.159, 'Engineering': 0.156, 'Medicine': 0.155, 'Literature': 0.133, 'Language': 0.132, 'Nature': 0.131, 'Mathematics': 0.094, 'Culture': 0.087, 'Transport': 0.072, 'Computing': 0.067, 'Society': 0.062, 'Fitness': 0.056, 'Life': 0.045, 'Film': 0.043, 'Media': 0.042, 'Recreation': 0.039, 'Biology': 0.035, 'Health': 0.034, 'Earth': 0.028, 'Geography': 0.027, 'Theatre': 0.019, 'Electronics': 0.019, 'Art': 0.017, 'Philosophy': 0.016, 'Painting': 0.01, 'Sculpture': 0.01}\n",
      "War\n",
      "{'War': 0.512, 'Nature': 0.143, 'Internet': 0.08, 'Society': 0.076, 'Logic': 0.065, 'Philosophy': 0.065, 'Biology': 0.063, 'Culture': 0.056, 'Science': 0.056, 'Engineering': 0.037, 'Language': 0.034, 'Computing': 0.032, 'Literature': 0.028, 'Life': 0.026, 'Earth': 0.023, 'History': 0.021, 'Food': 0.016, 'Technology': 0.014, 'Mathematics': 0.012, 'Recreation': 0.009, 'Education': 0.006}\n",
      "Society\n",
      "{'Society': 0.383, 'Culture': 0.156, 'Architecture': 0.12, 'Music': 0.113, 'Science': 0.112, 'Technology': 0.103, 'Life': 0.099, 'Philosophy': 0.072, 'Literature': 0.049, 'Geography': 0.048, 'Nature': 0.038, 'Dance': 0.037, 'Earth': 0.03, 'Electronics': 0.028, 'Logic': 0.025, 'Theatre': 0.024, 'Biology': 0.024, 'War': 0.022, 'Art': 0.02, 'Media': 0.016, 'Language': 0.015, 'Religion': 0.013, 'Internet': 0.012}\n",
      "Media\n",
      "{'Media': 0.277, 'Computing': 0.125, 'Music': 0.077, 'Technology': 0.056, 'Statistics': 0.036, 'Internet': 0.025}\n",
      "Health\n",
      "{'Health': 0.356, 'Fitness': 0.208, 'Biology': 0.148, 'Medicine': 0.103, 'Exercise': 0.098, 'Life': 0.083, 'Education': 0.07, 'Nature': 0.068, 'Science': 0.066, 'Language': 0.059, 'Media': 0.052, 'Logic': 0.045, 'Architecture': 0.041, 'Culture': 0.034, 'Theatre': 0.029, 'Society': 0.029, 'Earth': 0.025, 'Mathematics': 0.025, 'Engineering': 0.024, 'Food': 0.022, 'Painting': 0.019, 'Philosophy': 0.018, 'Technology': 0.018, 'Music': 0.017, 'Computing': 0.014, 'Dance': 0.01}\n",
      "Belief\n",
      "{'Religion': 0.486, 'Philosophy': 0.293, 'Society': 0.148, 'Life': 0.116, 'Logic': 0.099, 'Culture': 0.081, 'Technology': 0.081, 'Belief': 0.079, 'Biology': 0.076, 'Science': 0.075, 'Engineering': 0.041, 'Education': 0.026, 'History': 0.023, 'Exercise': 0.021, 'Mathematics': 0.02, 'Crime': 0.014, 'Literature': 0.012, 'Earth': 0.011, 'Media': 0.01, 'Medicine': 0.009}\n",
      "Fitness\n",
      "{'Fitness': 0.25, 'Literature': 0.157, 'Health': 0.102, 'Recreation': 0.095, 'Exercise': 0.081}\n",
      "Exercise\n",
      "{'Fitness': 0.358, 'Exercise': 0.239, 'Sport': 0.111, 'Education': 0.092, 'Medicine': 0.075, 'Recreation': 0.065, 'Science': 0.054, 'Language': 0.048, 'Biology': 0.045, 'Earth': 0.044, 'Health': 0.03, 'Food': 0.029, 'Life': 0.029, 'Logic': 0.027, 'Music': 0.022, 'Media': 0.012, 'Mathematics': 0.009}\n",
      "Biology\n",
      "{'Biology': 0.745, 'Science': 0.175, 'Mathematics': 0.146, 'Logic': 0.125, 'Nature': 0.091, 'Life': 0.088, 'Technology': 0.062, 'Engineering': 0.056, 'Society': 0.037, 'Language': 0.034, 'Philosophy': 0.032, 'Medicine': 0.031, 'Fitness': 0.027, 'Exercise': 0.027, 'Architecture': 0.02, 'Earth': 0.014, 'Religion': 0.012, 'Art': 0.009, 'Geography': 0.009, 'Health': 0.006, 'Transport': 0.006, 'Music': 0.005, 'Recreation': 0.005, 'Education': 0.004, 'Computing': 0.004}\n",
      "History\n",
      "{'History': 0.378, 'Life': 0.134, 'Nature': 0.081, 'Culture': 0.077, 'Language': 0.075, 'Logic': 0.06, 'Religion': 0.059, 'Literature': 0.054, 'Philosophy': 0.054, 'Science': 0.047, 'Geography': 0.034, 'Theatre': 0.032, 'War': 0.031, 'Art': 0.027, 'Society': 0.018, 'Painting': 0.016, 'Sculpture': 0.016, 'Media': 0.016, 'Education': 0.009, 'Crime': 0.007, 'Belief': 0.005}\n",
      "Philosophy\n",
      "{'Philosophy': 0.288, 'Logic': 0.238, 'Belief': 0.165, 'Culture': 0.147, 'Nature': 0.139, 'Technology': 0.08, 'Science': 0.074, 'Engineering': 0.047, 'Education': 0.046, 'Biology': 0.046, 'Language': 0.042, 'Mathematics': 0.042, 'Society': 0.033, 'Exercise': 0.025, 'War': 0.023, 'Literature': 0.022, 'Life': 0.018, 'Medicine': 0.018, 'Fitness': 0.017, 'Health': 0.01, 'Food': 0.009, 'Media': 0.009, 'Earth': 0.009, 'History': 0.009, 'Geography': 0.008, 'Computing': 0.003}\n",
      "Transport\n",
      "{'Transport': 0.326, 'Engineering': 0.133, 'Technology': 0.1, 'Earth': 0.096, 'Electronics': 0.076, 'Literature': 0.069, 'Society': 0.057, 'Geography': 0.045, 'Architecture': 0.035, 'Science': 0.031, 'Exercise': 0.03, 'Logic': 0.03, 'Media': 0.028, 'Medicine': 0.021, 'Games': 0.019, 'Fitness': 0.018, 'Crime': 0.016, 'Culture': 0.015, 'Life': 0.015, 'Statistics': 0.015, 'Health': 0.009, 'Computing': 0.009, 'Food': 0.008, 'History': 0.008, 'War': 0.008, 'Film': 0.006, 'Music': 0.006, 'Education': 0.005}\n",
      "Painting\n",
      "{'Painting': 0.377, 'Art': 0.284, 'Theatre': 0.159, 'Culture': 0.107, 'Literature': 0.093, 'Sculpture': 0.09, 'Education': 0.079, 'Philosophy': 0.053, 'Music': 0.052, 'Life': 0.043, 'Dance': 0.034, 'Statistics': 0.026, 'Biology': 0.025, 'Religion': 0.014, 'Society': 0.014, 'Architecture': 0.013, 'Medicine': 0.013, 'Electronics': 0.012, 'Language': 0.011, 'Computing': 0.009, 'History': 0.008, 'Film': 0.007, 'Food': 0.005, 'Earth': 0.004, 'Logic': 0.003, 'Belief': 0.003}\n",
      "Literature\n",
      "{'Literature': 0.235, 'Culture': 0.202, 'Language': 0.165, 'History': 0.119, 'Music': 0.117, 'Theatre': 0.102, 'Sculpture': 0.074, 'Religion': 0.065, 'Games': 0.061, 'Dance': 0.057, 'Media': 0.057, 'Life': 0.053, 'Sport': 0.03, 'Exercise': 0.03, 'Painting': 0.029, 'Engineering': 0.027, 'Philosophy': 0.026, 'Film': 0.025, 'Technology': 0.02, 'Science': 0.019, 'Medicine': 0.018, 'Transport': 0.016, 'Internet': 0.015, 'Society': 0.013, 'Belief': 0.012, 'Logic': 0.009, 'Computing': 0.009}\n",
      "Geography\n",
      "{'Geography': 0.425, 'Nature': 0.232, 'Logic': 0.129, 'Statistics': 0.129, 'Earth': 0.126, 'History': 0.12, 'Science': 0.118, 'Culture': 0.106, 'Technology': 0.086, 'Mathematics': 0.077, 'Engineering': 0.06, 'Literature': 0.051, 'Biology': 0.05, 'Philosophy': 0.043, 'Fitness': 0.042, 'Life': 0.034, 'Education': 0.033, 'Exercise': 0.031, 'Religion': 0.021, 'Computing': 0.019, 'Film': 0.016, 'Belief': 0.015, 'Sculpture': 0.009, 'Media': 0.007}\n",
      "Culture\n",
      "{'Culture': 0.456, 'Society': 0.222, 'Philosophy': 0.209, 'Literature': 0.18, 'Media': 0.086, 'Science': 0.065, 'Architecture': 0.061, 'Internet': 0.061, 'Nature': 0.051, 'Film': 0.046, 'Technology': 0.038, 'Language': 0.035, 'Music': 0.034, 'Life': 0.034, 'Earth': 0.032, 'Belief': 0.028, 'Engineering': 0.028, 'Logic': 0.027, 'Biology': 0.026, 'Theatre': 0.015, 'War': 0.014, 'Art': 0.013, 'Dance': 0.013, 'Games': 0.01, 'Medicine': 0.009, 'Computing': 0.009, 'Exercise': 0.008, 'History': 0.007, 'Mathematics': 0.005}\n",
      "Theatre\n",
      "{'Theatre': 0.335, 'Culture': 0.105, 'Architecture': 0.096, 'Games': 0.094, 'Music': 0.088, 'Language': 0.054, 'Sport': 0.045, 'Nature': 0.045, 'Dance': 0.042, 'Literature': 0.041, 'Philosophy': 0.039, 'Logic': 0.03, 'Society': 0.025, 'Medicine': 0.024, 'Art': 0.019, 'Religion': 0.019, 'Engineering': 0.013, 'Crime': 0.012, 'Life': 0.009, 'Film': 0.008, 'Painting': 0.008, 'Sculpture': 0.008, 'History': 0.008, 'Belief': 0.007, 'Computing': 0.006, 'War': 0.005, 'Media': 0.004, 'Earth': 0.002, 'Fitness': 0.002, 'Education': 0.002}\n",
      "Architecture\n",
      "{'Architecture': 0.439, 'Engineering': 0.2, 'Culture': 0.086, 'Nature': 0.067, 'Exercise': 0.042, 'Earth': 0.035, 'Theatre': 0.028, 'Internet': 0.025, 'Computing': 0.023, 'Painting': 0.018, 'Transport': 0.018, 'Art': 0.017, 'History': 0.015, 'Sculpture': 0.01, 'Literature': 0.009, 'Language': 0.008, 'Geography': 0.007, 'Biology': 0.007, 'Society': 0.007}\n",
      "Film\n",
      "{'Film': 0.549, 'Theatre': 0.104, 'Statistics': 0.08, 'History': 0.046, 'Engineering': 0.045, 'Electronics': 0.041, 'Painting': 0.031, 'Computing': 0.029, 'Art': 0.026, 'War': 0.023, 'Nature': 0.023, 'Culture': 0.02, 'Life': 0.019, 'Music': 0.016, 'Sculpture': 0.016, 'Recreation': 0.016, 'Logic': 0.016, 'Education': 0.015, 'Biology': 0.014, 'Technology': 0.014, 'Literature': 0.012, 'Media': 0.012, 'Games': 0.009, 'Language': 0.008, 'Dance': 0.008, 'Science': 0.008, 'Society': 0.006, 'Sport': 0.004, 'Medicine': 0.003, 'Philosophy': 0.003, 'Belief': 0.003}\n",
      "Sport\n",
      "{'Sport': 0.233, 'Media': 0.12, 'Fitness': 0.074, 'Education': 0.064, 'Exercise': 0.06, 'Games': 0.058, 'Science': 0.042, 'History': 0.039, 'Society': 0.039, 'Logic': 0.038, 'Earth': 0.031, 'Literature': 0.03, 'Nature': 0.029, 'Culture': 0.025, 'Technology': 0.017, 'Art': 0.013}\n",
      "Logic\n",
      "{'Logic': 0.698, 'Philosophy': 0.284, 'Computing': 0.058, 'Language': 0.05, 'Nature': 0.043, 'Technology': 0.032, 'Fitness': 0.031, 'Science': 0.028, 'Electronics': 0.021, 'Literature': 0.02, 'Internet': 0.017, 'Crime': 0.016, 'Mathematics': 0.014, 'Media': 0.009, 'Belief': 0.009, 'Statistics': 0.007, 'Theatre': 0.006, 'War': 0.006, 'Art': 0.005, 'Exercise': 0.005, 'Biology': 0.005, 'Society': 0.005, 'Engineering': 0.005, 'Geography': 0.004, 'Culture': 0.003, 'Painting': 0.003, 'Sculpture': 0.003, 'Education': 0.003}\n"
     ]
    }
   ],
   "source": [
    "for art in articles:\n",
    "    art['anchor_sims'] = tfdif_test_cosine([' '.join(art.get('anchors_tokens'))], vectorizer_datamuse, trained_model_datamuse)\n",
    "    art['anchor_sims'] = {k: v for k, v in sorted(art.get('anchor_sims').items(), key = lambda item: item[1], reverse=True)}    \n",
    "    print(art.get('title'))\n",
    "    print(art.get('anchor_sims'))"
   ]
  },
  {
   "cell_type": "markdown",
   "metadata": {},
   "source": [
    "### Kategorie Wiki - kosinusova podobnost"
   ]
  },
  {
   "cell_type": "code",
   "execution_count": 196,
   "metadata": {},
   "outputs": [
    {
     "name": "stdout",
     "output_type": "stream",
     "text": [
      "Art\n",
      "{'Theatre': 0.283, 'Art': 0.242, 'Culture': 0.147, 'Sculpture': 0.144, 'Painting': 0.14, 'Literature': 0.138}\n",
      "Computing\n",
      "{'Computing': 0.702, 'Technology': 0.316, 'Internet': 0.14}\n",
      "Crime\n",
      "{'Crime': 0.527}\n",
      "Dance\n",
      "{'Theatre': 0.352, 'Recreation': 0.17, 'Dance': 0.169, 'Music': 0.141, 'Art': 0.088, 'Film': 0.061, 'Culture': 0.054, 'Sculpture': 0.053, 'Painting': 0.051, 'Literature': 0.05}\n",
      "Earth\n",
      "{'Nature': 0.372, 'Earth': 0.174, 'Logic': 0.087}\n",
      "Engineering\n",
      "{'Engineering': 0.446, 'Technology': 0.421, 'Architecture': 0.118, 'Biology': 0.091, 'Philosophy': 0.069, 'Belief': 0.067, 'Culture': 0.065, 'Logic': 0.053, 'Science': 0.048, 'Mathematics': 0.044}\n",
      "Education\n",
      "{'Education': 0.715, 'Culture': 0.176, 'Science': 0.146}\n",
      "Electronics\n",
      "{'Electronics': 0.485, 'Internet': 0.281, 'Computing': 0.14}\n",
      "Food\n",
      "{'Food': 0.186}\n",
      "Games\n",
      "{}\n",
      "Internet\n",
      "{'Media': 0.279, 'Technology': 0.184, 'Engineering': 0.146, 'Computing': 0.143, 'Culture': 0.105, 'Science': 0.102, 'Transport': 0.088, 'Logic': 0.084, 'Literature': 0.072, 'Nature': 0.064, 'Statistics': 0.056, 'Language': 0.051, 'Internet': 0.041, 'Philosophy': 0.038, 'War': 0.037, 'Electronics': 0.032, 'Society': 0.03}\n",
      "Language\n",
      "{'Language': 0.574, 'Media': 0.112, 'Theatre': 0.098, 'Art': 0.084, 'Science': 0.072, 'Earth': 0.071, 'Society': 0.063, 'Culture': 0.051, 'Sculpture': 0.05, 'Painting': 0.049, 'Literature': 0.048}\n",
      "Life\n",
      "{'Life': 0.462, 'Society': 0.151, 'Biology': 0.139}\n",
      "Mathematics\n",
      "{'Mathematics': 0.412, 'Technology': 0.263, 'Engineering': 0.156, 'Biology': 0.155, 'Geography': 0.119, 'Science': 0.081}\n",
      "Music\n",
      "{'Music': 0.263, 'Theatre': 0.257, 'Dance': 0.228, 'Art': 0.119, 'Medicine': 0.073, 'Culture': 0.072, 'Sculpture': 0.071, 'Painting': 0.069, 'Literature': 0.068}\n",
      "Medicine\n",
      "{'Medicine': 0.537, 'Music': 0.161}\n",
      "Nature\n",
      "{'Nature': 0.291, 'Technology': 0.269, 'Society': 0.16, 'Engineering': 0.159, 'Biology': 0.158, 'Philosophy': 0.1, 'Science': 0.083, 'Mathematics': 0.076}\n",
      "Recreation\n",
      "{'Fitness': 0.315, 'Recreation': 0.179}\n",
      "Religion\n",
      "{'Culture': 0.285, 'Life': 0.249, 'Religion': 0.119, 'Philosophy': 0.102, 'Literature': 0.089, 'Society': 0.081, 'Biology': 0.075}\n",
      "Statistics\n",
      "{'Statistics': 0.341, 'Mathematics': 0.193, 'Technology': 0.185, 'Science': 0.167, 'Engineering': 0.073, 'Biology': 0.072, 'Geography': 0.056}\n",
      "Science\n",
      "{'Technology': 0.418, 'Engineering': 0.247, 'Biology': 0.245, 'Science': 0.129, 'Mathematics': 0.118}\n",
      "Sculpture\n",
      "{'Sculpture': 0.214, 'Technology': 0.112, 'Theatre': 0.058, 'Art': 0.05, 'Language': 0.046, 'Culture': 0.03, 'Painting': 0.029, 'Literature': 0.028}\n",
      "Technology\n",
      "{'Engineering': 0.33, 'Technology': 0.248, 'Science': 0.23, 'Logic': 0.189, 'Computing': 0.11}\n",
      "War\n",
      "{'War': 0.452, 'Science': 0.085, 'Earth': 0.084}\n",
      "Society\n",
      "{'Biology': 0.249, 'Society': 0.219, 'Life': 0.112}\n",
      "Media\n",
      "{}\n",
      "Health\n",
      "{'Life': 0.313, 'Health': 0.142, 'Fitness': 0.116, 'Society': 0.102, 'Biology': 0.094}\n",
      "Belief\n",
      "{'Religion': 0.432, 'Philosophy': 0.311, 'Culture': 0.123, 'Belief': 0.108}\n",
      "Fitness\n",
      "{}\n",
      "Exercise\n",
      "{'Fitness': 0.445, 'Exercise': 0.436}\n",
      "Biology\n",
      "{'Biology': 0.597, 'Science': 0.125, 'Mathematics': 0.114, 'Language': 0.08}\n",
      "History\n",
      "{'History': 0.121, 'Life': 0.118, 'Science': 0.112, 'Earth': 0.111}\n",
      "Philosophy\n",
      "{'Science': 0.12, 'Earth': 0.119, 'Philosophy': 0.115, 'Belief': 0.111, 'Culture': 0.107, 'Logic': 0.088}\n",
      "Transport\n",
      "{'Transport': 0.277, 'Technology': 0.072, 'Science': 0.067, 'Exercise': 0.065}\n",
      "Painting\n",
      "{'Painting': 0.317, 'Technology': 0.185, 'Art': 0.137}\n",
      "Literature\n",
      "{'Culture': 0.191, 'Literature': 0.179}\n",
      "Geography\n",
      "{'Technology': 0.269, 'Society': 0.16, 'Engineering': 0.159, 'Biology': 0.158, 'Science': 0.083, 'Earth': 0.077, 'Mathematics': 0.076, 'Geography': 0.075}\n",
      "Culture\n",
      "{'Society': 0.305, 'Culture': 0.184, 'Philosophy': 0.161, 'Literature': 0.057}\n",
      "Theatre\n",
      "{'Theatre': 0.312, 'Dance': 0.096, 'Art': 0.092, 'Language': 0.085, 'Culture': 0.056, 'Sculpture': 0.055, 'Literature': 0.053, 'Painting': 0.053}\n",
      "Architecture\n",
      "{'Architecture': 0.452, 'Engineering': 0.197, 'Computing': 0.059}\n",
      "Film\n",
      "{'Media': 0.276, 'Film': 0.184, 'Theatre': 0.084, 'Art': 0.072, 'Culture': 0.044, 'Sculpture': 0.043, 'Literature': 0.041, 'Painting': 0.041}\n",
      "Sport\n",
      "{'Sport': 0.206}\n",
      "Logic\n",
      "{'Logic': 0.428, 'Philosophy': 0.239, 'History': 0.124, 'Life': 0.12, 'Technology': 0.082, 'Education': 0.079, 'Mathematics': 0.075, 'Culture': 0.071, 'Belief': 0.053, 'Biology': 0.048, 'Engineering': 0.048, 'Science': 0.041, 'Geography': 0.018}\n"
     ]
    }
   ],
   "source": [
    "for art in articles:\n",
    "    art['categories_sims'] = tfdif_test_cosine([' '.join(art.get('category_wiki_tokens'))], vectorizer_datamuse, trained_model_datamuse)\n",
    "    art['categories_sims'] = {k: v for k, v in sorted(art.get('categories_sims').items(), key = lambda item: item[1], reverse=True)}        \n",
    "    print(art.get('title'))\n",
    "    print(art.get('categories_sims'))"
   ]
  },
  {
   "cell_type": "markdown",
   "metadata": {},
   "source": [
    "### Infobox - kosinusova podobnost"
   ]
  },
  {
   "cell_type": "code",
   "execution_count": 197,
   "metadata": {
    "scrolled": true
   },
   "outputs": [
    {
     "name": "stdout",
     "output_type": "stream",
     "text": [
      "Art\n",
      "{}\n",
      "Computing\n",
      "{}\n",
      "Crime\n",
      "{}\n",
      "Dance\n",
      "{}\n",
      "Earth\n",
      "{'Earth': 0.185, 'Electronics': 0.158, 'Logic': 0.048, 'Internet': 0.045, 'Nature': 0.042, 'Culture': 0.029, 'Media': 0.015, 'Geography': 0.014, 'Film': 0.013, 'Biology': 0.008, 'Society': 0.008, 'Science': 0.007, 'Technology': 0.007}\n",
      "Engineering\n",
      "{}\n",
      "Education\n",
      "{}\n",
      "Electronics\n",
      "{}\n",
      "Food\n",
      "{}\n",
      "Games\n",
      "{}\n",
      "Internet\n",
      "{}\n",
      "Language\n",
      "{}\n",
      "Life\n",
      "{}\n",
      "Mathematics\n",
      "{}\n",
      "Music\n",
      "{'Music': 0.366, 'Dance': 0.203, 'Culture': 0.178, 'Theatre': 0.119, 'Medicine': 0.102, 'Literature': 0.077, 'History': 0.063, 'Art': 0.055, 'Philosophy': 0.052, 'Sculpture': 0.033, 'Painting': 0.032}\n",
      "Medicine\n",
      "{'Medicine': 0.624, 'Sculpture': 0.153, 'Health': 0.143, 'Music': 0.133, 'Logic': 0.064}\n",
      "Nature\n",
      "{}\n",
      "Recreation\n",
      "{}\n",
      "Religion\n",
      "{}\n",
      "Statistics\n",
      "{}\n",
      "Science\n",
      "{}\n",
      "Sculpture\n",
      "{}\n",
      "Technology\n",
      "{}\n",
      "War\n",
      "{}\n",
      "Society\n",
      "{}\n",
      "Media\n",
      "{}\n",
      "Health\n",
      "{}\n",
      "Belief\n",
      "{}\n",
      "Fitness\n",
      "{}\n",
      "Exercise\n",
      "{}\n",
      "Biology\n",
      "{}\n",
      "History\n",
      "{}\n",
      "Philosophy\n",
      "{}\n",
      "Transport\n",
      "{}\n",
      "Painting\n",
      "{}\n",
      "Literature\n",
      "{}\n",
      "Geography\n",
      "{}\n",
      "Culture\n",
      "{}\n",
      "Theatre\n",
      "{}\n",
      "Architecture\n",
      "{}\n",
      "Film\n",
      "{}\n",
      "Sport\n",
      "{}\n",
      "Logic\n",
      "{}\n"
     ]
    }
   ],
   "source": [
    "for art in articles:\n",
    "    art['infobox_sims'] = tfdif_test_cosine([' '.join(art.get('infobox_tokens'))], vectorizer_datamuse, trained_model_datamuse)\n",
    "    art['infobox_sims'] = {k: v for k, v in sorted(art.get('infobox_sims').items(), key = lambda item: item[1], reverse=True)}    \n",
    "    print(art.get('title'))\n",
    "    print(art.get('infobox_sims'))"
   ]
  },
  {
   "cell_type": "markdown",
   "metadata": {},
   "source": [
    "###  Text clanku - kosinusova podobnost"
   ]
  },
  {
   "cell_type": "code",
   "execution_count": 198,
   "metadata": {},
   "outputs": [
    {
     "name": "stdout",
     "output_type": "stream",
     "text": [
      "Art\n",
      "{'Art': 0.336, 'Literature': 0.285, 'Theatre': 0.273, 'Culture': 0.181, 'Painting': 0.18, 'Sculpture': 0.16, 'Exercise': 0.096, 'Nature': 0.071, 'Media': 0.067, 'Philosophy': 0.064, 'Logic': 0.045, 'Internet': 0.042, 'Society': 0.041, 'Science': 0.039, 'History': 0.038, 'Language': 0.037, 'Technology': 0.031, 'Music': 0.029, 'Earth': 0.027, 'Architecture': 0.023, 'Life': 0.023, 'Fitness': 0.021, 'Religion': 0.02, 'Belief': 0.02, 'Engineering': 0.02, 'Education': 0.017, 'Film': 0.012, 'Computing': 0.012, 'Dance': 0.011, 'Recreation': 0.011, 'Statistics': 0.011, 'Biology': 0.01, 'Health': 0.008, 'Medicine': 0.008, 'War': 0.008, 'Electronics': 0.008, 'Games': 0.007, 'Mathematics': 0.005, 'Transport': 0.004, 'Food': 0.003, 'Sport': 0.002, 'Geography': 0.001, 'Crime': 0.001}\n",
      "Computing\n",
      "{'Computing': 0.623, 'Technology': 0.387, 'Internet': 0.232, 'Engineering': 0.152, 'Logic': 0.108, 'Science': 0.102, 'Literature': 0.083, 'Architecture': 0.064, 'Statistics': 0.06, 'Exercise': 0.056, 'Media': 0.049, 'Electronics': 0.047, 'Biology': 0.041, 'Nature': 0.034, 'Mathematics': 0.029, 'Education': 0.028, 'Language': 0.027, 'Philosophy': 0.021, 'Society': 0.02, 'History': 0.017, 'Life': 0.014, 'Fitness': 0.011, 'Transport': 0.01, 'Earth': 0.009, 'Culture': 0.007, 'Dance': 0.006, 'Art': 0.005, 'Theatre': 0.005, 'Recreation': 0.004, 'Health': 0.004, 'Sculpture': 0.003, 'Geography': 0.003, 'Medicine': 0.003, 'Belief': 0.003, 'Film': 0.002, 'Painting': 0.002, 'Sport': 0.002, 'Music': 0.001, 'Games': 0.001, 'War': 0.001}\n",
      "Crime\n",
      "{'Crime': 0.412, 'Nature': 0.152, 'Society': 0.066, 'Logic': 0.058, 'Literature': 0.054, 'Exercise': 0.047, 'War': 0.047, 'Philosophy': 0.046, 'Media': 0.044, 'Internet': 0.039, 'Religion': 0.031, 'Language': 0.028, 'History': 0.027, 'Life': 0.026, 'Culture': 0.021, 'Science': 0.02, 'Belief': 0.02, 'Earth': 0.017, 'Statistics': 0.016, 'Biology': 0.015, 'Technology': 0.015, 'Electronics': 0.013, 'Fitness': 0.011, 'Computing': 0.011, 'Medicine': 0.009, 'Engineering': 0.009, 'Art': 0.007, 'Architecture': 0.006, 'Film': 0.005, 'Recreation': 0.005, 'Health': 0.004, 'Education': 0.004, 'Mathematics': 0.004, 'Painting': 0.003, 'Dance': 0.002, 'Theatre': 0.002, 'Games': 0.002, 'Sport': 0.002, 'Geography': 0.002, 'Food': 0.001, 'Transport': 0.001}\n",
      "Dance\n",
      "{'Dance': 0.301, 'Music': 0.247, 'Theatre': 0.22, 'Culture': 0.078, 'Literature': 0.067, 'Society': 0.038, 'Exercise': 0.036, 'History': 0.031, 'Philosophy': 0.029, 'Medicine': 0.027, 'Education': 0.025, 'Nature': 0.025, 'Art': 0.024, 'Media': 0.022, 'Life': 0.02, 'Sculpture': 0.017, 'Internet': 0.016, 'Science': 0.015, 'Language': 0.014, 'Painting': 0.013, 'Games': 0.011, 'Architecture': 0.01, 'Fitness': 0.01, 'Sport': 0.009, 'Logic': 0.009, 'Earth': 0.008, 'Religion': 0.008, 'Engineering': 0.008, 'Film': 0.007, 'Biology': 0.007, 'War': 0.006, 'Health': 0.005, 'Technology': 0.005, 'Electronics': 0.005, 'Mathematics': 0.004, 'Statistics': 0.004, 'Recreation': 0.003, 'Belief': 0.003, 'Computing': 0.003, 'Geography': 0.001, 'Crime': 0.001, 'Transport': 0.001}\n",
      "Earth\n",
      "{'Earth': 0.238, 'Literature': 0.109, 'Internet': 0.105, 'Media': 0.069, 'Nature': 0.069, 'Culture': 0.057, 'Exercise': 0.049, 'Life': 0.041, 'Science': 0.04, 'Biology': 0.035, 'Technology': 0.032, 'Logic': 0.031, 'Geography': 0.03, 'History': 0.023, 'Engineering': 0.022, 'Society': 0.021, 'Electronics': 0.018, 'Statistics': 0.016, 'Fitness': 0.014, 'Film': 0.011, 'Architecture': 0.011, 'Language': 0.01, 'Mathematics': 0.01, 'Philosophy': 0.009, 'Belief': 0.009, 'Sport': 0.008, 'Education': 0.007, 'Religion': 0.006, 'Art': 0.005, 'Music': 0.005, 'Computing': 0.005, 'War': 0.004, 'Transport': 0.004, 'Theatre': 0.003, 'Food': 0.002, 'Dance': 0.002, 'Sculpture': 0.002, 'Games': 0.002, 'Painting': 0.001, 'Recreation': 0.001, 'Health': 0.001, 'Medicine': 0.001, 'Crime': 0.001}\n",
      "Engineering\n",
      "{'Engineering': 0.508, 'Technology': 0.399, 'Architecture': 0.215, 'Science': 0.11, 'Literature': 0.104, 'Computing': 0.092, 'Internet': 0.087, 'Exercise': 0.084, 'Biology': 0.056, 'Electronics': 0.052, 'Nature': 0.051, 'Culture': 0.045, 'Logic': 0.04, 'Mathematics': 0.037, 'Society': 0.034, 'Art': 0.032, 'Media': 0.031, 'Medicine': 0.028, 'Fitness': 0.027, 'Theatre': 0.025, 'History': 0.023, 'Philosophy': 0.022, 'Life': 0.019, 'Earth': 0.018, 'War': 0.017, 'Statistics': 0.015, 'Music': 0.014, 'Health': 0.014, 'Painting': 0.013, 'Education': 0.011, 'Sculpture': 0.01, 'Belief': 0.01, 'Language': 0.009, 'Geography': 0.009, 'Dance': 0.006, 'Transport': 0.006, 'Games': 0.005, 'Sport': 0.005, 'Religion': 0.004, 'Film': 0.002, 'Recreation': 0.002, 'Food': 0.001}\n",
      "Education\n",
      "{'Education': 0.744, 'Science': 0.203, 'Culture': 0.182, 'Philosophy': 0.095, 'Internet': 0.089, 'Literature': 0.088, 'Nature': 0.062, 'Technology': 0.056, 'Logic': 0.054, 'Society': 0.054, 'Media': 0.052, 'Exercise': 0.05, 'Engineering': 0.048, 'Mathematics': 0.033, 'Statistics': 0.031, 'Biology': 0.03, 'Fitness': 0.025, 'History': 0.025, 'Life': 0.023, 'Architecture': 0.022, 'Earth': 0.02, 'Computing': 0.02, 'Language': 0.018, 'Art': 0.017, 'Theatre': 0.014, 'Electronics': 0.014, 'Medicine': 0.012, 'Belief': 0.012, 'Sport': 0.01, 'Health': 0.01, 'War': 0.009, 'Games': 0.008, 'Film': 0.007, 'Painting': 0.006, 'Recreation': 0.006, 'Religion': 0.006, 'Dance': 0.005, 'Sculpture': 0.005, 'Music': 0.003, 'Geography': 0.003, 'Transport': 0.002, 'Crime': 0.001}\n",
      "Electronics\n",
      "{'Electronics': 0.519, 'Internet': 0.267, 'Computing': 0.231, 'Technology': 0.119, 'Literature': 0.118, 'Logic': 0.107, 'Engineering': 0.099, 'Exercise': 0.076, 'Architecture': 0.062, 'Statistics': 0.054, 'Media': 0.042, 'Science': 0.038, 'Philosophy': 0.025, 'Fitness': 0.024, 'History': 0.024, 'Life': 0.019, 'Nature': 0.018, 'Art': 0.015, 'Earth': 0.014, 'Mathematics': 0.013, 'Theatre': 0.012, 'Society': 0.011, 'Biology': 0.009, 'Recreation': 0.008, 'Education': 0.008, 'Language': 0.007, 'Games': 0.006, 'Transport': 0.006, 'Dance': 0.005, 'Sport': 0.004, 'Geography': 0.004, 'Health': 0.004, 'Belief': 0.003, 'Film': 0.002, 'War': 0.002, 'Culture': 0.001, 'Painting': 0.001, 'Sculpture': 0.001, 'Medicine': 0.001, 'Crime': 0.001}\n",
      "Food\n",
      "{'Food': 0.232, 'Internet': 0.06, 'Nature': 0.043, 'Biology': 0.041, 'Exercise': 0.039, 'Health': 0.038, 'Literature': 0.035, 'Culture': 0.032, 'Life': 0.026, 'Earth': 0.023, 'Science': 0.023, 'Media': 0.02, 'History': 0.02, 'Technology': 0.02, 'Fitness': 0.018, 'Medicine': 0.018, 'Society': 0.016, 'Theatre': 0.014, 'Philosophy': 0.014, 'Logic': 0.013, 'Art': 0.012, 'Engineering': 0.012, 'Architecture': 0.01, 'Language': 0.008, 'Geography': 0.008, 'War': 0.007, 'Statistics': 0.007, 'Computing': 0.007, 'Electronics': 0.005, 'Sport': 0.004, 'Recreation': 0.004, 'Education': 0.004, 'Transport': 0.004, 'Religion': 0.004, 'Film': 0.003, 'Games': 0.003, 'Music': 0.002, 'Painting': 0.002, 'Crime': 0.002, 'Belief': 0.002, 'Dance': 0.001, 'Sculpture': 0.001, 'Mathematics': 0.001}\n",
      "Games\n",
      "{'Games': 0.214}\n",
      "Internet\n",
      "{'Internet': 0.457, 'Exercise': 0.069, 'Media': 0.066, 'Computing': 0.062, 'Statistics': 0.054, 'Technology': 0.052, 'Literature': 0.046, 'Electronics': 0.044, 'Society': 0.042, 'Nature': 0.039, 'Engineering': 0.038, 'Science': 0.036, 'Logic': 0.026, 'Language': 0.024, 'Earth': 0.021, 'Architecture': 0.02, 'History': 0.019, 'Biology': 0.018, 'Education': 0.017, 'Life': 0.014, 'Culture': 0.011, 'Transport': 0.01, 'Philosophy': 0.01, 'Games': 0.009, 'Recreation': 0.009, 'War': 0.007, 'Theatre': 0.006, 'Fitness': 0.006, 'Belief': 0.006, 'Art': 0.005, 'Film': 0.005, 'Sport': 0.005, 'Crime': 0.005, 'Music': 0.004, 'Geography': 0.004, 'Health': 0.004, 'Dance': 0.003, 'Painting': 0.003, 'Medicine': 0.003, 'Sculpture': 0.002, 'Mathematics': 0.002, 'Religion': 0.002}\n",
      "Language\n",
      "{'Language': 0.484, 'Literature': 0.082, 'Logic': 0.055, 'Nature': 0.046, 'Exercise': 0.045, 'Architecture': 0.042, 'Society': 0.042, 'Media': 0.037, 'Science': 0.037, 'Philosophy': 0.033, 'Earth': 0.031, 'Statistics': 0.022, 'Culture': 0.02, 'Life': 0.018, 'History': 0.018, 'Internet': 0.013, 'Biology': 0.012, 'Computing': 0.012, 'Engineering': 0.011, 'Sport': 0.01, 'Belief': 0.01, 'Education': 0.008, 'Technology': 0.008, 'Fitness': 0.006, 'Art': 0.005, 'Film': 0.005, 'Music': 0.005, 'Sculpture': 0.005, 'Theatre': 0.004, 'Recreation': 0.004, 'Geography': 0.004, 'War': 0.004, 'Transport': 0.004, 'Health': 0.003, 'Dance': 0.002, 'Painting': 0.002, 'Games': 0.002, 'Mathematics': 0.002, 'Religion': 0.002, 'Electronics': 0.002, 'Food': 0.001, 'Medicine': 0.001, 'Crime': 0.001}\n",
      "Life\n",
      "{'Biology': 0.291, 'Life': 0.265, 'Literature': 0.16, 'Internet': 0.155, 'Nature': 0.09, 'Society': 0.088, 'Media': 0.085, 'Logic': 0.072, 'Science': 0.066, 'Earth': 0.058, 'Exercise': 0.039, 'Technology': 0.032, 'Mathematics': 0.03, 'Architecture': 0.029, 'Philosophy': 0.029, 'History': 0.027, 'Fitness': 0.024, 'Engineering': 0.022, 'Statistics': 0.017, 'Computing': 0.015, 'Electronics': 0.013, 'Language': 0.012, 'Belief': 0.01, 'Health': 0.009, 'Art': 0.008, 'Geography': 0.008, 'Culture': 0.007, 'Film': 0.005, 'Religion': 0.005, 'Sport': 0.004, 'Recreation': 0.004, 'Education': 0.004, 'War': 0.004, 'Music': 0.003, 'Games': 0.003, 'Medicine': 0.003, 'Food': 0.002, 'Theatre': 0.002, 'Sculpture': 0.002, 'Crime': 0.002, 'Dance': 0.001, 'Painting': 0.001, 'Transport': 0.001}\n",
      "Mathematics\n",
      "{'Mathematics': 0.513, 'Geography': 0.131, 'Literature': 0.116, 'Logic': 0.102, 'Statistics': 0.093, 'Technology': 0.089, 'Internet': 0.079, 'Philosophy': 0.079, 'Computing': 0.079, 'Science': 0.072, 'Engineering': 0.063, 'Exercise': 0.056, 'Nature': 0.048, 'Biology': 0.033, 'Architecture': 0.029, 'Life': 0.023, 'History': 0.023, 'Society': 0.022, 'Culture': 0.021, 'Earth': 0.019, 'Language': 0.016, 'Media': 0.016, 'Education': 0.016, 'Fitness': 0.015, 'Belief': 0.012, 'Sculpture': 0.01, 'Art': 0.009, 'Games': 0.008, 'Electronics': 0.008, 'Sport': 0.007, 'Theatre': 0.006, 'Painting': 0.006, 'Medicine': 0.005, 'Health': 0.004, 'Religion': 0.004, 'Film': 0.003, 'Recreation': 0.003, 'War': 0.002, 'Transport': 0.002, 'Food': 0.001, 'Music': 0.001, 'Crime': 0.001}\n"
     ]
    },
    {
     "name": "stdout",
     "output_type": "stream",
     "text": [
      "Music\n",
      "{'Music': 0.547, 'Dance': 0.217, 'Medicine': 0.124, 'Culture': 0.068, 'Literature': 0.059, 'Theatre': 0.054, 'Exercise': 0.052, 'History': 0.052, 'Education': 0.033, 'Internet': 0.032, 'Games': 0.031, 'Philosophy': 0.029, 'Biology': 0.027, 'Media': 0.026, 'Statistics': 0.025, 'Nature': 0.025, 'Science': 0.025, 'Society': 0.022, 'Life': 0.021, 'Architecture': 0.02, 'Technology': 0.02, 'Art': 0.019, 'Sport': 0.018, 'Electronics': 0.017, 'Computing': 0.016, 'Logic': 0.014, 'Religion': 0.013, 'Engineering': 0.012, 'Language': 0.011, 'Painting': 0.011, 'Sculpture': 0.011, 'Earth': 0.01, 'Health': 0.01, 'Film': 0.009, 'Recreation': 0.008, 'Belief': 0.008, 'Mathematics': 0.007, 'Fitness': 0.006, 'War': 0.003, 'Transport': 0.002, 'Geography': 0.001, 'Crime': 0.001}\n",
      "Medicine\n",
      "{'Medicine': 0.696, 'Health': 0.292, 'Literature': 0.112, 'Exercise': 0.111, 'Music': 0.105, 'Science': 0.103, 'Biology': 0.079, 'Technology': 0.078, 'Fitness': 0.074, 'Internet': 0.069, 'Education': 0.055, 'History': 0.054, 'Logic': 0.051, 'Engineering': 0.05, 'Media': 0.046, 'Nature': 0.043, 'Culture': 0.042, 'Life': 0.042, 'Earth': 0.041, 'Philosophy': 0.034, 'Society': 0.034, 'Statistics': 0.016, 'Belief': 0.016, 'Language': 0.015, 'Architecture': 0.015, 'War': 0.015, 'Mathematics': 0.015, 'Computing': 0.013, 'Electronics': 0.013, 'Theatre': 0.01, 'Religion': 0.01, 'Food': 0.009, 'Games': 0.009, 'Art': 0.008, 'Sculpture': 0.008, 'Sport': 0.008, 'Film': 0.007, 'Painting': 0.006, 'Recreation': 0.006, 'Dance': 0.004, 'Crime': 0.004, 'Geography': 0.002}\n",
      "Nature\n",
      "{'Nature': 0.389, 'Internet': 0.166, 'Life': 0.147, 'Earth': 0.138, 'Biology': 0.11, 'Literature': 0.091, 'Science': 0.069, 'Exercise': 0.062, 'History': 0.056, 'Geography': 0.049, 'Media': 0.048, 'Society': 0.047, 'Technology': 0.036, 'Fitness': 0.034, 'Culture': 0.033, 'Logic': 0.033, 'Art': 0.026, 'Philosophy': 0.026, 'Statistics': 0.025, 'Language': 0.021, 'Engineering': 0.021, 'Mathematics': 0.02, 'Sculpture': 0.019, 'Belief': 0.018, 'Architecture': 0.017, 'Film': 0.015, 'Sport': 0.013, 'Theatre': 0.012, 'Recreation': 0.012, 'Computing': 0.012, 'Painting': 0.011, 'Health': 0.011, 'Food': 0.008, 'Music': 0.008, 'Education': 0.008, 'Electronics': 0.007, 'Games': 0.005, 'Crime': 0.005, 'War': 0.004, 'Dance': 0.003, 'Transport': 0.003, 'Religion': 0.003, 'Medicine': 0.002}\n",
      "Recreation\n",
      "{'Fitness': 0.279, 'Recreation': 0.274, 'Exercise': 0.119, 'Internet': 0.087, 'Literature': 0.084, 'Education': 0.075, 'Painting': 0.061, 'Music': 0.057, 'Nature': 0.056, 'Art': 0.053, 'Games': 0.052, 'Society': 0.051, 'History': 0.042, 'Theatre': 0.041, 'Biology': 0.041, 'Science': 0.04, 'Media': 0.038, 'Life': 0.038, 'Dance': 0.036, 'Culture': 0.032, 'Sport': 0.03, 'Architecture': 0.027, 'Engineering': 0.025, 'Electronics': 0.022, 'Medicine': 0.019, 'Health': 0.018, 'Technology': 0.017, 'Earth': 0.016, 'Sculpture': 0.014, 'Statistics': 0.013, 'Belief': 0.013, 'Language': 0.01, 'Philosophy': 0.01, 'Film': 0.009, 'Computing': 0.009, 'War': 0.008, 'Mathematics': 0.008, 'Transport': 0.007, 'Religion': 0.006, 'Food': 0.004, 'Crime': 0.004, 'Logic': 0.003, 'Geography': 0.001}\n",
      "Religion\n",
      "{'Religion': 0.381, 'Literature': 0.13, 'Culture': 0.086, 'Philosophy': 0.083, 'Nature': 0.082, 'Exercise': 0.049, 'Internet': 0.041, 'Belief': 0.041, 'Media': 0.039, 'Science': 0.039, 'Life': 0.038, 'Society': 0.035, 'Earth': 0.033, 'History': 0.033, 'Language': 0.03, 'Logic': 0.03, 'Biology': 0.021, 'Technology': 0.021, 'Statistics': 0.017, 'Health': 0.015, 'Fitness': 0.015, 'Medicine': 0.015, 'Crime': 0.014, 'Engineering': 0.013, 'Education': 0.011, 'War': 0.009, 'Geography': 0.008, 'Architecture': 0.007, 'Theatre': 0.005, 'Recreation': 0.005, 'Art': 0.004, 'Music': 0.004, 'Mathematics': 0.004, 'Dance': 0.003, 'Sculpture': 0.003, 'Games': 0.003, 'Sport': 0.003, 'Electronics': 0.003, 'Painting': 0.002, 'Film': 0.001, 'Transport': 0.001, 'Computing': 0.001}\n",
      "Statistics\n",
      "{'Statistics': 0.541, 'Literature': 0.087, 'Technology': 0.08, 'Exercise': 0.062, 'Science': 0.06, 'Computing': 0.058, 'Mathematics': 0.05, 'Logic': 0.046, 'Nature': 0.044, 'Philosophy': 0.038, 'Engineering': 0.037, 'Internet': 0.033, 'Media': 0.032, 'Biology': 0.031, 'Belief': 0.028, 'Society': 0.025, 'Architecture': 0.021, 'Geography': 0.019, 'Art': 0.015, 'Education': 0.015, 'Earth': 0.014, 'Medicine': 0.013, 'Theatre': 0.012, 'Health': 0.01, 'History': 0.01, 'Electronics': 0.01, 'Fitness': 0.009, 'Language': 0.008, 'Painting': 0.008, 'Sculpture': 0.008, 'Culture': 0.007, 'Life': 0.007, 'Film': 0.006, 'Dance': 0.005, 'Music': 0.005, 'Recreation': 0.005, 'Games': 0.004, 'Sport': 0.004, 'Crime': 0.003, 'War': 0.002, 'Food': 0.001, 'Religion': 0.001}\n",
      "Science\n",
      "{'Science': 0.422, 'Technology': 0.372, 'Nature': 0.222, 'Literature': 0.212, 'Engineering': 0.195, 'Biology': 0.175, 'Mathematics': 0.11, 'Philosophy': 0.102, 'Internet': 0.093, 'Logic': 0.088, 'Exercise': 0.087, 'Media': 0.083, 'Society': 0.055, 'History': 0.048, 'Culture': 0.043, 'Life': 0.043, 'Belief': 0.041, 'Medicine': 0.04, 'Fitness': 0.034, 'Statistics': 0.034, 'Language': 0.033, 'Computing': 0.031, 'Earth': 0.03, 'Electronics': 0.029, 'Architecture': 0.028, 'Education': 0.028, 'Religion': 0.026, 'Health': 0.024, 'Geography': 0.023, 'War': 0.011, 'Crime': 0.01, 'Film': 0.009, 'Sculpture': 0.009, 'Art': 0.007, 'Dance': 0.007, 'Music': 0.007, 'Painting': 0.007, 'Games': 0.007, 'Theatre': 0.006, 'Sport': 0.005, 'Recreation': 0.005, 'Transport': 0.005, 'Food': 0.004}\n",
      "Sculpture\n",
      "{'Sculpture': 0.393, 'Art': 0.177, 'Culture': 0.139, 'Theatre': 0.1, 'Literature': 0.093, 'Painting': 0.09, 'Exercise': 0.089, 'Statistics': 0.085, 'Religion': 0.046, 'Architecture': 0.044, 'History': 0.044, 'Nature': 0.042, 'Life': 0.041, 'Society': 0.029, 'Internet': 0.027, 'Earth': 0.024, 'Engineering': 0.021, 'Fitness': 0.02, 'Media': 0.018, 'Technology': 0.018, 'Philosophy': 0.016, 'Film': 0.015, 'Sport': 0.015, 'Health': 0.015, 'War': 0.014, 'Dance': 0.012, 'Music': 0.011, 'Science': 0.011, 'Computing': 0.011, 'Recreation': 0.009, 'Education': 0.009, 'Biology': 0.008, 'Games': 0.007, 'Belief': 0.006, 'Electronics': 0.006, 'Language': 0.005, 'Geography': 0.005, 'Logic': 0.005, 'Food': 0.004, 'Transport': 0.004, 'Medicine': 0.001, 'Crime': 0.001, 'Mathematics': 0.001}\n",
      "Technology\n",
      "{'Engineering': 0.363, 'Technology': 0.345, 'Science': 0.314, 'Literature': 0.159, 'Internet': 0.128, 'Computing': 0.117, 'Exercise': 0.104, 'Media': 0.073, 'Nature': 0.063, 'Earth': 0.059, 'Biology': 0.057, 'Philosophy': 0.051, 'Life': 0.05, 'Society': 0.049, 'Culture': 0.048, 'Logic': 0.039, 'Fitness': 0.037, 'Electronics': 0.034, 'Architecture': 0.031, 'History': 0.029, 'Transport': 0.027, 'Language': 0.023, 'Art': 0.02, 'Belief': 0.02, 'Theatre': 0.018, 'Education': 0.018, 'Mathematics': 0.018, 'Statistics': 0.016, 'War': 0.014, 'Medicine': 0.012, 'Sport': 0.01, 'Food': 0.008, 'Painting': 0.008, 'Film': 0.006, 'Health': 0.006, 'Sculpture': 0.004, 'Dance': 0.003, 'Recreation': 0.003, 'Music': 0.002, 'Games': 0.002, 'Crime': 0.002, 'Religion': 0.002, 'Geography': 0.001}\n",
      "War\n",
      "{'War': 0.461, 'Literature': 0.093, 'Nature': 0.07, 'Internet': 0.053, 'Society': 0.049, 'Life': 0.042, 'Earth': 0.041, 'Media': 0.035, 'Philosophy': 0.035, 'Logic': 0.034, 'History': 0.031, 'Science': 0.031, 'Culture': 0.03, 'Statistics': 0.025, 'Exercise': 0.019, 'Biology': 0.016, 'Health': 0.015, 'Fitness': 0.012, 'Education': 0.01, 'Belief': 0.009, 'Engineering': 0.009, 'Technology': 0.008, 'Geography': 0.007, 'Games': 0.006, 'Language': 0.005, 'Art': 0.005, 'Architecture': 0.005, 'Sport': 0.005, 'Crime': 0.005, 'Electronics': 0.005, 'Sculpture': 0.004, 'Religion': 0.004, 'Food': 0.003, 'Theatre': 0.003, 'Recreation': 0.003, 'Medicine': 0.003, 'Transport': 0.003, 'Dance': 0.002, 'Film': 0.002, 'Music': 0.002, 'Painting': 0.002, 'Computing': 0.002, 'Mathematics': 0.001}\n",
      "Society\n",
      "{'Society': 0.431, 'Life': 0.176, 'Culture': 0.083, 'Science': 0.069, 'Technology': 0.061, 'Literature': 0.051, 'Internet': 0.051, 'Nature': 0.048, 'Biology': 0.041, 'Philosophy': 0.041, 'Earth': 0.04, 'Engineering': 0.039, 'Exercise': 0.036, 'Architecture': 0.033, 'Logic': 0.03, 'Media': 0.028, 'War': 0.027, 'Statistics': 0.026, 'Food': 0.024, 'Language': 0.022, 'Geography': 0.022, 'Sculpture': 0.018, 'Education': 0.018, 'Electronics': 0.018, 'Theatre': 0.017, 'History': 0.017, 'Fitness': 0.016, 'Computing': 0.016, 'Art': 0.015, 'Religion': 0.015, 'Music': 0.01, 'Mathematics': 0.01, 'Belief': 0.009, 'Health': 0.007, 'Recreation': 0.006, 'Painting': 0.004, 'Transport': 0.004, 'Sport': 0.003, 'Dance': 0.002, 'Film': 0.002, 'Medicine': 0.002, 'Games': 0.001, 'Crime': 0.001}\n",
      "Media\n",
      "{'Media': 0.406, 'Language': 0.049, 'Society': 0.048, 'Computing': 0.045, 'Statistics': 0.039, 'Electronics': 0.037, 'Internet': 0.036, 'Technology': 0.035, 'Transport': 0.033, 'Literature': 0.032, 'Art': 0.026, 'Exercise': 0.026, 'Culture': 0.02, 'Engineering': 0.02, 'Theatre': 0.018, 'Nature': 0.018, 'Painting': 0.014, 'Games': 0.014, 'Logic': 0.014, 'Biology': 0.012, 'Science': 0.011, 'Sculpture': 0.01, 'Film': 0.009, 'History': 0.009, 'Music': 0.008, 'Life': 0.008, 'War': 0.008, 'Sport': 0.007, 'Recreation': 0.006, 'Fitness': 0.006, 'Geography': 0.003, 'Earth': 0.003, 'Mathematics': 0.003, 'Philosophy': 0.003}\n",
      "Health\n",
      "{'Health': 0.276, 'Fitness': 0.19, 'Internet': 0.073, 'Literature': 0.063, 'Media': 0.061, 'Nature': 0.057, 'Biology': 0.055, 'Exercise': 0.053, 'Society': 0.049, 'Life': 0.045, 'Philosophy': 0.038, 'Science': 0.037, 'Earth': 0.03, 'Logic': 0.027, 'Culture': 0.024, 'Technology': 0.024, 'Education': 0.023, 'Belief': 0.02, 'Statistics': 0.018, 'Medicine': 0.016, 'Food': 0.014, 'Sculpture': 0.012, 'History': 0.012, 'Language': 0.011, 'Engineering': 0.011, 'Architecture': 0.008, 'Games': 0.007, 'Sport': 0.007, 'War': 0.007, 'Recreation': 0.006, 'Art': 0.005, 'Mathematics': 0.005, 'Electronics': 0.004, 'Theatre': 0.003, 'Geography': 0.003, 'Computing': 0.003, 'Dance': 0.002, 'Painting': 0.002, 'Film': 0.001, 'Music': 0.001, 'Transport': 0.001, 'Religion': 0.001}\n",
      "Belief\n",
      "{'Religion': 0.449, 'Belief': 0.273, 'Philosophy': 0.269, 'Logic': 0.087, 'Literature': 0.076, 'Nature': 0.06, 'Science': 0.054, 'Exercise': 0.041, 'Culture': 0.039, 'Media': 0.029, 'Society': 0.029, 'Technology': 0.028, 'Computing': 0.025, 'Internet': 0.024, 'War': 0.023, 'History': 0.022, 'Medicine': 0.02, 'Mathematics': 0.019, 'Statistics': 0.019, 'Language': 0.017, 'Earth': 0.014, 'Health': 0.014, 'Biology': 0.011, 'Engineering': 0.011, 'Fitness': 0.01, 'Education': 0.009, 'Life': 0.008, 'Sport': 0.007, 'Architecture': 0.005, 'Sculpture': 0.005, 'Games': 0.005, 'Art': 0.004, 'Theatre': 0.004, 'Crime': 0.004, 'Electronics': 0.004, 'Dance': 0.003, 'Film': 0.003, 'Music': 0.003, 'Painting': 0.003, 'Recreation': 0.003, 'Food': 0.002, 'Geography': 0.001}\n",
      "Fitness\n",
      "{'Fitness': 0.511, 'Health': 0.21, 'Exercise': 0.182, 'Computing': 0.176, 'Recreation': 0.126, 'Technology': 0.11, 'Biology': 0.1, 'Mathematics': 0.078, 'Internet': 0.053, 'Music': 0.038, 'Statistics': 0.036, 'Nature': 0.035, 'Science': 0.028, 'Literature': 0.026, 'Engineering': 0.024, 'Dance': 0.023, 'Sculpture': 0.022, 'War': 0.02, 'Geography': 0.018, 'Education': 0.015}\n",
      "Exercise\n",
      "{'Fitness': 0.361, 'Exercise': 0.318, 'Literature': 0.129, 'Media': 0.093, 'Health': 0.082, 'Culture': 0.066, 'Education': 0.055, 'Recreation': 0.048, 'Internet': 0.035, 'Sport': 0.03, 'Biology': 0.028, 'Science': 0.028, 'Society': 0.028, 'Life': 0.027, 'Logic': 0.025, 'Medicine': 0.021, 'Nature': 0.02, 'Food': 0.017, 'Engineering': 0.016, 'Earth': 0.012, 'Technology': 0.011, 'Theatre': 0.01, 'Dance': 0.009, 'Geography': 0.009, 'Music': 0.007, 'Statistics': 0.007, 'Philosophy': 0.007, 'Architecture': 0.006, 'History': 0.006, 'Transport': 0.006, 'Language': 0.005, 'War': 0.005, 'Film': 0.004, 'Games': 0.004, 'Art': 0.003, 'Painting': 0.003, 'Mathematics': 0.003, 'Sculpture': 0.002, 'Belief': 0.001, 'Computing': 0.001}\n",
      "Biology\n",
      "{'Biology': 0.617, 'Literature': 0.222, 'Science': 0.207, 'Life': 0.141, 'Nature': 0.128, 'Internet': 0.097, 'Mathematics': 0.091, 'Logic': 0.07, 'Technology': 0.065, 'Exercise': 0.059, 'Engineering': 0.052, 'Media': 0.05, 'Philosophy': 0.044, 'Society': 0.043, 'Architecture': 0.041, 'Earth': 0.03, 'History': 0.028, 'Language': 0.026, 'Fitness': 0.019, 'Health': 0.018, 'Medicine': 0.014, 'Statistics': 0.014, 'Geography': 0.011, 'Belief': 0.011, 'Art': 0.01, 'Computing': 0.01, 'Culture': 0.008, 'Electronics': 0.008, 'Theatre': 0.007, 'Recreation': 0.006, 'Food': 0.005, 'Film': 0.005, 'Painting': 0.005, 'Sculpture': 0.005, 'Games': 0.005, 'Education': 0.005, 'Dance': 0.004, 'Music': 0.004, 'War': 0.004, 'Sport': 0.002, 'Transport': 0.002, 'Religion': 0.002, 'Crime': 0.001}\n"
     ]
    },
    {
     "name": "stdout",
     "output_type": "stream",
     "text": [
      "History\n",
      "{'History': 0.375, 'Life': 0.167, 'Literature': 0.121, 'Science': 0.077, 'Culture': 0.059, 'Nature': 0.052, 'Society': 0.051, 'Education': 0.041, 'Exercise': 0.039, 'Philosophy': 0.039, 'Earth': 0.032, 'Technology': 0.032, 'Internet': 0.03, 'Logic': 0.027, 'Media': 0.026, 'War': 0.026, 'Biology': 0.023, 'Language': 0.022, 'Engineering': 0.019, 'Statistics': 0.017, 'Electronics': 0.012, 'Geography': 0.011, 'Mathematics': 0.011, 'Art': 0.01, 'Belief': 0.01, 'Theatre': 0.009, 'Religion': 0.009, 'Computing': 0.008, 'Fitness': 0.007, 'Painting': 0.005, 'Sculpture': 0.005, 'Health': 0.005, 'Transport': 0.005, 'Film': 0.004, 'Sport': 0.004, 'Architecture': 0.003, 'Recreation': 0.003, 'Medicine': 0.003, 'Crime': 0.003, 'Games': 0.002, 'Dance': 0.001}\n",
      "Philosophy\n",
      "{'Philosophy': 0.325, 'Logic': 0.202, 'Literature': 0.189, 'Culture': 0.171, 'Belief': 0.148, 'Nature': 0.124, 'Science': 0.083, 'Education': 0.082, 'Religion': 0.066, 'Internet': 0.058, 'History': 0.058, 'Life': 0.047, 'Technology': 0.044, 'Exercise': 0.043, 'Media': 0.04, 'Biology': 0.039, 'Mathematics': 0.03, 'Engineering': 0.029, 'Earth': 0.026, 'Society': 0.025, 'Language': 0.022, 'Fitness': 0.016, 'Statistics': 0.013, 'Art': 0.011, 'Film': 0.011, 'Sculpture': 0.01, 'Medicine': 0.01, 'Computing': 0.008, 'Theatre': 0.007, 'Recreation': 0.007, 'Geography': 0.007, 'War': 0.007, 'Music': 0.006, 'Health': 0.006, 'Electronics': 0.006, 'Food': 0.005, 'Architecture': 0.005, 'Painting': 0.005, 'Games': 0.004, 'Dance': 0.003, 'Crime': 0.003, 'Sport': 0.002}\n",
      "Transport\n",
      "{'Transport': 0.376, 'Exercise': 0.07, 'Earth': 0.065, 'Internet': 0.052, 'Engineering': 0.047, 'Nature': 0.045, 'Literature': 0.042, 'Fitness': 0.037, 'Architecture': 0.034, 'Science': 0.034, 'Society': 0.034, 'Technology': 0.031, 'Media': 0.024, 'Geography': 0.024, 'Logic': 0.022, 'History': 0.018, 'Education': 0.018, 'Life': 0.017, 'Electronics': 0.016, 'Medicine': 0.015, 'Health': 0.012, 'Culture': 0.011, 'War': 0.011, 'Statistics': 0.011, 'Biology': 0.011, 'Art': 0.009, 'Film': 0.009, 'Theatre': 0.009, 'Language': 0.007, 'Sport': 0.007, 'Recreation': 0.007, 'Dance': 0.005, 'Philosophy': 0.005, 'Games': 0.004, 'Computing': 0.003, 'Food': 0.002, 'Belief': 0.002, 'Music': 0.001, 'Painting': 0.001, 'Sculpture': 0.001, 'Crime': 0.001, 'Mathematics': 0.001}\n",
      "Painting\n",
      "{'Painting': 0.421, 'Art': 0.307, 'Theatre': 0.129, 'Literature': 0.117, 'Culture': 0.114, 'Sculpture': 0.101, 'Exercise': 0.1, 'Music': 0.053, 'Technology': 0.05, 'Nature': 0.045, 'History': 0.044, 'Earth': 0.041, 'Statistics': 0.041, 'Computing': 0.04, 'Philosophy': 0.039, 'Internet': 0.032, 'Life': 0.029, 'Dance': 0.022, 'Society': 0.022, 'Media': 0.021, 'Language': 0.018, 'Education': 0.018, 'Religion': 0.016, 'Belief': 0.016, 'Medicine': 0.015, 'Film': 0.014, 'Logic': 0.014, 'Biology': 0.013, 'Engineering': 0.012, 'Architecture': 0.011, 'Electronics': 0.009, 'Health': 0.008, 'Science': 0.008, 'Games': 0.007, 'War': 0.005, 'Sport': 0.004, 'Recreation': 0.004, 'Fitness': 0.004, 'Crime': 0.004, 'Geography': 0.003, 'Mathematics': 0.003, 'Food': 0.002, 'Transport': 0.002}\n",
      "Literature\n",
      "{'Literature': 0.467, 'Culture': 0.199, 'Exercise': 0.116, 'History': 0.075, 'Internet': 0.072, 'Nature': 0.072, 'Media': 0.07, 'Language': 0.063, 'Theatre': 0.056, 'Philosophy': 0.05, 'Life': 0.038, 'Science': 0.033, 'Sculpture': 0.031, 'Logic': 0.028, 'Art': 0.025, 'Technology': 0.024, 'Music': 0.022, 'Society': 0.022, 'Dance': 0.018, 'Games': 0.018, 'Engineering': 0.018, 'Education': 0.015, 'Statistics': 0.015, 'Computing': 0.015, 'Film': 0.014, 'Electronics': 0.013, 'Painting': 0.011, 'Earth': 0.01, 'War': 0.01, 'Biology': 0.01, 'Belief': 0.009, 'Sport': 0.008, 'Health': 0.008, 'Architecture': 0.005, 'Fitness': 0.005, 'Medicine': 0.004, 'Crime': 0.004, 'Religion': 0.004, 'Mathematics': 0.003, 'Geography': 0.002, 'Recreation': 0.001, 'Transport': 0.001}\n",
      "Geography\n",
      "{'Geography': 0.432, 'Literature': 0.12, 'Earth': 0.113, 'Science': 0.088, 'Technology': 0.087, 'Nature': 0.086, 'Internet': 0.082, 'Engineering': 0.058, 'Exercise': 0.057, 'Society': 0.053, 'Logic': 0.05, 'Computing': 0.037, 'Culture': 0.036, 'Life': 0.035, 'Mathematics': 0.035, 'Biology': 0.035, 'History': 0.034, 'Statistics': 0.034, 'Fitness': 0.029, 'Philosophy': 0.024, 'Media': 0.021, 'Language': 0.012, 'Education': 0.012, 'Sport': 0.01, 'Belief': 0.009, 'Health': 0.008, 'Art': 0.007, 'Electronics': 0.007, 'Architecture': 0.006, 'Sculpture': 0.006, 'War': 0.006, 'Religion': 0.006, 'Transport': 0.005, 'Games': 0.004, 'Food': 0.003, 'Painting': 0.003, 'Film': 0.002, 'Theatre': 0.002, 'Medicine': 0.001, 'Crime': 0.001}\n",
      "Culture\n",
      "{'Culture': 0.498, 'Literature': 0.276, 'Philosophy': 0.226, 'Society': 0.109, 'Science': 0.084, 'Internet': 0.063, 'Exercise': 0.063, 'Media': 0.059, 'Logic': 0.049, 'Nature': 0.047, 'Language': 0.045, 'Life': 0.045, 'Earth': 0.038, 'Technology': 0.037, 'Biology': 0.032, 'Engineering': 0.022, 'Religion': 0.02, 'Art': 0.019, 'Theatre': 0.019, 'Fitness': 0.018, 'Belief': 0.018, 'History': 0.014, 'Education': 0.014, 'War': 0.014, 'Music': 0.013, 'Medicine': 0.013, 'Architecture': 0.012, 'Recreation': 0.01, 'Sculpture': 0.009, 'Mathematics': 0.008, 'Dance': 0.007, 'Games': 0.007, 'Computing': 0.007, 'Food': 0.006, 'Film': 0.006, 'Painting': 0.006, 'Sport': 0.005, 'Electronics': 0.004, 'Crime': 0.003, 'Statistics': 0.003, 'Health': 0.002, 'Transport': 0.002, 'Geography': 0.001}\n",
      "Theatre\n",
      "{'Theatre': 0.358, 'Literature': 0.137, 'Dance': 0.089, 'Games': 0.085, 'Music': 0.067, 'Exercise': 0.066, 'Culture': 0.065, 'History': 0.061, 'Art': 0.048, 'Sport': 0.044, 'Life': 0.036, 'Nature': 0.036, 'Society': 0.036, 'Philosophy': 0.035, 'Language': 0.031, 'Architecture': 0.031, 'Media': 0.028, 'Logic': 0.028, 'Painting': 0.024, 'Internet': 0.023, 'Engineering': 0.023, 'Sculpture': 0.021, 'Medicine': 0.016, 'Film': 0.014, 'Statistics': 0.014, 'Earth': 0.013, 'Biology': 0.013, 'Religion': 0.013, 'Education': 0.012, 'Fitness': 0.011, 'Science': 0.011, 'Technology': 0.009, 'Computing': 0.009, 'Recreation': 0.007, 'Health': 0.007, 'Belief': 0.004, 'War': 0.003, 'Crime': 0.002, 'Mathematics': 0.002, 'Geography': 0.001, 'Transport': 0.001, 'Electronics': 0.001}\n",
      "Architecture\n",
      "{'Architecture': 0.622, 'Engineering': 0.246, 'Exercise': 0.076, 'Computing': 0.073, 'Culture': 0.063, 'Art': 0.061, 'Literature': 0.06, 'Internet': 0.059, 'Nature': 0.058, 'Technology': 0.056, 'History': 0.054, 'Society': 0.044, 'Theatre': 0.042, 'Philosophy': 0.042, 'Science': 0.041, 'Logic': 0.03, 'Earth': 0.029, 'Language': 0.025, 'Painting': 0.021, 'Fitness': 0.021, 'Education': 0.021, 'Biology': 0.021, 'Religion': 0.019, 'Sculpture': 0.018, 'Life': 0.015, 'Media': 0.014, 'War': 0.014, 'Transport': 0.013, 'Belief': 0.013, 'Health': 0.011, 'Sport': 0.009, 'Medicine': 0.009, 'Mathematics': 0.008, 'Statistics': 0.008, 'Film': 0.007, 'Music': 0.006, 'Recreation': 0.006, 'Electronics': 0.006, 'Dance': 0.005, 'Games': 0.004, 'Geography': 0.004, 'Crime': 0.002, 'Food': 0.001}\n",
      "Film\n",
      "{'Film': 0.555, 'Theatre': 0.066, 'Literature': 0.047, 'Exercise': 0.046, 'Painting': 0.044, 'Media': 0.041, 'History': 0.039, 'Technology': 0.034, 'Engineering': 0.033, 'Art': 0.031, 'Internet': 0.031, 'Nature': 0.027, 'Life': 0.025, 'Computing': 0.022, 'Language': 0.021, 'Culture': 0.018, 'Education': 0.018, 'Statistics': 0.018, 'Logic': 0.016, 'Philosophy': 0.016, 'Music': 0.014, 'Science': 0.014, 'Society': 0.011, 'Electronics': 0.011, 'Sport': 0.01, 'Dance': 0.007, 'Sculpture': 0.007, 'Games': 0.007, 'Earth': 0.007, 'War': 0.007, 'Recreation': 0.006, 'Health': 0.006, 'Biology': 0.006, 'Architecture': 0.005, 'Medicine': 0.004, 'Belief': 0.004, 'Fitness': 0.003, 'Transport': 0.003, 'Food': 0.001, 'Mathematics': 0.001}\n",
      "Sport\n",
      "{'Sport': 0.218, 'Exercise': 0.071, 'Internet': 0.065, 'Games': 0.063, 'Media': 0.059, 'Literature': 0.046, 'Fitness': 0.04, 'History': 0.032, 'Education': 0.032, 'Nature': 0.029, 'Recreation': 0.028, 'Technology': 0.027, 'Engineering': 0.027, 'Science': 0.026, 'Culture': 0.021, 'Earth': 0.021, 'Society': 0.02, 'Statistics': 0.017, 'Philosophy': 0.017, 'Film': 0.015, 'War': 0.012, 'Belief': 0.012, 'Electronics': 0.012, 'Life': 0.011, 'Theatre': 0.01, 'Health': 0.01, 'Religion': 0.01, 'Dance': 0.009, 'Computing': 0.009, 'Language': 0.008, 'Medicine': 0.008, 'Art': 0.007, 'Painting': 0.007, 'Architecture': 0.005, 'Logic': 0.005, 'Sculpture': 0.004, 'Crime': 0.004, 'Biology': 0.004, 'Music': 0.003, 'Food': 0.002, 'Transport': 0.001, 'Mathematics': 0.001}\n",
      "Logic\n",
      "{'Logic': 0.704, 'Philosophy': 0.294, 'Mathematics': 0.09, 'Literature': 0.076, 'Computing': 0.056, 'Language': 0.043, 'Internet': 0.042, 'Exercise': 0.042, 'Nature': 0.041, 'Technology': 0.04, 'Belief': 0.031, 'Science': 0.03, 'Engineering': 0.025, 'History': 0.022, 'Geography': 0.02, 'Statistics': 0.019, 'Culture': 0.018, 'Earth': 0.015, 'Media': 0.014, 'Fitness': 0.011, 'Film': 0.01, 'Architecture': 0.01, 'Biology': 0.01, 'Society': 0.01, 'Games': 0.008, 'Education': 0.008, 'Life': 0.007, 'Electronics': 0.006, 'Crime': 0.005, 'Art': 0.004, 'Painting': 0.003, 'Sculpture': 0.003, 'Health': 0.003, 'Sport': 0.002, 'Religion': 0.002, 'Food': 0.001, 'Medicine': 0.001, 'War': 0.001, 'Transport': 0.001}\n"
     ]
    }
   ],
   "source": [
    "for art in articles:\n",
    "    art['text_sims'] = tfdif_test_cosine([' '.join(art.get('text_tokens'))], vectorizer_datamuse, trained_model_datamuse)\n",
    "    art['text_sims'] = {k: v for k, v in sorted(art.get('text_sims').items(), key = lambda item: item[1], reverse=True)}\n",
    "    print(art.get('title'))\n",
    "    print(art.get('text_sims'))"
   ]
  },
  {
   "cell_type": "markdown",
   "metadata": {},
   "source": [
    "### Kosinusova podobnost s testovacimi clankami - DATAMUSE TFIDF"
   ]
  },
  {
   "cell_type": "markdown",
   "metadata": {},
   "source": [
    "### Anchor text - kosinusova podobnost"
   ]
  },
  {
   "cell_type": "code",
   "execution_count": 194,
   "metadata": {},
   "outputs": [
    {
     "name": "stdout",
     "output_type": "stream",
     "text": [
      "Anarchism\n",
      "{'Nature': 0.196, 'War': 0.144, 'Philosophy': 0.136, 'Science': 0.112, 'Language': 0.108, 'Culture': 0.095, 'Media': 0.091, 'Logic': 0.072, 'Education': 0.066, 'Society': 0.063, 'Crime': 0.045, 'Statistics': 0.041, 'Belief': 0.032, 'Religion': 0.03, 'Literature': 0.027, 'Biology': 0.027, 'Computing': 0.022, 'Electronics': 0.016, 'History': 0.013, 'Life': 0.012}\n",
      "Autism\n",
      "{'Medicine': 0.349, 'Health': 0.224, 'Fitness': 0.127, 'Society': 0.122, 'Philosophy': 0.107, 'Culture': 0.103, 'Architecture': 0.102, 'Language': 0.093, 'Logic': 0.075, 'Belief': 0.066, 'Literature': 0.064, 'Music': 0.058, 'Life': 0.057, 'Statistics': 0.051, 'Education': 0.035, 'Engineering': 0.031, 'Exercise': 0.028, 'Food': 0.019, 'Dance': 0.017, 'Theatre': 0.017, 'Nature': 0.017, 'Technology': 0.016, 'Earth': 0.014, 'Science': 0.014, 'Media': 0.013, 'Biology': 0.012}\n",
      "Albedo\n",
      "{'Geography': 0.278, 'Nature': 0.169, 'Earth': 0.142, 'Logic': 0.142, 'Science': 0.072, 'Dance': 0.044, 'Literature': 0.04}\n",
      "A\n",
      "{'Language': 0.275, 'History': 0.099, 'Culture': 0.047, 'Engineering': 0.046, 'Games': 0.029, 'Life': 0.021, 'Society': 0.02}\n",
      "Alabama\n",
      "{'Nature': 0.314, 'War': 0.191, 'Statistics': 0.05, 'Language': 0.043, 'Architecture': 0.041, 'Education': 0.031, 'Culture': 0.028, 'History': 0.026, 'Film': 0.023, 'Media': 0.023, 'Theatre': 0.02, 'Health': 0.019, 'Society': 0.017, 'Electronics': 0.017, 'Earth': 0.015, 'Painting': 0.011, 'Internet': 0.011, 'Philosophy': 0.01, 'Religion': 0.01, 'Art': 0.007, 'Geography': 0.006, 'Life': 0.006, 'Music': 0.005, 'Computing': 0.004, 'Food': 0.003, 'Dance': 0.003, 'Fitness': 0.002, 'Biology': 0.002, 'Science': 0.002}\n",
      "Achilles\n",
      "{'Film': 0.222, 'Nature': 0.191, 'Geography': 0.14, 'Language': 0.128, 'Literature': 0.112, 'Games': 0.107, 'Painting': 0.098, 'Exercise': 0.07, 'History': 0.064, 'Life': 0.062, 'Sport': 0.052, 'War': 0.051, 'Art': 0.046, 'Religion': 0.038, 'Theatre': 0.02, 'Music': 0.018, 'Internet': 0.017, 'Culture': 0.011, 'Sculpture': 0.01}\n",
      "Abraham Lincoln\n",
      "{'Nature': 0.276, 'War': 0.252, 'History': 0.073, 'Culture': 0.046, 'Painting': 0.04, 'Theatre': 0.034, 'Religion': 0.026, 'Crime': 0.024, 'Language': 0.023, 'Education': 0.02, 'Society': 0.02, 'Philosophy': 0.013, 'Electronics': 0.011, 'Architecture': 0.01, 'Geography': 0.01, 'Earth': 0.01, 'Statistics': 0.01, 'Literature': 0.008, 'Internet': 0.007, 'Life': 0.007, 'Sport': 0.006, 'Medicine': 0.005, 'Film': 0.004, 'Media': 0.004, 'Fitness': 0.004, 'Exercise': 0.004, 'Health': 0.003, 'Logic': 0.002, 'Belief': 0.002, 'Engineering': 0.002}\n",
      "Aristotle\n",
      "{'Biology': 0.3, 'Fitness': 0.195, 'Exercise': 0.191, 'Logic': 0.18, 'Science': 0.168, 'Philosophy': 0.155, 'Mathematics': 0.123, 'Nature': 0.081, 'Life': 0.075, 'Geography': 0.064, 'Engineering': 0.054, 'Earth': 0.044, 'Belief': 0.04, 'Technology': 0.038, 'Literature': 0.037, 'Film': 0.034, 'Painting': 0.033, 'Architecture': 0.032, 'Art': 0.031, 'Media': 0.03, 'War': 0.029, 'Sculpture': 0.026, 'Language': 0.019, 'Culture': 0.016, 'Crime': 0.011, 'Theatre': 0.01, 'History': 0.01, 'Society': 0.008, 'Education': 0.007}\n",
      "An American in Paris\n",
      "{'History': 0.274, 'Music': 0.23, 'Dance': 0.225, 'Science': 0.177, 'Film': 0.134, 'Medicine': 0.064, 'Technology': 0.048, 'Statistics': 0.043}\n",
      "Academy Award for Best Production Design\n",
      "{'Film': 0.42, 'Sculpture': 0.064, 'Theatre': 0.04, 'Art': 0.035, 'Painting': 0.02, 'Literature': 0.019, 'Culture': 0.018, 'Society': 0.017, 'Architecture': 0.015, 'Music': 0.01, 'Life': 0.009, 'Engineering': 0.006, 'War': 0.005, 'Computing': 0.005, 'Dance': 0.004, 'Medicine': 0.003, 'Transport': 0.003, 'Biology': 0.003, 'Nature': 0.003, 'Sport': 0.002, 'Earth': 0.002, 'Language': 0.001, 'Geography': 0.001, 'Health': 0.001, 'Fitness': 0.001, 'Exercise': 0.001, 'History': 0.001, 'Crime': 0.001, 'Belief': 0.001}\n",
      "Academy Awards\n",
      "{'Sculpture': 0.196, 'Film': 0.192, 'Theatre': 0.022, 'Music': 0.021, 'Architecture': 0.018, 'Painting': 0.018, 'Life': 0.017, 'Media': 0.016, 'Sport': 0.015, 'Society': 0.015, 'Literature': 0.013, 'Engineering': 0.01, 'Dance': 0.009, 'Earth': 0.008, 'History': 0.007, 'Biology': 0.007, 'Computing': 0.006, 'Games': 0.005, 'Medicine': 0.004, 'Crime': 0.004, 'Nature': 0.004, 'Culture': 0.003, 'Language': 0.002, 'Art': 0.002, 'Recreation': 0.002, 'Internet': 0.002, 'Geography': 0.002, 'Statistics': 0.002, 'Technology': 0.002, 'Exercise': 0.001, 'Philosophy': 0.001}\n",
      "Actrius\n",
      "{'Language': 0.31}\n",
      "Animalia (book)\n",
      "{'Literature': 0.366, 'Transport': 0.14, 'Culture': 0.066, 'Media': 0.062}\n",
      "International Atomic Time\n",
      "{'Fitness': 0.177, 'Exercise': 0.174, 'History': 0.119, 'Logic': 0.109, 'Science': 0.055, 'Statistics': 0.053}\n",
      "Altruism\n",
      "{'Biology': 0.3, 'Nature': 0.224, 'Philosophy': 0.191, 'Fitness': 0.148, 'Science': 0.125, 'Games': 0.105, 'Logic': 0.095, 'Exercise': 0.094, 'Society': 0.081, 'Literature': 0.079, 'Technology': 0.075, 'Media': 0.065, 'Mathematics': 0.062, 'Belief': 0.053, 'Religion': 0.045, 'Engineering': 0.045, 'Internet': 0.042, 'Earth': 0.035, 'Health': 0.032, 'Recreation': 0.03, 'Medicine': 0.03, 'Culture': 0.016}\n",
      "Ayn Rand\n",
      "{'Nature': 0.274, 'Literature': 0.211, 'Film': 0.16, 'War': 0.104, 'Logic': 0.089, 'Theatre': 0.067, 'Media': 0.047, 'Philosophy': 0.047, 'Health': 0.037, 'Food': 0.036, 'Society': 0.035, 'Science': 0.031, 'Language': 0.03, 'Life': 0.029, 'Earth': 0.027, 'History': 0.024, 'Medicine': 0.023, 'Music': 0.017, 'Games': 0.017, 'Biology': 0.013, 'Sculpture': 0.01, 'Recreation': 0.01, 'Crime': 0.009, 'Religion': 0.009, 'Painting': 0.008, 'Sport': 0.008}\n",
      "Alain Connes\n",
      "{'Technology': 0.321, 'Mathematics': 0.316, 'Engineering': 0.249, 'Biology': 0.189, 'Science': 0.099, 'Philosophy': 0.065, 'Logic': 0.05}\n",
      "Allan Dwan\n",
      "{'Film': 0.427, 'Life': 0.018, 'Games': 0.014, 'Nature': 0.014, 'Literature': 0.013, 'Theatre': 0.012, 'Media': 0.011, 'Engineering': 0.011, 'Society': 0.01, 'Sport': 0.007, 'Transport': 0.006, 'Painting': 0.005, 'Earth': 0.005, 'History': 0.005, 'Biology': 0.004, 'War': 0.003}\n",
      "Algeria\n",
      "{'Nature': 0.255, 'War': 0.197, 'Language': 0.166, 'Religion': 0.088, 'Media': 0.083, 'Culture': 0.079, 'Film': 0.069, 'Statistics': 0.063, 'Music': 0.059, 'Society': 0.043, 'Earth': 0.038, 'Logic': 0.037, 'Technology': 0.037, 'History': 0.035, 'Literature': 0.025, 'Dance': 0.024, 'Life': 0.024, 'Health': 0.023, 'Belief': 0.023, 'Crime': 0.02, 'Medicine': 0.017, 'Science': 0.015, 'Philosophy': 0.008}\n",
      "List of Atlas Shrugged characters\n",
      "{'Nature': 0.297, 'War': 0.171}\n",
      "Anthropology\n",
      "{'Culture': 0.338, 'Biology': 0.262, 'Science': 0.223, 'Language': 0.199, 'Literature': 0.168, 'Philosophy': 0.14, 'Society': 0.14, 'Technology': 0.091, 'History': 0.085, 'Nature': 0.085, 'Media': 0.078, 'Life': 0.076, 'Logic': 0.062, 'Mathematics': 0.057, 'Earth': 0.052, 'Food': 0.051, 'Engineering': 0.047, 'Fitness': 0.039, 'Exercise': 0.038, 'War': 0.032, 'Architecture': 0.023, 'Sculpture': 0.019, 'Art': 0.016, 'Geography': 0.016, 'Electronics': 0.016, 'Computing': 0.011, 'Crime': 0.008, 'Internet': 0.006, 'Statistics': 0.006, 'Education': 0.005}\n",
      "Agricultural science\n",
      "{'Technology': 0.205, 'Statistics': 0.189, 'Earth': 0.129, 'Engineering': 0.101, 'Biology': 0.1, 'Medicine': 0.09, 'Food': 0.069, 'Religion': 0.068, 'Nature': 0.061, 'History': 0.057, 'Science': 0.052, 'Mathematics': 0.048, 'Culture': 0.032, 'Theatre': 0.031, 'Life': 0.028, 'Music': 0.027, 'Art': 0.026}\n",
      "Alchemy\n",
      "{'Medicine': 0.238, 'Science': 0.173, 'Technology': 0.171, 'Religion': 0.128, 'Life': 0.119, 'Engineering': 0.111, 'Language': 0.102, 'Earth': 0.092, 'Biology': 0.086, 'History': 0.084, 'Exercise': 0.081, 'Philosophy': 0.078, 'Music': 0.067, 'Nature': 0.046, 'Logic': 0.04, 'Society': 0.04, 'Belief': 0.039, 'Fitness': 0.037, 'Mathematics': 0.034, 'Culture': 0.017, 'Computing': 0.013, 'Literature': 0.011, 'Health': 0.011, 'Media': 0.009}\n",
      "Alien\n",
      "{'Music': 0.266, 'Film': 0.212, 'Games': 0.118, 'Dance': 0.085, 'Literature': 0.039, 'Sculpture': 0.02, 'Sport': 0.016}\n",
      "Astronomer\n",
      "{'Science': 0.316, 'History': 0.226, 'Nature': 0.205, 'Technology': 0.143, 'Philosophy': 0.1, 'Logic': 0.076, 'Medicine': 0.075, 'Biology': 0.056, 'Engineering': 0.056, 'Health': 0.054, 'Life': 0.047, 'Belief': 0.041, 'Culture': 0.04, 'Mathematics': 0.027}\n",
      "ASCII\n",
      "{'Computing': 0.37, 'Statistics': 0.326, 'Technology': 0.227, 'Language': 0.126, 'Internet': 0.084, 'Logic': 0.072, 'Engineering': 0.055, 'Film': 0.048, 'Music': 0.037, 'Painting': 0.034, 'Sculpture': 0.032, 'Literature': 0.031, 'Electronics': 0.028, 'Society': 0.025, 'Transport': 0.019, 'Biology': 0.018, 'History': 0.016, 'Architecture': 0.012, 'Science': 0.01, 'Mathematics': 0.009, 'Life': 0.008}\n",
      "Austin (disambiguation)\n",
      "{'Music': 0.322, 'Dance': 0.193}\n",
      "Animation\n",
      "{'Film': 0.381, 'Life': 0.109, 'Computing': 0.072, 'Art': 0.031, 'Technology': 0.03, 'Sculpture': 0.024, 'Statistics': 0.023, 'War': 0.022, 'Theatre': 0.02, 'Literature': 0.013, 'Internet': 0.013, 'History': 0.013, 'Culture': 0.009, 'Society': 0.009, 'Recreation': 0.008, 'Exercise': 0.007, 'Biology': 0.007, 'Media': 0.006, 'Fitness': 0.005, 'Electronics': 0.005, 'Games': 0.004, 'Sport': 0.004, 'Education': 0.004, 'Philosophy': 0.004, 'Music': 0.003, 'Earth': 0.003, 'Nature': 0.003, 'Painting': 0.002}\n",
      "Apollo\n",
      "{'Society': 0.202, 'Geography': 0.154, 'Culture': 0.146, 'Language': 0.097, 'Religion': 0.064, 'Art': 0.036, 'Life': 0.033, 'Statistics': 0.031, 'Health': 0.03, 'Philosophy': 0.028, 'Music': 0.025, 'Painting': 0.024, 'Games': 0.024, 'Earth': 0.024, 'Nature': 0.023, 'Sculpture': 0.022, 'Theatre': 0.02, 'Literature': 0.019, 'War': 0.013, 'Sport': 0.012, 'Belief': 0.009, 'Biology': 0.008, 'Logic': 0.007, 'Science': 0.006}\n",
      "Andre Agassi\n",
      "{'Earth': 0.136, 'Nature': 0.128, 'Statistics': 0.096, 'Games': 0.057, 'History': 0.053, 'Life': 0.049, 'Sport': 0.044, 'Society': 0.029, 'Sculpture': 0.028, 'Recreation': 0.028, 'Art': 0.025, 'Logic': 0.019, 'Music': 0.013, 'Literature': 0.011, 'Health': 0.011, 'Theatre': 0.006, 'Painting': 0.006}\n"
     ]
    }
   ],
   "source": [
    "for art in articles_test:\n",
    "    art['anchor_sims'] = tfdif_test_cosine([' '.join(art.get('anchors_tokens'))], vectorizer_datamuse, trained_model_datamuse)\n",
    "    art['anchor_sims'] = {k: v for k, v in sorted(art.get('anchor_sims').items(), key = lambda item: item[1], reverse=True)}    \n",
    "    print(art.get('title'))\n",
    "    print(art.get('anchor_sims'))"
   ]
  },
  {
   "cell_type": "markdown",
   "metadata": {},
   "source": [
    "### Kategorie Wiki - kosinusova podobnost"
   ]
  },
  {
   "cell_type": "code",
   "execution_count": 193,
   "metadata": {},
   "outputs": [
    {
     "name": "stdout",
     "output_type": "stream",
     "text": [
      "Anarchism\n",
      "{'Philosophy': 0.246, 'Society': 0.224, 'Culture': 0.135, 'Science': 0.054, 'Logic': 0.044, 'Literature': 0.042}\n",
      "Autism\n",
      "{'Language': 0.239, 'Media': 0.144, 'Philosophy': 0.102, 'Culture': 0.095, 'Society': 0.081, 'Logic': 0.078}\n",
      "Albedo\n",
      "{'Earth': 0.234, 'Transport': 0.094, 'Language': 0.079, 'Geography': 0.071}\n",
      "A\n",
      "{'Culture': nan, 'Food': nan, 'Language': nan, 'Literature': nan, 'Art': nan, 'Dance': nan, 'Film': nan, 'Music': nan, 'Theatre': nan, 'Architecture': nan, 'Painting': nan, 'Sculpture': nan, 'Games': nan, 'Sport': nan, 'Recreation': nan, 'Media': nan, 'Internet': nan, 'Geography': nan, 'Earth': nan, 'Health': nan, 'Fitness': nan, 'Exercise': nan, 'Life': nan, 'Medicine': nan, 'History': nan, 'Education': nan, 'Crime': nan, 'War': nan, 'Transport': nan, 'Mathematics': nan, 'Logic': nan, 'Statistics': nan, 'Biology': nan, 'Nature': nan, 'Science': nan, 'Philosophy': nan, 'Religion': nan, 'Belief': nan, 'Society': nan, 'Technology': nan, 'Computing': nan, 'Electronics': nan, 'Engineering': nan}\n",
      "Alabama\n",
      "{'Nature': 0.294, 'War': 0.169, 'History': 0.021, 'Geography': 0.019}\n",
      "Achilles\n",
      "{'War': 0.226, 'Literature': 0.214, 'Culture': 0.103}\n",
      "Abraham Lincoln\n",
      "{'Nature': 0.258, 'War': 0.239, 'Crime': 0.07, 'Theatre': 0.048, 'Painting': 0.047, 'Life': 0.036, 'Culture': 0.033, 'Exercise': 0.027, 'Language': 0.015, 'Society': 0.014, 'Medicine': 0.012}\n",
      "Aristotle\n",
      "{'Philosophy': 0.264, 'Culture': 0.075, 'Logic': 0.072, 'Society': 0.042, 'Education': 0.041, 'Technology': 0.038, 'Science': 0.034, 'Life': 0.032, 'History': 0.032, 'Literature': 0.025, 'Engineering': 0.025, 'Nature': 0.019, 'Mathematics': 0.017, 'Biology': 0.016, 'Belief': 0.015, 'Language': 0.009, 'Theatre': 0.006, 'Art': 0.005, 'Crime': 0.005, 'Painting': 0.003, 'Sculpture': 0.003, 'Computing': 0.003}\n",
      "An American in Paris\n",
      "{'Music': 0.382, 'Dance': 0.152, 'Sculpture': 0.107, 'Medicine': 0.106}\n",
      "Academy Award for Best Production Design\n",
      "{'Sculpture': 0.226, 'Theatre': 0.205, 'Art': 0.175, 'Architecture': 0.128, 'Culture': 0.075, 'Painting': 0.071, 'Literature': 0.07, 'Computing': 0.043, 'Engineering': 0.043}\n",
      "Academy Awards\n",
      "{'Sculpture': 0.164, 'Film': 0.157, 'Culture': 0.123, 'Theatre': 0.12, 'Media': 0.073, 'Life': 0.068, 'Literature': 0.053, 'Dance': 0.039, 'Art': 0.038, 'Philosophy': 0.036, 'History': 0.035, 'Biology': 0.031, 'Painting': 0.022}\n",
      "Actrius\n",
      "{'Film': 0.423, 'Language': 0.043, 'Society': 0.025}\n",
      "Animalia (book)\n",
      "{'Literature': 0.39, 'Film': 0.092, 'Painting': 0.064}\n",
      "International Atomic Time\n",
      "{'History': 0.191}\n",
      "Altruism\n",
      "{'Society': 0.225, 'Engineering': 0.209, 'Philosophy': 0.085, 'Belief': 0.082, 'Culture': 0.079, 'Logic': 0.065}\n",
      "Ayn Rand\n",
      "{'Nature': 0.178, 'Philosophy': 0.175, 'War': 0.095, 'Technology': 0.07, 'Engineering': 0.068, 'Literature': 0.053, 'Biology': 0.041, 'Science': 0.022, 'Mathematics': 0.02, 'Theatre': 0.015, 'Life': 0.014, 'Art': 0.013, 'Culture': 0.008, 'Sculpture': 0.008, 'Painting': 0.007}\n",
      "Alain Connes\n",
      "{'Technology': 0.335, 'Mathematics': 0.324, 'Biology': 0.206, 'Engineering': 0.18, 'Science': 0.151, 'Education': 0.07, 'Fitness': 0.056, 'Exercise': 0.055, 'Sculpture': 0.041, 'Philosophy': 0.037, 'Nature': 0.033, 'Literature': 0.032, 'Life': 0.03, 'Geography': 0.027}\n",
      "Allan Dwan\n",
      "{'Film': 0.378, 'Life': 0.081, 'Nature': 0.059, 'War': 0.034}\n",
      "Algeria\n",
      "{'Nature': 0.249, 'War': 0.143, 'Geography': 0.09, 'Religion': 0.024}\n",
      "List of Atlas Shrugged characters\n",
      "{'Literature': 0.266}\n",
      "Anthropology\n",
      "{'Culture': nan, 'Food': nan, 'Language': nan, 'Literature': nan, 'Art': nan, 'Dance': nan, 'Film': nan, 'Music': nan, 'Theatre': nan, 'Architecture': nan, 'Painting': nan, 'Sculpture': nan, 'Games': nan, 'Sport': nan, 'Recreation': nan, 'Media': nan, 'Internet': nan, 'Geography': nan, 'Earth': nan, 'Health': nan, 'Fitness': nan, 'Exercise': nan, 'Life': nan, 'Medicine': nan, 'History': nan, 'Education': nan, 'Crime': nan, 'War': nan, 'Transport': nan, 'Mathematics': nan, 'Logic': nan, 'Statistics': nan, 'Biology': nan, 'Nature': nan, 'Science': nan, 'Philosophy': nan, 'Religion': nan, 'Belief': nan, 'Society': nan, 'Technology': nan, 'Computing': nan, 'Electronics': nan, 'Engineering': nan}\n",
      "Agricultural science\n",
      "{'Technology': 0.171, 'Science': 0.159}\n",
      "Alchemy\n",
      "{'Culture': nan, 'Food': nan, 'Language': nan, 'Literature': nan, 'Art': nan, 'Dance': nan, 'Film': nan, 'Music': nan, 'Theatre': nan, 'Architecture': nan, 'Painting': nan, 'Sculpture': nan, 'Games': nan, 'Sport': nan, 'Recreation': nan, 'Media': nan, 'Internet': nan, 'Geography': nan, 'Earth': nan, 'Health': nan, 'Fitness': nan, 'Exercise': nan, 'Life': nan, 'Medicine': nan, 'History': nan, 'Education': nan, 'Crime': nan, 'War': nan, 'Transport': nan, 'Mathematics': nan, 'Logic': nan, 'Statistics': nan, 'Biology': nan, 'Nature': nan, 'Science': nan, 'Philosophy': nan, 'Religion': nan, 'Belief': nan, 'Society': nan, 'Technology': nan, 'Computing': nan, 'Electronics': nan, 'Engineering': nan}\n",
      "Alien\n",
      "{}\n",
      "Astronomer\n",
      "{'Technology': 0.247, 'Science': 0.218, 'Engineering': 0.146, 'Biology': 0.145, 'Mathematics': 0.069}\n",
      "ASCII\n",
      "{'Society': 0.135, 'Technology': 0.115, 'Computing': 0.102}\n",
      "Austin (disambiguation)\n",
      "{}\n",
      "Animation\n",
      "{'Film': 0.267, 'Engineering': 0.189, 'Technology': 0.142, 'Science': 0.131, 'Life': 0.115, 'Computing': 0.063}\n",
      "Apollo\n",
      "{'Dance': 0.118, 'Theatre': 0.108, 'Science': 0.097, 'Health': 0.096, 'Art': 0.092, 'Fitness': 0.078, 'Culture': 0.056, 'Sculpture': 0.055, 'Literature': 0.053, 'Painting': 0.053}\n",
      "Andre Agassi\n",
      "{'Nature': 0.304, 'War': 0.139, 'Life': 0.068, 'Earth': 0.064, 'Biology': 0.062}\n"
     ]
    },
    {
     "name": "stderr",
     "output_type": "stream",
     "text": [
      "<ipython-input-165-4c4a280a82e7>:11: RuntimeWarning: invalid value encountered in double_scalars\n",
      "  cx = lambda a, b : round(np.inner(a, b)/(LA.norm(a)*LA.norm(b)), 3)\n",
      "<ipython-input-165-4c4a280a82e7>:11: RuntimeWarning: invalid value encountered in double_scalars\n",
      "  cx = lambda a, b : round(np.inner(a, b)/(LA.norm(a)*LA.norm(b)), 3)\n",
      "<ipython-input-165-4c4a280a82e7>:11: RuntimeWarning: invalid value encountered in double_scalars\n",
      "  cx = lambda a, b : round(np.inner(a, b)/(LA.norm(a)*LA.norm(b)), 3)\n"
     ]
    }
   ],
   "source": [
    "for art in articles_test:\n",
    "    art['categories_sims'] = tfdif_test_cosine([' '.join(art.get('category_wiki_tokens'))], vectorizer_datamuse, trained_model_datamuse)\n",
    "    art['categories_sims'] = {k: v for k, v in sorted(art.get('categories_sims').items(), key = lambda item: item[1], reverse=True)}    \n",
    "    print(art.get('title'))\n",
    "    print(art.get('categories_sims'))"
   ]
  },
  {
   "cell_type": "markdown",
   "metadata": {},
   "source": [
    "### Infobox - kosinusova podobnost"
   ]
  },
  {
   "cell_type": "code",
   "execution_count": 192,
   "metadata": {
    "scrolled": true
   },
   "outputs": [
    {
     "name": "stdout",
     "output_type": "stream",
     "text": [
      "Anarchism\n",
      "{}\n",
      "Autism\n",
      "{'Medicine': 0.233, 'Literature': 0.157, 'Media': 0.135, 'Society': 0.119, 'Internet': 0.097, 'Exercise': 0.091, 'Life': 0.081, 'Health': 0.08, 'Language': 0.078, 'Fitness': 0.057, 'Mathematics': 0.019, 'Nature': 0.019, 'History': 0.018, 'Technology': 0.018, 'Science': 0.016}\n",
      "Albedo\n",
      "{}\n",
      "A\n",
      "{'Statistics': 0.24, 'Language': 0.219}\n",
      "Alabama\n",
      "{'Nature': 0.237, 'War': 0.15, 'Internet': 0.112, 'Language': 0.103, 'History': 0.042, 'Geography': 0.038, 'Exercise': 0.025, 'Statistics': 0.025, 'Theatre': 0.024, 'Painting': 0.024, 'Media': 0.024, 'Music': 0.021, 'Life': 0.014, 'Dance': 0.013}\n",
      "Achilles\n",
      "{}\n",
      "Abraham Lincoln\n",
      "{'War': 0.3, 'Nature': 0.214, 'Literature': 0.053, 'Crime': 0.049, 'Life': 0.045, 'Theatre': 0.044, 'Painting': 0.044, 'Film': 0.038, 'Sport': 0.027, 'Media': 0.022, 'History': 0.021}\n",
      "Aristotle\n",
      "{'Philosophy': 0.286, 'Logic': 0.242, 'Biology': 0.163, 'Culture': 0.147, 'Belief': 0.113, 'Science': 0.084, 'Electronics': 0.084, 'Music': 0.08, 'Education': 0.075, 'Technology': 0.066, 'Fitness': 0.061, 'Exercise': 0.06, 'Sculpture': 0.045, 'Mathematics': 0.042, 'Life': 0.04, 'Engineering': 0.039, 'History': 0.033, 'Dance': 0.032, 'Medicine': 0.022}\n",
      "An American in Paris\n",
      "{}\n",
      "Academy Award for Best Production Design\n",
      "{'Film': 0.192, 'Sculpture': 0.162, 'Painting': 0.133, 'Theatre': 0.114, 'Architecture': 0.11, 'Art': 0.097, 'Technology': 0.096, 'Engineering': 0.093, 'Nature': 0.084, 'History': 0.06, 'Biology': 0.056, 'War': 0.048, 'Computing': 0.037, 'Culture': 0.032, 'Literature': 0.03, 'Science': 0.03, 'Mathematics': 0.027}\n",
      "Academy Awards\n",
      "{'Sculpture': 0.203, 'Film': 0.185, 'Technology': 0.088, 'Painting': 0.075, 'Internet': 0.06, 'Nature': 0.048, 'Theatre': 0.035, 'Biology': 0.032, 'Engineering': 0.032, 'Art': 0.03, 'War': 0.027, 'Culture': 0.018, 'Literature': 0.017, 'Science': 0.017, 'Mathematics': 0.015}\n",
      "Actrius\n",
      "{'Film': 0.393, 'Language': 0.106, 'Music': 0.063, 'Games': 0.059, 'Electronics': 0.033, 'Sport': 0.029, 'Exercise': 0.029, 'Life': 0.026, 'History': 0.026, 'Dance': 0.025, 'Medicine': 0.018}\n",
      "Animalia (book)\n",
      "{'Literature': 0.309, 'Film': 0.273, 'Painting': 0.191, 'Language': 0.091, 'Life': 0.036}\n",
      "International Atomic Time\n",
      "{}\n",
      "Altruism\n",
      "{}\n",
      "Ayn Rand\n",
      "{'Nature': 0.254, 'War': 0.112, 'Life': 0.094, 'Language': 0.084, 'Sculpture': 0.075, 'Painting': 0.037, 'History': 0.028, 'Education': 0.026, 'Philosophy': 0.025, 'Belief': 0.024, 'Culture': 0.023, 'Logic': 0.019}\n",
      "Alain Connes\n",
      "{'Mathematics': 0.211, 'Nature': 0.184, 'Science': 0.119, 'Fitness': 0.068, 'Exercise': 0.067, 'Sculpture': 0.05, 'History': 0.046, 'Engineering': 0.041, 'War': 0.037, 'Technology': 0.037, 'Geography': 0.033}\n",
      "Allan Dwan\n",
      "{'Film': 0.358, 'Nature': 0.111, 'Life': 0.077, 'War': 0.064}\n",
      "Algeria\n",
      "{'Internet': 0.228, 'Nature': 0.079, 'Earth': 0.073, 'Language': 0.054, 'Statistics': 0.053, 'Exercise': 0.03, 'War': 0.03, 'Culture': 0.024, 'History': 0.023, 'Education': 0.021, 'Science': 0.02, 'Electronics': 0.02, 'Religion': 0.019, 'Life': 0.017, 'Theatre': 0.014, 'Literature': 0.012, 'Art': 0.012, 'Music': 0.012, 'Logic': 0.012, 'Engineering': 0.012, 'Media': 0.01, 'Painting': 0.007, 'Sculpture': 0.007, 'Geography': 0.006, 'Biology': 0.005}\n",
      "List of Atlas Shrugged characters\n",
      "{}\n",
      "Anthropology\n",
      "{}\n",
      "Agricultural science\n",
      "{}\n",
      "Alchemy\n",
      "{}\n",
      "Alien\n",
      "{}\n",
      "Astronomer\n",
      "{}\n",
      "ASCII\n",
      "{'Society': 0.154, 'Language': 0.141, 'Art': 0.056, 'Internet': 0.055, 'Statistics': 0.055, 'Life': 0.048, 'Computing': 0.044}\n",
      "Austin (disambiguation)\n",
      "{}\n",
      "Animation\n",
      "{}\n",
      "Apollo\n",
      "{'Music': 0.251, 'Theatre': 0.133, 'Science': 0.12, 'Art': 0.114, 'Dance': 0.1, 'Medicine': 0.07, 'Culture': 0.069, 'Sculpture': 0.068, 'Painting': 0.066, 'Literature': 0.065}\n",
      "Andre Agassi\n",
      "{'History': 0.282, 'Statistics': 0.189, 'Games': 0.141, 'Nature': 0.101, 'Life': 0.047, 'Internet': 0.043, 'Sport': 0.042, 'Media': 0.041, 'War': 0.039, 'Earth': 0.036}\n"
     ]
    }
   ],
   "source": [
    "for art in articles_test:\n",
    "    art['infobox_sims'] = tfdif_test_cosine([' '.join(art.get('infobox_tokens'))], vectorizer_datamuse, trained_model_datamuse)\n",
    "    art['infobox_sims'] = {k: v for k, v in sorted(art.get('infobox_sims').items(), key = lambda item: item[1], reverse=True)}\n",
    "    print(art.get('title'))\n",
    "    print(art.get('infobox_sims'))"
   ]
  },
  {
   "cell_type": "markdown",
   "metadata": {},
   "source": [
    "###  Text clanku - kosinusova podobnost"
   ]
  },
  {
   "cell_type": "code",
   "execution_count": 191,
   "metadata": {},
   "outputs": [
    {
     "name": "stdout",
     "output_type": "stream",
     "text": [
      "Anarchism\n",
      "{'Literature': 0.355, 'Philosophy': 0.166, 'Nature': 0.149, 'Society': 0.144, 'Education': 0.125, 'Media': 0.101, 'Science': 0.088, 'Culture': 0.087, 'War': 0.078, 'Logic': 0.075, 'History': 0.061, 'Exercise': 0.058, 'Internet': 0.056, 'Life': 0.05, 'Belief': 0.048, 'Earth': 0.037, 'Art': 0.035, 'Language': 0.031, 'Theatre': 0.026, 'Statistics': 0.026, 'Religion': 0.024, 'Electronics': 0.024, 'Biology': 0.023, 'Painting': 0.018, 'Games': 0.014, 'Sculpture': 0.013, 'Technology': 0.013, 'Film': 0.012, 'Fitness': 0.012, 'Engineering': 0.012, 'Recreation': 0.011, 'Music': 0.01, 'Crime': 0.01, 'Architecture': 0.009, 'Sport': 0.009, 'Medicine': 0.007, 'Computing': 0.006, 'Dance': 0.005, 'Health': 0.005, 'Geography': 0.004, 'Mathematics': 0.004, 'Transport': 0.003, 'Food': 0.002}\n",
      "Autism\n",
      "{'Literature': 0.196, 'Media': 0.173, 'Internet': 0.09, 'Society': 0.071, 'Medicine': 0.054, 'Health': 0.044, 'Language': 0.043, 'Exercise': 0.041, 'Science': 0.04, 'Fitness': 0.035, 'Nature': 0.035, 'Statistics': 0.032, 'Life': 0.028, 'Philosophy': 0.027, 'Education': 0.025, 'Logic': 0.025, 'Biology': 0.022, 'Culture': 0.019, 'Technology': 0.017, 'Belief': 0.012, 'Food': 0.011, 'Architecture': 0.011, 'History': 0.011, 'Sport': 0.01, 'Engineering': 0.009, 'Film': 0.008, 'Earth': 0.008, 'Art': 0.007, 'Music': 0.007, 'Theatre': 0.007, 'Sculpture': 0.006, 'Games': 0.006, 'War': 0.005, 'Dance': 0.004, 'Recreation': 0.004, 'Mathematics': 0.004, 'Computing': 0.003, 'Painting': 0.002, 'Transport': 0.002, 'Geography': 0.001, 'Crime': 0.001, 'Religion': 0.001, 'Electronics': 0.001}\n",
      "Albedo\n",
      "{'Earth': 0.176, 'Internet': 0.158, 'Literature': 0.124, 'Media': 0.081, 'Mathematics': 0.07, 'Science': 0.057, 'Nature': 0.055, 'Computing': 0.052, 'Society': 0.047, 'Exercise': 0.042, 'Dance': 0.039, 'Statistics': 0.038, 'Logic': 0.034, 'Technology': 0.03, 'Culture': 0.029, 'Geography': 0.029, 'Fitness': 0.022, 'Engineering': 0.019, 'Philosophy': 0.017, 'History': 0.016, 'Biology': 0.014, 'Belief': 0.014, 'Music': 0.012, 'Games': 0.01, 'Film': 0.009, 'Theatre': 0.008, 'Sport': 0.008, 'Architecture': 0.007, 'Painting': 0.007, 'Life': 0.007, 'Language': 0.006, 'Art': 0.006, 'Education': 0.005, 'Transport': 0.005, 'Electronics': 0.005, 'Health': 0.004, 'War': 0.003, 'Food': 0.002, 'Sculpture': 0.002, 'Recreation': 0.002, 'Crime': 0.002}\n",
      "A\n",
      "{'Internet': 0.159, 'Exercise': 0.132, 'Literature': 0.111, 'Language': 0.103, 'Culture': 0.051, 'Media': 0.037, 'Logic': 0.034, 'Nature': 0.027, 'Mathematics': 0.026, 'Games': 0.023, 'Computing': 0.018, 'Society': 0.016, 'Geography': 0.015, 'Education': 0.015, 'History': 0.013, 'Philosophy': 0.013, 'Science': 0.01, 'Life': 0.009, 'Statistics': 0.009, 'Engineering': 0.008, 'Sculpture': 0.007, 'Technology': 0.007, 'Earth': 0.006, 'Film': 0.005, 'Food': 0.003, 'Dance': 0.003, 'Theatre': 0.003, 'Fitness': 0.003, 'Biology': 0.003}\n",
      "Alabama\n",
      "{'Nature': 0.221, 'Internet': 0.194, 'War': 0.108, 'Culture': 0.084, 'Education': 0.078, 'Statistics': 0.058, 'Media': 0.046, 'History': 0.045, 'Literature': 0.039, 'Exercise': 0.027, 'Geography': 0.025, 'Society': 0.025, 'Life': 0.024, 'Philosophy': 0.023, 'Religion': 0.022, 'Architecture': 0.021, 'Earth': 0.019, 'Engineering': 0.019, 'Language': 0.017, 'Science': 0.017, 'Health': 0.016, 'Technology': 0.016, 'Crime': 0.014, 'Logic': 0.012, 'Biology': 0.011, 'Sport': 0.01, 'Electronics': 0.01, 'Film': 0.008, 'Theatre': 0.008, 'Fitness': 0.007, 'Medicine': 0.007, 'Sculpture': 0.006, 'Belief': 0.006, 'Computing': 0.006, 'Art': 0.005, 'Music': 0.005, 'Painting': 0.005, 'Food': 0.004, 'Transport': 0.004, 'Games': 0.003, 'Recreation': 0.003, 'Mathematics': 0.002, 'Dance': 0.001}\n",
      "Achilles\n",
      "{'Literature': 0.25, 'War': 0.213, 'Life': 0.169, 'History': 0.111, 'Internet': 0.081, 'Sculpture': 0.075, 'Nature': 0.072, 'Art': 0.071, 'Media': 0.07, 'Film': 0.069, 'Music': 0.067, 'Games': 0.066, 'Education': 0.063, 'Painting': 0.062, 'Transport': 0.058, 'Culture': 0.054, 'Statistics': 0.05, 'Theatre': 0.048, 'Exercise': 0.044, 'Religion': 0.041, 'Geography': 0.04, 'Dance': 0.037, 'Philosophy': 0.035, 'Science': 0.033, 'Society': 0.031, 'Biology': 0.029, 'Sport': 0.026, 'Belief': 0.022, 'Logic': 0.021, 'Language': 0.02, 'Earth': 0.02, 'Health': 0.019, 'Crime': 0.017, 'Fitness': 0.013, 'Architecture': 0.011, 'Medicine': 0.01, 'Engineering': 0.009, 'Technology': 0.004, 'Food': 0.002, 'Mathematics': 0.002, 'Electronics': 0.002}\n",
      "Abraham Lincoln\n",
      "{'Literature': 0.257, 'War': 0.246, 'Nature': 0.16, 'Internet': 0.131, 'Life': 0.089, 'Media': 0.086, 'History': 0.081, 'Exercise': 0.066, 'Culture': 0.061, 'Society': 0.058, 'Belief': 0.048, 'Earth': 0.04, 'Painting': 0.035, 'Religion': 0.032, 'Biology': 0.03, 'Theatre': 0.029, 'Crime': 0.027, 'Philosophy': 0.026, 'Geography': 0.025, 'Education': 0.025, 'Electronics': 0.025, 'Logic': 0.023, 'Language': 0.022, 'Fitness': 0.022, 'Engineering': 0.02, 'Film': 0.019, 'Games': 0.019, 'Health': 0.019, 'Sculpture': 0.016, 'Statistics': 0.015, 'Architecture': 0.014, 'Art': 0.012, 'Sport': 0.012, 'Transport': 0.012, 'Science': 0.011, 'Technology': 0.006, 'Music': 0.005, 'Medicine': 0.005, 'Dance': 0.004, 'Computing': 0.004, 'Recreation': 0.002, 'Food': 0.001, 'Mathematics': 0.001}\n",
      "Aristotle\n",
      "{'Literature': 0.33, 'Nature': 0.212, 'Philosophy': 0.182, 'Logic': 0.179, 'Exercise': 0.138, 'Biology': 0.113, 'Life': 0.089, 'Science': 0.089, 'Belief': 0.087, 'Internet': 0.076, 'Media': 0.075, 'History': 0.066, 'Culture': 0.063, 'Earth': 0.048, 'Fitness': 0.047, 'Education': 0.043, 'Technology': 0.043, 'Art': 0.041, 'Mathematics': 0.04, 'Engineering': 0.04, 'Language': 0.039, 'Society': 0.038, 'Theatre': 0.032, 'War': 0.03, 'Film': 0.029, 'Painting': 0.027, 'Statistics': 0.021, 'Architecture': 0.02, 'Sculpture': 0.019, 'Electronics': 0.016, 'Medicine': 0.015, 'Music': 0.014, 'Crime': 0.013, 'Religion': 0.013, 'Sport': 0.012, 'Health': 0.012, 'Games': 0.011, 'Geography': 0.01, 'Recreation': 0.009, 'Dance': 0.008, 'Computing': 0.006, 'Food': 0.004, 'Transport': 0.003}\n",
      "An American in Paris\n",
      "{'Music': 0.273, 'Internet': 0.164, 'Exercise': 0.158, 'History': 0.145, 'Dance': 0.133, 'Literature': 0.106, 'Media': 0.067, 'Film': 0.065, 'Medicine': 0.055, 'Theatre': 0.052, 'Statistics': 0.046, 'Games': 0.045, 'Life': 0.041, 'Society': 0.041, 'Sport': 0.039, 'Biology': 0.038, 'Nature': 0.037, 'Belief': 0.037, 'Painting': 0.026, 'Language': 0.016, 'Art': 0.016, 'Architecture': 0.014, 'War': 0.014, 'Education': 0.013, 'Logic': 0.013, 'Science': 0.012, 'Philosophy': 0.012, 'Culture': 0.011, 'Engineering': 0.011, 'Fitness': 0.01, 'Sculpture': 0.009, 'Earth': 0.009, 'Electronics': 0.008, 'Recreation': 0.007, 'Mathematics': 0.007, 'Computing': 0.005, 'Health': 0.004}\n",
      "Academy Award for Best Production Design\n",
      "{'Culture': 0.219, 'Film': 0.079, 'Sculpture': 0.044, 'Internet': 0.044, 'Painting': 0.041, 'Theatre': 0.034, 'Art': 0.029, 'Nature': 0.022, 'Technology': 0.021, 'Literature': 0.016, 'Engineering': 0.015, 'Biology': 0.014, 'War': 0.011, 'Society': 0.01, 'Music': 0.007, 'Architecture': 0.007, 'Science': 0.007, 'Mathematics': 0.006, 'Dance': 0.005, 'Life': 0.005, 'History': 0.005, 'Exercise': 0.004, 'Games': 0.003, 'Media': 0.003, 'Earth': 0.003, 'Fitness': 0.003, 'Medicine': 0.002, 'Statistics': 0.002, 'Computing': 0.002, 'Language': 0.001, 'Health': 0.001, 'Transport': 0.001}\n",
      "Academy Awards\n",
      "{'Film': 0.182, 'Internet': 0.177, 'Sculpture': 0.134, 'Media': 0.092, 'History': 0.057, 'Exercise': 0.051, 'Painting': 0.045, 'Theatre': 0.038, 'Life': 0.035, 'Art': 0.029, 'Literature': 0.022, 'Technology': 0.022, 'Biology': 0.02, 'Engineering': 0.018, 'Society': 0.016, 'Culture': 0.014, 'Sport': 0.013, 'Statistics': 0.011, 'Music': 0.01, 'Science': 0.01, 'Architecture': 0.009, 'Electronics': 0.009, 'Language': 0.008, 'Dance': 0.007, 'Recreation': 0.007, 'Belief': 0.007, 'Computing': 0.007, 'Games': 0.006, 'Logic': 0.006, 'Nature': 0.006, 'Earth': 0.005, 'War': 0.005, 'Mathematics': 0.005, 'Philosophy': 0.005, 'Health': 0.004, 'Education': 0.003, 'Food': 0.002, 'Fitness': 0.002, 'Medicine': 0.002, 'Crime': 0.002, 'Transport': 0.002, 'Geography': 0.001, 'Religion': 0.001}\n",
      "Actrius\n",
      "{'Film': 0.375, 'Internet': 0.119, 'Sculpture': 0.049, 'Games': 0.049, 'Exercise': 0.04, 'Theatre': 0.035, 'Media': 0.03, 'Life': 0.027, 'Electronics': 0.027, 'Sport': 0.024, 'Nature': 0.019, 'History': 0.018, 'Language': 0.015, 'Society': 0.014, 'Biology': 0.013, 'Painting': 0.009, 'Music': 0.008, 'Geography': 0.008, 'Earth': 0.007, 'War': 0.007}\n",
      "Animalia (book)\n",
      "{'Literature': 0.245, 'Internet': 0.188, 'Film': 0.076, 'Painting': 0.053, 'Sculpture': 0.028, 'Exercise': 0.023, 'Education': 0.019, 'Statistics': 0.018, 'Life': 0.014, 'Transport': 0.01, 'Culture': 0.009, 'Architecture': 0.009, 'Media': 0.009, 'History': 0.009, 'Nature': 0.007, 'Sport': 0.006, 'Society': 0.005, 'Language': 0.004, 'Recreation': 0.004, 'War': 0.004, 'Computing': 0.003, 'Engineering': 0.003}\n",
      "International Atomic Time\n",
      "{'History': 0.192, 'Internet': 0.102, 'Exercise': 0.047, 'Media': 0.038, 'Literature': 0.029, 'Nature': 0.022, 'Engineering': 0.018, 'Earth': 0.015, 'Logic': 0.015, 'Science': 0.015, 'Fitness': 0.013, 'Society': 0.013, 'Statistics': 0.012, 'Technology': 0.011, 'Health': 0.009, 'Culture': 0.008, 'Transport': 0.008, 'Computing': 0.008, 'Life': 0.007, 'War': 0.007, 'Architecture': 0.005, 'Film': 0.004, 'Education': 0.004, 'Mathematics': 0.004, 'Music': 0.003, 'Philosophy': 0.003, 'Belief': 0.003, 'Language': 0.002}\n",
      "Altruism\n",
      "{'Literature': 0.293, 'Society': 0.174, 'Nature': 0.149, 'Philosophy': 0.142, 'Media': 0.14, 'Fitness': 0.122, 'Science': 0.119, 'Internet': 0.105, 'Biology': 0.094, 'Belief': 0.084, 'Exercise': 0.079, 'Earth': 0.072, 'Health': 0.071, 'Logic': 0.069, 'Life': 0.068, 'Religion': 0.062, 'Technology': 0.055, 'Culture': 0.043, 'Engineering': 0.04, 'War': 0.027, 'Statistics': 0.027, 'Architecture': 0.025, 'Medicine': 0.023, 'History': 0.023, 'Language': 0.022, 'Mathematics': 0.021, 'Geography': 0.02, 'Film': 0.015, 'Theatre': 0.014, 'Art': 0.012, 'Dance': 0.012, 'Food': 0.01, 'Recreation': 0.01, 'Sculpture': 0.009, 'Education': 0.009, 'Electronics': 0.009, 'Games': 0.008, 'Computing': 0.008, 'Crime': 0.006, 'Music': 0.005, 'Painting': 0.005, 'Transport': 0.003, 'Sport': 0.002}\n",
      "Ayn Rand\n",
      "{'Literature': 0.41, 'Philosophy': 0.147, 'Exercise': 0.131, 'Internet': 0.116, 'Logic': 0.111, 'Life': 0.102, 'Media': 0.099, 'Nature': 0.09, 'Culture': 0.065, 'Science': 0.059, 'Film': 0.058, 'Belief': 0.054, 'Society': 0.053, 'Education': 0.05, 'Biology': 0.044, 'History': 0.038, 'War': 0.038, 'Art': 0.034, 'Theatre': 0.026, 'Painting': 0.021, 'Games': 0.02, 'Electronics': 0.017, 'Engineering': 0.017, 'Sculpture': 0.016, 'Earth': 0.016, 'Religion': 0.015, 'Statistics': 0.014, 'Technology': 0.013, 'Music': 0.012, 'Health': 0.012, 'Language': 0.011, 'Recreation': 0.011, 'Medicine': 0.01, 'Mathematics': 0.01, 'Dance': 0.009, 'Sport': 0.008, 'Fitness': 0.008, 'Architecture': 0.007, 'Food': 0.005, 'Crime': 0.004, 'Computing': 0.002, 'Geography': 0.001, 'Transport': 0.001}\n",
      "Alain Connes\n",
      "{'Mathematics': 0.36, 'Internet': 0.152, 'Literature': 0.132, 'Exercise': 0.108, 'Society': 0.078, 'Engineering': 0.071, 'Geography': 0.066, 'Science': 0.063, 'Technology': 0.049, 'Life': 0.048, 'Nature': 0.048, 'Fitness': 0.045, 'Logic': 0.041, 'Philosophy': 0.041, 'Media': 0.038, 'Sculpture': 0.027, 'Biology': 0.019, 'Art': 0.018, 'Statistics': 0.018, 'Language': 0.016, 'Computing': 0.015, 'Games': 0.011, 'Theatre': 0.01, 'Medicine': 0.008, 'History': 0.008, 'War': 0.008, 'Earth': 0.007, 'Education': 0.006, 'Culture': 0.005, 'Painting': 0.005}\n",
      "Allan Dwan\n",
      "{'Film': 0.549, 'Life': 0.112, 'Painting': 0.111, 'Internet': 0.106, 'Exercise': 0.087, 'Nature': 0.077, 'Literature': 0.072, 'Society': 0.054, 'Sport': 0.047, 'Media': 0.033, 'Theatre': 0.03, 'Architecture': 0.026, 'Technology': 0.026, 'Health': 0.022, 'Culture': 0.02, 'History': 0.02, 'Engineering': 0.02, 'Statistics': 0.019, 'War': 0.017, 'Fitness': 0.016, 'Medicine': 0.014, 'Biology': 0.013, 'Dance': 0.012, 'Electronics': 0.011, 'Crime': 0.01, 'Art': 0.008, 'Games': 0.008, 'Education': 0.008, 'Science': 0.008, 'Computing': 0.008, 'Language': 0.007}\n"
     ]
    },
    {
     "name": "stdout",
     "output_type": "stream",
     "text": [
      "Algeria\n",
      "{'Internet': 0.246, 'Literature': 0.124, 'Nature': 0.076, 'Media': 0.059, 'War': 0.059, 'Culture': 0.047, 'History': 0.046, 'Exercise': 0.039, 'Education': 0.036, 'Earth': 0.035, 'Society': 0.03, 'Life': 0.028, 'Statistics': 0.027, 'Science': 0.027, 'Language': 0.024, 'Electronics': 0.024, 'Film': 0.021, 'Religion': 0.021, 'Technology': 0.021, 'Theatre': 0.019, 'Music': 0.018, 'Biology': 0.018, 'Engineering': 0.018, 'Philosophy': 0.017, 'Medicine': 0.015, 'Art': 0.014, 'Geography': 0.013, 'Painting': 0.012, 'Sport': 0.012, 'Health': 0.012, 'Transport': 0.011, 'Sculpture': 0.01, 'Games': 0.009, 'Logic': 0.008, 'Dance': 0.007, 'Architecture': 0.007, 'Food': 0.005, 'Fitness': 0.005, 'Mathematics': 0.005, 'Recreation': 0.004, 'Crime': 0.003, 'Computing': 0.003, 'Belief': 0.002}\n",
      "List of Atlas Shrugged characters\n",
      "{'Literature': 0.257, 'Exercise': 0.157, 'Society': 0.146, 'Engineering': 0.131, 'Nature': 0.112, 'Life': 0.11, 'Electronics': 0.109, 'Philosophy': 0.094, 'Logic': 0.092, 'Belief': 0.082, 'Biology': 0.067, 'War': 0.061, 'Technology': 0.06, 'Fitness': 0.055, 'Science': 0.052, 'History': 0.044, 'Sport': 0.043, 'Media': 0.04, 'Statistics': 0.037, 'Education': 0.036, 'Art': 0.035, 'Architecture': 0.035, 'Internet': 0.035, 'Film': 0.033, 'Theatre': 0.031, 'Health': 0.03, 'Earth': 0.026, 'Language': 0.024, 'Dance': 0.024, 'Music': 0.024, 'Culture': 0.023, 'Crime': 0.019, 'Games': 0.018, 'Transport': 0.018, 'Food': 0.015, 'Mathematics': 0.015, 'Sculpture': 0.014, 'Medicine': 0.012, 'Painting': 0.009, 'Computing': 0.008, 'Geography': 0.006, 'Religion': 0.005}\n",
      "Anthropology\n",
      "{'Literature': 0.313, 'Culture': 0.25, 'Science': 0.211, 'Society': 0.178, 'Biology': 0.151, 'Philosophy': 0.132, 'Nature': 0.131, 'Media': 0.12, 'History': 0.103, 'Earth': 0.097, 'Internet': 0.096, 'Exercise': 0.096, 'Technology': 0.092, 'Life': 0.088, 'Language': 0.081, 'Logic': 0.055, 'Engineering': 0.054, 'War': 0.053, 'Medicine': 0.051, 'Health': 0.038, 'Art': 0.037, 'Education': 0.035, 'Religion': 0.031, 'Fitness': 0.03, 'Mathematics': 0.03, 'Theatre': 0.026, 'Sculpture': 0.023, 'Statistics': 0.023, 'Belief': 0.02, 'Film': 0.019, 'Geography': 0.018, 'Food': 0.017, 'Painting': 0.017, 'Architecture': 0.016, 'Music': 0.015, 'Computing': 0.013, 'Electronics': 0.012, 'Recreation': 0.01, 'Crime': 0.009, 'Sport': 0.008, 'Dance': 0.006, 'Games': 0.005}\n",
      "Agricultural science\n",
      "{'Technology': 0.445, 'Science': 0.293, 'Engineering': 0.233, 'Biology': 0.23, 'Nature': 0.122, 'Internet': 0.101, 'Earth': 0.087, 'Life': 0.081, 'Mathematics': 0.074, 'Literature': 0.059, 'Education': 0.058, 'Food': 0.057, 'Logic': 0.056, 'Theatre': 0.054, 'Society': 0.053, 'Art': 0.05, 'Computing': 0.043, 'Culture': 0.037, 'Exercise': 0.032, 'Media': 0.027, 'Philosophy': 0.024, 'Architecture': 0.023, 'Fitness': 0.02, 'History': 0.013, 'Crime': 0.011, 'War': 0.011, 'Health': 0.009, 'Geography': 0.007, 'Statistics': 0.007, 'Language': 0.006, 'Film': 0.006, 'Medicine': 0.005, 'Belief': 0.005, 'Games': 0.004, 'Sport': 0.004, 'Recreation': 0.003, 'Painting': 0.002, 'Sculpture': 0.002}\n",
      "Alchemy\n",
      "{'Literature': 0.337, 'Exercise': 0.223, 'Nature': 0.173, 'Philosophy': 0.146, 'Technology': 0.123, 'Science': 0.116, 'Medicine': 0.115, 'History': 0.109, 'Culture': 0.097, 'Religion': 0.081, 'Biology': 0.076, 'Life': 0.073, 'Engineering': 0.072, 'Language': 0.068, 'Media': 0.065, 'Logic': 0.064, 'Art': 0.048, 'Internet': 0.044, 'Earth': 0.044, 'Belief': 0.044, 'Society': 0.042, 'Theatre': 0.04, 'Painting': 0.033, 'Education': 0.028, 'Mathematics': 0.028, 'Music': 0.026, 'Health': 0.024, 'Sculpture': 0.022, 'Games': 0.022, 'Statistics': 0.018, 'Computing': 0.018, 'Sport': 0.017, 'Fitness': 0.017, 'Film': 0.015, 'Architecture': 0.013, 'Recreation': 0.013, 'Electronics': 0.011, 'War': 0.008, 'Dance': 0.006, 'Food': 0.003, 'Geography': 0.003, 'Crime': 0.003, 'Transport': 0.002}\n",
      "Alien\n",
      "{'Film': 0.307, 'Music': 0.281, 'Dance': 0.088, 'Engineering': 0.078, 'Technology': 0.074, 'Life': 0.061, 'Literature': 0.056, 'Games': 0.048, 'Science': 0.042, 'Society': 0.041, 'Biology': 0.04, 'Computing': 0.035, 'Media': 0.032, 'Exercise': 0.02, 'War': 0.015, 'Transport': 0.015, 'Theatre': 0.014, 'Earth': 0.014, 'Logic': 0.014, 'Recreation': 0.013, 'Nature': 0.013, 'Culture': 0.011, 'Mathematics': 0.01, 'History': 0.008, 'Art': 0.007, 'Architecture': 0.007, 'Sport': 0.007, 'Crime': 0.007, 'Religion': 0.007, 'Internet': 0.005, 'Painting': 0.004, 'Sculpture': 0.004, 'Medicine': 0.004}\n",
      "Astronomer\n",
      "{'Science': 0.247, 'Internet': 0.13, 'Exercise': 0.119, 'Society': 0.118, 'Technology': 0.092, 'Life': 0.089, 'Literature': 0.075, 'Education': 0.074, 'Statistics': 0.071, 'Fitness': 0.06, 'History': 0.057, 'Nature': 0.049, 'Biology': 0.043, 'Earth': 0.036, 'Engineering': 0.036, 'Logic': 0.031, 'Computing': 0.029, 'Media': 0.025, 'Philosophy': 0.023, 'Film': 0.02, 'Geography': 0.018, 'Medicine': 0.017, 'Architecture': 0.016, 'Mathematics': 0.015, 'Recreation': 0.014, 'Religion': 0.013, 'Culture': 0.01, 'Dance': 0.008, 'Health': 0.008, 'Belief': 0.008, 'Electronics': 0.007, 'Crime': 0.006, 'Music': 0.005, 'War': 0.005}\n",
      "ASCII\n",
      "{'Culture': 0.197, 'Internet': 0.096, 'Exercise': 0.046, 'Computing': 0.044, 'Statistics': 0.036, 'Logic': 0.034, 'Literature': 0.031, 'Technology': 0.027, 'Media': 0.022, 'Society': 0.016, 'Electronics': 0.016, 'Engineering': 0.016, 'Language': 0.014, 'Transport': 0.014, 'Architecture': 0.01, 'History': 0.01, 'Nature': 0.009, 'Art': 0.006, 'Science': 0.004, 'Philosophy': 0.004, 'Games': 0.003, 'Life': 0.003, 'War': 0.003, 'Film': 0.002, 'Sculpture': 0.002, 'Sport': 0.002, 'Geography': 0.002, 'Earth': 0.002, 'Mathematics': 0.002, 'Biology': 0.002, 'Belief': 0.002, 'Dance': 0.001, 'Theatre': 0.001, 'Painting': 0.001, 'Health': 0.001}\n",
      "Austin (disambiguation)\n",
      "{'Nature': 0.137, 'Architecture': 0.136, 'Geography': 0.136, 'Society': 0.121, 'Art': 0.062, 'Transport': 0.049, 'Logic': 0.046, 'Media': 0.043, 'War': 0.041, 'Engineering': 0.038, 'Food': 0.025, 'Religion': 0.024, 'Biology': 0.022, 'Film': 0.019, 'Computing': 0.016, 'Theatre': 0.015, 'Sculpture': 0.015, 'Painting': 0.014, 'Music': 0.013}\n",
      "Animation\n",
      "{'Life': 0.193, 'Film': 0.161, 'Literature': 0.083, 'Internet': 0.066, 'Technology': 0.063, 'Computing': 0.061, 'Exercise': 0.05, 'Art': 0.043, 'Media': 0.035, 'Painting': 0.031, 'Sculpture': 0.031, 'History': 0.027, 'Culture': 0.026, 'Theatre': 0.025, 'Nature': 0.021, 'Statistics': 0.02, 'Engineering': 0.02, 'Sport': 0.019, 'Earth': 0.012, 'Biology': 0.011, 'Music': 0.01, 'Electronics': 0.01, 'Society': 0.009, 'War': 0.007, 'Philosophy': 0.007, 'Architecture': 0.006, 'Games': 0.006, 'Education': 0.006, 'Science': 0.006, 'Dance': 0.005, 'Logic': 0.005, 'Language': 0.004, 'Fitness': 0.004, 'Recreation': 0.002, 'Geography': 0.002, 'Food': 0.001, 'Health': 0.001, 'Medicine': 0.001, 'Transport': 0.001, 'Mathematics': 0.001, 'Belief': 0.001}\n",
      "Apollo\n",
      "{'Sculpture': 0.154, 'Literature': 0.144, 'Music': 0.138, 'War': 0.129, 'Art': 0.123, 'Nature': 0.122, 'Religion': 0.119, 'Internet': 0.116, 'Life': 0.114, 'History': 0.104, 'Culture': 0.099, 'Exercise': 0.092, 'Theatre': 0.091, 'Architecture': 0.09, 'Games': 0.089, 'Health': 0.085, 'Statistics': 0.079, 'Dance': 0.075, 'Society': 0.072, 'Education': 0.066, 'Earth': 0.065, 'Philosophy': 0.063, 'Painting': 0.059, 'Belief': 0.059, 'Medicine': 0.057, 'Logic': 0.046, 'Media': 0.043, 'Film': 0.039, 'Science': 0.039, 'Language': 0.037, 'Transport': 0.037, 'Engineering': 0.037, 'Geography': 0.036, 'Sport': 0.035, 'Fitness': 0.034, 'Mathematics': 0.028, 'Crime': 0.024, 'Biology': 0.02, 'Electronics': 0.015, 'Technology': 0.007, 'Computing': 0.007, 'Recreation': 0.005, 'Food': 0.002}\n",
      "Andre Agassi\n",
      "{'Internet': 0.19, 'Games': 0.13, 'Culture': 0.085, 'Media': 0.073, 'History': 0.071, 'Sport': 0.069, 'Life': 0.055, 'Literature': 0.053, 'Society': 0.045, 'Exercise': 0.044, 'Education': 0.022, 'Fitness': 0.019, 'Statistics': 0.018, 'Electronics': 0.018, 'Nature': 0.015, 'Recreation': 0.012, 'Philosophy': 0.012, 'Earth': 0.011, 'Biology': 0.01, 'Food': 0.009, 'Health': 0.009, 'Film': 0.008, 'Architecture': 0.008, 'Medicine': 0.007, 'Painting': 0.006, 'War': 0.006, 'Transport': 0.006, 'Belief': 0.006, 'Sculpture': 0.005, 'Engineering': 0.004, 'Music': 0.003, 'Theatre': 0.003, 'Crime': 0.003, 'Logic': 0.003, 'Language': 0.002, 'Geography': 0.002, 'Science': 0.002, 'Technology': 0.002, 'Dance': 0.001, 'Religion': 0.001, 'Computing': 0.001}\n"
     ]
    }
   ],
   "source": [
    "for art in articles_test:\n",
    "    art['text_sims'] = tfdif_test_cosine([' '.join(art.get('text_tokens'))], vectorizer_datamuse, trained_model_datamuse)\n",
    "    art['text_sims'] = {k: v for k, v in sorted(art.get('text_sims').items(), key = lambda item: item[1], reverse=True)}\n",
    "    print(art.get('title'))\n",
    "    print(art.get('text_sims'))"
   ]
  },
  {
   "cell_type": "markdown",
   "metadata": {},
   "source": [
    "### Kosinusova podobnost s  s testovacimi clankami - WIKI clanky TFIDF"
   ]
  },
  {
   "cell_type": "markdown",
   "metadata": {},
   "source": [
    "### Anchor text - kosinusova podobnost"
   ]
  },
  {
   "cell_type": "code",
   "execution_count": 199,
   "metadata": {},
   "outputs": [
    {
     "name": "stdout",
     "output_type": "stream",
     "text": [
      "Anarchism\n",
      "{'Biology': 0.04, 'Earth': 0.039, 'Belief': 0.035, 'History': 0.033, 'Medicine': 0.03, 'Statistics': 0.029, 'Language': 0.027, 'Film': 0.025, 'Health': 0.021, 'Fitness': 0.021, 'War': 0.019, 'Culture': 0.016, 'Media': 0.016, 'Life': 0.016, 'Science': 0.016, 'Technology': 0.015, 'Religion': 0.014, 'Internet': 0.013, 'Sport': 0.012, 'Education': 0.012, 'Logic': 0.012, 'Dance': 0.011, 'Painting': 0.011, 'Sculpture': 0.011, 'Geography': 0.011, 'Exercise': 0.011, 'Crime': 0.011, 'Literature': 0.01, 'Theatre': 0.01, 'Games': 0.01, 'Philosophy': 0.01, 'Engineering': 0.01, 'Transport': 0.009, 'Nature': 0.009, 'Society': 0.009, 'Food': 0.008, 'Recreation': 0.007, 'Computing': 0.007, 'Electronics': 0.007, 'Art': 0.005, 'Music': 0.005, 'Mathematics': 0.005}\n",
      "Autism\n",
      "{'Media': 0.105, 'Crime': 0.059, 'Sculpture': 0.04, 'Logic': 0.04, 'Health': 0.037, 'Belief': 0.036, 'Culture': 0.035, 'Theatre': 0.035, 'Mathematics': 0.033, 'Film': 0.028, 'Fitness': 0.026, 'War': 0.025, 'Games': 0.024, 'History': 0.024, 'Earth': 0.021, 'Recreation': 0.02, 'Life': 0.02, 'Medicine': 0.02, 'Statistics': 0.019, 'Philosophy': 0.019, 'Biology': 0.018, 'Literature': 0.017, 'Dance': 0.017, 'Sport': 0.017, 'Geography': 0.017, 'Computing': 0.017, 'Language': 0.016, 'Music': 0.015, 'Internet': 0.015, 'Science': 0.015, 'Society': 0.015, 'Technology': 0.015, 'Engineering': 0.015, 'Food': 0.014, 'Exercise': 0.014, 'Transport': 0.014, 'Painting': 0.013, 'Nature': 0.013, 'Religion': 0.013, 'Art': 0.012, 'Electronics': 0.012, 'Education': 0.006}\n",
      "Albedo\n",
      "{'Religion': 0.058, 'Internet': 0.037, 'Art': 0.034, 'Fitness': 0.018, 'Food': 0.017, 'Music': 0.016, 'Games': 0.014, 'Nature': 0.014, 'Belief': 0.013, 'Logic': 0.012, 'Sport': 0.01, 'Life': 0.01, 'Language': 0.009, 'Film': 0.009, 'Sculpture': 0.009, 'Dance': 0.008, 'Painting': 0.007, 'Media': 0.007, 'Geography': 0.007, 'Exercise': 0.007, 'History': 0.007, 'Statistics': 0.007, 'Biology': 0.007, 'Computing': 0.007, 'Theatre': 0.006, 'Crime': 0.006, 'War': 0.006, 'Culture': 0.005, 'Earth': 0.005, 'Health': 0.005, 'Medicine': 0.005, 'Education': 0.005, 'Science': 0.005, 'Society': 0.005, 'Transport': 0.004, 'Mathematics': 0.004, 'Technology': 0.004, 'Literature': 0.003, 'Philosophy': 0.003, 'Engineering': 0.003, 'Recreation': 0.002, 'Electronics': 0.002}\n",
      "A\n",
      "{'Sculpture': 0.099, 'Philosophy': 0.041, 'Statistics': 0.035, 'Art': 0.033, 'Culture': 0.032, 'Fitness': 0.03, 'Sport': 0.029, 'Logic': 0.029, 'Engineering': 0.028, 'Earth': 0.027, 'Film': 0.026, 'Dance': 0.025, 'Media': 0.025, 'Medicine': 0.025, 'Biology': 0.025, 'Games': 0.024, 'Exercise': 0.024, 'Life': 0.023, 'Mathematics': 0.023, 'Language': 0.022, 'Painting': 0.022, 'Internet': 0.022, 'Geography': 0.022, 'Belief': 0.022, 'Technology': 0.022, 'Food': 0.019, 'Literature': 0.018, 'Health': 0.018, 'Science': 0.018, 'Electronics': 0.018, 'Theatre': 0.017, 'Society': 0.017, 'Recreation': 0.016, 'War': 0.016, 'Music': 0.015, 'Crime': 0.015, 'History': 0.013, 'Nature': 0.012, 'Religion': 0.009, 'Computing': 0.009, 'Education': 0.008, 'Transport': 0.001}\n",
      "Alabama\n",
      "{'Painting': 0.032, 'Crime': 0.032, 'Language': 0.029, 'Sculpture': 0.027, 'Medicine': 0.027, 'Belief': 0.027, 'Internet': 0.026, 'History': 0.026, 'Computing': 0.026, 'Health': 0.025, 'Film': 0.024, 'Exercise': 0.024, 'Media': 0.023, 'Statistics': 0.023, 'Nature': 0.023, 'Technology': 0.022, 'Geography': 0.02, 'Earth': 0.02, 'Fitness': 0.02, 'Life': 0.019, 'Mathematics': 0.019, 'Biology': 0.019, 'Religion': 0.017, 'Culture': 0.016, 'Art': 0.016, 'Dance': 0.016, 'Music': 0.015, 'Theatre': 0.015, 'War': 0.015, 'Logic': 0.015, 'Philosophy': 0.015, 'Games': 0.014, 'Science': 0.014, 'Electronics': 0.014, 'Sport': 0.013, 'Education': 0.013, 'Literature': 0.012, 'Recreation': 0.011, 'Society': 0.011, 'Transport': 0.01, 'Engineering': 0.01, 'Food': 0.009}\n",
      "Achilles\n",
      "{'Computing': 0.124, 'Philosophy': 0.078, 'Science': 0.071, 'Statistics': 0.057, 'Exercise': 0.043, 'Society': 0.038, 'Sculpture': 0.037, 'Religion': 0.034, 'Culture': 0.033, 'Internet': 0.03, 'Earth': 0.026, 'Fitness': 0.021, 'Geography': 0.02, 'Technology': 0.02, 'Biology': 0.019, 'Media': 0.018, 'Logic': 0.017, 'Language': 0.015, 'Dance': 0.015, 'Games': 0.014, 'Recreation': 0.014, 'Education': 0.014, 'Engineering': 0.014, 'Sport': 0.013, 'Life': 0.013, 'Literature': 0.012, 'Electronics': 0.012, 'Art': 0.011, 'Medicine': 0.011, 'Belief': 0.011, 'Film': 0.01, 'War': 0.01, 'History': 0.009, 'Food': 0.008, 'Nature': 0.008, 'Theatre': 0.007, 'Painting': 0.007, 'Health': 0.007, 'Crime': 0.007, 'Music': 0.006, 'Transport': 0.004, 'Mathematics': 0.004}\n",
      "Abraham Lincoln\n",
      "{'Medicine': 0.088, 'Language': 0.065, 'Statistics': 0.057, 'History': 0.046, 'Fitness': 0.043, 'Belief': 0.041, 'Earth': 0.039, 'Media': 0.038, 'Exercise': 0.036, 'Biology': 0.035, 'Film': 0.034, 'Painting': 0.033, 'Technology': 0.033, 'Sculpture': 0.032, 'Literature': 0.031, 'War': 0.031, 'Life': 0.03, 'Culture': 0.028, 'Dance': 0.028, 'Mathematics': 0.027, 'Logic': 0.027, 'Philosophy': 0.027, 'Nature': 0.026, 'Games': 0.025, 'Geography': 0.025, 'Computing': 0.025, 'Internet': 0.024, 'Crime': 0.024, 'Religion': 0.024, 'Society': 0.024, 'Art': 0.023, 'Science': 0.023, 'Engineering': 0.023, 'Recreation': 0.022, 'Electronics': 0.022, 'Theatre': 0.021, 'Health': 0.021, 'Music': 0.02, 'Education': 0.02, 'Transport': 0.02, 'Sport': 0.019, 'Food': 0.016}\n",
      "Aristotle\n",
      "{'Engineering': 0.107, 'Logic': 0.089, 'Fitness': 0.079, 'Biology': 0.076, 'Exercise': 0.072, 'Internet': 0.071, 'Games': 0.067, 'Art': 0.061, 'Culture': 0.054, 'Philosophy': 0.052, 'Sport': 0.049, 'Science': 0.047, 'Statistics': 0.046, 'Society': 0.046, 'Religion': 0.041, 'Dance': 0.04, 'Sculpture': 0.038, 'Recreation': 0.037, 'Life': 0.036, 'Language': 0.035, 'Film': 0.035, 'Media': 0.035, 'Belief': 0.035, 'Earth': 0.034, 'Mathematics': 0.034, 'Technology': 0.034, 'War': 0.033, 'Computing': 0.033, 'Medicine': 0.032, 'History': 0.032, 'Geography': 0.028, 'Transport': 0.028, 'Nature': 0.028, 'Literature': 0.027, 'Health': 0.026, 'Crime': 0.025, 'Music': 0.024, 'Theatre': 0.023, 'Electronics': 0.023, 'Food': 0.022, 'Painting': 0.019, 'Architecture': 0.015, 'Education': 0.012}\n",
      "An American in Paris\n",
      "{'Recreation': 0.142, 'Computing': 0.059, 'Literature': 0.028, 'Fitness': 0.023, 'Nature': 0.018, 'Society': 0.016, 'Science': 0.015, 'Philosophy': 0.014, 'Belief': 0.014, 'Statistics': 0.013, 'Technology': 0.012, 'Culture': 0.011, 'Exercise': 0.011, 'Biology': 0.011, 'Dance': 0.009, 'Geography': 0.009, 'Religion': 0.009, 'Earth': 0.008, 'Life': 0.008, 'Engineering': 0.008, 'Food': 0.007, 'Language': 0.007, 'Sport': 0.007, 'Media': 0.007, 'Sculpture': 0.006, 'Internet': 0.006, 'Logic': 0.006, 'Film': 0.005, 'Painting': 0.005, 'Crime': 0.005, 'War': 0.005, 'Art': 0.004, 'Games': 0.004, 'Health': 0.004, 'Medicine': 0.004, 'History': 0.004, 'Theatre': 0.003, 'Education': 0.003, 'Mathematics': 0.003, 'Electronics': 0.003, 'Music': 0.002, 'Transport': 0.002}\n",
      "Academy Award for Best Production Design\n",
      "{'Computing': 0.736, 'Culture': 0.069, 'Science': 0.039, 'Exercise': 0.038, 'Philosophy': 0.038, 'Education': 0.029, 'Society': 0.028, 'Belief': 0.022, 'Recreation': 0.021, 'Biology': 0.02, 'Fitness': 0.019, 'Technology': 0.018, 'Medicine': 0.017, 'Statistics': 0.017, 'Dance': 0.016, 'Film': 0.015, 'Sport': 0.014, 'Life': 0.014, 'Language': 0.013, 'Literature': 0.013, 'Geography': 0.013, 'Religion': 0.013, 'Art': 0.012, 'Games': 0.012, 'Media': 0.012, 'Earth': 0.012, 'Logic': 0.012, 'Internet': 0.011, 'History': 0.011, 'Painting': 0.01, 'Nature': 0.01, 'Food': 0.009, 'Theatre': 0.009, 'Electronics': 0.009, 'Sculpture': 0.008, 'Health': 0.008, 'War': 0.008, 'Engineering': 0.008, 'Music': 0.007, 'Crime': 0.006, 'Mathematics': 0.005, 'Transport': 0.003}\n",
      "Academy Awards\n",
      "{'Computing': 0.211, 'Society': 0.064, 'Philosophy': 0.05, 'Recreation': 0.031, 'Fitness': 0.03, 'Literature': 0.027, 'Education': 0.021, 'Dance': 0.02, 'Biology': 0.019, 'Sport': 0.018, 'Film': 0.016, 'History': 0.016, 'Statistics': 0.015, 'Belief': 0.015, 'Geography': 0.013, 'Exercise': 0.012, 'Science': 0.012, 'Religion': 0.012, 'Culture': 0.011, 'Painting': 0.011, 'Sculpture': 0.011, 'Games': 0.011, 'Internet': 0.011, 'Life': 0.011, 'Technology': 0.011, 'Media': 0.01, 'Medicine': 0.01, 'Logic': 0.01, 'Theatre': 0.009, 'Earth': 0.009, 'Language': 0.008, 'Art': 0.008, 'Music': 0.008, 'War': 0.008, 'Nature': 0.008, 'Electronics': 0.008, 'Food': 0.007, 'Health': 0.007, 'Crime': 0.006, 'Mathematics': 0.006, 'Engineering': 0.005, 'Transport': 0.003}\n",
      "Actrius\n",
      "{'Sculpture': 0.17, 'Dance': 0.021, 'Life': 0.02, 'Philosophy': 0.019, 'Technology': 0.019, 'Food': 0.016, 'History': 0.015, 'Engineering': 0.014, 'Statistics': 0.013, 'Nature': 0.013, 'Belief': 0.013, 'Science': 0.012, 'Religion': 0.011, 'Culture': 0.01, 'Painting': 0.01, 'Media': 0.01, 'Film': 0.009, 'Games': 0.008, 'Earth': 0.008, 'Electronics': 0.008, 'Fitness': 0.007, 'Exercise': 0.007, 'Language': 0.006, 'Geography': 0.006, 'Logic': 0.006, 'Biology': 0.006, 'Computing': 0.006, 'Art': 0.005, 'Sport': 0.005, 'Recreation': 0.005, 'Internet': 0.005, 'Medicine': 0.005, 'Society': 0.005, 'Literature': 0.004, 'Music': 0.003, 'Theatre': 0.003, 'Mathematics': 0.003, 'Health': 0.002, 'Crime': 0.002, 'War': 0.001}\n",
      "Animalia (book)\n",
      "{'Philosophy': 0.089, 'Biology': 0.031, 'Culture': 0.028, 'Fitness': 0.028, 'Society': 0.024, 'Film': 0.021, 'Life': 0.021, 'Logic': 0.021, 'Medicine': 0.02, 'Music': 0.019, 'Statistics': 0.019, 'Belief': 0.019, 'Computing': 0.019, 'Earth': 0.018, 'Sculpture': 0.017, 'Sport': 0.017, 'Dance': 0.016, 'Religion': 0.016, 'Painting': 0.015, 'Games': 0.015, 'Education': 0.015, 'Geography': 0.013, 'War': 0.013, 'Internet': 0.012, 'Science': 0.012, 'Electronics': 0.012, 'Food': 0.01, 'Literature': 0.01, 'Health': 0.01, 'Crime': 0.01, 'Engineering': 0.01, 'Media': 0.009, 'History': 0.009, 'Art': 0.007, 'Theatre': 0.007, 'Recreation': 0.007, 'Exercise': 0.007, 'Mathematics': 0.007, 'Language': 0.006, 'Nature': 0.006, 'Technology': 0.005}\n",
      "International Atomic Time\n",
      "{'Life': 0.045, 'Games': 0.03, 'Fitness': 0.029, 'Media': 0.027, 'Food': 0.025, 'Painting': 0.025, 'Religion': 0.025, 'Internet': 0.024, 'Health': 0.024, 'Dance': 0.023, 'Geography': 0.022, 'Film': 0.021, 'Philosophy': 0.021, 'Art': 0.02, 'Sport': 0.02, 'Mathematics': 0.02, 'Belief': 0.02, 'History': 0.018, 'Biology': 0.018, 'Music': 0.017, 'Medicine': 0.017, 'Crime': 0.016, 'Electronics': 0.016, 'Logic': 0.015, 'Statistics': 0.015, 'Technology': 0.015, 'Language': 0.014, 'Theatre': 0.014, 'Earth': 0.013, 'Nature': 0.013, 'Culture': 0.012, 'Transport': 0.012, 'Literature': 0.011, 'War': 0.011, 'Sculpture': 0.01, 'Recreation': 0.01, 'Science': 0.01, 'Society': 0.01, 'Engineering': 0.01, 'Education': 0.009, 'Computing': 0.009, 'Exercise': 0.008}\n",
      "Altruism\n",
      "{'Logic': 0.073, 'Biology': 0.071, 'Transport': 0.066, 'Fitness': 0.045, 'Architecture': 0.041, 'Media': 0.041, 'Earth': 0.036, 'Games': 0.032, 'History': 0.032, 'Belief': 0.029, 'Internet': 0.028, 'Crime': 0.026, 'Language': 0.024, 'Dance': 0.023, 'Geography': 0.023, 'Life': 0.023, 'Sport': 0.022, 'Medicine': 0.022, 'Mathematics': 0.022, 'War': 0.021, 'Film': 0.02, 'Statistics': 0.018, 'Culture': 0.017, 'Food': 0.017, 'Electronics': 0.017, 'Engineering': 0.017, 'Painting': 0.016, 'Health': 0.016, 'Music': 0.015, 'Religion': 0.015, 'Philosophy': 0.014, 'Sculpture': 0.013, 'Nature': 0.012, 'Theatre': 0.011, 'Science': 0.011, 'Art': 0.01, 'Technology': 0.01, 'Recreation': 0.009, 'Exercise': 0.008, 'Computing': 0.008, 'Literature': 0.007, 'Society': 0.007, 'Education': 0.005}\n",
      "Ayn Rand\n",
      "{'Computing': 0.164, 'Philosophy': 0.107, 'Society': 0.075, 'Statistics': 0.056, 'Biology': 0.052, 'Language': 0.047, 'Earth': 0.043, 'Fitness': 0.042, 'Belief': 0.039, 'History': 0.038, 'Sculpture': 0.035, 'Media': 0.033, 'Culture': 0.032, 'Film': 0.032, 'Medicine': 0.032, 'War': 0.027, 'Geography': 0.026, 'Logic': 0.026, 'Religion': 0.026, 'Life': 0.025, 'Internet': 0.024, 'Art': 0.022, 'Dance': 0.022, 'Painting': 0.021, 'Games': 0.021, 'Exercise': 0.02, 'Technology': 0.02, 'Engineering': 0.02, 'Recreation': 0.019, 'Crime': 0.019, 'Transport': 0.019, 'Health': 0.017, 'Food': 0.016, 'Literature': 0.016, 'Theatre': 0.016, 'Sport': 0.016, 'Nature': 0.016, 'Science': 0.015, 'Electronics': 0.013, 'Music': 0.012, 'Education': 0.012, 'Mathematics': 0.012}\n",
      "Alain Connes\n",
      "{'Sport': 0.08, 'Fitness': 0.077, 'Sculpture': 0.044, 'Food': 0.025, 'Religion': 0.024, 'Dance': 0.022, 'Film': 0.02, 'Logic': 0.02, 'Media': 0.017, 'Life': 0.016, 'Statistics': 0.016, 'Biology': 0.016, 'Health': 0.014, 'Engineering': 0.014, 'Medicine': 0.012, 'Games': 0.011, 'Internet': 0.011, 'History': 0.011, 'Transport': 0.011, 'Belief': 0.011, 'Geography': 0.01, 'Crime': 0.01, 'Culture': 0.009, 'Art': 0.009, 'Earth': 0.009, 'Philosophy': 0.009, 'Language': 0.008, 'Nature': 0.008, 'Education': 0.007, 'Technology': 0.007, 'Music': 0.006, 'Theatre': 0.006, 'Painting': 0.006, 'War': 0.006, 'Literature': 0.005, 'Recreation': 0.004, 'Mathematics': 0.004, 'Science': 0.004, 'Society': 0.004, 'Computing': 0.004, 'Electronics': 0.004, 'Exercise': 0.003}\n",
      "Allan Dwan\n",
      "{'Computing': 0.713, 'Education': 0.044, 'Philosophy': 0.021, 'Society': 0.016, 'Medicine': 0.014, 'Biology': 0.014, 'Exercise': 0.013, 'Life': 0.013, 'Statistics': 0.013, 'Belief': 0.013, 'Internet': 0.012, 'Culture': 0.011, 'History': 0.011, 'Crime': 0.011, 'Painting': 0.01, 'Health': 0.01, 'Science': 0.01, 'Language': 0.009, 'Film': 0.009, 'Music': 0.009, 'Games': 0.009, 'Fitness': 0.009, 'Electronics': 0.009, 'Theatre': 0.008, 'Recreation': 0.008, 'Media': 0.008, 'Earth': 0.008, 'Nature': 0.008, 'Technology': 0.008, 'Sculpture': 0.007, 'Logic': 0.007, 'Religion': 0.007, 'Food': 0.006, 'Art': 0.006, 'Dance': 0.006, 'Geography': 0.006, 'Literature': 0.005, 'Sport': 0.005, 'War': 0.005, 'Engineering': 0.004, 'Mathematics': 0.003, 'Transport': 0.002}\n",
      "Algeria\n",
      "{'Education': 0.064, 'Sculpture': 0.048, 'Medicine': 0.046, 'Statistics': 0.032, 'Earth': 0.031, 'Recreation': 0.03, 'Computing': 0.029, 'Film': 0.025, 'History': 0.025, 'Internet': 0.024, 'Exercise': 0.024, 'Religion': 0.024, 'Media': 0.023, 'Fitness': 0.023, 'Belief': 0.023, 'Biology': 0.022, 'Electronics': 0.022, 'Language': 0.02, 'Painting': 0.018, 'War': 0.018, 'Nature': 0.018, 'Dance': 0.017, 'Health': 0.017, 'Life': 0.017, 'Philosophy': 0.017, 'Technology': 0.017, 'Crime': 0.016, 'Sport': 0.015, 'Geography': 0.015, 'Science': 0.015, 'Society': 0.015, 'Culture': 0.014, 'Theatre': 0.014, 'Games': 0.014, 'Logic': 0.014, 'Literature': 0.013, 'Art': 0.011, 'Engineering': 0.011, 'Food': 0.01, 'Mathematics': 0.01, 'Music': 0.007, 'Transport': 0.001}\n",
      "List of Atlas Shrugged characters\n",
      "{'Exercise': 0.032, 'Biology': 0.019, 'Media': 0.016, 'Language': 0.015, 'Fitness': 0.011, 'Earth': 0.01, 'Philosophy': 0.01, 'Technology': 0.01, 'Film': 0.009, 'Medicine': 0.009, 'Science': 0.009, 'Life': 0.008, 'History': 0.008, 'Logic': 0.008, 'Statistics': 0.008, 'Religion': 0.008, 'Belief': 0.008, 'Society': 0.008, 'Computing': 0.008, 'Sculpture': 0.007, 'Games': 0.007, 'Geography': 0.007, 'War': 0.007, 'Transport': 0.007, 'Culture': 0.006, 'Literature': 0.006, 'Art': 0.006, 'Dance': 0.006, 'Painting': 0.006, 'Crime': 0.006, 'Electronics': 0.006, 'Sport': 0.005, 'Recreation': 0.005, 'Internet': 0.005, 'Health': 0.005, 'Nature': 0.004, 'Music': 0.003, 'Theatre': 0.003, 'Mathematics': 0.003, 'Education': 0.002, 'Engineering': 0.002, 'Food': 0.001}\n",
      "Anthropology\n",
      "{'Belief': 0.242, 'History': 0.126, 'Statistics': 0.103, 'Logic': 0.098, 'Sculpture': 0.073, 'Fitness': 0.063, 'Earth': 0.059, 'Life': 0.057, 'Religion': 0.05, 'Medicine': 0.047, 'Philosophy': 0.047, 'Media': 0.046, 'Culture': 0.04, 'Engineering': 0.04, 'Education': 0.039, 'Biology': 0.039, 'Internet': 0.038, 'Film': 0.037, 'Games': 0.037, 'Exercise': 0.035, 'Theatre': 0.033, 'Dance': 0.032, 'Recreation': 0.032, 'Crime': 0.032, 'Mathematics': 0.032, 'Sport': 0.03, 'Technology': 0.03, 'Language': 0.029, 'Geography': 0.029, 'Literature': 0.026, 'Food': 0.025, 'War': 0.025, 'Health': 0.023, 'Society': 0.023, 'Transport': 0.022, 'Science': 0.022, 'Art': 0.021, 'Painting': 0.019, 'Electronics': 0.019, 'Computing': 0.018, 'Music': 0.017, 'Nature': 0.014}\n",
      "Agricultural science\n",
      "{'Theatre': 0.174, 'Health': 0.129, 'Earth': 0.106, 'History': 0.079, 'Media': 0.07, 'Fitness': 0.064, 'Statistics': 0.049, 'Film': 0.034, 'Biology': 0.032, 'Logic': 0.03, 'Dance': 0.029, 'Internet': 0.027, 'Sport': 0.026, 'War': 0.025, 'Belief': 0.025, 'Life': 0.024, 'Religion': 0.024, 'Food': 0.022, 'Crime': 0.017, 'Technology': 0.017, 'Philosophy': 0.016, 'Culture': 0.014, 'Games': 0.014, 'Science': 0.014, 'Society': 0.014, 'Painting': 0.013, 'Medicine': 0.013, 'Nature': 0.012, 'Computing': 0.012, 'Language': 0.011, 'Art': 0.011, 'Education': 0.011, 'Music': 0.01, 'Recreation': 0.01, 'Engineering': 0.01, 'Sculpture': 0.009, 'Exercise': 0.008, 'Geography': 0.007, 'Transport': 0.007, 'Mathematics': 0.007, 'Literature': 0.006, 'Electronics': 0.004}\n",
      "Alchemy\n",
      "{'Media': 0.121, 'Fitness': 0.095, 'Statistics': 0.092, 'Biology': 0.077, 'Exercise': 0.062, 'Internet': 0.06, 'Earth': 0.059, 'Sculpture': 0.058, 'Art': 0.054, 'Life': 0.051, 'Religion': 0.051, 'Games': 0.047, 'Dance': 0.044, 'Philosophy': 0.038, 'Sport': 0.032, 'Recreation': 0.032, 'Logic': 0.032, 'Culture': 0.029, 'Science': 0.029, 'Technology': 0.028, 'Engineering': 0.028, 'Society': 0.027, 'Film': 0.026, 'Belief': 0.026, 'Nature': 0.023, 'Medicine': 0.022, 'History': 0.022, 'War': 0.021, 'Literature': 0.02, 'Food': 0.019, 'Geography': 0.019, 'Health': 0.018, 'Music': 0.017, 'Language': 0.016, 'Theatre': 0.016, 'Crime': 0.016, 'Mathematics': 0.016, 'Electronics': 0.015, 'Painting': 0.014, 'Computing': 0.012, 'Education': 0.011, 'Transport': 0.006}\n",
      "Alien\n",
      "{'Computing': 0.097, 'Philosophy': 0.03, 'Exercise': 0.029, 'Games': 0.026, 'Recreation': 0.026, 'Internet': 0.024, 'War': 0.024, 'Architecture': 0.023, 'Mathematics': 0.021, 'Fitness': 0.019, 'Life': 0.019, 'Statistics': 0.019, 'Biology': 0.019, 'Engineering': 0.019, 'Culture': 0.018, 'Belief': 0.018, 'Sculpture': 0.017, 'Sport': 0.017, 'Earth': 0.017, 'Medicine': 0.016, 'Transport': 0.016, 'Geography': 0.015, 'Education': 0.015, 'Science': 0.015, 'Art': 0.014, 'Society': 0.014, 'Electronics': 0.014, 'Language': 0.013, 'Literature': 0.013, 'Dance': 0.013, 'Painting': 0.013, 'Technology': 0.012, 'Music': 0.011, 'Media': 0.01, 'Health': 0.01, 'History': 0.01, 'Crime': 0.009, 'Food': 0.008, 'Film': 0.008, 'Theatre': 0.007, 'Logic': 0.006, 'Nature': 0.006, 'Religion': 0.004}\n",
      "Astronomer\n",
      "{'Fitness': 0.066, 'Biology': 0.051, 'Statistics': 0.046, 'Logic': 0.039, 'Internet': 0.03, 'Media': 0.029, 'Art': 0.026, 'Games': 0.025, 'Religion': 0.022, 'Sport': 0.021, 'Health': 0.02, 'History': 0.019, 'Transport': 0.019, 'Dance': 0.017, 'Food': 0.013, 'Life': 0.013, 'War': 0.013, 'Engineering': 0.013, 'Earth': 0.011, 'Belief': 0.011, 'Culture': 0.01, 'Education': 0.01, 'Technology': 0.01, 'Computing': 0.01, 'Medicine': 0.009, 'Film': 0.008, 'Sculpture': 0.008, 'Recreation': 0.008, 'Crime': 0.006, 'Philosophy': 0.006, 'Language': 0.005, 'Music': 0.005, 'Painting': 0.005, 'Science': 0.005, 'Society': 0.005, 'Exercise': 0.004, 'Nature': 0.004, 'Literature': 0.003, 'Theatre': 0.003, 'Geography': 0.003, 'Mathematics': 0.002, 'Electronics': 0.002}\n",
      "ASCII\n",
      "{'Food': 0.146, 'Sculpture': 0.123, 'Painting': 0.092, 'Dance': 0.083, 'Fitness': 0.079, 'Sport': 0.078, 'Music': 0.077, 'Health': 0.075, 'Art': 0.073, 'Philosophy': 0.072, 'Mathematics': 0.068, 'Culture': 0.067, 'Life': 0.065, 'Biology': 0.065, 'Statistics': 0.064, 'Earth': 0.062, 'Medicine': 0.062, 'Games': 0.061, 'Engineering': 0.058, 'Internet': 0.057, 'Film': 0.056, 'Language': 0.055, 'Belief': 0.054, 'War': 0.051, 'Logic': 0.05, 'Media': 0.049, 'Exercise': 0.049, 'Literature': 0.048, 'Recreation': 0.048, 'Geography': 0.047, 'Crime': 0.047, 'Science': 0.044, 'Technology': 0.044, 'Computing': 0.044, 'Theatre': 0.043, 'Society': 0.043, 'History': 0.042, 'Electronics': 0.04, 'Nature': 0.038, 'Religion': 0.035, 'Transport': 0.024, 'Education': 0.023, 'Architecture': 0.019}\n",
      "Austin (disambiguation)\n",
      "{'Recreation': 0.054, 'Sculpture': 0.049, 'Mathematics': 0.049, 'Philosophy': 0.047, 'Belief': 0.045, 'Fitness': 0.044, 'Statistics': 0.043, 'Biology': 0.042, 'Engineering': 0.042, 'Transport': 0.039, 'Sport': 0.038, 'War': 0.037, 'Culture': 0.036, 'Earth': 0.034, 'Computing': 0.033, 'Art': 0.032, 'Literature': 0.03, 'Music': 0.03, 'Life': 0.03, 'Language': 0.029, 'Games': 0.029, 'Dance': 0.028, 'Medicine': 0.026, 'Society': 0.026, 'Technology': 0.026, 'Exercise': 0.024, 'Science': 0.023, 'Media': 0.021, 'History': 0.021, 'Painting': 0.02, 'Geography': 0.02, 'Health': 0.02, 'Food': 0.019, 'Crime': 0.019, 'Internet': 0.017, 'Film': 0.016, 'Electronics': 0.016, 'Theatre': 0.015, 'Logic': 0.011, 'Nature': 0.009, 'Religion': 0.006}\n",
      "Animation\n",
      "{'Computing': 0.568, 'Exercise': 0.049, 'Food': 0.043, 'Medicine': 0.033, 'Education': 0.033, 'Internet': 0.03, 'Geography': 0.03, 'Science': 0.024, 'Philosophy': 0.023, 'Theatre': 0.021, 'Logic': 0.021, 'History': 0.02, 'Nature': 0.02, 'Culture': 0.019, 'Music': 0.019, 'Life': 0.018, 'Dance': 0.016, 'Painting': 0.016, 'Games': 0.016, 'Media': 0.016, 'Belief': 0.015, 'Biology': 0.014, 'Language': 0.013, 'Art': 0.013, 'Sculpture': 0.013, 'Fitness': 0.013, 'Transport': 0.013, 'Statistics': 0.013, 'Religion': 0.013, 'Society': 0.013, 'Sport': 0.012, 'Recreation': 0.012, 'Health': 0.012, 'Film': 0.011, 'Earth': 0.011, 'Electronics': 0.011, 'War': 0.01, 'Technology': 0.01, 'Engineering': 0.01, 'Literature': 0.009, 'Crime': 0.008, 'Mathematics': 0.008, 'Architecture': 0.004}\n",
      "Apollo\n",
      "{'Earth': 0.064, 'Exercise': 0.048, 'Sculpture': 0.04, 'Religion': 0.032, 'Society': 0.026, 'Culture': 0.024, 'Biology': 0.024, 'Life': 0.022, 'Philosophy': 0.022, 'Belief': 0.022, 'Science': 0.02, 'Fitness': 0.019, 'Art': 0.018, 'Internet': 0.018, 'Technology': 0.016, 'Language': 0.015, 'Media': 0.015, 'War': 0.015, 'Statistics': 0.015, 'Recreation': 0.014, 'Dance': 0.012, 'Sport': 0.012, 'Medicine': 0.012, 'History': 0.011, 'Games': 0.01, 'Education': 0.01, 'Logic': 0.01, 'Engineering': 0.01, 'Electronics': 0.009, 'Literature': 0.007, 'Film': 0.007, 'Geography': 0.007, 'Theatre': 0.006, 'Food': 0.005, 'Music': 0.005, 'Computing': 0.005, 'Health': 0.004, 'Crime': 0.004, 'Mathematics': 0.004, 'Nature': 0.004, 'Painting': 0.003, 'Transport': 0.001}\n",
      "Andre Agassi\n",
      "{'Electronics': 0.064, 'History': 0.024, 'Sculpture': 0.023, 'Culture': 0.019, 'Film': 0.019, 'Painting': 0.019, 'Geography': 0.018, 'Medicine': 0.018, 'Statistics': 0.018, 'Society': 0.018, 'Fitness': 0.017, 'Earth': 0.016, 'Mathematics': 0.016, 'Religion': 0.016, 'Food': 0.015, 'Recreation': 0.014, 'Exercise': 0.014, 'Belief': 0.014, 'Computing': 0.014, 'Language': 0.013, 'Crime': 0.013, 'Biology': 0.013, 'Games': 0.012, 'Internet': 0.012, 'Life': 0.012, 'Philosophy': 0.012, 'Dance': 0.011, 'Sport': 0.011, 'Media': 0.011, 'Art': 0.01, 'Health': 0.01, 'War': 0.01, 'Logic': 0.01, 'Literature': 0.009, 'Music': 0.009, 'Science': 0.009, 'Theatre': 0.008, 'Education': 0.008, 'Nature': 0.007, 'Technology': 0.007, 'Engineering': 0.007, 'Architecture': 0.003, 'Transport': 0.002}\n"
     ]
    }
   ],
   "source": [
    "for art in articles_test:\n",
    "    art['anchor_sims'] = tfdif_test_cosine([' '.join(art.get('anchors_tokens'))], vectorizer_wiki, trained_model_wiki)\n",
    "    art['anchor_sims'] = {k: v for k, v in sorted(art.get('anchor_sims').items(), key = lambda item: item[1], reverse=True)}    \n",
    "    print(art.get('title'))\n",
    "    print(art.get('anchor_sims'))"
   ]
  },
  {
   "cell_type": "markdown",
   "metadata": {},
   "source": [
    "### Kategorie Wiki - kosinusova podobnost"
   ]
  },
  {
   "cell_type": "code",
   "execution_count": 200,
   "metadata": {},
   "outputs": [
    {
     "name": "stdout",
     "output_type": "stream",
     "text": [
      "Anarchism\n",
      "{'History': 0.086, 'Belief': 0.078, 'Statistics': 0.043, 'Medicine': 0.03, 'Culture': 0.025, 'Earth': 0.025, 'Biology': 0.024, 'Fitness': 0.018, 'Language': 0.017, 'Film': 0.017, 'Life': 0.017, 'War': 0.017, 'Science': 0.015, 'Religion': 0.015, 'Literature': 0.014, 'Painting': 0.014, 'Education': 0.014, 'Sculpture': 0.012, 'Society': 0.012, 'Sport': 0.01, 'Philosophy': 0.01, 'Technology': 0.01, 'Health': 0.009, 'Exercise': 0.009, 'Crime': 0.009, 'Electronics': 0.009, 'Dance': 0.008, 'Theatre': 0.008, 'Recreation': 0.008, 'Geography': 0.008, 'Media': 0.007, 'Internet': 0.007, 'Engineering': 0.007, 'Computing': 0.006, 'Logic': 0.005, 'Art': 0.004, 'Mathematics': 0.004, 'Nature': 0.004, 'Music': 0.002, 'Games': 0.002, 'Food': 0.001}\n",
      "Autism\n",
      "{'Media': 0.043, 'Crime': 0.037, 'Sculpture': 0.015, 'Education': 0.015, 'Culture': 0.012, 'Film': 0.011, 'Painting': 0.01, 'War': 0.01, 'Earth': 0.009, 'Logic': 0.009, 'Theatre': 0.008, 'Mathematics': 0.008, 'Recreation': 0.007, 'Geography': 0.007, 'Medicine': 0.007, 'History': 0.007, 'Computing': 0.007, 'Language': 0.005, 'Fitness': 0.005, 'Science': 0.005, 'Philosophy': 0.005, 'Belief': 0.005, 'Literature': 0.004, 'Internet': 0.004, 'Life': 0.004, 'Electronics': 0.004, 'Dance': 0.003, 'Health': 0.003, 'Exercise': 0.003, 'Statistics': 0.003, 'Nature': 0.003, 'Engineering': 0.003, 'Food': 0.002, 'Music': 0.002, 'Sport': 0.002, 'Biology': 0.002, 'Religion': 0.002, 'Society': 0.002, 'Art': 0.001, 'Games': 0.001, 'Technology': 0.001}\n",
      "Albedo\n",
      "{'Internet': 0.052, 'Art': 0.029, 'Nature': 0.024, 'Religion': 0.023, 'Fitness': 0.014, 'History': 0.013, 'Sculpture': 0.011, 'Science': 0.011, 'Food': 0.01, 'Painting': 0.009, 'Language': 0.008, 'Music': 0.008, 'Health': 0.007, 'Exercise': 0.007, 'Mathematics': 0.007, 'Film': 0.006, 'Media': 0.006, 'Medicine': 0.006, 'Logic': 0.006, 'Statistics': 0.006, 'Belief': 0.006, 'Culture': 0.005, 'Theatre': 0.005, 'Sport': 0.005, 'Computing': 0.005, 'Games': 0.004, 'Earth': 0.004, 'Life': 0.004, 'Dance': 0.003, 'Crime': 0.003, 'Recreation': 0.002, 'War': 0.002, 'Biology': 0.002, 'Philosophy': 0.002, 'Society': 0.002, 'Technology': 0.002, 'Engineering': 0.002, 'Literature': 0.001, 'Geography': 0.001, 'Electronics': 0.001}\n",
      "A\n",
      "{'Sculpture': 0.036, 'Food': 0.016, 'Philosophy': 0.012, 'Logic': 0.008, 'Engineering': 0.008, 'Literature': 0.005, 'Film': 0.005, 'Music': 0.005, 'Geography': 0.005, 'Statistics': 0.005, 'Science': 0.005, 'Language': 0.004, 'Sport': 0.004, 'Fitness': 0.004, 'Nature': 0.004, 'Recreation': 0.003, 'Education': 0.003, 'Dance': 0.002, 'Painting': 0.002, 'Games': 0.002, 'Media': 0.002, 'Internet': 0.002, 'Earth': 0.002, 'Life': 0.002, 'History': 0.002, 'Biology': 0.002, 'Culture': 0.001, 'Art': 0.001, 'Theatre': 0.001, 'Health': 0.001, 'Exercise': 0.001, 'Crime': 0.001, 'Religion': 0.001, 'Belief': 0.001, 'Society': 0.001, 'Technology': 0.001}\n",
      "Alabama\n",
      "{'Language': 0.062, 'Transport': 0.033, 'Medicine': 0.029, 'Media': 0.028, 'History': 0.027, 'Film': 0.022, 'Statistics': 0.02, 'Crime': 0.019, 'Painting': 0.017, 'War': 0.017, 'Belief': 0.017, 'Geography': 0.015, 'Earth': 0.015, 'Fitness': 0.015, 'Logic': 0.015, 'Internet': 0.014, 'Religion': 0.014, 'Art': 0.013, 'Dance': 0.013, 'Life': 0.013, 'Technology': 0.013, 'Games': 0.012, 'Theatre': 0.011, 'Nature': 0.011, 'Culture': 0.01, 'Biology': 0.01, 'Literature': 0.009, 'Exercise': 0.009, 'Science': 0.009, 'Computing': 0.009, 'Sculpture': 0.008, 'Recreation': 0.008, 'Electronics': 0.008, 'Philosophy': 0.006, 'Music': 0.005, 'Health': 0.005, 'Education': 0.005, 'Mathematics': 0.005, 'Engineering': 0.004, 'Food': 0.003, 'Sport': 0.003, 'Society': 0.003}\n",
      "Achilles\n",
      "{'Medicine': 0.069, 'Philosophy': 0.065, 'Earth': 0.021, 'Statistics': 0.021, 'Society': 0.02, 'Exercise': 0.016, 'Recreation': 0.011, 'Language': 0.009, 'Fitness': 0.009, 'Science': 0.009, 'Biology': 0.008, 'Religion': 0.008, 'Literature': 0.007, 'Technology': 0.007, 'Culture': 0.006, 'Sport': 0.006, 'History': 0.006, 'War': 0.005, 'Belief': 0.005, 'Computing': 0.005, 'Art': 0.004, 'Media': 0.004, 'Internet': 0.004, 'Life': 0.004, 'Dance': 0.003, 'Film': 0.003, 'Geography': 0.003, 'Logic': 0.003, 'Electronics': 0.003, 'Engineering': 0.003, 'Painting': 0.002, 'Education': 0.002, 'Food': 0.001, 'Theatre': 0.001, 'Sculpture': 0.001, 'Games': 0.001, 'Crime': 0.001, 'Nature': 0.001}\n",
      "Abraham Lincoln\n",
      "{'Medicine': 0.065, 'Language': 0.052, 'History': 0.045, 'Belief': 0.034, 'Fitness': 0.031, 'Statistics': 0.031, 'Earth': 0.029, 'War': 0.029, 'Education': 0.026, 'Crime': 0.026, 'Film': 0.022, 'Biology': 0.02, 'Media': 0.019, 'Exercise': 0.019, 'Painting': 0.018, 'Nature': 0.018, 'Religion': 0.018, 'Literature': 0.016, 'Electronics': 0.016, 'Dance': 0.015, 'Life': 0.015, 'Technology': 0.015, 'Culture': 0.014, 'Geography': 0.014, 'Sculpture': 0.013, 'Computing': 0.013, 'Theatre': 0.012, 'Health': 0.012, 'Logic': 0.012, 'Recreation': 0.011, 'Science': 0.011, 'Society': 0.011, 'Internet': 0.01, 'Transport': 0.01, 'Mathematics': 0.01, 'Philosophy': 0.01, 'Art': 0.009, 'Games': 0.009, 'Sport': 0.007, 'Engineering': 0.007, 'Food': 0.005, 'Music': 0.004}\n",
      "Aristotle\n",
      "{'Biology': 0.214, 'Engineering': 0.128, 'Statistics': 0.088, 'Fitness': 0.087, 'Philosophy': 0.067, 'Belief': 0.059, 'Culture': 0.051, 'War': 0.048, 'Sport': 0.046, 'History': 0.046, 'Film': 0.045, 'Life': 0.041, 'Exercise': 0.038, 'Society': 0.037, 'Earth': 0.034, 'Technology': 0.033, 'Language': 0.032, 'Sculpture': 0.031, 'Media': 0.029, 'Dance': 0.028, 'Science': 0.028, 'Recreation': 0.024, 'Internet': 0.024, 'Religion': 0.024, 'Logic': 0.021, 'Games': 0.019, 'Education': 0.018, 'Literature': 0.016, 'Medicine': 0.016, 'Electronics': 0.016, 'Geography': 0.014, 'Health': 0.013, 'Food': 0.012, 'Music': 0.009, 'Painting': 0.009, 'Computing': 0.008, 'Art': 0.007, 'Crime': 0.007, 'Theatre': 0.006, 'Mathematics': 0.003, 'Nature': 0.003, 'Transport': 0.002}\n",
      "An American in Paris\n",
      "{'Recreation': 0.29, 'Literature': 0.056, 'Philosophy': 0.038, 'Science': 0.036, 'Society': 0.033, 'Geography': 0.02, 'Belief': 0.019, 'Culture': 0.014, 'Fitness': 0.014, 'Computing': 0.014, 'Exercise': 0.013, 'Technology': 0.013, 'Life': 0.01, 'Dance': 0.009, 'Statistics': 0.009, 'Biology': 0.009, 'Painting': 0.008, 'Logic': 0.008, 'Sport': 0.007, 'Earth': 0.007, 'Education': 0.007, 'Games': 0.006, 'History': 0.006, 'Art': 0.005, 'Film': 0.005, 'Media': 0.005, 'Internet': 0.005, 'Religion': 0.005, 'Sculpture': 0.004, 'Health': 0.004, 'War': 0.004, 'Engineering': 0.004, 'Theatre': 0.003, 'Medicine': 0.003, 'Electronics': 0.003, 'Language': 0.002, 'Mathematics': 0.002, 'Nature': 0.002, 'Food': 0.001, 'Music': 0.001, 'Crime': 0.001}\n",
      "Academy Award for Best Production Design\n",
      "{'Culture': 0.142, 'Science': 0.067, 'Exercise': 0.048, 'Philosophy': 0.04, 'Technology': 0.039, 'Dance': 0.033, 'Education': 0.028, 'Society': 0.023, 'Computing': 0.019, 'Fitness': 0.017, 'Literature': 0.016, 'Geography': 0.016, 'Film': 0.014, 'Music': 0.014, 'Sport': 0.014, 'Religion': 0.013, 'Belief': 0.013, 'Recreation': 0.012, 'Statistics': 0.011, 'Biology': 0.011, 'Electronics': 0.01, 'Food': 0.009, 'Theatre': 0.008, 'Health': 0.008, 'Life': 0.008, 'History': 0.008, 'Internet': 0.007, 'Sculpture': 0.006, 'Media': 0.006, 'Painting': 0.005, 'Nature': 0.005, 'Games': 0.004, 'Logic': 0.004, 'Art': 0.003, 'Earth': 0.003, 'Medicine': 0.003, 'Language': 0.002, 'War': 0.002, 'Crime': 0.001, 'Mathematics': 0.001, 'Engineering': 0.001}\n",
      "Academy Awards\n",
      "{'Computing': 0.144, 'Statistics': 0.06, 'Belief': 0.059, 'Culture': 0.048, 'Philosophy': 0.033, 'Science': 0.026, 'Fitness': 0.024, 'Literature': 0.02, 'Exercise': 0.02, 'Society': 0.02, 'Recreation': 0.019, 'Biology': 0.017, 'History': 0.016, 'Electronics': 0.015, 'Geography': 0.014, 'Earth': 0.014, 'Life': 0.014, 'Dance': 0.012, 'Painting': 0.012, 'Internet': 0.012, 'Film': 0.011, 'Sport': 0.011, 'Language': 0.01, 'Media': 0.01, 'Medicine': 0.01, 'Education': 0.01, 'Crime': 0.009, 'Logic': 0.009, 'Religion': 0.009, 'Music': 0.008, 'Theatre': 0.008, 'Sculpture': 0.008, 'Technology': 0.008, 'Nature': 0.007, 'Art': 0.006, 'Games': 0.006, 'Health': 0.006, 'Food': 0.005, 'War': 0.005, 'Mathematics': 0.005, 'Engineering': 0.004}\n",
      "Actrius\n",
      "{'Computing': 0.642, 'Society': 0.078, 'Sculpture': 0.059, 'Philosophy': 0.057, 'Education': 0.019, 'Biology': 0.009, 'Belief': 0.009, 'Culture': 0.008, 'Literature': 0.007, 'Language': 0.006, 'Statistics': 0.006, 'Film': 0.005, 'Painting': 0.005, 'Exercise': 0.005, 'Science': 0.005, 'Sport': 0.004, 'Media': 0.004, 'Religion': 0.004, 'Engineering': 0.004, 'Earth': 0.003, 'Life': 0.003, 'Nature': 0.003, 'Electronics': 0.003, 'Food': 0.002, 'Theatre': 0.002, 'Games': 0.002, 'Recreation': 0.002, 'Health': 0.002, 'Medicine': 0.002, 'Logic': 0.002, 'Technology': 0.002, 'Art': 0.001, 'Dance': 0.001, 'Internet': 0.001, 'Geography': 0.001, 'Fitness': 0.001, 'History': 0.001, 'War': 0.001}\n",
      "Animalia (book)\n",
      "{'Biology': 0.077, 'Culture': 0.073, 'Fitness': 0.072, 'Philosophy': 0.072, 'Logic': 0.055, 'Life': 0.054, 'Music': 0.046, 'Earth': 0.045, 'Medicine': 0.045, 'Statistics': 0.045, 'Religion': 0.045, 'Belief': 0.044, 'Dance': 0.043, 'Sculpture': 0.043, 'Sport': 0.043, 'Computing': 0.041, 'Games': 0.04, 'Society': 0.039, 'Film': 0.035, 'Geography': 0.035, 'War': 0.031, 'Engineering': 0.031, 'Food': 0.023, 'Art': 0.022, 'Painting': 0.022, 'Health': 0.022, 'Literature': 0.021, 'Media': 0.021, 'Internet': 0.021, 'History': 0.021, 'Language': 0.017, 'Electronics': 0.017, 'Recreation': 0.014, 'Crime': 0.014, 'Science': 0.013, 'Technology': 0.013, 'Theatre': 0.012, 'Nature': 0.012, 'Mathematics': 0.011, 'Exercise': 0.006, 'Education': 0.003}\n",
      "International Atomic Time\n",
      "{'Recreation': 0.025, 'Geography': 0.025, 'Dance': 0.017, 'Internet': 0.016, 'Food': 0.014, 'Life': 0.014, 'Medicine': 0.014, 'Logic': 0.014, 'Society': 0.014, 'Theatre': 0.013, 'Statistics': 0.013, 'Technology': 0.013, 'Music': 0.012, 'Fitness': 0.012, 'Culture': 0.011, 'Literature': 0.011, 'Art': 0.011, 'Painting': 0.011, 'Games': 0.011, 'History': 0.011, 'Crime': 0.011, 'Nature': 0.011, 'Religion': 0.011, 'Language': 0.01, 'Electronics': 0.01, 'Sport': 0.009, 'Science': 0.009, 'Film': 0.008, 'Media': 0.007, 'War': 0.007, 'Engineering': 0.007, 'Health': 0.005, 'Exercise': 0.005, 'Biology': 0.005, 'Earth': 0.004, 'Philosophy': 0.004, 'Belief': 0.004, 'Sculpture': 0.003, 'Computing': 0.003, 'Mathematics': 0.002}\n",
      "Altruism\n",
      "{'Biology': 0.078, 'Language': 0.029, 'History': 0.028, 'Logic': 0.023, 'Belief': 0.021, 'Film': 0.02, 'Transport': 0.02, 'Earth': 0.019, 'Dance': 0.018, 'Fitness': 0.017, 'War': 0.016, 'Statistics': 0.015, 'Philosophy': 0.013, 'Culture': 0.01, 'Life': 0.01, 'Engineering': 0.01, 'Painting': 0.009, 'Recreation': 0.009, 'Crime': 0.009, 'Games': 0.008, 'Media': 0.008, 'Medicine': 0.007, 'Education': 0.007, 'Literature': 0.006, 'Sculpture': 0.006, 'Health': 0.006, 'Technology': 0.006, 'Sport': 0.005, 'Religion': 0.005, 'Internet': 0.004, 'Geography': 0.004, 'Mathematics': 0.004, 'Art': 0.003, 'Theatre': 0.003, 'Science': 0.003, 'Society': 0.003, 'Computing': 0.003, 'Electronics': 0.003, 'Exercise': 0.002, 'Food': 0.001, 'Music': 0.001, 'Nature': 0.001}\n",
      "Ayn Rand\n",
      "{'Biology': 0.064, 'Fitness': 0.045, 'Statistics': 0.035, 'Religion': 0.034, 'Philosophy': 0.031, 'Belief': 0.031, 'Society': 0.031, 'Culture': 0.03, 'Medicine': 0.03, 'Earth': 0.028, 'War': 0.026, 'History': 0.025, 'Life': 0.024, 'Science': 0.024, 'Language': 0.022, 'Exercise': 0.021, 'Transport': 0.021, 'Recreation': 0.018, 'Film': 0.017, 'Computing': 0.017, 'Technology': 0.015, 'Dance': 0.014, 'Literature': 0.013, 'Sport': 0.013, 'Geography': 0.013, 'Logic': 0.013, 'Painting': 0.012, 'Health': 0.012, 'Engineering': 0.012, 'Sculpture': 0.011, 'Media': 0.011, 'Crime': 0.011, 'Games': 0.01, 'Internet': 0.01, 'Education': 0.01, 'Electronics': 0.01, 'Art': 0.009, 'Mathematics': 0.009, 'Theatre': 0.008, 'Food': 0.007, 'Nature': 0.007, 'Music': 0.002}\n",
      "Alain Connes\n",
      "{'Sport': 0.112, 'Fitness': 0.108, 'Religion': 0.048, 'Statistics': 0.047, 'Film': 0.045, 'History': 0.044, 'Dance': 0.04, 'Biology': 0.037, 'Food': 0.036, 'Logic': 0.035, 'Media': 0.032, 'Life': 0.032, 'Belief': 0.031, 'Philosophy': 0.027, 'Health': 0.026, 'Technology': 0.023, 'Exercise': 0.022, 'Engineering': 0.022, 'Earth': 0.021, 'Transport': 0.021, 'Culture': 0.02, 'Internet': 0.019, 'Geography': 0.019, 'Medicine': 0.019, 'Electronics': 0.019, 'Recreation': 0.018, 'Crime': 0.018, 'Literature': 0.017, 'Sculpture': 0.017, 'Games': 0.017, 'Society': 0.017, 'Language': 0.016, 'Art': 0.014, 'War': 0.014, 'Music': 0.013, 'Painting': 0.013, 'Mathematics': 0.013, 'Science': 0.013, 'Computing': 0.012, 'Theatre': 0.011, 'Nature': 0.011, 'Education': 0.009}\n",
      "Allan Dwan\n",
      "{'Computing': 0.326, 'Philosophy': 0.03, 'Society': 0.028, 'Medicine': 0.025, 'Belief': 0.023, 'Exercise': 0.021, 'Biology': 0.018, 'Fitness': 0.017, 'Statistics': 0.017, 'Science': 0.017, 'Recreation': 0.016, 'History': 0.016, 'Language': 0.015, 'Life': 0.015, 'Education': 0.014, 'Religion': 0.014, 'Culture': 0.013, 'Media': 0.011, 'Earth': 0.011, 'Literature': 0.01, 'Dance': 0.01, 'Film': 0.01, 'Technology': 0.01, 'Painting': 0.009, 'Games': 0.009, 'Sculpture': 0.008, 'Crime': 0.008, 'Art': 0.007, 'Theatre': 0.007, 'Sport': 0.007, 'Logic': 0.007, 'Internet': 0.006, 'Health': 0.006, 'War': 0.006, 'Mathematics': 0.005, 'Nature': 0.005, 'Electronics': 0.005, 'Geography': 0.004, 'Engineering': 0.003, 'Food': 0.002, 'Transport': 0.002, 'Music': 0.001}\n",
      "Algeria\n",
      "{'History': 0.044, 'Film': 0.037, 'Language': 0.034, 'Earth': 0.03, 'Medicine': 0.029, 'Painting': 0.028, 'Media': 0.027, 'Education': 0.024, 'Statistics': 0.023, 'Theatre': 0.017, 'Fitness': 0.016, 'Literature': 0.015, 'Crime': 0.015, 'Nature': 0.015, 'Electronics': 0.015, 'Sculpture': 0.014, 'Transport': 0.014, 'Technology': 0.014, 'Dance': 0.013, 'Exercise': 0.013, 'Biology': 0.013, 'Belief': 0.013, 'Religion': 0.012, 'War': 0.01, 'Recreation': 0.009, 'Computing': 0.009, 'Health': 0.008, 'Logic': 0.008, 'Culture': 0.007, 'Internet': 0.007, 'Geography': 0.007, 'Life': 0.007, 'Science': 0.007, 'Art': 0.006, 'Mathematics': 0.006, 'Games': 0.005, 'Sport': 0.005, 'Society': 0.005, 'Philosophy': 0.003, 'Engineering': 0.003, 'Food': 0.002, 'Music': 0.002}\n",
      "List of Atlas Shrugged characters\n",
      "{'Philosophy': 0.147, 'Society': 0.018, 'Culture': 0.015, 'Computing': 0.01, 'Literature': 0.009, 'Biology': 0.009, 'Media': 0.006, 'Life': 0.006, 'Science': 0.006, 'Religion': 0.006, 'Sculpture': 0.005, 'Recreation': 0.005, 'Geography': 0.005, 'Fitness': 0.005, 'Logic': 0.005, 'Belief': 0.005, 'Language': 0.004, 'Dance': 0.004, 'Earth': 0.004, 'Health': 0.004, 'Statistics': 0.004, 'Painting': 0.003, 'Internet': 0.003, 'Medicine': 0.003, 'Engineering': 0.003, 'Games': 0.002, 'Sport': 0.002, 'History': 0.002, 'Education': 0.002, 'Food': 0.001, 'Art': 0.001, 'Film': 0.001, 'Theatre': 0.001, 'Exercise': 0.001, 'War': 0.001, 'Mathematics': 0.001, 'Technology': 0.001, 'Electronics': 0.001}\n",
      "Anthropology\n",
      "{'Belief': 0.083, 'Earth': 0.012, 'Life': 0.012, 'Medicine': 0.008, 'History': 0.008, 'Statistics': 0.008, 'Sculpture': 0.006, 'Media': 0.006, 'Philosophy': 0.005, 'Religion': 0.005, 'Fitness': 0.003, 'Culture': 0.002, 'Recreation': 0.002, 'Exercise': 0.001}\n",
      "Agricultural science\n",
      "{'Fitness': 0.026, 'Theatre': 0.023, 'History': 0.022, 'Internet': 0.018, 'Logic': 0.013, 'Film': 0.01, 'Art': 0.009, 'Life': 0.009, 'Belief': 0.008, 'Painting': 0.007, 'Games': 0.007, 'Health': 0.007, 'Dance': 0.006, 'Media': 0.006, 'Crime': 0.006, 'Food': 0.005, 'Mathematics': 0.005, 'Culture': 0.004, 'War': 0.004, 'Statistics': 0.004, 'Philosophy': 0.004, 'Religion': 0.004, 'Sport': 0.003, 'Geography': 0.003, 'Nature': 0.003, 'Language': 0.002, 'Engineering': 0.002, 'Sculpture': 0.001, 'Recreation': 0.001, 'Earth': 0.001, 'Exercise': 0.001, 'Medicine': 0.001, 'Biology': 0.001, 'Society': 0.001, 'Technology': 0.001}\n",
      "Alchemy\n",
      "{'Fitness': 0.017, 'Sport': 0.002, 'Statistics': 0.002}\n",
      "Alien\n",
      "{}\n",
      "Astronomer\n",
      "{'Fitness': 0.088, 'Crime': 0.03, 'Religion': 0.029, 'Art': 0.023, 'Sport': 0.022, 'Food': 0.021, 'Dance': 0.02, 'Biology': 0.018, 'Media': 0.015, 'Life': 0.014, 'Transport': 0.012, 'Internet': 0.011, 'Health': 0.011, 'Logic': 0.011, 'Film': 0.009, 'Games': 0.009, 'Geography': 0.009, 'Statistics': 0.009, 'History': 0.006, 'Education': 0.006, 'Belief': 0.006, 'Earth': 0.005, 'Mathematics': 0.004, 'Technology': 0.004, 'Culture': 0.003, 'Language': 0.003, 'Engineering': 0.003, 'Music': 0.002, 'Theatre': 0.002, 'Painting': 0.002, 'War': 0.002, 'Philosophy': 0.002, 'Society': 0.002, 'Literature': 0.001, 'Sculpture': 0.001, 'Recreation': 0.001, 'Electronics': 0.001}\n",
      "ASCII\n",
      "{'Painting': 0.044, 'Sculpture': 0.022, 'Society': 0.019, 'Food': 0.017, 'Philosophy': 0.015, 'Science': 0.012, 'Internet': 0.011, 'Sport': 0.01, 'Fitness': 0.01, 'Education': 0.01, 'Literature': 0.009, 'Logic': 0.009, 'Religion': 0.009, 'Computing': 0.009, 'Engineering': 0.009, 'Language': 0.008, 'Biology': 0.008, 'Art': 0.007, 'War': 0.007, 'Statistics': 0.007, 'Culture': 0.006, 'Dance': 0.006, 'Earth': 0.006, 'Health': 0.006, 'History': 0.006, 'Film': 0.005, 'Recreation': 0.005, 'Geography': 0.005, 'Exercise': 0.005, 'Life': 0.005, 'Belief': 0.005, 'Media': 0.004, 'Theatre': 0.003, 'Games': 0.003, 'Crime': 0.003, 'Technology': 0.003, 'Music': 0.002, 'Medicine': 0.002, 'Mathematics': 0.002, 'Nature': 0.002, 'Electronics': 0.002}\n",
      "Austin (disambiguation)\n",
      "{}\n",
      "Animation\n",
      "{'Computing': 0.258, 'Life': 0.068, 'Education': 0.032, 'Painting': 0.023, 'History': 0.02, 'Geography': 0.016, 'Logic': 0.013, 'Culture': 0.012, 'Theatre': 0.012, 'Internet': 0.012, 'Food': 0.01, 'Dance': 0.01, 'Science': 0.01, 'Music': 0.009, 'Electronics': 0.009, 'Media': 0.008, 'Nature': 0.008, 'Exercise': 0.007, 'Film': 0.006, 'Recreation': 0.006, 'Fitness': 0.006, 'Philosophy': 0.006, 'Sculpture': 0.005, 'Games': 0.005, 'Biology': 0.005, 'Language': 0.004, 'Art': 0.004, 'Earth': 0.004, 'Health': 0.004, 'Belief': 0.004, 'Society': 0.004, 'Technology': 0.004, 'Medicine': 0.003, 'Religion': 0.003, 'Sport': 0.002, 'Crime': 0.002, 'War': 0.002, 'Statistics': 0.002, 'Literature': 0.001, 'Mathematics': 0.001, 'Engineering': 0.001}\n",
      "Apollo\n",
      "{'Earth': 0.053, 'Crime': 0.045, 'Exercise': 0.039, 'Culture': 0.036, 'War': 0.034, 'Science': 0.02, 'Society': 0.018, 'Media': 0.016, 'Technology': 0.016, 'Art': 0.014, 'Biology': 0.014, 'Fitness': 0.013, 'Statistics': 0.012, 'Recreation': 0.011, 'Internet': 0.011, 'Transport': 0.009, 'Philosophy': 0.009, 'Sport': 0.008, 'Life': 0.007, 'Religion': 0.007, 'Language': 0.006, 'Dance': 0.006, 'Electronics': 0.006, 'Geography': 0.005, 'Belief': 0.005, 'Food': 0.004, 'Film': 0.004, 'Education': 0.004, 'Mathematics': 0.004, 'Logic': 0.004, 'Literature': 0.003, 'Theatre': 0.003, 'Games': 0.003, 'Nature': 0.003, 'Medicine': 0.002, 'History': 0.002, 'Computing': 0.002, 'Engineering': 0.002, 'Sculpture': 0.001, 'Health': 0.001}\n",
      "Andre Agassi\n",
      "{'Electronics': 0.061, 'Education': 0.019, 'History': 0.017, 'Belief': 0.015, 'Statistics': 0.014, 'Recreation': 0.013, 'Earth': 0.011, 'Exercise': 0.011, 'Medicine': 0.011, 'Biology': 0.011, 'Film': 0.01, 'Fitness': 0.01, 'War': 0.01, 'Religion': 0.01, 'Literature': 0.009, 'Painting': 0.009, 'Life': 0.009, 'Crime': 0.009, 'Mathematics': 0.009, 'Language': 0.008, 'Logic': 0.008, 'Philosophy': 0.008, 'Society': 0.008, 'Computing': 0.008, 'Culture': 0.007, 'Dance': 0.007, 'Sculpture': 0.007, 'Nature': 0.007, 'Science': 0.007, 'Theatre': 0.006, 'Media': 0.006, 'Internet': 0.006, 'Geography': 0.006, 'Sport': 0.005, 'Health': 0.005, 'Technology': 0.005, 'Art': 0.004, 'Games': 0.004, 'Food': 0.003, 'Music': 0.002, 'Transport': 0.002, 'Engineering': 0.002}\n"
     ]
    }
   ],
   "source": [
    "for art in articles_test:\n",
    "    art['categories_sims'] = tfdif_test_cosine([' '.join(art.get('category_wiki_tokens'))], vectorizer_wiki, trained_model_wiki)\n",
    "    art['categories_sims'] = {k: v for k, v in sorted(art.get('categories_sims').items(), key = lambda item: item[1], reverse=True)}    \n",
    "    print(art.get('title'))\n",
    "    print(art.get('categories_sims'))"
   ]
  },
  {
   "cell_type": "markdown",
   "metadata": {},
   "source": [
    "### Infobox - kosinusova podobnost"
   ]
  },
  {
   "cell_type": "code",
   "execution_count": 201,
   "metadata": {},
   "outputs": [
    {
     "name": "stdout",
     "output_type": "stream",
     "text": [
      "Anarchism\n",
      "{}\n",
      "Autism\n",
      "{'Art': 0.49, 'Games': 0.449, 'Fitness': 0.443, 'Mathematics': 0.431, 'Culture': 0.429, 'Life': 0.408, 'Medicine': 0.397, 'Earth': 0.391, 'Film': 0.386, 'Biology': 0.386, 'Internet': 0.379, 'Logic': 0.371, 'Philosophy': 0.366, 'Dance': 0.362, 'Media': 0.361, 'Statistics': 0.352, 'Crime': 0.349, 'Painting': 0.336, 'Food': 0.333, 'Belief': 0.332, 'Sport': 0.31, 'Sculpture': 0.309, 'Geography': 0.304, 'War': 0.293, 'Theatre': 0.288, 'Electronics': 0.272, 'Health': 0.27, 'Music': 0.263, 'Engineering': 0.257, 'Exercise': 0.253, 'Technology': 0.251, 'Language': 0.25, 'Science': 0.207, 'Literature': 0.205, 'Nature': 0.204, 'Recreation': 0.176, 'History': 0.161, 'Religion': 0.118, 'Society': 0.098, 'Computing': 0.083, 'Education': 0.014, 'Transport': 0.012}\n",
      "Albedo\n",
      "{}\n",
      "A\n",
      "{'Art': 0.329, 'Mathematics': 0.295, 'Culture': 0.271, 'Medicine': 0.264, 'Games': 0.261, 'Fitness': 0.26, 'Earth': 0.247, 'Life': 0.244, 'Internet': 0.237, 'Biology': 0.234, 'Film': 0.233, 'Dance': 0.229, 'Logic': 0.223, 'Statistics': 0.217, 'Philosophy': 0.217, 'Exercise': 0.213, 'Painting': 0.212, 'Food': 0.206, 'Sport': 0.203, 'Belief': 0.192, 'Geography': 0.191, 'Theatre': 0.189, 'Sculpture': 0.189, 'Crime': 0.189, 'War': 0.187, 'Health': 0.181, 'Technology': 0.178, 'Electronics': 0.174, 'Media': 0.17, 'Engineering': 0.165, 'Language': 0.162, 'Music': 0.152, 'Literature': 0.149, 'Science': 0.146, 'Nature': 0.132, 'Recreation': 0.119, 'History': 0.084, 'Religion': 0.055, 'Society': 0.036, 'Computing': 0.034, 'Education': 0.03, 'Transport': 0.001}\n",
      "Alabama\n",
      "{'Art': 0.455, 'Games': 0.448, 'Internet': 0.404, 'Fitness': 0.401, 'Life': 0.396, 'Culture': 0.384, 'Medicine': 0.383, 'Painting': 0.366, 'Film': 0.365, 'Logic': 0.352, 'Earth': 0.348, 'Biology': 0.344, 'Philosophy': 0.337, 'Dance': 0.336, 'Mathematics': 0.334, 'Food': 0.312, 'Belief': 0.311, 'Statistics': 0.3, 'Sculpture': 0.299, 'Sport': 0.299, 'Crime': 0.292, 'Geography': 0.279, 'Theatre': 0.273, 'Electronics': 0.269, 'Media': 0.261, 'War': 0.256, 'Language': 0.242, 'Music': 0.239, 'Technology': 0.239, 'Health': 0.237, 'Exercise': 0.234, 'Engineering': 0.224, 'Nature': 0.19, 'Science': 0.188, 'Literature': 0.179, 'History': 0.163, 'Recreation': 0.16, 'Religion': 0.153, 'Society': 0.095, 'Computing': 0.084, 'Transport': 0.021, 'Education': 0.02}\n",
      "Achilles\n",
      "{}\n",
      "Abraham Lincoln\n",
      "{'Fitness': 0.158, 'Medicine': 0.156, 'Art': 0.153, 'Games': 0.144, 'Life': 0.135, 'Culture': 0.128, 'Mathematics': 0.127, 'Earth': 0.124, 'Biology': 0.124, 'Belief': 0.124, 'Philosophy': 0.123, 'Statistics': 0.121, 'Film': 0.118, 'Internet': 0.118, 'Dance': 0.115, 'Painting': 0.115, 'Logic': 0.114, 'Sport': 0.111, 'War': 0.103, 'Sculpture': 0.098, 'Media': 0.095, 'Exercise': 0.095, 'Food': 0.094, 'Geography': 0.094, 'Engineering': 0.093, 'Crime': 0.091, 'Language': 0.09, 'Technology': 0.087, 'Music': 0.086, 'Health': 0.084, 'Literature': 0.082, 'Theatre': 0.082, 'Electronics': 0.082, 'Science': 0.076, 'History': 0.071, 'Recreation': 0.064, 'Nature': 0.06, 'Religion': 0.059, 'Society': 0.055, 'Computing': 0.055, 'Education': 0.014, 'Transport': 0.014}\n",
      "Aristotle\n",
      "{'Biology': 0.149, 'Engineering': 0.095, 'Exercise': 0.094, 'Society': 0.085, 'Fitness': 0.077, 'Philosophy': 0.066, 'Recreation': 0.061, 'Religion': 0.056, 'Sport': 0.046, 'Logic': 0.046, 'Culture': 0.041, 'Film': 0.04, 'Games': 0.038, 'Belief': 0.038, 'Media': 0.035, 'Earth': 0.034, 'Statistics': 0.034, 'Dance': 0.033, 'Life': 0.032, 'War': 0.032, 'Art': 0.029, 'Internet': 0.029, 'Science': 0.027, 'Medicine': 0.026, 'History': 0.026, 'Technology': 0.026, 'Literature': 0.025, 'Geography': 0.023, 'Language': 0.021, 'Sculpture': 0.021, 'Electronics': 0.019, 'Education': 0.018, 'Health': 0.017, 'Mathematics': 0.017, 'Music': 0.016, 'Painting': 0.016, 'Food': 0.015, 'Crime': 0.015, 'Computing': 0.013, 'Theatre': 0.011, 'Nature': 0.011, 'Transport': 0.01}\n",
      "An American in Paris\n",
      "{}\n",
      "Academy Award for Best Production Design\n",
      "{'Culture': 0.142, 'Art': 0.132, 'Fitness': 0.131, 'Philosophy': 0.11, 'Dance': 0.104, 'Mathematics': 0.103, 'Film': 0.102, 'Games': 0.1, 'Medicine': 0.099, 'Life': 0.098, 'Earth': 0.094, 'Biology': 0.093, 'Statistics': 0.091, 'Internet': 0.09, 'Sport': 0.087, 'Logic': 0.087, 'Technology': 0.085, 'Food': 0.084, 'Exercise': 0.083, 'Painting': 0.081, 'Geography': 0.08, 'Belief': 0.076, 'Theatre': 0.075, 'Media': 0.075, 'Crime': 0.074, 'Health': 0.073, 'War': 0.073, 'Sculpture': 0.071, 'Science': 0.07, 'Electronics': 0.07, 'Music': 0.065, 'Computing': 0.065, 'Engineering': 0.065, 'Language': 0.063, 'Literature': 0.063, 'Nature': 0.052, 'Recreation': 0.049, 'History': 0.041, 'Religion': 0.032, 'Society': 0.031, 'Education': 0.018, 'Transport': 0.006}\n",
      "Academy Awards\n",
      "{'Computing': 0.162, 'Fitness': 0.111, 'Culture': 0.102, 'Philosophy': 0.095, 'Life': 0.08, 'Sport': 0.078, 'Games': 0.077, 'Biology': 0.075, 'Art': 0.072, 'Belief': 0.07, 'Dance': 0.069, 'Painting': 0.068, 'Statistics': 0.067, 'Internet': 0.066, 'Film': 0.065, 'Mathematics': 0.063, 'Earth': 0.057, 'Medicine': 0.057, 'Media': 0.056, 'War': 0.055, 'Engineering': 0.055, 'Logic': 0.054, 'Science': 0.052, 'Sculpture': 0.051, 'Religion': 0.051, 'Food': 0.05, 'History': 0.05, 'Technology': 0.05, 'Music': 0.049, 'Literature': 0.047, 'Language': 0.045, 'Geography': 0.045, 'Recreation': 0.044, 'Health': 0.044, 'Crime': 0.044, 'Exercise': 0.043, 'Society': 0.042, 'Theatre': 0.04, 'Electronics': 0.04, 'Nature': 0.031, 'Transport': 0.017, 'Education': 0.009}\n",
      "Actrius\n",
      "{'Computing': 0.336, 'Sculpture': 0.153, 'Recreation': 0.12, 'Fitness': 0.116, 'Mathematics': 0.114, 'Art': 0.113, 'Philosophy': 0.111, 'Culture': 0.11, 'Biology': 0.11, 'Life': 0.105, 'Belief': 0.105, 'Statistics': 0.104, 'Games': 0.102, 'Earth': 0.099, 'Medicine': 0.096, 'Technology': 0.095, 'Sport': 0.094, 'Engineering': 0.091, 'Dance': 0.088, 'War': 0.088, 'Internet': 0.084, 'Exercise': 0.084, 'Film': 0.082, 'Painting': 0.082, 'Science': 0.081, 'Media': 0.077, 'Literature': 0.076, 'Geography': 0.076, 'Food': 0.075, 'Language': 0.075, 'Logic': 0.071, 'Health': 0.069, 'Music': 0.068, 'Crime': 0.067, 'Electronics': 0.066, 'Theatre': 0.064, 'Society': 0.058, 'Nature': 0.054, 'History': 0.05, 'Religion': 0.038, 'Education': 0.016, 'Transport': 0.014}\n",
      "Animalia (book)\n",
      "{'Sculpture': 0.106, 'Fitness': 0.096, 'Culture': 0.095, 'Philosophy': 0.091, 'Biology': 0.087, 'Logic': 0.085, 'Art': 0.076, 'Life': 0.075, 'Belief': 0.075, 'Earth': 0.074, 'Medicine': 0.074, 'Dance': 0.072, 'Games': 0.071, 'Computing': 0.071, 'Statistics': 0.07, 'Internet': 0.067, 'Film': 0.065, 'Sport': 0.063, 'Media': 0.058, 'War': 0.057, 'Music': 0.056, 'Painting': 0.056, 'Exercise': 0.055, 'Food': 0.054, 'Mathematics': 0.054, 'Geography': 0.053, 'Engineering': 0.053, 'Health': 0.05, 'Science': 0.049, 'Theatre': 0.048, 'Technology': 0.048, 'Language': 0.047, 'Nature': 0.044, 'Electronics': 0.043, 'History': 0.042, 'Crime': 0.042, 'Religion': 0.04, 'Literature': 0.039, 'Society': 0.037, 'Recreation': 0.036, 'Education': 0.03, 'Transport': 0.003}\n",
      "International Atomic Time\n",
      "{}\n",
      "Altruism\n",
      "{}\n",
      "Ayn Rand\n",
      "{'Biology': 0.049, 'Statistics': 0.046, 'Fitness': 0.043, 'Medicine': 0.043, 'Philosophy': 0.041, 'Sculpture': 0.039, 'Art': 0.037, 'Film': 0.036, 'Belief': 0.036, 'Culture': 0.034, 'Life': 0.033, 'Games': 0.032, 'Earth': 0.032, 'Painting': 0.031, 'Internet': 0.031, 'Exercise': 0.031, 'Logic': 0.03, 'Sport': 0.029, 'Media': 0.029, 'Religion': 0.028, 'Language': 0.027, 'Dance': 0.027, 'Geography': 0.025, 'Mathematics': 0.025, 'Technology': 0.025, 'Crime': 0.024, 'War': 0.024, 'Science': 0.024, 'Food': 0.023, 'Society': 0.022, 'Computing': 0.021, 'Electronics': 0.021, 'Engineering': 0.021, 'Literature': 0.02, 'Health': 0.02, 'Theatre': 0.019, 'History': 0.019, 'Nature': 0.018, 'Music': 0.017, 'Recreation': 0.017, 'Education': 0.007, 'Transport': 0.004}\n",
      "Alain Connes\n",
      "{'Art': 0.285, 'Fitness': 0.241, 'Mathematics': 0.238, 'Culture': 0.233, 'Games': 0.232, 'Medicine': 0.227, 'Life': 0.215, 'Sport': 0.211, 'Earth': 0.211, 'Internet': 0.208, 'Film': 0.205, 'Biology': 0.204, 'Dance': 0.202, 'Logic': 0.194, 'Statistics': 0.193, 'Philosophy': 0.193, 'Food': 0.184, 'Painting': 0.181, 'Exercise': 0.174, 'Belief': 0.171, 'Geography': 0.164, 'Health': 0.164, 'Crime': 0.163, 'Theatre': 0.162, 'War': 0.161, 'Sculpture': 0.152, 'Media': 0.151, 'Technology': 0.149, 'Electronics': 0.149, 'Engineering': 0.146, 'Language': 0.142, 'Music': 0.136, 'Literature': 0.126, 'Science': 0.124, 'Nature': 0.114, 'Recreation': 0.104, 'History': 0.075, 'Religion': 0.056, 'Society': 0.036, 'Computing': 0.035, 'Education': 0.024, 'Transport': 0.005}\n",
      "Allan Dwan\n",
      "{'Computing': 0.181, 'Art': 0.146, 'Games': 0.132, 'Life': 0.124, 'Fitness': 0.122, 'Mathematics': 0.12, 'Medicine': 0.119, 'Internet': 0.118, 'Culture': 0.116, 'Earth': 0.109, 'Biology': 0.108, 'Film': 0.107, 'Belief': 0.103, 'Logic': 0.102, 'Dance': 0.101, 'Painting': 0.099, 'Philosophy': 0.099, 'Crime': 0.093, 'Statistics': 0.093, 'Exercise': 0.092, 'Food': 0.09, 'Media': 0.089, 'War': 0.087, 'Sport': 0.085, 'Theatre': 0.083, 'Geography': 0.083, 'Technology': 0.08, 'Health': 0.078, 'Electronics': 0.078, 'Language': 0.076, 'Sculpture': 0.074, 'Music': 0.07, 'Engineering': 0.07, 'Literature': 0.066, 'Science': 0.064, 'Nature': 0.063, 'Recreation': 0.052, 'History': 0.043, 'Religion': 0.041, 'Society': 0.026, 'Education': 0.016, 'Transport': 0.002}\n",
      "Algeria\n",
      "{'Games': 0.464, 'Art': 0.455, 'Internet': 0.447, 'Fitness': 0.434, 'Life': 0.428, 'Painting': 0.417, 'Culture': 0.39, 'Medicine': 0.384, 'Film': 0.38, 'Earth': 0.368, 'Biology': 0.367, 'Philosophy': 0.363, 'Dance': 0.356, 'Logic': 0.355, 'Mathematics': 0.351, 'Belief': 0.342, 'Sport': 0.339, 'Statistics': 0.326, 'Food': 0.324, 'Crime': 0.307, 'Sculpture': 0.289, 'Geography': 0.282, 'Theatre': 0.278, 'War': 0.278, 'Media': 0.274, 'Electronics': 0.271, 'Music': 0.257, 'Engineering': 0.257, 'Technology': 0.254, 'Health': 0.242, 'Language': 0.237, 'Exercise': 0.226, 'Religion': 0.202, 'History': 0.196, 'Science': 0.196, 'Nature': 0.192, 'Literature': 0.191, 'Recreation': 0.179, 'Computing': 0.13, 'Society': 0.122, 'Education': 0.049, 'Transport': 0.029}\n",
      "List of Atlas Shrugged characters\n",
      "{}\n",
      "Anthropology\n",
      "{}\n",
      "Agricultural science\n",
      "{}\n",
      "Alchemy\n",
      "{}\n",
      "Alien\n",
      "{}\n",
      "Astronomer\n",
      "{}\n",
      "ASCII\n",
      "{'Art': 0.134, 'Games': 0.123, 'Fitness': 0.123, 'Culture': 0.118, 'Food': 0.117, 'Life': 0.116, 'Medicine': 0.112, 'Biology': 0.111, 'Earth': 0.109, 'Mathematics': 0.109, 'Philosophy': 0.109, 'Film': 0.108, 'Dance': 0.104, 'Internet': 0.104, 'Logic': 0.104, 'Painting': 0.102, 'Statistics': 0.1, 'Belief': 0.1, 'Sport': 0.094, 'Sculpture': 0.088, 'War': 0.085, 'Crime': 0.084, 'Language': 0.083, 'Geography': 0.083, 'Media': 0.081, 'Engineering': 0.08, 'Theatre': 0.078, 'Music': 0.076, 'Health': 0.075, 'Electronics': 0.075, 'Technology': 0.073, 'Exercise': 0.07, 'History': 0.069, 'Science': 0.065, 'Nature': 0.063, 'Literature': 0.062, 'Recreation': 0.052, 'Religion': 0.047, 'Society': 0.04, 'Computing': 0.039, 'Education': 0.007, 'Transport': 0.005}\n",
      "Austin (disambiguation)\n",
      "{}\n",
      "Animation\n",
      "{}\n",
      "Apollo\n",
      "{'Recreation': 0.047, 'Exercise': 0.037, 'Earth': 0.034, 'Culture': 0.026, 'Science': 0.021, 'Society': 0.019, 'Literature': 0.015, 'Art': 0.015, 'Fitness': 0.013, 'Belief': 0.012, 'Technology': 0.012, 'Religion': 0.011, 'Sport': 0.01, 'Internet': 0.01, 'War': 0.01, 'Film': 0.009, 'Dance': 0.008, 'Music': 0.008, 'Media': 0.008, 'Geography': 0.008, 'History': 0.008, 'Philosophy': 0.008, 'Life': 0.007, 'Medicine': 0.007, 'Logic': 0.007, 'Statistics': 0.007, 'Biology': 0.007, 'Games': 0.006, 'Computing': 0.006, 'Electronics': 0.006, 'Engineering': 0.006, 'Language': 0.005, 'Theatre': 0.005, 'Sculpture': 0.005, 'Mathematics': 0.005, 'Nature': 0.005, 'Food': 0.004, 'Painting': 0.004, 'Health': 0.004, 'Crime': 0.004, 'Education': 0.002, 'Transport': 0.001}\n",
      "Andre Agassi\n",
      "{'Art': 0.156, 'Games': 0.148, 'Electronics': 0.146, 'Fitness': 0.141, 'Internet': 0.14, 'Medicine': 0.138, 'Culture': 0.137, 'Life': 0.136, 'Film': 0.131, 'Philosophy': 0.128, 'Mathematics': 0.126, 'Painting': 0.125, 'Earth': 0.123, 'Biology': 0.12, 'Logic': 0.118, 'Dance': 0.115, 'Statistics': 0.113, 'Food': 0.107, 'Belief': 0.107, 'Sport': 0.106, 'Geography': 0.102, 'Crime': 0.1, 'Theatre': 0.092, 'Sculpture': 0.092, 'Exercise': 0.091, 'Media': 0.09, 'War': 0.09, 'Music': 0.085, 'Language': 0.084, 'Health': 0.082, 'Technology': 0.08, 'Engineering': 0.079, 'Religion': 0.076, 'Literature': 0.068, 'Science': 0.067, 'History': 0.065, 'Nature': 0.065, 'Recreation': 0.064, 'Society': 0.049, 'Computing': 0.037, 'Education': 0.012, 'Architecture': 0.009, 'Transport': 0.003}\n"
     ]
    }
   ],
   "source": [
    "for art in articles_test:\n",
    "    art['infobox_sims'] = tfdif_test_cosine([' '.join(art.get('infobox_tokens'))], vectorizer_wiki, trained_model_wiki)\n",
    "    art['infobox_sims'] = {k: v for k, v in sorted(art.get('infobox_sims').items(), key = lambda item: item[1], reverse=True)}\n",
    "    print(art.get('title'))\n",
    "    print(art.get('infobox_sims'))"
   ]
  },
  {
   "cell_type": "markdown",
   "metadata": {},
   "source": [
    "###  Text clanku - kosinusova podobnost"
   ]
  },
  {
   "cell_type": "code",
   "execution_count": 202,
   "metadata": {},
   "outputs": [
    {
     "name": "stdout",
     "output_type": "stream",
     "text": [
      "Anarchism\n",
      "{'Fitness': 0.295, 'Society': 0.283, 'Philosophy': 0.282, 'Biology': 0.273, 'Life': 0.268, 'Belief': 0.26, 'Games': 0.246, 'Logic': 0.229, 'Film': 0.228, 'Religion': 0.225, 'Culture': 0.223, 'Earth': 0.215, 'Medicine': 0.212, 'Sport': 0.207, 'Internet': 0.203, 'Statistics': 0.2, 'Sculpture': 0.198, 'Art': 0.192, 'Dance': 0.185, 'Painting': 0.18, 'Food': 0.171, 'History': 0.171, 'War': 0.168, 'Music': 0.161, 'Media': 0.151, 'Mathematics': 0.147, 'Engineering': 0.144, 'Crime': 0.134, 'Health': 0.132, 'Geography': 0.13, 'Language': 0.127, 'Electronics': 0.125, 'Technology': 0.115, 'Theatre': 0.112, 'Science': 0.103, 'Literature': 0.102, 'Recreation': 0.101, 'Computing': 0.099, 'Exercise': 0.094, 'Nature': 0.094, 'Education': 0.021, 'Transport': 0.02, 'Architecture': 0.001}\n",
      "Autism\n",
      "{'Mathematics': 0.448, 'Art': 0.44, 'Games': 0.439, 'Fitness': 0.425, 'Life': 0.39, 'Culture': 0.389, 'Film': 0.379, 'Internet': 0.369, 'Logic': 0.362, 'Medicine': 0.36, 'Earth': 0.354, 'Media': 0.35, 'Biology': 0.343, 'Philosophy': 0.342, 'Crime': 0.339, 'Dance': 0.327, 'Belief': 0.325, 'Statistics': 0.322, 'Food': 0.321, 'Painting': 0.32, 'Sport': 0.296, 'Sculpture': 0.288, 'Geography': 0.282, 'War': 0.281, 'Theatre': 0.268, 'Health': 0.267, 'Electronics': 0.247, 'Music': 0.242, 'Engineering': 0.238, 'Language': 0.228, 'Technology': 0.227, 'Exercise': 0.223, 'Nature': 0.189, 'Science': 0.189, 'Literature': 0.188, 'Recreation': 0.176, 'History': 0.174, 'Religion': 0.13, 'Society': 0.11, 'Computing': 0.1, 'Transport': 0.023, 'Education': 0.017, 'Architecture': 0.001}\n",
      "Albedo\n",
      "{'Art': 0.484, 'Games': 0.435, 'Internet': 0.419, 'Fitness': 0.412, 'Life': 0.379, 'Mathematics': 0.374, 'Culture': 0.362, 'Medicine': 0.344, 'Biology': 0.341, 'Earth': 0.337, 'Film': 0.333, 'Philosophy': 0.332, 'Painting': 0.329, 'Dance': 0.325, 'Logic': 0.325, 'Belief': 0.318, 'Sport': 0.312, 'Statistics': 0.312, 'Food': 0.308, 'Crime': 0.276, 'War': 0.276, 'Sculpture': 0.268, 'Geography': 0.261, 'Media': 0.257, 'Theatre': 0.252, 'Engineering': 0.251, 'Music': 0.247, 'Health': 0.245, 'Electronics': 0.239, 'Technology': 0.233, 'Language': 0.225, 'Exercise': 0.224, 'Science': 0.201, 'Nature': 0.189, 'Literature': 0.186, 'Recreation': 0.175, 'History': 0.171, 'Religion': 0.159, 'Computing': 0.116, 'Society': 0.114, 'Transport': 0.027, 'Education': 0.014}\n",
      "A\n",
      "{'Fitness': 0.508, 'Art': 0.49, 'Games': 0.49, 'Life': 0.479, 'Internet': 0.448, 'Culture': 0.441, 'Philosophy': 0.435, 'Biology': 0.433, 'Mathematics': 0.423, 'Painting': 0.417, 'Sculpture': 0.413, 'Belief': 0.41, 'Earth': 0.409, 'Medicine': 0.409, 'Sport': 0.406, 'Film': 0.4, 'Dance': 0.399, 'Logic': 0.391, 'Statistics': 0.387, 'Food': 0.362, 'War': 0.328, 'Engineering': 0.327, 'Media': 0.317, 'Geography': 0.313, 'Crime': 0.313, 'Exercise': 0.305, 'Technology': 0.3, 'Music': 0.296, 'Theatre': 0.296, 'Health': 0.286, 'Electronics': 0.285, 'Language': 0.276, 'Science': 0.252, 'Literature': 0.242, 'Recreation': 0.234, 'History': 0.224, 'Religion': 0.22, 'Nature': 0.216, 'Society': 0.182, 'Computing': 0.169, 'Transport': 0.045, 'Education': 0.034, 'Architecture': 0.013}\n",
      "Alabama\n",
      "{'Games': 0.708, 'Art': 0.694, 'Fitness': 0.686, 'Life': 0.658, 'Internet': 0.656, 'Painting': 0.619, 'Culture': 0.6, 'Mathematics': 0.595, 'Medicine': 0.589, 'Biology': 0.587, 'Film': 0.578, 'Earth': 0.569, 'Philosophy': 0.569, 'Belief': 0.553, 'Dance': 0.55, 'Logic': 0.542, 'Statistics': 0.531, 'Sport': 0.526, 'Food': 0.493, 'Crime': 0.465, 'War': 0.443, 'Sculpture': 0.437, 'Media': 0.437, 'Geography': 0.436, 'Theatre': 0.424, 'Electronics': 0.422, 'Engineering': 0.408, 'Technology': 0.405, 'Language': 0.402, 'Music': 0.4, 'Health': 0.382, 'Exercise': 0.366, 'History': 0.325, 'Science': 0.318, 'Literature': 0.314, 'Nature': 0.307, 'Recreation': 0.303, 'Religion': 0.302, 'Computing': 0.229, 'Society': 0.222, 'Transport': 0.062, 'Education': 0.029, 'Architecture': 0.001}\n",
      "Achilles\n",
      "{'Art': 0.605, 'Fitness': 0.602, 'Culture': 0.574, 'Games': 0.563, 'Medicine': 0.56, 'Life': 0.54, 'Philosophy': 0.539, 'Biology': 0.531, 'Earth': 0.528, 'Mathematics': 0.522, 'Statistics': 0.503, 'Internet': 0.496, 'Dance': 0.478, 'Film': 0.474, 'Belief': 0.462, 'Sport': 0.448, 'Logic': 0.447, 'Painting': 0.433, 'Sculpture': 0.423, 'Exercise': 0.417, 'Food': 0.416, 'War': 0.412, 'Geography': 0.394, 'Crime': 0.383, 'Engineering': 0.38, 'Media': 0.375, 'Technology': 0.367, 'Theatre': 0.36, 'Electronics': 0.355, 'Language': 0.354, 'Music': 0.347, 'Health': 0.346, 'Science': 0.329, 'Literature': 0.306, 'Recreation': 0.286, 'Nature': 0.265, 'History': 0.245, 'Society': 0.216, 'Computing': 0.2, 'Religion': 0.196, 'Transport': 0.044, 'Education': 0.032, 'Architecture': 0.012}\n",
      "Abraham Lincoln\n",
      "{'Fitness': 0.264, 'Philosophy': 0.255, 'Games': 0.25, 'Life': 0.25, 'Biology': 0.249, 'Medicine': 0.242, 'Belief': 0.228, 'Society': 0.22, 'Art': 0.217, 'Culture': 0.216, 'Internet': 0.216, 'Earth': 0.213, 'Film': 0.211, 'Logic': 0.207, 'Painting': 0.2, 'Statistics': 0.198, 'Sport': 0.197, 'Dance': 0.192, 'Religion': 0.185, 'Mathematics': 0.176, 'Sculpture': 0.173, 'Food': 0.17, 'War': 0.168, 'Media': 0.153, 'Crime': 0.151, 'Music': 0.149, 'Geography': 0.144, 'Engineering': 0.144, 'Language': 0.143, 'Electronics': 0.141, 'Theatre': 0.134, 'Health': 0.134, 'Technology': 0.13, 'Exercise': 0.129, 'History': 0.127, 'Literature': 0.121, 'Science': 0.113, 'Nature': 0.107, 'Recreation': 0.103, 'Computing': 0.095, 'Education': 0.021, 'Transport': 0.02, 'Architecture': 0.001}\n",
      "Aristotle\n",
      "{'Fitness': 0.38, 'Society': 0.361, 'Biology': 0.359, 'Philosophy': 0.357, 'Games': 0.326, 'Life': 0.309, 'Belief': 0.299, 'Culture': 0.285, 'Sport': 0.282, 'Engineering': 0.282, 'Logic': 0.281, 'Internet': 0.279, 'Religion': 0.271, 'Art': 0.265, 'Earth': 0.261, 'Film': 0.255, 'Statistics': 0.247, 'Medicine': 0.241, 'Sculpture': 0.238, 'Dance': 0.236, 'Painting': 0.233, 'Mathematics': 0.216, 'War': 0.213, 'Food': 0.21, 'Media': 0.196, 'Music': 0.194, 'Crime': 0.176, 'History': 0.172, 'Geography': 0.169, 'Health': 0.166, 'Technology': 0.164, 'Language': 0.163, 'Electronics': 0.163, 'Science': 0.156, 'Theatre': 0.153, 'Exercise': 0.152, 'Recreation': 0.144, 'Literature': 0.141, 'Computing': 0.136, 'Nature': 0.118, 'Transport': 0.039, 'Education': 0.023, 'Architecture': 0.002}\n",
      "An American in Paris\n",
      "{'Games': 0.36, 'Fitness': 0.358, 'Art': 0.345, 'Life': 0.345, 'Culture': 0.326, 'Internet': 0.323, 'Biology': 0.307, 'Philosophy': 0.306, 'Painting': 0.302, 'Medicine': 0.301, 'Film': 0.292, 'Earth': 0.29, 'Belief': 0.289, 'Dance': 0.286, 'Logic': 0.285, 'Mathematics': 0.281, 'Recreation': 0.277, 'Sport': 0.269, 'Statistics': 0.269, 'Food': 0.259, 'Geography': 0.233, 'War': 0.23, 'Crime': 0.228, 'Sculpture': 0.226, 'Media': 0.22, 'Theatre': 0.214, 'Electronics': 0.213, 'Music': 0.212, 'Engineering': 0.212, 'Technology': 0.207, 'Health': 0.199, 'Literature': 0.198, 'Language': 0.191, 'Exercise': 0.191, 'Science': 0.18, 'Nature': 0.153, 'Religion': 0.152, 'History': 0.146, 'Computing': 0.136, 'Society': 0.131, 'Education': 0.025, 'Transport': 0.021}\n",
      "Academy Award for Best Production Design\n",
      "{'Mathematics': 0.5, 'Art': 0.414, 'Fitness': 0.404, 'Culture': 0.377, 'Biology': 0.365, 'Statistics': 0.356, 'Philosophy': 0.348, 'Earth': 0.34, 'Games': 0.337, 'Belief': 0.335, 'Life': 0.331, 'Sport': 0.327, 'Medicine': 0.306, 'Engineering': 0.304, 'Sculpture': 0.303, 'War': 0.298, 'Dance': 0.296, 'Painting': 0.269, 'Internet': 0.267, 'Exercise': 0.262, 'Film': 0.257, 'Technology': 0.255, 'Food': 0.246, 'Language': 0.244, 'Recreation': 0.242, 'Science': 0.241, 'Literature': 0.235, 'Music': 0.23, 'Media': 0.229, 'Crime': 0.228, 'Geography': 0.224, 'Logic': 0.224, 'Health': 0.216, 'Computing': 0.21, 'Theatre': 0.202, 'Electronics': 0.2, 'History': 0.164, 'Society': 0.149, 'Nature': 0.139, 'Religion': 0.096, 'Transport': 0.062, 'Education': 0.016, 'Architecture': 0.001}\n",
      "Academy Awards\n",
      "{'Games': 0.518, 'Internet': 0.48, 'Painting': 0.472, 'Fitness': 0.465, 'Life': 0.464, 'Art': 0.446, 'Culture': 0.412, 'Logic': 0.4, 'Philosophy': 0.399, 'Film': 0.397, 'Medicine': 0.39, 'Biology': 0.376, 'Dance': 0.373, 'Belief': 0.362, 'Sport': 0.352, 'Earth': 0.352, 'Food': 0.344, 'Statistics': 0.32, 'Mathematics': 0.319, 'Crime': 0.306, 'Electronics': 0.299, 'Geography': 0.298, 'Theatre': 0.292, 'Media': 0.286, 'Computing': 0.28, 'War': 0.27, 'Music': 0.266, 'Technology': 0.259, 'Sculpture': 0.257, 'Engineering': 0.243, 'Health': 0.241, 'Religion': 0.24, 'Language': 0.234, 'Exercise': 0.222, 'History': 0.214, 'Science': 0.204, 'Nature': 0.199, 'Literature': 0.191, 'Recreation': 0.185, 'Society': 0.163, 'Education': 0.037, 'Transport': 0.028, 'Architecture': 0.007}\n",
      "Actrius\n",
      "{'Computing': 0.473, 'Games': 0.457, 'Art': 0.432, 'Fitness': 0.429, 'Life': 0.408, 'Internet': 0.393, 'Culture': 0.384, 'Painting': 0.38, 'Philosophy': 0.379, 'Biology': 0.366, 'Medicine': 0.359, 'Mathematics': 0.353, 'Earth': 0.346, 'Belief': 0.346, 'Film': 0.345, 'Dance': 0.336, 'Logic': 0.329, 'Sport': 0.328, 'Statistics': 0.317, 'Food': 0.306, 'Sculpture': 0.284, 'War': 0.28, 'Crime': 0.271, 'Electronics': 0.266, 'Media': 0.265, 'Geography': 0.265, 'Engineering': 0.26, 'Theatre': 0.256, 'Music': 0.255, 'Technology': 0.247, 'Language': 0.233, 'Health': 0.225, 'Exercise': 0.208, 'Science': 0.196, 'Literature': 0.195, 'Recreation': 0.188, 'History': 0.186, 'Society': 0.186, 'Religion': 0.181, 'Nature': 0.172, 'Transport': 0.036, 'Education': 0.022}\n",
      "Animalia (book)\n",
      "{'Games': 0.374, 'Internet': 0.347, 'Painting': 0.343, 'Life': 0.332, 'Fitness': 0.326, 'Art': 0.31, 'Logic': 0.309, 'Film': 0.295, 'Culture': 0.289, 'Philosophy': 0.284, 'Medicine': 0.283, 'Biology': 0.27, 'Dance': 0.267, 'Food': 0.25, 'Earth': 0.25, 'Belief': 0.245, 'Sport': 0.243, 'Crime': 0.22, 'Geography': 0.215, 'Statistics': 0.213, 'Electronics': 0.213, 'Theatre': 0.211, 'Mathematics': 0.202, 'Media': 0.199, 'Music': 0.187, 'War': 0.18, 'Technology': 0.175, 'Sculpture': 0.174, 'Religion': 0.174, 'Health': 0.167, 'Language': 0.158, 'Engineering': 0.158, 'History': 0.145, 'Exercise': 0.142, 'Nature': 0.141, 'Science': 0.136, 'Literature': 0.121, 'Recreation': 0.114, 'Computing': 0.098, 'Society': 0.095, 'Education': 0.011, 'Transport': 0.011}\n",
      "International Atomic Time\n",
      "{'Games': 0.252, 'Art': 0.242, 'Internet': 0.24, 'Fitness': 0.232, 'Life': 0.231, 'Painting': 0.226, 'Film': 0.195, 'Logic': 0.194, 'Philosophy': 0.191, 'Medicine': 0.19, 'Culture': 0.189, 'Dance': 0.184, 'Biology': 0.181, 'Belief': 0.181, 'Sport': 0.176, 'Food': 0.175, 'Earth': 0.173, 'Statistics': 0.164, 'Mathematics': 0.163, 'Crime': 0.155, 'Geography': 0.147, 'Media': 0.144, 'Music': 0.141, 'Theatre': 0.14, 'Sculpture': 0.139, 'Religion': 0.139, 'Electronics': 0.139, 'War': 0.138, 'Health': 0.132, 'Technology': 0.128, 'Engineering': 0.125, 'Language': 0.121, 'History': 0.117, 'Nature': 0.106, 'Society': 0.102, 'Exercise': 0.101, 'Science': 0.099, 'Recreation': 0.097, 'Literature': 0.096, 'Computing': 0.076, 'Transport': 0.018, 'Education': 0.011}\n"
     ]
    },
    {
     "name": "stdout",
     "output_type": "stream",
     "text": [
      "Altruism\n",
      "{'Fitness': 0.514, 'Games': 0.492, 'Art': 0.48, 'Life': 0.458, 'Mathematics': 0.452, 'Biology': 0.448, 'Culture': 0.44, 'Earth': 0.44, 'Belief': 0.418, 'Medicine': 0.415, 'Internet': 0.414, 'Philosophy': 0.413, 'Film': 0.408, 'Logic': 0.408, 'Statistics': 0.392, 'Dance': 0.38, 'Painting': 0.366, 'Sport': 0.366, 'Crime': 0.36, 'War': 0.36, 'Food': 0.359, 'Sculpture': 0.342, 'Media': 0.334, 'Geography': 0.318, 'Engineering': 0.302, 'Health': 0.295, 'Music': 0.294, 'Theatre': 0.291, 'Language': 0.289, 'Electronics': 0.278, 'Technology': 0.273, 'History': 0.261, 'Exercise': 0.26, 'Literature': 0.227, 'Science': 0.225, 'Recreation': 0.218, 'Nature': 0.215, 'Religion': 0.182, 'Society': 0.172, 'Computing': 0.153, 'Transport': 0.06, 'Education': 0.026, 'Architecture': 0.004}\n",
      "Ayn Rand\n",
      "{'Fitness': 0.42, 'Art': 0.409, 'Games': 0.401, 'Biology': 0.385, 'Culture': 0.384, 'Life': 0.382, 'Philosophy': 0.365, 'Earth': 0.358, 'Medicine': 0.354, 'Mathematics': 0.343, 'Internet': 0.337, 'Film': 0.332, 'Statistics': 0.329, 'Belief': 0.329, 'Dance': 0.328, 'Logic': 0.326, 'Painting': 0.308, 'Sport': 0.301, 'Food': 0.295, 'Sculpture': 0.287, 'War': 0.278, 'Crime': 0.262, 'Geography': 0.261, 'Engineering': 0.256, 'Media': 0.251, 'Theatre': 0.246, 'Electronics': 0.239, 'Music': 0.238, 'Health': 0.236, 'Language': 0.235, 'Exercise': 0.231, 'Technology': 0.231, 'Science': 0.198, 'Literature': 0.193, 'Recreation': 0.175, 'Nature': 0.174, 'History': 0.166, 'Society': 0.149, 'Religion': 0.133, 'Computing': 0.122, 'Transport': 0.022, 'Education': 0.018}\n",
      "Alain Connes\n",
      "{'Sport': 0.345, 'Fitness': 0.317, 'Games': 0.316, 'Art': 0.297, 'Life': 0.29, 'Internet': 0.285, 'Culture': 0.278, 'Logic': 0.277, 'Painting': 0.266, 'Biology': 0.264, 'Medicine': 0.26, 'Film': 0.259, 'Philosophy': 0.254, 'Dance': 0.253, 'Earth': 0.242, 'Food': 0.237, 'Belief': 0.232, 'Statistics': 0.222, 'Mathematics': 0.215, 'Crime': 0.203, 'Geography': 0.191, 'Media': 0.189, 'Theatre': 0.187, 'Music': 0.183, 'Electronics': 0.183, 'War': 0.181, 'Engineering': 0.176, 'Sculpture': 0.174, 'Health': 0.173, 'History': 0.163, 'Technology': 0.163, 'Language': 0.156, 'Religion': 0.148, 'Exercise': 0.147, 'Nature': 0.132, 'Science': 0.131, 'Literature': 0.121, 'Recreation': 0.109, 'Society': 0.094, 'Computing': 0.074, 'Transport': 0.024, 'Education': 0.012}\n",
      "Allan Dwan\n",
      "{'Computing': 0.298, 'Fitness': 0.245, 'Games': 0.243, 'Life': 0.236, 'Art': 0.226, 'Internet': 0.22, 'Culture': 0.213, 'Philosophy': 0.208, 'Medicine': 0.207, 'Biology': 0.206, 'Painting': 0.204, 'Logic': 0.199, 'Dance': 0.196, 'Belief': 0.196, 'Film': 0.195, 'Earth': 0.195, 'Statistics': 0.182, 'Sport': 0.178, 'Food': 0.174, 'Mathematics': 0.174, 'Media': 0.151, 'Crime': 0.151, 'Geography': 0.15, 'Sculpture': 0.149, 'War': 0.149, 'Music': 0.147, 'Language': 0.146, 'Electronics': 0.144, 'Theatre': 0.139, 'Engineering': 0.137, 'Exercise': 0.133, 'Technology': 0.133, 'Health': 0.132, 'Religion': 0.118, 'Science': 0.117, 'Society': 0.114, 'History': 0.113, 'Nature': 0.111, 'Literature': 0.109, 'Recreation': 0.103, 'Education': 0.018, 'Transport': 0.018}\n",
      "Algeria\n",
      "{'Games': 0.523, 'Internet': 0.509, 'Life': 0.493, 'Fitness': 0.479, 'Painting': 0.477, 'Art': 0.463, 'Medicine': 0.432, 'Film': 0.428, 'Culture': 0.42, 'Logic': 0.416, 'Biology': 0.399, 'Philosophy': 0.394, 'Dance': 0.389, 'Earth': 0.384, 'Belief': 0.384, 'Sport': 0.363, 'Food': 0.358, 'Statistics': 0.343, 'Mathematics': 0.334, 'Crime': 0.327, 'Media': 0.311, 'Geography': 0.31, 'Electronics': 0.31, 'Theatre': 0.308, 'War': 0.283, 'Music': 0.278, 'Sculpture': 0.276, 'Technology': 0.274, 'Religion': 0.263, 'Engineering': 0.253, 'Health': 0.252, 'Language': 0.249, 'Exercise': 0.241, 'History': 0.234, 'Nature': 0.221, 'Science': 0.213, 'Literature': 0.198, 'Recreation': 0.195, 'Computing': 0.157, 'Society': 0.149, 'Education': 0.065, 'Transport': 0.026, 'Architecture': 0.002}\n",
      "List of Atlas Shrugged characters\n",
      "{'Fitness': 0.195, 'Philosophy': 0.179, 'Life': 0.172, 'Biology': 0.172, 'Belief': 0.16, 'Statistics': 0.158, 'Culture': 0.156, 'Dance': 0.154, 'Games': 0.15, 'Mathematics': 0.147, 'Earth': 0.144, 'War': 0.144, 'Sport': 0.143, 'Sculpture': 0.142, 'Art': 0.139, 'Medicine': 0.139, 'Engineering': 0.131, 'Film': 0.129, 'History': 0.127, 'Painting': 0.124, 'Internet': 0.123, 'Language': 0.121, 'Media': 0.119, 'Food': 0.118, 'Music': 0.115, 'Logic': 0.113, 'Computing': 0.112, 'Recreation': 0.108, 'Technology': 0.108, 'Exercise': 0.106, 'Society': 0.105, 'Health': 0.103, 'Crime': 0.103, 'Geography': 0.101, 'Science': 0.096, 'Literature': 0.094, 'Nature': 0.094, 'Electronics': 0.088, 'Theatre': 0.086, 'Religion': 0.082, 'Transport': 0.032, 'Education': 0.02}\n",
      "Anthropology\n",
      "{'Belief': 0.569, 'Fitness': 0.536, 'Life': 0.498, 'Games': 0.493, 'Art': 0.482, 'Culture': 0.47, 'Earth': 0.464, 'Biology': 0.457, 'Statistics': 0.447, 'Logic': 0.446, 'Medicine': 0.444, 'Philosophy': 0.44, 'Internet': 0.429, 'Film': 0.422, 'Mathematics': 0.413, 'Dance': 0.404, 'Painting': 0.38, 'Sport': 0.377, 'Sculpture': 0.373, 'Food': 0.371, 'Media': 0.348, 'Crime': 0.343, 'War': 0.341, 'Geography': 0.325, 'Theatre': 0.305, 'History': 0.302, 'Engineering': 0.302, 'Health': 0.301, 'Music': 0.296, 'Electronics': 0.29, 'Technology': 0.286, 'Language': 0.285, 'Exercise': 0.277, 'Science': 0.246, 'Literature': 0.238, 'Recreation': 0.231, 'Religion': 0.228, 'Nature': 0.218, 'Society': 0.187, 'Computing': 0.164, 'Education': 0.053, 'Transport': 0.043, 'Architecture': 0.002}\n",
      "Agricultural science\n",
      "{'Fitness': 0.316, 'Life': 0.275, 'Internet': 0.271, 'Logic': 0.268, 'Games': 0.263, 'Theatre': 0.258, 'Dance': 0.244, 'Film': 0.232, 'Painting': 0.228, 'History': 0.225, 'Art': 0.218, 'Food': 0.215, 'Belief': 0.208, 'Biology': 0.203, 'Culture': 0.201, 'Medicine': 0.194, 'Sport': 0.189, 'Statistics': 0.187, 'Philosophy': 0.186, 'Earth': 0.185, 'Crime': 0.182, 'Media': 0.176, 'Mathematics': 0.162, 'Religion': 0.161, 'Geography': 0.154, 'Technology': 0.151, 'Music': 0.146, 'Health': 0.143, 'War': 0.14, 'Electronics': 0.135, 'Sculpture': 0.132, 'Engineering': 0.128, 'Language': 0.123, 'Nature': 0.121, 'Exercise': 0.119, 'Science': 0.103, 'Recreation': 0.094, 'Literature': 0.092, 'Computing': 0.085, 'Society': 0.082, 'Transport': 0.031, 'Education': 0.025}\n",
      "Alchemy\n",
      "{'Fitness': 0.484, 'Art': 0.442, 'Culture': 0.434, 'Biology': 0.426, 'Games': 0.424, 'Life': 0.417, 'Earth': 0.403, 'Philosophy': 0.398, 'Statistics': 0.385, 'Medicine': 0.38, 'Internet': 0.369, 'Mathematics': 0.368, 'Dance': 0.366, 'Film': 0.359, 'Logic': 0.358, 'Belief': 0.355, 'Sport': 0.336, 'Food': 0.321, 'Painting': 0.32, 'Sculpture': 0.315, 'War': 0.308, 'Media': 0.307, 'Geography': 0.285, 'Crime': 0.284, 'Exercise': 0.281, 'Engineering': 0.279, 'Theatre': 0.265, 'Health': 0.265, 'Music': 0.264, 'Technology': 0.261, 'Electronics': 0.256, 'Language': 0.254, 'Science': 0.233, 'Literature': 0.213, 'Recreation': 0.198, 'Nature': 0.192, 'History': 0.184, 'Religion': 0.158, 'Society': 0.158, 'Computing': 0.123, 'Transport': 0.026, 'Education': 0.025, 'Architecture': 0.004}\n",
      "Alien\n",
      "{'Computing': 0.251, 'Recreation': 0.08, 'Philosophy': 0.077, 'Fitness': 0.076, 'Games': 0.072, 'Mathematics': 0.069, 'Statistics': 0.069, 'Life': 0.066, 'Biology': 0.066, 'Belief': 0.066, 'Art': 0.063, 'War': 0.063, 'Culture': 0.062, 'Engineering': 0.061, 'Sculpture': 0.06, 'Sport': 0.06, 'Internet': 0.059, 'Earth': 0.058, 'Medicine': 0.053, 'Education': 0.052, 'Language': 0.049, 'Society': 0.048, 'Dance': 0.047, 'Science': 0.047, 'Literature': 0.046, 'Exercise': 0.046, 'Technology': 0.045, 'Food': 0.042, 'History': 0.042, 'Music': 0.041, 'Painting': 0.041, 'Media': 0.039, 'Transport': 0.039, 'Geography': 0.038, 'Health': 0.036, 'Film': 0.035, 'Crime': 0.034, 'Electronics': 0.034, 'Logic': 0.032, 'Theatre': 0.027, 'Religion': 0.026, 'Nature': 0.023, 'Architecture': 0.016}\n",
      "Astronomer\n",
      "{'Fitness': 0.257, 'Internet': 0.244, 'Games': 0.243, 'Life': 0.224, 'Art': 0.222, 'Painting': 0.219, 'Film': 0.206, 'Logic': 0.204, 'Dance': 0.194, 'Biology': 0.187, 'Belief': 0.181, 'Medicine': 0.178, 'Sport': 0.176, 'Culture': 0.175, 'Food': 0.175, 'Philosophy': 0.171, 'History': 0.163, 'Earth': 0.162, 'Statistics': 0.162, 'Religion': 0.157, 'Media': 0.156, 'Crime': 0.148, 'Geography': 0.147, 'Mathematics': 0.137, 'Theatre': 0.135, 'Health': 0.133, 'Electronics': 0.133, 'Music': 0.128, 'Sculpture': 0.126, 'War': 0.126, 'Technology': 0.126, 'Engineering': 0.113, 'Language': 0.111, 'Exercise': 0.108, 'Nature': 0.101, 'Recreation': 0.094, 'Science': 0.093, 'Literature': 0.088, 'Society': 0.083, 'Computing': 0.079, 'Transport': 0.023, 'Education': 0.017}\n",
      "ASCII\n",
      "{'Mathematics': 0.5, 'Fitness': 0.484, 'Art': 0.471, 'Games': 0.437, 'Biology': 0.431, 'Culture': 0.426, 'Life': 0.421, 'Statistics': 0.412, 'Philosophy': 0.411, 'Belief': 0.403, 'Earth': 0.396, 'Sport': 0.393, 'Dance': 0.369, 'Medicine': 0.369, 'Painting': 0.361, 'Sculpture': 0.36, 'Engineering': 0.358, 'Internet': 0.354, 'War': 0.354, 'Food': 0.333, 'Film': 0.329, 'Logic': 0.32, 'Language': 0.309, 'Technology': 0.297, 'Music': 0.289, 'Exercise': 0.287, 'Media': 0.283, 'Crime': 0.283, 'Geography': 0.272, 'Science': 0.272, 'Health': 0.269, 'Recreation': 0.268, 'Literature': 0.267, 'Theatre': 0.252, 'Electronics': 0.246, 'Computing': 0.212, 'History': 0.205, 'Nature': 0.178, 'Society': 0.178, 'Religion': 0.14, 'Transport': 0.07, 'Education': 0.022, 'Architecture': 0.001}\n",
      "Austin (disambiguation)\n",
      "{'Education': 0.024, 'Sculpture': 0.016, 'Philosophy': 0.014, 'Earth': 0.013, 'Nature': 0.012, 'Belief': 0.012, 'Computing': 0.012, 'Fitness': 0.01, 'Religion': 0.01, 'Technology': 0.01, 'Dance': 0.009, 'History': 0.009, 'Film': 0.008, 'Statistics': 0.008, 'Language': 0.007, 'Art': 0.007, 'Life': 0.007, 'Crime': 0.007, 'Biology': 0.007, 'Society': 0.007, 'Culture': 0.006, 'Food': 0.006, 'Games': 0.006, 'Sport': 0.006, 'Media': 0.006, 'Internet': 0.006, 'Medicine': 0.006, 'War': 0.006, 'Theatre': 0.005, 'Painting': 0.005, 'Recreation': 0.005, 'Geography': 0.005, 'Exercise': 0.005, 'Logic': 0.005, 'Literature': 0.004, 'Music': 0.004, 'Health': 0.004, 'Mathematics': 0.004, 'Science': 0.004, 'Electronics': 0.004, 'Engineering': 0.004, 'Transport': 0.003}\n",
      "Animation\n",
      "{'Computing': 0.401, 'Fitness': 0.297, 'Life': 0.297, 'Philosophy': 0.297, 'Internet': 0.289, 'Games': 0.287, 'Society': 0.285, 'Logic': 0.267, 'Belief': 0.256, 'Culture': 0.247, 'Painting': 0.247, 'Biology': 0.245, 'Film': 0.238, 'Religion': 0.233, 'Food': 0.232, 'Art': 0.23, 'Sport': 0.227, 'Medicine': 0.224, 'Earth': 0.223, 'Dance': 0.221, 'Sculpture': 0.203, 'Statistics': 0.203, 'Media': 0.184, 'Music': 0.178, 'Geography': 0.178, 'Theatre': 0.175, 'Mathematics': 0.173, 'History': 0.169, 'Crime': 0.168, 'War': 0.165, 'Electronics': 0.156, 'Science': 0.153, 'Exercise': 0.152, 'Health': 0.15, 'Technology': 0.146, 'Engineering': 0.146, 'Nature': 0.139, 'Language': 0.134, 'Recreation': 0.126, 'Literature': 0.116, 'Education': 0.064, 'Transport': 0.029, 'Architecture': 0.007}\n",
      "Apollo\n",
      "{'Art': 0.437, 'Fitness': 0.41, 'Culture': 0.408, 'Earth': 0.385, 'Games': 0.382, 'Medicine': 0.37, 'Life': 0.369, 'Biology': 0.369, 'Mathematics': 0.367, 'Philosophy': 0.352, 'Statistics': 0.345, 'Internet': 0.341, 'Dance': 0.334, 'Film': 0.326, 'Belief': 0.314, 'Sport': 0.313, 'Exercise': 0.302, 'Logic': 0.302, 'Sculpture': 0.298, 'Painting': 0.297, 'War': 0.293, 'Food': 0.29, 'Geography': 0.273, 'Crime': 0.272, 'Engineering': 0.267, 'Media': 0.261, 'Technology': 0.259, 'Theatre': 0.256, 'Language': 0.252, 'Electronics': 0.247, 'Health': 0.245, 'Music': 0.238, 'Science': 0.222, 'Literature': 0.216, 'Recreation': 0.21, 'Nature': 0.185, 'History': 0.164, 'Society': 0.132, 'Computing': 0.111, 'Religion': 0.109, 'Transport': 0.029, 'Education': 0.018, 'Architecture': 0.004}\n",
      "Andre Agassi\n",
      "{'Games': 0.648, 'Art': 0.62, 'Fitness': 0.619, 'Life': 0.596, 'Internet': 0.574, 'Culture': 0.557, 'Painting': 0.55, 'Biology': 0.528, 'Medicine': 0.527, 'Philosophy': 0.524, 'Mathematics': 0.521, 'Film': 0.513, 'Earth': 0.504, 'Belief': 0.493, 'Logic': 0.492, 'Dance': 0.491, 'Electronics': 0.487, 'Sport': 0.473, 'Statistics': 0.467, 'Food': 0.452, 'Crime': 0.408, 'War': 0.398, 'Geography': 0.397, 'Sculpture': 0.394, 'Media': 0.386, 'Theatre': 0.38, 'Music': 0.366, 'Engineering': 0.366, 'Technology': 0.351, 'Language': 0.338, 'Health': 0.337, 'Exercise': 0.323, 'Science': 0.292, 'Literature': 0.284, 'Recreation': 0.275, 'History': 0.27, 'Nature': 0.257, 'Religion': 0.256, 'Society': 0.209, 'Computing': 0.208, 'Transport': 0.051, 'Education': 0.028, 'Architecture': 0.006}\n"
     ]
    }
   ],
   "source": [
    "for art in articles_test:\n",
    "    art['text_sims'] = tfdif_test_cosine([' '.join(art.get('text_tokens'))], vectorizer_wiki, trained_model_wiki)\n",
    "    art['text_sims'] = {k: v for k, v in sorted(art.get('text_sims').items(), key = lambda item: item[1], reverse=True)}\n",
    "    print(art.get('title'))\n",
    "    print(art.get('text_sims'))"
   ]
  },
  {
   "cell_type": "markdown",
   "metadata": {},
   "source": [
    "### Kosinusova podobnost  s testovacimi clankami - WIKI kategorie TFIDF"
   ]
  },
  {
   "cell_type": "markdown",
   "metadata": {},
   "source": [
    "### Anchor text - kosinusova podobnost"
   ]
  },
  {
   "cell_type": "code",
   "execution_count": 204,
   "metadata": {},
   "outputs": [
    {
     "name": "stdout",
     "output_type": "stream",
     "text": [
      "Anarchism\n",
      "{'Biology': 0.04, 'Earth': 0.039, 'Belief': 0.035, 'History': 0.033, 'Medicine': 0.03, 'Statistics': 0.029, 'Language': 0.027, 'Film': 0.025, 'Health': 0.021, 'Fitness': 0.021, 'War': 0.019, 'Culture': 0.016, 'Media': 0.016, 'Life': 0.016, 'Science': 0.016, 'Technology': 0.015, 'Religion': 0.014, 'Internet': 0.013, 'Sport': 0.012, 'Education': 0.012, 'Logic': 0.012, 'Dance': 0.011, 'Painting': 0.011, 'Sculpture': 0.011, 'Geography': 0.011, 'Exercise': 0.011, 'Crime': 0.011, 'Literature': 0.01, 'Theatre': 0.01, 'Games': 0.01, 'Philosophy': 0.01, 'Engineering': 0.01, 'Transport': 0.009, 'Nature': 0.009, 'Society': 0.009, 'Food': 0.008, 'Recreation': 0.007, 'Computing': 0.007, 'Electronics': 0.007, 'Art': 0.005, 'Music': 0.005, 'Mathematics': 0.005}\n",
      "Autism\n",
      "{'Media': 0.105, 'Crime': 0.059, 'Sculpture': 0.04, 'Logic': 0.04, 'Health': 0.037, 'Belief': 0.036, 'Culture': 0.035, 'Theatre': 0.035, 'Mathematics': 0.033, 'Film': 0.028, 'Fitness': 0.026, 'War': 0.025, 'Games': 0.024, 'History': 0.024, 'Earth': 0.021, 'Recreation': 0.02, 'Life': 0.02, 'Medicine': 0.02, 'Statistics': 0.019, 'Philosophy': 0.019, 'Biology': 0.018, 'Literature': 0.017, 'Dance': 0.017, 'Sport': 0.017, 'Geography': 0.017, 'Computing': 0.017, 'Language': 0.016, 'Music': 0.015, 'Internet': 0.015, 'Science': 0.015, 'Society': 0.015, 'Technology': 0.015, 'Engineering': 0.015, 'Food': 0.014, 'Exercise': 0.014, 'Transport': 0.014, 'Painting': 0.013, 'Nature': 0.013, 'Religion': 0.013, 'Art': 0.012, 'Electronics': 0.012, 'Education': 0.006}\n",
      "Albedo\n",
      "{'Religion': 0.058, 'Internet': 0.037, 'Art': 0.034, 'Fitness': 0.018, 'Food': 0.017, 'Music': 0.016, 'Games': 0.014, 'Nature': 0.014, 'Belief': 0.013, 'Logic': 0.012, 'Sport': 0.01, 'Life': 0.01, 'Language': 0.009, 'Film': 0.009, 'Sculpture': 0.009, 'Dance': 0.008, 'Painting': 0.007, 'Media': 0.007, 'Geography': 0.007, 'Exercise': 0.007, 'History': 0.007, 'Statistics': 0.007, 'Biology': 0.007, 'Computing': 0.007, 'Theatre': 0.006, 'Crime': 0.006, 'War': 0.006, 'Culture': 0.005, 'Earth': 0.005, 'Health': 0.005, 'Medicine': 0.005, 'Education': 0.005, 'Science': 0.005, 'Society': 0.005, 'Transport': 0.004, 'Mathematics': 0.004, 'Technology': 0.004, 'Literature': 0.003, 'Philosophy': 0.003, 'Engineering': 0.003, 'Recreation': 0.002, 'Electronics': 0.002}\n",
      "A\n",
      "{'Sculpture': 0.099, 'Philosophy': 0.041, 'Statistics': 0.035, 'Art': 0.033, 'Culture': 0.032, 'Fitness': 0.03, 'Sport': 0.029, 'Logic': 0.029, 'Engineering': 0.028, 'Earth': 0.027, 'Film': 0.026, 'Dance': 0.025, 'Media': 0.025, 'Medicine': 0.025, 'Biology': 0.025, 'Games': 0.024, 'Exercise': 0.024, 'Life': 0.023, 'Mathematics': 0.023, 'Language': 0.022, 'Painting': 0.022, 'Internet': 0.022, 'Geography': 0.022, 'Belief': 0.022, 'Technology': 0.022, 'Food': 0.019, 'Literature': 0.018, 'Health': 0.018, 'Science': 0.018, 'Electronics': 0.018, 'Theatre': 0.017, 'Society': 0.017, 'Recreation': 0.016, 'War': 0.016, 'Music': 0.015, 'Crime': 0.015, 'History': 0.013, 'Nature': 0.012, 'Religion': 0.009, 'Computing': 0.009, 'Education': 0.008, 'Transport': 0.001}\n",
      "Alabama\n",
      "{'Painting': 0.032, 'Crime': 0.032, 'Language': 0.029, 'Sculpture': 0.027, 'Medicine': 0.027, 'Belief': 0.027, 'Internet': 0.026, 'History': 0.026, 'Computing': 0.026, 'Health': 0.025, 'Film': 0.024, 'Exercise': 0.024, 'Media': 0.023, 'Statistics': 0.023, 'Nature': 0.023, 'Technology': 0.022, 'Geography': 0.02, 'Earth': 0.02, 'Fitness': 0.02, 'Life': 0.019, 'Mathematics': 0.019, 'Biology': 0.019, 'Religion': 0.017, 'Culture': 0.016, 'Art': 0.016, 'Dance': 0.016, 'Music': 0.015, 'Theatre': 0.015, 'War': 0.015, 'Logic': 0.015, 'Philosophy': 0.015, 'Games': 0.014, 'Science': 0.014, 'Electronics': 0.014, 'Sport': 0.013, 'Education': 0.013, 'Literature': 0.012, 'Recreation': 0.011, 'Society': 0.011, 'Transport': 0.01, 'Engineering': 0.01, 'Food': 0.009}\n",
      "Achilles\n",
      "{'Computing': 0.124, 'Philosophy': 0.078, 'Science': 0.071, 'Statistics': 0.057, 'Exercise': 0.043, 'Society': 0.038, 'Sculpture': 0.037, 'Religion': 0.034, 'Culture': 0.033, 'Internet': 0.03, 'Earth': 0.026, 'Fitness': 0.021, 'Geography': 0.02, 'Technology': 0.02, 'Biology': 0.019, 'Media': 0.018, 'Logic': 0.017, 'Language': 0.015, 'Dance': 0.015, 'Games': 0.014, 'Recreation': 0.014, 'Education': 0.014, 'Engineering': 0.014, 'Sport': 0.013, 'Life': 0.013, 'Literature': 0.012, 'Electronics': 0.012, 'Art': 0.011, 'Medicine': 0.011, 'Belief': 0.011, 'Film': 0.01, 'War': 0.01, 'History': 0.009, 'Food': 0.008, 'Nature': 0.008, 'Theatre': 0.007, 'Painting': 0.007, 'Health': 0.007, 'Crime': 0.007, 'Music': 0.006, 'Transport': 0.004, 'Mathematics': 0.004}\n",
      "Abraham Lincoln\n",
      "{'Medicine': 0.088, 'Language': 0.065, 'Statistics': 0.057, 'History': 0.046, 'Fitness': 0.043, 'Belief': 0.041, 'Earth': 0.039, 'Media': 0.038, 'Exercise': 0.036, 'Biology': 0.035, 'Film': 0.034, 'Painting': 0.033, 'Technology': 0.033, 'Sculpture': 0.032, 'Literature': 0.031, 'War': 0.031, 'Life': 0.03, 'Culture': 0.028, 'Dance': 0.028, 'Mathematics': 0.027, 'Logic': 0.027, 'Philosophy': 0.027, 'Nature': 0.026, 'Games': 0.025, 'Geography': 0.025, 'Computing': 0.025, 'Internet': 0.024, 'Crime': 0.024, 'Religion': 0.024, 'Society': 0.024, 'Art': 0.023, 'Science': 0.023, 'Engineering': 0.023, 'Recreation': 0.022, 'Electronics': 0.022, 'Theatre': 0.021, 'Health': 0.021, 'Music': 0.02, 'Education': 0.02, 'Transport': 0.02, 'Sport': 0.019, 'Food': 0.016}\n",
      "Aristotle\n",
      "{'Engineering': 0.107, 'Logic': 0.089, 'Fitness': 0.079, 'Biology': 0.076, 'Exercise': 0.072, 'Internet': 0.071, 'Games': 0.067, 'Art': 0.061, 'Culture': 0.054, 'Philosophy': 0.052, 'Sport': 0.049, 'Science': 0.047, 'Statistics': 0.046, 'Society': 0.046, 'Religion': 0.041, 'Dance': 0.04, 'Sculpture': 0.038, 'Recreation': 0.037, 'Life': 0.036, 'Language': 0.035, 'Film': 0.035, 'Media': 0.035, 'Belief': 0.035, 'Earth': 0.034, 'Mathematics': 0.034, 'Technology': 0.034, 'War': 0.033, 'Computing': 0.033, 'Medicine': 0.032, 'History': 0.032, 'Geography': 0.028, 'Transport': 0.028, 'Nature': 0.028, 'Literature': 0.027, 'Health': 0.026, 'Crime': 0.025, 'Music': 0.024, 'Theatre': 0.023, 'Electronics': 0.023, 'Food': 0.022, 'Painting': 0.019, 'Architecture': 0.015, 'Education': 0.012}\n",
      "An American in Paris\n",
      "{'Recreation': 0.142, 'Computing': 0.059, 'Literature': 0.028, 'Fitness': 0.023, 'Nature': 0.018, 'Society': 0.016, 'Science': 0.015, 'Philosophy': 0.014, 'Belief': 0.014, 'Statistics': 0.013, 'Technology': 0.012, 'Culture': 0.011, 'Exercise': 0.011, 'Biology': 0.011, 'Dance': 0.009, 'Geography': 0.009, 'Religion': 0.009, 'Earth': 0.008, 'Life': 0.008, 'Engineering': 0.008, 'Food': 0.007, 'Language': 0.007, 'Sport': 0.007, 'Media': 0.007, 'Sculpture': 0.006, 'Internet': 0.006, 'Logic': 0.006, 'Film': 0.005, 'Painting': 0.005, 'Crime': 0.005, 'War': 0.005, 'Art': 0.004, 'Games': 0.004, 'Health': 0.004, 'Medicine': 0.004, 'History': 0.004, 'Theatre': 0.003, 'Education': 0.003, 'Mathematics': 0.003, 'Electronics': 0.003, 'Music': 0.002, 'Transport': 0.002}\n",
      "Academy Award for Best Production Design\n",
      "{'Computing': 0.736, 'Culture': 0.069, 'Science': 0.039, 'Exercise': 0.038, 'Philosophy': 0.038, 'Education': 0.029, 'Society': 0.028, 'Belief': 0.022, 'Recreation': 0.021, 'Biology': 0.02, 'Fitness': 0.019, 'Technology': 0.018, 'Medicine': 0.017, 'Statistics': 0.017, 'Dance': 0.016, 'Film': 0.015, 'Sport': 0.014, 'Life': 0.014, 'Language': 0.013, 'Literature': 0.013, 'Geography': 0.013, 'Religion': 0.013, 'Art': 0.012, 'Games': 0.012, 'Media': 0.012, 'Earth': 0.012, 'Logic': 0.012, 'Internet': 0.011, 'History': 0.011, 'Painting': 0.01, 'Nature': 0.01, 'Food': 0.009, 'Theatre': 0.009, 'Electronics': 0.009, 'Sculpture': 0.008, 'Health': 0.008, 'War': 0.008, 'Engineering': 0.008, 'Music': 0.007, 'Crime': 0.006, 'Mathematics': 0.005, 'Transport': 0.003}\n",
      "Academy Awards\n",
      "{'Computing': 0.211, 'Society': 0.064, 'Philosophy': 0.05, 'Recreation': 0.031, 'Fitness': 0.03, 'Literature': 0.027, 'Education': 0.021, 'Dance': 0.02, 'Biology': 0.019, 'Sport': 0.018, 'Film': 0.016, 'History': 0.016, 'Statistics': 0.015, 'Belief': 0.015, 'Geography': 0.013, 'Exercise': 0.012, 'Science': 0.012, 'Religion': 0.012, 'Culture': 0.011, 'Painting': 0.011, 'Sculpture': 0.011, 'Games': 0.011, 'Internet': 0.011, 'Life': 0.011, 'Technology': 0.011, 'Media': 0.01, 'Medicine': 0.01, 'Logic': 0.01, 'Theatre': 0.009, 'Earth': 0.009, 'Language': 0.008, 'Art': 0.008, 'Music': 0.008, 'War': 0.008, 'Nature': 0.008, 'Electronics': 0.008, 'Food': 0.007, 'Health': 0.007, 'Crime': 0.006, 'Mathematics': 0.006, 'Engineering': 0.005, 'Transport': 0.003}\n",
      "Actrius\n",
      "{'Sculpture': 0.17, 'Dance': 0.021, 'Life': 0.02, 'Philosophy': 0.019, 'Technology': 0.019, 'Food': 0.016, 'History': 0.015, 'Engineering': 0.014, 'Statistics': 0.013, 'Nature': 0.013, 'Belief': 0.013, 'Science': 0.012, 'Religion': 0.011, 'Culture': 0.01, 'Painting': 0.01, 'Media': 0.01, 'Film': 0.009, 'Games': 0.008, 'Earth': 0.008, 'Electronics': 0.008, 'Fitness': 0.007, 'Exercise': 0.007, 'Language': 0.006, 'Geography': 0.006, 'Logic': 0.006, 'Biology': 0.006, 'Computing': 0.006, 'Art': 0.005, 'Sport': 0.005, 'Recreation': 0.005, 'Internet': 0.005, 'Medicine': 0.005, 'Society': 0.005, 'Literature': 0.004, 'Music': 0.003, 'Theatre': 0.003, 'Mathematics': 0.003, 'Health': 0.002, 'Crime': 0.002, 'War': 0.001}\n",
      "Animalia (book)\n",
      "{'Philosophy': 0.089, 'Biology': 0.031, 'Culture': 0.028, 'Fitness': 0.028, 'Society': 0.024, 'Film': 0.021, 'Life': 0.021, 'Logic': 0.021, 'Medicine': 0.02, 'Music': 0.019, 'Statistics': 0.019, 'Belief': 0.019, 'Computing': 0.019, 'Earth': 0.018, 'Sculpture': 0.017, 'Sport': 0.017, 'Dance': 0.016, 'Religion': 0.016, 'Painting': 0.015, 'Games': 0.015, 'Education': 0.015, 'Geography': 0.013, 'War': 0.013, 'Internet': 0.012, 'Science': 0.012, 'Electronics': 0.012, 'Food': 0.01, 'Literature': 0.01, 'Health': 0.01, 'Crime': 0.01, 'Engineering': 0.01, 'Media': 0.009, 'History': 0.009, 'Art': 0.007, 'Theatre': 0.007, 'Recreation': 0.007, 'Exercise': 0.007, 'Mathematics': 0.007, 'Language': 0.006, 'Nature': 0.006, 'Technology': 0.005}\n",
      "International Atomic Time\n",
      "{'Life': 0.045, 'Games': 0.03, 'Fitness': 0.029, 'Media': 0.027, 'Food': 0.025, 'Painting': 0.025, 'Religion': 0.025, 'Internet': 0.024, 'Health': 0.024, 'Dance': 0.023, 'Geography': 0.022, 'Film': 0.021, 'Philosophy': 0.021, 'Art': 0.02, 'Sport': 0.02, 'Mathematics': 0.02, 'Belief': 0.02, 'History': 0.018, 'Biology': 0.018, 'Music': 0.017, 'Medicine': 0.017, 'Crime': 0.016, 'Electronics': 0.016, 'Logic': 0.015, 'Statistics': 0.015, 'Technology': 0.015, 'Language': 0.014, 'Theatre': 0.014, 'Earth': 0.013, 'Nature': 0.013, 'Culture': 0.012, 'Transport': 0.012, 'Literature': 0.011, 'War': 0.011, 'Sculpture': 0.01, 'Recreation': 0.01, 'Science': 0.01, 'Society': 0.01, 'Engineering': 0.01, 'Education': 0.009, 'Computing': 0.009, 'Exercise': 0.008}\n",
      "Altruism\n",
      "{'Logic': 0.073, 'Biology': 0.071, 'Transport': 0.066, 'Fitness': 0.045, 'Architecture': 0.041, 'Media': 0.041, 'Earth': 0.036, 'Games': 0.032, 'History': 0.032, 'Belief': 0.029, 'Internet': 0.028, 'Crime': 0.026, 'Language': 0.024, 'Dance': 0.023, 'Geography': 0.023, 'Life': 0.023, 'Sport': 0.022, 'Medicine': 0.022, 'Mathematics': 0.022, 'War': 0.021, 'Film': 0.02, 'Statistics': 0.018, 'Culture': 0.017, 'Food': 0.017, 'Electronics': 0.017, 'Engineering': 0.017, 'Painting': 0.016, 'Health': 0.016, 'Music': 0.015, 'Religion': 0.015, 'Philosophy': 0.014, 'Sculpture': 0.013, 'Nature': 0.012, 'Theatre': 0.011, 'Science': 0.011, 'Art': 0.01, 'Technology': 0.01, 'Recreation': 0.009, 'Exercise': 0.008, 'Computing': 0.008, 'Literature': 0.007, 'Society': 0.007, 'Education': 0.005}\n",
      "Ayn Rand\n",
      "{'Computing': 0.164, 'Philosophy': 0.107, 'Society': 0.075, 'Statistics': 0.056, 'Biology': 0.052, 'Language': 0.047, 'Earth': 0.043, 'Fitness': 0.042, 'Belief': 0.039, 'History': 0.038, 'Sculpture': 0.035, 'Media': 0.033, 'Culture': 0.032, 'Film': 0.032, 'Medicine': 0.032, 'War': 0.027, 'Geography': 0.026, 'Logic': 0.026, 'Religion': 0.026, 'Life': 0.025, 'Internet': 0.024, 'Art': 0.022, 'Dance': 0.022, 'Painting': 0.021, 'Games': 0.021, 'Exercise': 0.02, 'Technology': 0.02, 'Engineering': 0.02, 'Recreation': 0.019, 'Crime': 0.019, 'Transport': 0.019, 'Health': 0.017, 'Food': 0.016, 'Literature': 0.016, 'Theatre': 0.016, 'Sport': 0.016, 'Nature': 0.016, 'Science': 0.015, 'Electronics': 0.013, 'Music': 0.012, 'Education': 0.012, 'Mathematics': 0.012}\n",
      "Alain Connes\n",
      "{'Sport': 0.08, 'Fitness': 0.077, 'Sculpture': 0.044, 'Food': 0.025, 'Religion': 0.024, 'Dance': 0.022, 'Film': 0.02, 'Logic': 0.02, 'Media': 0.017, 'Life': 0.016, 'Statistics': 0.016, 'Biology': 0.016, 'Health': 0.014, 'Engineering': 0.014, 'Medicine': 0.012, 'Games': 0.011, 'Internet': 0.011, 'History': 0.011, 'Transport': 0.011, 'Belief': 0.011, 'Geography': 0.01, 'Crime': 0.01, 'Culture': 0.009, 'Art': 0.009, 'Earth': 0.009, 'Philosophy': 0.009, 'Language': 0.008, 'Nature': 0.008, 'Education': 0.007, 'Technology': 0.007, 'Music': 0.006, 'Theatre': 0.006, 'Painting': 0.006, 'War': 0.006, 'Literature': 0.005, 'Recreation': 0.004, 'Mathematics': 0.004, 'Science': 0.004, 'Society': 0.004, 'Computing': 0.004, 'Electronics': 0.004, 'Exercise': 0.003}\n",
      "Allan Dwan\n",
      "{'Computing': 0.713, 'Education': 0.044, 'Philosophy': 0.021, 'Society': 0.016, 'Medicine': 0.014, 'Biology': 0.014, 'Exercise': 0.013, 'Life': 0.013, 'Statistics': 0.013, 'Belief': 0.013, 'Internet': 0.012, 'Culture': 0.011, 'History': 0.011, 'Crime': 0.011, 'Painting': 0.01, 'Health': 0.01, 'Science': 0.01, 'Language': 0.009, 'Film': 0.009, 'Music': 0.009, 'Games': 0.009, 'Fitness': 0.009, 'Electronics': 0.009, 'Theatre': 0.008, 'Recreation': 0.008, 'Media': 0.008, 'Earth': 0.008, 'Nature': 0.008, 'Technology': 0.008, 'Sculpture': 0.007, 'Logic': 0.007, 'Religion': 0.007, 'Food': 0.006, 'Art': 0.006, 'Dance': 0.006, 'Geography': 0.006, 'Literature': 0.005, 'Sport': 0.005, 'War': 0.005, 'Engineering': 0.004, 'Mathematics': 0.003, 'Transport': 0.002}\n",
      "Algeria\n",
      "{'Education': 0.064, 'Sculpture': 0.048, 'Medicine': 0.046, 'Statistics': 0.032, 'Earth': 0.031, 'Recreation': 0.03, 'Computing': 0.029, 'Film': 0.025, 'History': 0.025, 'Internet': 0.024, 'Exercise': 0.024, 'Religion': 0.024, 'Media': 0.023, 'Fitness': 0.023, 'Belief': 0.023, 'Biology': 0.022, 'Electronics': 0.022, 'Language': 0.02, 'Painting': 0.018, 'War': 0.018, 'Nature': 0.018, 'Dance': 0.017, 'Health': 0.017, 'Life': 0.017, 'Philosophy': 0.017, 'Technology': 0.017, 'Crime': 0.016, 'Sport': 0.015, 'Geography': 0.015, 'Science': 0.015, 'Society': 0.015, 'Culture': 0.014, 'Theatre': 0.014, 'Games': 0.014, 'Logic': 0.014, 'Literature': 0.013, 'Art': 0.011, 'Engineering': 0.011, 'Food': 0.01, 'Mathematics': 0.01, 'Music': 0.007, 'Transport': 0.001}\n",
      "List of Atlas Shrugged characters\n",
      "{'Exercise': 0.032, 'Biology': 0.019, 'Media': 0.016, 'Language': 0.015, 'Fitness': 0.011, 'Earth': 0.01, 'Philosophy': 0.01, 'Technology': 0.01, 'Film': 0.009, 'Medicine': 0.009, 'Science': 0.009, 'Life': 0.008, 'History': 0.008, 'Logic': 0.008, 'Statistics': 0.008, 'Religion': 0.008, 'Belief': 0.008, 'Society': 0.008, 'Computing': 0.008, 'Sculpture': 0.007, 'Games': 0.007, 'Geography': 0.007, 'War': 0.007, 'Transport': 0.007, 'Culture': 0.006, 'Literature': 0.006, 'Art': 0.006, 'Dance': 0.006, 'Painting': 0.006, 'Crime': 0.006, 'Electronics': 0.006, 'Sport': 0.005, 'Recreation': 0.005, 'Internet': 0.005, 'Health': 0.005, 'Nature': 0.004, 'Music': 0.003, 'Theatre': 0.003, 'Mathematics': 0.003, 'Education': 0.002, 'Engineering': 0.002, 'Food': 0.001}\n",
      "Anthropology\n",
      "{'Belief': 0.242, 'History': 0.126, 'Statistics': 0.103, 'Logic': 0.098, 'Sculpture': 0.073, 'Fitness': 0.063, 'Earth': 0.059, 'Life': 0.057, 'Religion': 0.05, 'Medicine': 0.047, 'Philosophy': 0.047, 'Media': 0.046, 'Culture': 0.04, 'Engineering': 0.04, 'Education': 0.039, 'Biology': 0.039, 'Internet': 0.038, 'Film': 0.037, 'Games': 0.037, 'Exercise': 0.035, 'Theatre': 0.033, 'Dance': 0.032, 'Recreation': 0.032, 'Crime': 0.032, 'Mathematics': 0.032, 'Sport': 0.03, 'Technology': 0.03, 'Language': 0.029, 'Geography': 0.029, 'Literature': 0.026, 'Food': 0.025, 'War': 0.025, 'Health': 0.023, 'Society': 0.023, 'Transport': 0.022, 'Science': 0.022, 'Art': 0.021, 'Painting': 0.019, 'Electronics': 0.019, 'Computing': 0.018, 'Music': 0.017, 'Nature': 0.014}\n",
      "Agricultural science\n",
      "{'Theatre': 0.174, 'Health': 0.129, 'Earth': 0.106, 'History': 0.079, 'Media': 0.07, 'Fitness': 0.064, 'Statistics': 0.049, 'Film': 0.034, 'Biology': 0.032, 'Logic': 0.03, 'Dance': 0.029, 'Internet': 0.027, 'Sport': 0.026, 'War': 0.025, 'Belief': 0.025, 'Life': 0.024, 'Religion': 0.024, 'Food': 0.022, 'Crime': 0.017, 'Technology': 0.017, 'Philosophy': 0.016, 'Culture': 0.014, 'Games': 0.014, 'Science': 0.014, 'Society': 0.014, 'Painting': 0.013, 'Medicine': 0.013, 'Nature': 0.012, 'Computing': 0.012, 'Language': 0.011, 'Art': 0.011, 'Education': 0.011, 'Music': 0.01, 'Recreation': 0.01, 'Engineering': 0.01, 'Sculpture': 0.009, 'Exercise': 0.008, 'Geography': 0.007, 'Transport': 0.007, 'Mathematics': 0.007, 'Literature': 0.006, 'Electronics': 0.004}\n",
      "Alchemy\n",
      "{'Media': 0.121, 'Fitness': 0.095, 'Statistics': 0.092, 'Biology': 0.077, 'Exercise': 0.062, 'Internet': 0.06, 'Earth': 0.059, 'Sculpture': 0.058, 'Art': 0.054, 'Life': 0.051, 'Religion': 0.051, 'Games': 0.047, 'Dance': 0.044, 'Philosophy': 0.038, 'Sport': 0.032, 'Recreation': 0.032, 'Logic': 0.032, 'Culture': 0.029, 'Science': 0.029, 'Technology': 0.028, 'Engineering': 0.028, 'Society': 0.027, 'Film': 0.026, 'Belief': 0.026, 'Nature': 0.023, 'Medicine': 0.022, 'History': 0.022, 'War': 0.021, 'Literature': 0.02, 'Food': 0.019, 'Geography': 0.019, 'Health': 0.018, 'Music': 0.017, 'Language': 0.016, 'Theatre': 0.016, 'Crime': 0.016, 'Mathematics': 0.016, 'Electronics': 0.015, 'Painting': 0.014, 'Computing': 0.012, 'Education': 0.011, 'Transport': 0.006}\n",
      "Alien\n",
      "{'Computing': 0.097, 'Philosophy': 0.03, 'Exercise': 0.029, 'Games': 0.026, 'Recreation': 0.026, 'Internet': 0.024, 'War': 0.024, 'Architecture': 0.023, 'Mathematics': 0.021, 'Fitness': 0.019, 'Life': 0.019, 'Statistics': 0.019, 'Biology': 0.019, 'Engineering': 0.019, 'Culture': 0.018, 'Belief': 0.018, 'Sculpture': 0.017, 'Sport': 0.017, 'Earth': 0.017, 'Medicine': 0.016, 'Transport': 0.016, 'Geography': 0.015, 'Education': 0.015, 'Science': 0.015, 'Art': 0.014, 'Society': 0.014, 'Electronics': 0.014, 'Language': 0.013, 'Literature': 0.013, 'Dance': 0.013, 'Painting': 0.013, 'Technology': 0.012, 'Music': 0.011, 'Media': 0.01, 'Health': 0.01, 'History': 0.01, 'Crime': 0.009, 'Food': 0.008, 'Film': 0.008, 'Theatre': 0.007, 'Logic': 0.006, 'Nature': 0.006, 'Religion': 0.004}\n",
      "Astronomer\n",
      "{'Fitness': 0.066, 'Biology': 0.051, 'Statistics': 0.046, 'Logic': 0.039, 'Internet': 0.03, 'Media': 0.029, 'Art': 0.026, 'Games': 0.025, 'Religion': 0.022, 'Sport': 0.021, 'Health': 0.02, 'History': 0.019, 'Transport': 0.019, 'Dance': 0.017, 'Food': 0.013, 'Life': 0.013, 'War': 0.013, 'Engineering': 0.013, 'Earth': 0.011, 'Belief': 0.011, 'Culture': 0.01, 'Education': 0.01, 'Technology': 0.01, 'Computing': 0.01, 'Medicine': 0.009, 'Film': 0.008, 'Sculpture': 0.008, 'Recreation': 0.008, 'Crime': 0.006, 'Philosophy': 0.006, 'Language': 0.005, 'Music': 0.005, 'Painting': 0.005, 'Science': 0.005, 'Society': 0.005, 'Exercise': 0.004, 'Nature': 0.004, 'Literature': 0.003, 'Theatre': 0.003, 'Geography': 0.003, 'Mathematics': 0.002, 'Electronics': 0.002}\n",
      "ASCII\n",
      "{'Food': 0.146, 'Sculpture': 0.123, 'Painting': 0.092, 'Dance': 0.083, 'Fitness': 0.079, 'Sport': 0.078, 'Music': 0.077, 'Health': 0.075, 'Art': 0.073, 'Philosophy': 0.072, 'Mathematics': 0.068, 'Culture': 0.067, 'Life': 0.065, 'Biology': 0.065, 'Statistics': 0.064, 'Earth': 0.062, 'Medicine': 0.062, 'Games': 0.061, 'Engineering': 0.058, 'Internet': 0.057, 'Film': 0.056, 'Language': 0.055, 'Belief': 0.054, 'War': 0.051, 'Logic': 0.05, 'Media': 0.049, 'Exercise': 0.049, 'Literature': 0.048, 'Recreation': 0.048, 'Geography': 0.047, 'Crime': 0.047, 'Science': 0.044, 'Technology': 0.044, 'Computing': 0.044, 'Theatre': 0.043, 'Society': 0.043, 'History': 0.042, 'Electronics': 0.04, 'Nature': 0.038, 'Religion': 0.035, 'Transport': 0.024, 'Education': 0.023, 'Architecture': 0.019}\n",
      "Austin (disambiguation)\n",
      "{'Recreation': 0.054, 'Sculpture': 0.049, 'Mathematics': 0.049, 'Philosophy': 0.047, 'Belief': 0.045, 'Fitness': 0.044, 'Statistics': 0.043, 'Biology': 0.042, 'Engineering': 0.042, 'Transport': 0.039, 'Sport': 0.038, 'War': 0.037, 'Culture': 0.036, 'Earth': 0.034, 'Computing': 0.033, 'Art': 0.032, 'Literature': 0.03, 'Music': 0.03, 'Life': 0.03, 'Language': 0.029, 'Games': 0.029, 'Dance': 0.028, 'Medicine': 0.026, 'Society': 0.026, 'Technology': 0.026, 'Exercise': 0.024, 'Science': 0.023, 'Media': 0.021, 'History': 0.021, 'Painting': 0.02, 'Geography': 0.02, 'Health': 0.02, 'Food': 0.019, 'Crime': 0.019, 'Internet': 0.017, 'Film': 0.016, 'Electronics': 0.016, 'Theatre': 0.015, 'Logic': 0.011, 'Nature': 0.009, 'Religion': 0.006}\n",
      "Animation\n",
      "{'Computing': 0.568, 'Exercise': 0.049, 'Food': 0.043, 'Medicine': 0.033, 'Education': 0.033, 'Internet': 0.03, 'Geography': 0.03, 'Science': 0.024, 'Philosophy': 0.023, 'Theatre': 0.021, 'Logic': 0.021, 'History': 0.02, 'Nature': 0.02, 'Culture': 0.019, 'Music': 0.019, 'Life': 0.018, 'Dance': 0.016, 'Painting': 0.016, 'Games': 0.016, 'Media': 0.016, 'Belief': 0.015, 'Biology': 0.014, 'Language': 0.013, 'Art': 0.013, 'Sculpture': 0.013, 'Fitness': 0.013, 'Transport': 0.013, 'Statistics': 0.013, 'Religion': 0.013, 'Society': 0.013, 'Sport': 0.012, 'Recreation': 0.012, 'Health': 0.012, 'Film': 0.011, 'Earth': 0.011, 'Electronics': 0.011, 'War': 0.01, 'Technology': 0.01, 'Engineering': 0.01, 'Literature': 0.009, 'Crime': 0.008, 'Mathematics': 0.008, 'Architecture': 0.004}\n",
      "Apollo\n",
      "{'Earth': 0.064, 'Exercise': 0.048, 'Sculpture': 0.04, 'Religion': 0.032, 'Society': 0.026, 'Culture': 0.024, 'Biology': 0.024, 'Life': 0.022, 'Philosophy': 0.022, 'Belief': 0.022, 'Science': 0.02, 'Fitness': 0.019, 'Art': 0.018, 'Internet': 0.018, 'Technology': 0.016, 'Language': 0.015, 'Media': 0.015, 'War': 0.015, 'Statistics': 0.015, 'Recreation': 0.014, 'Dance': 0.012, 'Sport': 0.012, 'Medicine': 0.012, 'History': 0.011, 'Games': 0.01, 'Education': 0.01, 'Logic': 0.01, 'Engineering': 0.01, 'Electronics': 0.009, 'Literature': 0.007, 'Film': 0.007, 'Geography': 0.007, 'Theatre': 0.006, 'Food': 0.005, 'Music': 0.005, 'Computing': 0.005, 'Health': 0.004, 'Crime': 0.004, 'Mathematics': 0.004, 'Nature': 0.004, 'Painting': 0.003, 'Transport': 0.001}\n",
      "Andre Agassi\n",
      "{'Electronics': 0.064, 'History': 0.024, 'Sculpture': 0.023, 'Culture': 0.019, 'Film': 0.019, 'Painting': 0.019, 'Geography': 0.018, 'Medicine': 0.018, 'Statistics': 0.018, 'Society': 0.018, 'Fitness': 0.017, 'Earth': 0.016, 'Mathematics': 0.016, 'Religion': 0.016, 'Food': 0.015, 'Recreation': 0.014, 'Exercise': 0.014, 'Belief': 0.014, 'Computing': 0.014, 'Language': 0.013, 'Crime': 0.013, 'Biology': 0.013, 'Games': 0.012, 'Internet': 0.012, 'Life': 0.012, 'Philosophy': 0.012, 'Dance': 0.011, 'Sport': 0.011, 'Media': 0.011, 'Art': 0.01, 'Health': 0.01, 'War': 0.01, 'Logic': 0.01, 'Literature': 0.009, 'Music': 0.009, 'Science': 0.009, 'Theatre': 0.008, 'Education': 0.008, 'Nature': 0.007, 'Technology': 0.007, 'Engineering': 0.007, 'Architecture': 0.003, 'Transport': 0.002}\n"
     ]
    },
    {
     "name": "stderr",
     "output_type": "stream",
     "text": [
      "<ipython-input-165-4c4a280a82e7>:11: RuntimeWarning: invalid value encountered in double_scalars\n",
      "  cx = lambda a, b : round(np.inner(a, b)/(LA.norm(a)*LA.norm(b)), 3)\n",
      "<ipython-input-165-4c4a280a82e7>:11: RuntimeWarning: invalid value encountered in double_scalars\n",
      "  cx = lambda a, b : round(np.inner(a, b)/(LA.norm(a)*LA.norm(b)), 3)\n",
      "<ipython-input-165-4c4a280a82e7>:11: RuntimeWarning: invalid value encountered in double_scalars\n",
      "  cx = lambda a, b : round(np.inner(a, b)/(LA.norm(a)*LA.norm(b)), 3)\n",
      "<ipython-input-165-4c4a280a82e7>:11: RuntimeWarning: invalid value encountered in double_scalars\n",
      "  cx = lambda a, b : round(np.inner(a, b)/(LA.norm(a)*LA.norm(b)), 3)\n",
      "<ipython-input-165-4c4a280a82e7>:11: RuntimeWarning: invalid value encountered in double_scalars\n",
      "  cx = lambda a, b : round(np.inner(a, b)/(LA.norm(a)*LA.norm(b)), 3)\n",
      "<ipython-input-165-4c4a280a82e7>:11: RuntimeWarning: invalid value encountered in double_scalars\n",
      "  cx = lambda a, b : round(np.inner(a, b)/(LA.norm(a)*LA.norm(b)), 3)\n",
      "<ipython-input-165-4c4a280a82e7>:11: RuntimeWarning: invalid value encountered in double_scalars\n",
      "  cx = lambda a, b : round(np.inner(a, b)/(LA.norm(a)*LA.norm(b)), 3)\n",
      "<ipython-input-165-4c4a280a82e7>:11: RuntimeWarning: invalid value encountered in double_scalars\n",
      "  cx = lambda a, b : round(np.inner(a, b)/(LA.norm(a)*LA.norm(b)), 3)\n",
      "<ipython-input-165-4c4a280a82e7>:11: RuntimeWarning: invalid value encountered in double_scalars\n",
      "  cx = lambda a, b : round(np.inner(a, b)/(LA.norm(a)*LA.norm(b)), 3)\n",
      "<ipython-input-165-4c4a280a82e7>:11: RuntimeWarning: invalid value encountered in double_scalars\n",
      "  cx = lambda a, b : round(np.inner(a, b)/(LA.norm(a)*LA.norm(b)), 3)\n",
      "<ipython-input-165-4c4a280a82e7>:11: RuntimeWarning: invalid value encountered in double_scalars\n",
      "  cx = lambda a, b : round(np.inner(a, b)/(LA.norm(a)*LA.norm(b)), 3)\n",
      "<ipython-input-165-4c4a280a82e7>:11: RuntimeWarning: invalid value encountered in double_scalars\n",
      "  cx = lambda a, b : round(np.inner(a, b)/(LA.norm(a)*LA.norm(b)), 3)\n",
      "<ipython-input-165-4c4a280a82e7>:11: RuntimeWarning: invalid value encountered in double_scalars\n",
      "  cx = lambda a, b : round(np.inner(a, b)/(LA.norm(a)*LA.norm(b)), 3)\n",
      "<ipython-input-165-4c4a280a82e7>:11: RuntimeWarning: invalid value encountered in double_scalars\n",
      "  cx = lambda a, b : round(np.inner(a, b)/(LA.norm(a)*LA.norm(b)), 3)\n",
      "<ipython-input-165-4c4a280a82e7>:11: RuntimeWarning: invalid value encountered in double_scalars\n",
      "  cx = lambda a, b : round(np.inner(a, b)/(LA.norm(a)*LA.norm(b)), 3)\n",
      "<ipython-input-165-4c4a280a82e7>:11: RuntimeWarning: invalid value encountered in double_scalars\n",
      "  cx = lambda a, b : round(np.inner(a, b)/(LA.norm(a)*LA.norm(b)), 3)\n",
      "<ipython-input-165-4c4a280a82e7>:11: RuntimeWarning: invalid value encountered in double_scalars\n",
      "  cx = lambda a, b : round(np.inner(a, b)/(LA.norm(a)*LA.norm(b)), 3)\n",
      "<ipython-input-165-4c4a280a82e7>:11: RuntimeWarning: invalid value encountered in double_scalars\n",
      "  cx = lambda a, b : round(np.inner(a, b)/(LA.norm(a)*LA.norm(b)), 3)\n",
      "<ipython-input-165-4c4a280a82e7>:11: RuntimeWarning: invalid value encountered in double_scalars\n",
      "  cx = lambda a, b : round(np.inner(a, b)/(LA.norm(a)*LA.norm(b)), 3)\n",
      "<ipython-input-165-4c4a280a82e7>:11: RuntimeWarning: invalid value encountered in double_scalars\n",
      "  cx = lambda a, b : round(np.inner(a, b)/(LA.norm(a)*LA.norm(b)), 3)\n",
      "<ipython-input-165-4c4a280a82e7>:11: RuntimeWarning: invalid value encountered in double_scalars\n",
      "  cx = lambda a, b : round(np.inner(a, b)/(LA.norm(a)*LA.norm(b)), 3)\n",
      "<ipython-input-165-4c4a280a82e7>:11: RuntimeWarning: invalid value encountered in double_scalars\n",
      "  cx = lambda a, b : round(np.inner(a, b)/(LA.norm(a)*LA.norm(b)), 3)\n",
      "<ipython-input-165-4c4a280a82e7>:11: RuntimeWarning: invalid value encountered in double_scalars\n",
      "  cx = lambda a, b : round(np.inner(a, b)/(LA.norm(a)*LA.norm(b)), 3)\n",
      "<ipython-input-165-4c4a280a82e7>:11: RuntimeWarning: invalid value encountered in double_scalars\n",
      "  cx = lambda a, b : round(np.inner(a, b)/(LA.norm(a)*LA.norm(b)), 3)\n",
      "<ipython-input-165-4c4a280a82e7>:11: RuntimeWarning: invalid value encountered in double_scalars\n",
      "  cx = lambda a, b : round(np.inner(a, b)/(LA.norm(a)*LA.norm(b)), 3)\n",
      "<ipython-input-165-4c4a280a82e7>:11: RuntimeWarning: invalid value encountered in double_scalars\n",
      "  cx = lambda a, b : round(np.inner(a, b)/(LA.norm(a)*LA.norm(b)), 3)\n",
      "<ipython-input-165-4c4a280a82e7>:11: RuntimeWarning: invalid value encountered in double_scalars\n",
      "  cx = lambda a, b : round(np.inner(a, b)/(LA.norm(a)*LA.norm(b)), 3)\n",
      "<ipython-input-165-4c4a280a82e7>:11: RuntimeWarning: invalid value encountered in double_scalars\n",
      "  cx = lambda a, b : round(np.inner(a, b)/(LA.norm(a)*LA.norm(b)), 3)\n",
      "<ipython-input-165-4c4a280a82e7>:11: RuntimeWarning: invalid value encountered in double_scalars\n",
      "  cx = lambda a, b : round(np.inner(a, b)/(LA.norm(a)*LA.norm(b)), 3)\n",
      "<ipython-input-165-4c4a280a82e7>:11: RuntimeWarning: invalid value encountered in double_scalars\n",
      "  cx = lambda a, b : round(np.inner(a, b)/(LA.norm(a)*LA.norm(b)), 3)\n"
     ]
    }
   ],
   "source": [
    "for art in articles_test:\n",
    "    art['anchor_sims_cat'] = tfdif_test_cosine([' '.join(art.get('anchors_tokens'))], vectorizer_wiki2, trained_model_wiki2)\n",
    "    art['anchor_sims_cat'] = {k: v for k, v in sorted(art.get('anchor_sims').items(), key = lambda item: item[1], reverse=True)}    \n",
    "    print(art.get('title'))\n",
    "    print(art.get('anchor_sims_cat'))"
   ]
  },
  {
   "cell_type": "markdown",
   "metadata": {},
   "source": [
    "### Kategorie Wiki - kosinusova podobnost"
   ]
  },
  {
   "cell_type": "code",
   "execution_count": 205,
   "metadata": {},
   "outputs": [
    {
     "name": "stdout",
     "output_type": "stream",
     "text": [
      "Anarchism\n",
      "{'History': 0.086, 'Belief': 0.078, 'Statistics': 0.043, 'Medicine': 0.03, 'Culture': 0.025, 'Earth': 0.025, 'Biology': 0.024, 'Fitness': 0.018, 'Language': 0.017, 'Film': 0.017, 'Life': 0.017, 'War': 0.017, 'Science': 0.015, 'Religion': 0.015, 'Literature': 0.014, 'Painting': 0.014, 'Education': 0.014, 'Sculpture': 0.012, 'Society': 0.012, 'Sport': 0.01, 'Philosophy': 0.01, 'Technology': 0.01, 'Health': 0.009, 'Exercise': 0.009, 'Crime': 0.009, 'Electronics': 0.009, 'Dance': 0.008, 'Theatre': 0.008, 'Recreation': 0.008, 'Geography': 0.008, 'Media': 0.007, 'Internet': 0.007, 'Engineering': 0.007, 'Computing': 0.006, 'Logic': 0.005, 'Art': 0.004, 'Mathematics': 0.004, 'Nature': 0.004, 'Music': 0.002, 'Games': 0.002, 'Food': 0.001}\n",
      "Autism\n",
      "{'Media': 0.043, 'Crime': 0.037, 'Sculpture': 0.015, 'Education': 0.015, 'Culture': 0.012, 'Film': 0.011, 'Painting': 0.01, 'War': 0.01, 'Earth': 0.009, 'Logic': 0.009, 'Theatre': 0.008, 'Mathematics': 0.008, 'Recreation': 0.007, 'Geography': 0.007, 'Medicine': 0.007, 'History': 0.007, 'Computing': 0.007, 'Language': 0.005, 'Fitness': 0.005, 'Science': 0.005, 'Philosophy': 0.005, 'Belief': 0.005, 'Literature': 0.004, 'Internet': 0.004, 'Life': 0.004, 'Electronics': 0.004, 'Dance': 0.003, 'Health': 0.003, 'Exercise': 0.003, 'Statistics': 0.003, 'Nature': 0.003, 'Engineering': 0.003, 'Food': 0.002, 'Music': 0.002, 'Sport': 0.002, 'Biology': 0.002, 'Religion': 0.002, 'Society': 0.002, 'Art': 0.001, 'Games': 0.001, 'Technology': 0.001}\n",
      "Albedo\n",
      "{'Internet': 0.052, 'Art': 0.029, 'Nature': 0.024, 'Religion': 0.023, 'Fitness': 0.014, 'History': 0.013, 'Sculpture': 0.011, 'Science': 0.011, 'Food': 0.01, 'Painting': 0.009, 'Language': 0.008, 'Music': 0.008, 'Health': 0.007, 'Exercise': 0.007, 'Mathematics': 0.007, 'Film': 0.006, 'Media': 0.006, 'Medicine': 0.006, 'Logic': 0.006, 'Statistics': 0.006, 'Belief': 0.006, 'Culture': 0.005, 'Theatre': 0.005, 'Sport': 0.005, 'Computing': 0.005, 'Games': 0.004, 'Earth': 0.004, 'Life': 0.004, 'Dance': 0.003, 'Crime': 0.003, 'Recreation': 0.002, 'War': 0.002, 'Biology': 0.002, 'Philosophy': 0.002, 'Society': 0.002, 'Technology': 0.002, 'Engineering': 0.002, 'Literature': 0.001, 'Geography': 0.001, 'Electronics': 0.001}\n",
      "A\n",
      "{'Sculpture': 0.036, 'Food': 0.016, 'Philosophy': 0.012, 'Logic': 0.008, 'Engineering': 0.008, 'Literature': 0.005, 'Film': 0.005, 'Music': 0.005, 'Geography': 0.005, 'Statistics': 0.005, 'Science': 0.005, 'Language': 0.004, 'Sport': 0.004, 'Fitness': 0.004, 'Nature': 0.004, 'Recreation': 0.003, 'Education': 0.003, 'Dance': 0.002, 'Painting': 0.002, 'Games': 0.002, 'Media': 0.002, 'Internet': 0.002, 'Earth': 0.002, 'Life': 0.002, 'History': 0.002, 'Biology': 0.002, 'Culture': 0.001, 'Art': 0.001, 'Theatre': 0.001, 'Health': 0.001, 'Exercise': 0.001, 'Crime': 0.001, 'Religion': 0.001, 'Belief': 0.001, 'Society': 0.001, 'Technology': 0.001}\n",
      "Alabama\n",
      "{'Language': 0.062, 'Transport': 0.033, 'Medicine': 0.029, 'Media': 0.028, 'History': 0.027, 'Film': 0.022, 'Statistics': 0.02, 'Crime': 0.019, 'Painting': 0.017, 'War': 0.017, 'Belief': 0.017, 'Geography': 0.015, 'Earth': 0.015, 'Fitness': 0.015, 'Logic': 0.015, 'Internet': 0.014, 'Religion': 0.014, 'Art': 0.013, 'Dance': 0.013, 'Life': 0.013, 'Technology': 0.013, 'Games': 0.012, 'Theatre': 0.011, 'Nature': 0.011, 'Culture': 0.01, 'Biology': 0.01, 'Literature': 0.009, 'Exercise': 0.009, 'Science': 0.009, 'Computing': 0.009, 'Sculpture': 0.008, 'Recreation': 0.008, 'Electronics': 0.008, 'Philosophy': 0.006, 'Music': 0.005, 'Health': 0.005, 'Education': 0.005, 'Mathematics': 0.005, 'Engineering': 0.004, 'Food': 0.003, 'Sport': 0.003, 'Society': 0.003}\n",
      "Achilles\n",
      "{'Medicine': 0.069, 'Philosophy': 0.065, 'Earth': 0.021, 'Statistics': 0.021, 'Society': 0.02, 'Exercise': 0.016, 'Recreation': 0.011, 'Language': 0.009, 'Fitness': 0.009, 'Science': 0.009, 'Biology': 0.008, 'Religion': 0.008, 'Literature': 0.007, 'Technology': 0.007, 'Culture': 0.006, 'Sport': 0.006, 'History': 0.006, 'War': 0.005, 'Belief': 0.005, 'Computing': 0.005, 'Art': 0.004, 'Media': 0.004, 'Internet': 0.004, 'Life': 0.004, 'Dance': 0.003, 'Film': 0.003, 'Geography': 0.003, 'Logic': 0.003, 'Electronics': 0.003, 'Engineering': 0.003, 'Painting': 0.002, 'Education': 0.002, 'Food': 0.001, 'Theatre': 0.001, 'Sculpture': 0.001, 'Games': 0.001, 'Crime': 0.001, 'Nature': 0.001}\n",
      "Abraham Lincoln\n",
      "{'Medicine': 0.065, 'Language': 0.052, 'History': 0.045, 'Belief': 0.034, 'Fitness': 0.031, 'Statistics': 0.031, 'Earth': 0.029, 'War': 0.029, 'Education': 0.026, 'Crime': 0.026, 'Film': 0.022, 'Biology': 0.02, 'Media': 0.019, 'Exercise': 0.019, 'Painting': 0.018, 'Nature': 0.018, 'Religion': 0.018, 'Literature': 0.016, 'Electronics': 0.016, 'Dance': 0.015, 'Life': 0.015, 'Technology': 0.015, 'Culture': 0.014, 'Geography': 0.014, 'Sculpture': 0.013, 'Computing': 0.013, 'Theatre': 0.012, 'Health': 0.012, 'Logic': 0.012, 'Recreation': 0.011, 'Science': 0.011, 'Society': 0.011, 'Internet': 0.01, 'Transport': 0.01, 'Mathematics': 0.01, 'Philosophy': 0.01, 'Art': 0.009, 'Games': 0.009, 'Sport': 0.007, 'Engineering': 0.007, 'Food': 0.005, 'Music': 0.004}\n",
      "Aristotle\n",
      "{'Biology': 0.214, 'Engineering': 0.128, 'Statistics': 0.088, 'Fitness': 0.087, 'Philosophy': 0.067, 'Belief': 0.059, 'Culture': 0.051, 'War': 0.048, 'Sport': 0.046, 'History': 0.046, 'Film': 0.045, 'Life': 0.041, 'Exercise': 0.038, 'Society': 0.037, 'Earth': 0.034, 'Technology': 0.033, 'Language': 0.032, 'Sculpture': 0.031, 'Media': 0.029, 'Dance': 0.028, 'Science': 0.028, 'Recreation': 0.024, 'Internet': 0.024, 'Religion': 0.024, 'Logic': 0.021, 'Games': 0.019, 'Education': 0.018, 'Literature': 0.016, 'Medicine': 0.016, 'Electronics': 0.016, 'Geography': 0.014, 'Health': 0.013, 'Food': 0.012, 'Music': 0.009, 'Painting': 0.009, 'Computing': 0.008, 'Art': 0.007, 'Crime': 0.007, 'Theatre': 0.006, 'Mathematics': 0.003, 'Nature': 0.003, 'Transport': 0.002}\n",
      "An American in Paris\n",
      "{'Recreation': 0.29, 'Literature': 0.056, 'Philosophy': 0.038, 'Science': 0.036, 'Society': 0.033, 'Geography': 0.02, 'Belief': 0.019, 'Culture': 0.014, 'Fitness': 0.014, 'Computing': 0.014, 'Exercise': 0.013, 'Technology': 0.013, 'Life': 0.01, 'Dance': 0.009, 'Statistics': 0.009, 'Biology': 0.009, 'Painting': 0.008, 'Logic': 0.008, 'Sport': 0.007, 'Earth': 0.007, 'Education': 0.007, 'Games': 0.006, 'History': 0.006, 'Art': 0.005, 'Film': 0.005, 'Media': 0.005, 'Internet': 0.005, 'Religion': 0.005, 'Sculpture': 0.004, 'Health': 0.004, 'War': 0.004, 'Engineering': 0.004, 'Theatre': 0.003, 'Medicine': 0.003, 'Electronics': 0.003, 'Language': 0.002, 'Mathematics': 0.002, 'Nature': 0.002, 'Food': 0.001, 'Music': 0.001, 'Crime': 0.001}\n",
      "Academy Award for Best Production Design\n",
      "{'Culture': 0.142, 'Science': 0.067, 'Exercise': 0.048, 'Philosophy': 0.04, 'Technology': 0.039, 'Dance': 0.033, 'Education': 0.028, 'Society': 0.023, 'Computing': 0.019, 'Fitness': 0.017, 'Literature': 0.016, 'Geography': 0.016, 'Film': 0.014, 'Music': 0.014, 'Sport': 0.014, 'Religion': 0.013, 'Belief': 0.013, 'Recreation': 0.012, 'Statistics': 0.011, 'Biology': 0.011, 'Electronics': 0.01, 'Food': 0.009, 'Theatre': 0.008, 'Health': 0.008, 'Life': 0.008, 'History': 0.008, 'Internet': 0.007, 'Sculpture': 0.006, 'Media': 0.006, 'Painting': 0.005, 'Nature': 0.005, 'Games': 0.004, 'Logic': 0.004, 'Art': 0.003, 'Earth': 0.003, 'Medicine': 0.003, 'Language': 0.002, 'War': 0.002, 'Crime': 0.001, 'Mathematics': 0.001, 'Engineering': 0.001}\n",
      "Academy Awards\n",
      "{'Computing': 0.144, 'Statistics': 0.06, 'Belief': 0.059, 'Culture': 0.048, 'Philosophy': 0.033, 'Science': 0.026, 'Fitness': 0.024, 'Literature': 0.02, 'Exercise': 0.02, 'Society': 0.02, 'Recreation': 0.019, 'Biology': 0.017, 'History': 0.016, 'Electronics': 0.015, 'Geography': 0.014, 'Earth': 0.014, 'Life': 0.014, 'Dance': 0.012, 'Painting': 0.012, 'Internet': 0.012, 'Film': 0.011, 'Sport': 0.011, 'Language': 0.01, 'Media': 0.01, 'Medicine': 0.01, 'Education': 0.01, 'Crime': 0.009, 'Logic': 0.009, 'Religion': 0.009, 'Music': 0.008, 'Theatre': 0.008, 'Sculpture': 0.008, 'Technology': 0.008, 'Nature': 0.007, 'Art': 0.006, 'Games': 0.006, 'Health': 0.006, 'Food': 0.005, 'War': 0.005, 'Mathematics': 0.005, 'Engineering': 0.004}\n",
      "Actrius\n",
      "{'Computing': 0.642, 'Society': 0.078, 'Sculpture': 0.059, 'Philosophy': 0.057, 'Education': 0.019, 'Biology': 0.009, 'Belief': 0.009, 'Culture': 0.008, 'Literature': 0.007, 'Language': 0.006, 'Statistics': 0.006, 'Film': 0.005, 'Painting': 0.005, 'Exercise': 0.005, 'Science': 0.005, 'Sport': 0.004, 'Media': 0.004, 'Religion': 0.004, 'Engineering': 0.004, 'Earth': 0.003, 'Life': 0.003, 'Nature': 0.003, 'Electronics': 0.003, 'Food': 0.002, 'Theatre': 0.002, 'Games': 0.002, 'Recreation': 0.002, 'Health': 0.002, 'Medicine': 0.002, 'Logic': 0.002, 'Technology': 0.002, 'Art': 0.001, 'Dance': 0.001, 'Internet': 0.001, 'Geography': 0.001, 'Fitness': 0.001, 'History': 0.001, 'War': 0.001}\n",
      "Animalia (book)\n",
      "{'Biology': 0.077, 'Culture': 0.073, 'Fitness': 0.072, 'Philosophy': 0.072, 'Logic': 0.055, 'Life': 0.054, 'Music': 0.046, 'Earth': 0.045, 'Medicine': 0.045, 'Statistics': 0.045, 'Religion': 0.045, 'Belief': 0.044, 'Dance': 0.043, 'Sculpture': 0.043, 'Sport': 0.043, 'Computing': 0.041, 'Games': 0.04, 'Society': 0.039, 'Film': 0.035, 'Geography': 0.035, 'War': 0.031, 'Engineering': 0.031, 'Food': 0.023, 'Art': 0.022, 'Painting': 0.022, 'Health': 0.022, 'Literature': 0.021, 'Media': 0.021, 'Internet': 0.021, 'History': 0.021, 'Language': 0.017, 'Electronics': 0.017, 'Recreation': 0.014, 'Crime': 0.014, 'Science': 0.013, 'Technology': 0.013, 'Theatre': 0.012, 'Nature': 0.012, 'Mathematics': 0.011, 'Exercise': 0.006, 'Education': 0.003}\n",
      "International Atomic Time\n",
      "{'Recreation': 0.025, 'Geography': 0.025, 'Dance': 0.017, 'Internet': 0.016, 'Food': 0.014, 'Life': 0.014, 'Medicine': 0.014, 'Logic': 0.014, 'Society': 0.014, 'Theatre': 0.013, 'Statistics': 0.013, 'Technology': 0.013, 'Music': 0.012, 'Fitness': 0.012, 'Culture': 0.011, 'Literature': 0.011, 'Art': 0.011, 'Painting': 0.011, 'Games': 0.011, 'History': 0.011, 'Crime': 0.011, 'Nature': 0.011, 'Religion': 0.011, 'Language': 0.01, 'Electronics': 0.01, 'Sport': 0.009, 'Science': 0.009, 'Film': 0.008, 'Media': 0.007, 'War': 0.007, 'Engineering': 0.007, 'Health': 0.005, 'Exercise': 0.005, 'Biology': 0.005, 'Earth': 0.004, 'Philosophy': 0.004, 'Belief': 0.004, 'Sculpture': 0.003, 'Computing': 0.003, 'Mathematics': 0.002}\n",
      "Altruism\n",
      "{'Biology': 0.078, 'Language': 0.029, 'History': 0.028, 'Logic': 0.023, 'Belief': 0.021, 'Film': 0.02, 'Transport': 0.02, 'Earth': 0.019, 'Dance': 0.018, 'Fitness': 0.017, 'War': 0.016, 'Statistics': 0.015, 'Philosophy': 0.013, 'Culture': 0.01, 'Life': 0.01, 'Engineering': 0.01, 'Painting': 0.009, 'Recreation': 0.009, 'Crime': 0.009, 'Games': 0.008, 'Media': 0.008, 'Medicine': 0.007, 'Education': 0.007, 'Literature': 0.006, 'Sculpture': 0.006, 'Health': 0.006, 'Technology': 0.006, 'Sport': 0.005, 'Religion': 0.005, 'Internet': 0.004, 'Geography': 0.004, 'Mathematics': 0.004, 'Art': 0.003, 'Theatre': 0.003, 'Science': 0.003, 'Society': 0.003, 'Computing': 0.003, 'Electronics': 0.003, 'Exercise': 0.002, 'Food': 0.001, 'Music': 0.001, 'Nature': 0.001}\n",
      "Ayn Rand\n",
      "{'Biology': 0.064, 'Fitness': 0.045, 'Statistics': 0.035, 'Religion': 0.034, 'Philosophy': 0.031, 'Belief': 0.031, 'Society': 0.031, 'Culture': 0.03, 'Medicine': 0.03, 'Earth': 0.028, 'War': 0.026, 'History': 0.025, 'Life': 0.024, 'Science': 0.024, 'Language': 0.022, 'Exercise': 0.021, 'Transport': 0.021, 'Recreation': 0.018, 'Film': 0.017, 'Computing': 0.017, 'Technology': 0.015, 'Dance': 0.014, 'Literature': 0.013, 'Sport': 0.013, 'Geography': 0.013, 'Logic': 0.013, 'Painting': 0.012, 'Health': 0.012, 'Engineering': 0.012, 'Sculpture': 0.011, 'Media': 0.011, 'Crime': 0.011, 'Games': 0.01, 'Internet': 0.01, 'Education': 0.01, 'Electronics': 0.01, 'Art': 0.009, 'Mathematics': 0.009, 'Theatre': 0.008, 'Food': 0.007, 'Nature': 0.007, 'Music': 0.002}\n",
      "Alain Connes\n",
      "{'Sport': 0.112, 'Fitness': 0.108, 'Religion': 0.048, 'Statistics': 0.047, 'Film': 0.045, 'History': 0.044, 'Dance': 0.04, 'Biology': 0.037, 'Food': 0.036, 'Logic': 0.035, 'Media': 0.032, 'Life': 0.032, 'Belief': 0.031, 'Philosophy': 0.027, 'Health': 0.026, 'Technology': 0.023, 'Exercise': 0.022, 'Engineering': 0.022, 'Earth': 0.021, 'Transport': 0.021, 'Culture': 0.02, 'Internet': 0.019, 'Geography': 0.019, 'Medicine': 0.019, 'Electronics': 0.019, 'Recreation': 0.018, 'Crime': 0.018, 'Literature': 0.017, 'Sculpture': 0.017, 'Games': 0.017, 'Society': 0.017, 'Language': 0.016, 'Art': 0.014, 'War': 0.014, 'Music': 0.013, 'Painting': 0.013, 'Mathematics': 0.013, 'Science': 0.013, 'Computing': 0.012, 'Theatre': 0.011, 'Nature': 0.011, 'Education': 0.009}\n",
      "Allan Dwan\n",
      "{'Computing': 0.326, 'Philosophy': 0.03, 'Society': 0.028, 'Medicine': 0.025, 'Belief': 0.023, 'Exercise': 0.021, 'Biology': 0.018, 'Fitness': 0.017, 'Statistics': 0.017, 'Science': 0.017, 'Recreation': 0.016, 'History': 0.016, 'Language': 0.015, 'Life': 0.015, 'Education': 0.014, 'Religion': 0.014, 'Culture': 0.013, 'Media': 0.011, 'Earth': 0.011, 'Literature': 0.01, 'Dance': 0.01, 'Film': 0.01, 'Technology': 0.01, 'Painting': 0.009, 'Games': 0.009, 'Sculpture': 0.008, 'Crime': 0.008, 'Art': 0.007, 'Theatre': 0.007, 'Sport': 0.007, 'Logic': 0.007, 'Internet': 0.006, 'Health': 0.006, 'War': 0.006, 'Mathematics': 0.005, 'Nature': 0.005, 'Electronics': 0.005, 'Geography': 0.004, 'Engineering': 0.003, 'Food': 0.002, 'Transport': 0.002, 'Music': 0.001}\n",
      "Algeria\n",
      "{'History': 0.044, 'Film': 0.037, 'Language': 0.034, 'Earth': 0.03, 'Medicine': 0.029, 'Painting': 0.028, 'Media': 0.027, 'Education': 0.024, 'Statistics': 0.023, 'Theatre': 0.017, 'Fitness': 0.016, 'Literature': 0.015, 'Crime': 0.015, 'Nature': 0.015, 'Electronics': 0.015, 'Sculpture': 0.014, 'Transport': 0.014, 'Technology': 0.014, 'Dance': 0.013, 'Exercise': 0.013, 'Biology': 0.013, 'Belief': 0.013, 'Religion': 0.012, 'War': 0.01, 'Recreation': 0.009, 'Computing': 0.009, 'Health': 0.008, 'Logic': 0.008, 'Culture': 0.007, 'Internet': 0.007, 'Geography': 0.007, 'Life': 0.007, 'Science': 0.007, 'Art': 0.006, 'Mathematics': 0.006, 'Games': 0.005, 'Sport': 0.005, 'Society': 0.005, 'Philosophy': 0.003, 'Engineering': 0.003, 'Food': 0.002, 'Music': 0.002}\n",
      "List of Atlas Shrugged characters\n",
      "{'Philosophy': 0.147, 'Society': 0.018, 'Culture': 0.015, 'Computing': 0.01, 'Literature': 0.009, 'Biology': 0.009, 'Media': 0.006, 'Life': 0.006, 'Science': 0.006, 'Religion': 0.006, 'Sculpture': 0.005, 'Recreation': 0.005, 'Geography': 0.005, 'Fitness': 0.005, 'Logic': 0.005, 'Belief': 0.005, 'Language': 0.004, 'Dance': 0.004, 'Earth': 0.004, 'Health': 0.004, 'Statistics': 0.004, 'Painting': 0.003, 'Internet': 0.003, 'Medicine': 0.003, 'Engineering': 0.003, 'Games': 0.002, 'Sport': 0.002, 'History': 0.002, 'Education': 0.002, 'Food': 0.001, 'Art': 0.001, 'Film': 0.001, 'Theatre': 0.001, 'Exercise': 0.001, 'War': 0.001, 'Mathematics': 0.001, 'Technology': 0.001, 'Electronics': 0.001}\n",
      "Anthropology\n",
      "{'Belief': 0.083, 'Earth': 0.012, 'Life': 0.012, 'Medicine': 0.008, 'History': 0.008, 'Statistics': 0.008, 'Sculpture': 0.006, 'Media': 0.006, 'Philosophy': 0.005, 'Religion': 0.005, 'Fitness': 0.003, 'Culture': 0.002, 'Recreation': 0.002, 'Exercise': 0.001}\n",
      "Agricultural science\n",
      "{'Fitness': 0.026, 'Theatre': 0.023, 'History': 0.022, 'Internet': 0.018, 'Logic': 0.013, 'Film': 0.01, 'Art': 0.009, 'Life': 0.009, 'Belief': 0.008, 'Painting': 0.007, 'Games': 0.007, 'Health': 0.007, 'Dance': 0.006, 'Media': 0.006, 'Crime': 0.006, 'Food': 0.005, 'Mathematics': 0.005, 'Culture': 0.004, 'War': 0.004, 'Statistics': 0.004, 'Philosophy': 0.004, 'Religion': 0.004, 'Sport': 0.003, 'Geography': 0.003, 'Nature': 0.003, 'Language': 0.002, 'Engineering': 0.002, 'Sculpture': 0.001, 'Recreation': 0.001, 'Earth': 0.001, 'Exercise': 0.001, 'Medicine': 0.001, 'Biology': 0.001, 'Society': 0.001, 'Technology': 0.001}\n",
      "Alchemy\n",
      "{'Fitness': 0.017, 'Sport': 0.002, 'Statistics': 0.002}\n",
      "Alien\n",
      "{}\n",
      "Astronomer\n",
      "{'Fitness': 0.088, 'Crime': 0.03, 'Religion': 0.029, 'Art': 0.023, 'Sport': 0.022, 'Food': 0.021, 'Dance': 0.02, 'Biology': 0.018, 'Media': 0.015, 'Life': 0.014, 'Transport': 0.012, 'Internet': 0.011, 'Health': 0.011, 'Logic': 0.011, 'Film': 0.009, 'Games': 0.009, 'Geography': 0.009, 'Statistics': 0.009, 'History': 0.006, 'Education': 0.006, 'Belief': 0.006, 'Earth': 0.005, 'Mathematics': 0.004, 'Technology': 0.004, 'Culture': 0.003, 'Language': 0.003, 'Engineering': 0.003, 'Music': 0.002, 'Theatre': 0.002, 'Painting': 0.002, 'War': 0.002, 'Philosophy': 0.002, 'Society': 0.002, 'Literature': 0.001, 'Sculpture': 0.001, 'Recreation': 0.001, 'Electronics': 0.001}\n",
      "ASCII\n",
      "{'Painting': 0.044, 'Sculpture': 0.022, 'Society': 0.019, 'Food': 0.017, 'Philosophy': 0.015, 'Science': 0.012, 'Internet': 0.011, 'Sport': 0.01, 'Fitness': 0.01, 'Education': 0.01, 'Literature': 0.009, 'Logic': 0.009, 'Religion': 0.009, 'Computing': 0.009, 'Engineering': 0.009, 'Language': 0.008, 'Biology': 0.008, 'Art': 0.007, 'War': 0.007, 'Statistics': 0.007, 'Culture': 0.006, 'Dance': 0.006, 'Earth': 0.006, 'Health': 0.006, 'History': 0.006, 'Film': 0.005, 'Recreation': 0.005, 'Geography': 0.005, 'Exercise': 0.005, 'Life': 0.005, 'Belief': 0.005, 'Media': 0.004, 'Theatre': 0.003, 'Games': 0.003, 'Crime': 0.003, 'Technology': 0.003, 'Music': 0.002, 'Medicine': 0.002, 'Mathematics': 0.002, 'Nature': 0.002, 'Electronics': 0.002}\n",
      "Austin (disambiguation)\n",
      "{}\n",
      "Animation\n",
      "{'Computing': 0.258, 'Life': 0.068, 'Education': 0.032, 'Painting': 0.023, 'History': 0.02, 'Geography': 0.016, 'Logic': 0.013, 'Culture': 0.012, 'Theatre': 0.012, 'Internet': 0.012, 'Food': 0.01, 'Dance': 0.01, 'Science': 0.01, 'Music': 0.009, 'Electronics': 0.009, 'Media': 0.008, 'Nature': 0.008, 'Exercise': 0.007, 'Film': 0.006, 'Recreation': 0.006, 'Fitness': 0.006, 'Philosophy': 0.006, 'Sculpture': 0.005, 'Games': 0.005, 'Biology': 0.005, 'Language': 0.004, 'Art': 0.004, 'Earth': 0.004, 'Health': 0.004, 'Belief': 0.004, 'Society': 0.004, 'Technology': 0.004, 'Medicine': 0.003, 'Religion': 0.003, 'Sport': 0.002, 'Crime': 0.002, 'War': 0.002, 'Statistics': 0.002, 'Literature': 0.001, 'Mathematics': 0.001, 'Engineering': 0.001}\n",
      "Apollo\n",
      "{'Earth': 0.053, 'Crime': 0.045, 'Exercise': 0.039, 'Culture': 0.036, 'War': 0.034, 'Science': 0.02, 'Society': 0.018, 'Media': 0.016, 'Technology': 0.016, 'Art': 0.014, 'Biology': 0.014, 'Fitness': 0.013, 'Statistics': 0.012, 'Recreation': 0.011, 'Internet': 0.011, 'Transport': 0.009, 'Philosophy': 0.009, 'Sport': 0.008, 'Life': 0.007, 'Religion': 0.007, 'Language': 0.006, 'Dance': 0.006, 'Electronics': 0.006, 'Geography': 0.005, 'Belief': 0.005, 'Food': 0.004, 'Film': 0.004, 'Education': 0.004, 'Mathematics': 0.004, 'Logic': 0.004, 'Literature': 0.003, 'Theatre': 0.003, 'Games': 0.003, 'Nature': 0.003, 'Medicine': 0.002, 'History': 0.002, 'Computing': 0.002, 'Engineering': 0.002, 'Sculpture': 0.001, 'Health': 0.001}\n",
      "Andre Agassi\n",
      "{'Electronics': 0.061, 'Education': 0.019, 'History': 0.017, 'Belief': 0.015, 'Statistics': 0.014, 'Recreation': 0.013, 'Earth': 0.011, 'Exercise': 0.011, 'Medicine': 0.011, 'Biology': 0.011, 'Film': 0.01, 'Fitness': 0.01, 'War': 0.01, 'Religion': 0.01, 'Literature': 0.009, 'Painting': 0.009, 'Life': 0.009, 'Crime': 0.009, 'Mathematics': 0.009, 'Language': 0.008, 'Logic': 0.008, 'Philosophy': 0.008, 'Society': 0.008, 'Computing': 0.008, 'Culture': 0.007, 'Dance': 0.007, 'Sculpture': 0.007, 'Nature': 0.007, 'Science': 0.007, 'Theatre': 0.006, 'Media': 0.006, 'Internet': 0.006, 'Geography': 0.006, 'Sport': 0.005, 'Health': 0.005, 'Technology': 0.005, 'Art': 0.004, 'Games': 0.004, 'Food': 0.003, 'Music': 0.002, 'Transport': 0.002, 'Engineering': 0.002}\n"
     ]
    },
    {
     "name": "stderr",
     "output_type": "stream",
     "text": [
      "<ipython-input-165-4c4a280a82e7>:11: RuntimeWarning: invalid value encountered in double_scalars\n",
      "  cx = lambda a, b : round(np.inner(a, b)/(LA.norm(a)*LA.norm(b)), 3)\n",
      "<ipython-input-165-4c4a280a82e7>:11: RuntimeWarning: invalid value encountered in double_scalars\n",
      "  cx = lambda a, b : round(np.inner(a, b)/(LA.norm(a)*LA.norm(b)), 3)\n",
      "<ipython-input-165-4c4a280a82e7>:11: RuntimeWarning: invalid value encountered in double_scalars\n",
      "  cx = lambda a, b : round(np.inner(a, b)/(LA.norm(a)*LA.norm(b)), 3)\n",
      "<ipython-input-165-4c4a280a82e7>:11: RuntimeWarning: invalid value encountered in double_scalars\n",
      "  cx = lambda a, b : round(np.inner(a, b)/(LA.norm(a)*LA.norm(b)), 3)\n",
      "<ipython-input-165-4c4a280a82e7>:11: RuntimeWarning: invalid value encountered in double_scalars\n",
      "  cx = lambda a, b : round(np.inner(a, b)/(LA.norm(a)*LA.norm(b)), 3)\n",
      "<ipython-input-165-4c4a280a82e7>:11: RuntimeWarning: invalid value encountered in double_scalars\n",
      "  cx = lambda a, b : round(np.inner(a, b)/(LA.norm(a)*LA.norm(b)), 3)\n",
      "<ipython-input-165-4c4a280a82e7>:11: RuntimeWarning: invalid value encountered in double_scalars\n",
      "  cx = lambda a, b : round(np.inner(a, b)/(LA.norm(a)*LA.norm(b)), 3)\n",
      "<ipython-input-165-4c4a280a82e7>:11: RuntimeWarning: invalid value encountered in double_scalars\n",
      "  cx = lambda a, b : round(np.inner(a, b)/(LA.norm(a)*LA.norm(b)), 3)\n",
      "<ipython-input-165-4c4a280a82e7>:11: RuntimeWarning: invalid value encountered in double_scalars\n",
      "  cx = lambda a, b : round(np.inner(a, b)/(LA.norm(a)*LA.norm(b)), 3)\n",
      "<ipython-input-165-4c4a280a82e7>:11: RuntimeWarning: invalid value encountered in double_scalars\n",
      "  cx = lambda a, b : round(np.inner(a, b)/(LA.norm(a)*LA.norm(b)), 3)\n",
      "<ipython-input-165-4c4a280a82e7>:11: RuntimeWarning: invalid value encountered in double_scalars\n",
      "  cx = lambda a, b : round(np.inner(a, b)/(LA.norm(a)*LA.norm(b)), 3)\n",
      "<ipython-input-165-4c4a280a82e7>:11: RuntimeWarning: invalid value encountered in double_scalars\n",
      "  cx = lambda a, b : round(np.inner(a, b)/(LA.norm(a)*LA.norm(b)), 3)\n",
      "<ipython-input-165-4c4a280a82e7>:11: RuntimeWarning: invalid value encountered in double_scalars\n",
      "  cx = lambda a, b : round(np.inner(a, b)/(LA.norm(a)*LA.norm(b)), 3)\n",
      "<ipython-input-165-4c4a280a82e7>:11: RuntimeWarning: invalid value encountered in double_scalars\n",
      "  cx = lambda a, b : round(np.inner(a, b)/(LA.norm(a)*LA.norm(b)), 3)\n",
      "<ipython-input-165-4c4a280a82e7>:11: RuntimeWarning: invalid value encountered in double_scalars\n",
      "  cx = lambda a, b : round(np.inner(a, b)/(LA.norm(a)*LA.norm(b)), 3)\n",
      "<ipython-input-165-4c4a280a82e7>:11: RuntimeWarning: invalid value encountered in double_scalars\n",
      "  cx = lambda a, b : round(np.inner(a, b)/(LA.norm(a)*LA.norm(b)), 3)\n",
      "<ipython-input-165-4c4a280a82e7>:11: RuntimeWarning: invalid value encountered in double_scalars\n",
      "  cx = lambda a, b : round(np.inner(a, b)/(LA.norm(a)*LA.norm(b)), 3)\n",
      "<ipython-input-165-4c4a280a82e7>:11: RuntimeWarning: invalid value encountered in double_scalars\n",
      "  cx = lambda a, b : round(np.inner(a, b)/(LA.norm(a)*LA.norm(b)), 3)\n",
      "<ipython-input-165-4c4a280a82e7>:11: RuntimeWarning: invalid value encountered in double_scalars\n",
      "  cx = lambda a, b : round(np.inner(a, b)/(LA.norm(a)*LA.norm(b)), 3)\n",
      "<ipython-input-165-4c4a280a82e7>:11: RuntimeWarning: invalid value encountered in double_scalars\n",
      "  cx = lambda a, b : round(np.inner(a, b)/(LA.norm(a)*LA.norm(b)), 3)\n",
      "<ipython-input-165-4c4a280a82e7>:11: RuntimeWarning: invalid value encountered in double_scalars\n",
      "  cx = lambda a, b : round(np.inner(a, b)/(LA.norm(a)*LA.norm(b)), 3)\n",
      "<ipython-input-165-4c4a280a82e7>:11: RuntimeWarning: invalid value encountered in double_scalars\n",
      "  cx = lambda a, b : round(np.inner(a, b)/(LA.norm(a)*LA.norm(b)), 3)\n",
      "<ipython-input-165-4c4a280a82e7>:11: RuntimeWarning: invalid value encountered in double_scalars\n",
      "  cx = lambda a, b : round(np.inner(a, b)/(LA.norm(a)*LA.norm(b)), 3)\n",
      "<ipython-input-165-4c4a280a82e7>:11: RuntimeWarning: invalid value encountered in double_scalars\n",
      "  cx = lambda a, b : round(np.inner(a, b)/(LA.norm(a)*LA.norm(b)), 3)\n",
      "<ipython-input-165-4c4a280a82e7>:11: RuntimeWarning: invalid value encountered in double_scalars\n",
      "  cx = lambda a, b : round(np.inner(a, b)/(LA.norm(a)*LA.norm(b)), 3)\n",
      "<ipython-input-165-4c4a280a82e7>:11: RuntimeWarning: invalid value encountered in double_scalars\n",
      "  cx = lambda a, b : round(np.inner(a, b)/(LA.norm(a)*LA.norm(b)), 3)\n",
      "<ipython-input-165-4c4a280a82e7>:11: RuntimeWarning: invalid value encountered in double_scalars\n",
      "  cx = lambda a, b : round(np.inner(a, b)/(LA.norm(a)*LA.norm(b)), 3)\n",
      "<ipython-input-165-4c4a280a82e7>:11: RuntimeWarning: invalid value encountered in double_scalars\n",
      "  cx = lambda a, b : round(np.inner(a, b)/(LA.norm(a)*LA.norm(b)), 3)\n"
     ]
    }
   ],
   "source": [
    "for art in articles_test:\n",
    "    art['categories_sims_cat'] = tfdif_test_cosine([' '.join(art.get('category_wiki_tokens'))], vectorizer_wiki2, trained_model_wiki2)\n",
    "    art['categories_sims_cat'] = {k: v for k, v in sorted(art.get('categories_sims').items(), key = lambda item: item[1], reverse=True)}    \n",
    "    print(art.get('title'))\n",
    "    print(art.get('categories_sims_cat'))"
   ]
  },
  {
   "cell_type": "markdown",
   "metadata": {},
   "source": [
    "### Infobox - kosinusova podobnost"
   ]
  },
  {
   "cell_type": "code",
   "execution_count": 206,
   "metadata": {},
   "outputs": [
    {
     "name": "stdout",
     "output_type": "stream",
     "text": [
      "Anarchism\n",
      "{}\n",
      "Autism\n",
      "{'Art': 0.49, 'Games': 0.449, 'Fitness': 0.443, 'Mathematics': 0.431, 'Culture': 0.429, 'Life': 0.408, 'Medicine': 0.397, 'Earth': 0.391, 'Film': 0.386, 'Biology': 0.386, 'Internet': 0.379, 'Logic': 0.371, 'Philosophy': 0.366, 'Dance': 0.362, 'Media': 0.361, 'Statistics': 0.352, 'Crime': 0.349, 'Painting': 0.336, 'Food': 0.333, 'Belief': 0.332, 'Sport': 0.31, 'Sculpture': 0.309, 'Geography': 0.304, 'War': 0.293, 'Theatre': 0.288, 'Electronics': 0.272, 'Health': 0.27, 'Music': 0.263, 'Engineering': 0.257, 'Exercise': 0.253, 'Technology': 0.251, 'Language': 0.25, 'Science': 0.207, 'Literature': 0.205, 'Nature': 0.204, 'Recreation': 0.176, 'History': 0.161, 'Religion': 0.118, 'Society': 0.098, 'Computing': 0.083, 'Education': 0.014, 'Transport': 0.012}\n",
      "Albedo\n",
      "{}\n",
      "A\n",
      "{'Art': 0.329, 'Mathematics': 0.295, 'Culture': 0.271, 'Medicine': 0.264, 'Games': 0.261, 'Fitness': 0.26, 'Earth': 0.247, 'Life': 0.244, 'Internet': 0.237, 'Biology': 0.234, 'Film': 0.233, 'Dance': 0.229, 'Logic': 0.223, 'Statistics': 0.217, 'Philosophy': 0.217, 'Exercise': 0.213, 'Painting': 0.212, 'Food': 0.206, 'Sport': 0.203, 'Belief': 0.192, 'Geography': 0.191, 'Theatre': 0.189, 'Sculpture': 0.189, 'Crime': 0.189, 'War': 0.187, 'Health': 0.181, 'Technology': 0.178, 'Electronics': 0.174, 'Media': 0.17, 'Engineering': 0.165, 'Language': 0.162, 'Music': 0.152, 'Literature': 0.149, 'Science': 0.146, 'Nature': 0.132, 'Recreation': 0.119, 'History': 0.084, 'Religion': 0.055, 'Society': 0.036, 'Computing': 0.034, 'Education': 0.03, 'Transport': 0.001}\n",
      "Alabama\n",
      "{'Art': 0.455, 'Games': 0.448, 'Internet': 0.404, 'Fitness': 0.401, 'Life': 0.396, 'Culture': 0.384, 'Medicine': 0.383, 'Painting': 0.366, 'Film': 0.365, 'Logic': 0.352, 'Earth': 0.348, 'Biology': 0.344, 'Philosophy': 0.337, 'Dance': 0.336, 'Mathematics': 0.334, 'Food': 0.312, 'Belief': 0.311, 'Statistics': 0.3, 'Sculpture': 0.299, 'Sport': 0.299, 'Crime': 0.292, 'Geography': 0.279, 'Theatre': 0.273, 'Electronics': 0.269, 'Media': 0.261, 'War': 0.256, 'Language': 0.242, 'Music': 0.239, 'Technology': 0.239, 'Health': 0.237, 'Exercise': 0.234, 'Engineering': 0.224, 'Nature': 0.19, 'Science': 0.188, 'Literature': 0.179, 'History': 0.163, 'Recreation': 0.16, 'Religion': 0.153, 'Society': 0.095, 'Computing': 0.084, 'Transport': 0.021, 'Education': 0.02}\n",
      "Achilles\n",
      "{}\n",
      "Abraham Lincoln\n",
      "{'Fitness': 0.158, 'Medicine': 0.156, 'Art': 0.153, 'Games': 0.144, 'Life': 0.135, 'Culture': 0.128, 'Mathematics': 0.127, 'Earth': 0.124, 'Biology': 0.124, 'Belief': 0.124, 'Philosophy': 0.123, 'Statistics': 0.121, 'Film': 0.118, 'Internet': 0.118, 'Dance': 0.115, 'Painting': 0.115, 'Logic': 0.114, 'Sport': 0.111, 'War': 0.103, 'Sculpture': 0.098, 'Media': 0.095, 'Exercise': 0.095, 'Food': 0.094, 'Geography': 0.094, 'Engineering': 0.093, 'Crime': 0.091, 'Language': 0.09, 'Technology': 0.087, 'Music': 0.086, 'Health': 0.084, 'Literature': 0.082, 'Theatre': 0.082, 'Electronics': 0.082, 'Science': 0.076, 'History': 0.071, 'Recreation': 0.064, 'Nature': 0.06, 'Religion': 0.059, 'Society': 0.055, 'Computing': 0.055, 'Education': 0.014, 'Transport': 0.014}\n",
      "Aristotle\n",
      "{'Biology': 0.149, 'Engineering': 0.095, 'Exercise': 0.094, 'Society': 0.085, 'Fitness': 0.077, 'Philosophy': 0.066, 'Recreation': 0.061, 'Religion': 0.056, 'Sport': 0.046, 'Logic': 0.046, 'Culture': 0.041, 'Film': 0.04, 'Games': 0.038, 'Belief': 0.038, 'Media': 0.035, 'Earth': 0.034, 'Statistics': 0.034, 'Dance': 0.033, 'Life': 0.032, 'War': 0.032, 'Art': 0.029, 'Internet': 0.029, 'Science': 0.027, 'Medicine': 0.026, 'History': 0.026, 'Technology': 0.026, 'Literature': 0.025, 'Geography': 0.023, 'Language': 0.021, 'Sculpture': 0.021, 'Electronics': 0.019, 'Education': 0.018, 'Health': 0.017, 'Mathematics': 0.017, 'Music': 0.016, 'Painting': 0.016, 'Food': 0.015, 'Crime': 0.015, 'Computing': 0.013, 'Theatre': 0.011, 'Nature': 0.011, 'Transport': 0.01}\n",
      "An American in Paris\n",
      "{}\n",
      "Academy Award for Best Production Design\n",
      "{'Culture': 0.142, 'Art': 0.132, 'Fitness': 0.131, 'Philosophy': 0.11, 'Dance': 0.104, 'Mathematics': 0.103, 'Film': 0.102, 'Games': 0.1, 'Medicine': 0.099, 'Life': 0.098, 'Earth': 0.094, 'Biology': 0.093, 'Statistics': 0.091, 'Internet': 0.09, 'Sport': 0.087, 'Logic': 0.087, 'Technology': 0.085, 'Food': 0.084, 'Exercise': 0.083, 'Painting': 0.081, 'Geography': 0.08, 'Belief': 0.076, 'Theatre': 0.075, 'Media': 0.075, 'Crime': 0.074, 'Health': 0.073, 'War': 0.073, 'Sculpture': 0.071, 'Science': 0.07, 'Electronics': 0.07, 'Music': 0.065, 'Computing': 0.065, 'Engineering': 0.065, 'Language': 0.063, 'Literature': 0.063, 'Nature': 0.052, 'Recreation': 0.049, 'History': 0.041, 'Religion': 0.032, 'Society': 0.031, 'Education': 0.018, 'Transport': 0.006}\n",
      "Academy Awards\n",
      "{'Computing': 0.162, 'Fitness': 0.111, 'Culture': 0.102, 'Philosophy': 0.095, 'Life': 0.08, 'Sport': 0.078, 'Games': 0.077, 'Biology': 0.075, 'Art': 0.072, 'Belief': 0.07, 'Dance': 0.069, 'Painting': 0.068, 'Statistics': 0.067, 'Internet': 0.066, 'Film': 0.065, 'Mathematics': 0.063, 'Earth': 0.057, 'Medicine': 0.057, 'Media': 0.056, 'War': 0.055, 'Engineering': 0.055, 'Logic': 0.054, 'Science': 0.052, 'Sculpture': 0.051, 'Religion': 0.051, 'Food': 0.05, 'History': 0.05, 'Technology': 0.05, 'Music': 0.049, 'Literature': 0.047, 'Language': 0.045, 'Geography': 0.045, 'Recreation': 0.044, 'Health': 0.044, 'Crime': 0.044, 'Exercise': 0.043, 'Society': 0.042, 'Theatre': 0.04, 'Electronics': 0.04, 'Nature': 0.031, 'Transport': 0.017, 'Education': 0.009}\n",
      "Actrius\n",
      "{'Computing': 0.336, 'Sculpture': 0.153, 'Recreation': 0.12, 'Fitness': 0.116, 'Mathematics': 0.114, 'Art': 0.113, 'Philosophy': 0.111, 'Culture': 0.11, 'Biology': 0.11, 'Life': 0.105, 'Belief': 0.105, 'Statistics': 0.104, 'Games': 0.102, 'Earth': 0.099, 'Medicine': 0.096, 'Technology': 0.095, 'Sport': 0.094, 'Engineering': 0.091, 'Dance': 0.088, 'War': 0.088, 'Internet': 0.084, 'Exercise': 0.084, 'Film': 0.082, 'Painting': 0.082, 'Science': 0.081, 'Media': 0.077, 'Literature': 0.076, 'Geography': 0.076, 'Food': 0.075, 'Language': 0.075, 'Logic': 0.071, 'Health': 0.069, 'Music': 0.068, 'Crime': 0.067, 'Electronics': 0.066, 'Theatre': 0.064, 'Society': 0.058, 'Nature': 0.054, 'History': 0.05, 'Religion': 0.038, 'Education': 0.016, 'Transport': 0.014}\n",
      "Animalia (book)\n",
      "{'Sculpture': 0.106, 'Fitness': 0.096, 'Culture': 0.095, 'Philosophy': 0.091, 'Biology': 0.087, 'Logic': 0.085, 'Art': 0.076, 'Life': 0.075, 'Belief': 0.075, 'Earth': 0.074, 'Medicine': 0.074, 'Dance': 0.072, 'Games': 0.071, 'Computing': 0.071, 'Statistics': 0.07, 'Internet': 0.067, 'Film': 0.065, 'Sport': 0.063, 'Media': 0.058, 'War': 0.057, 'Music': 0.056, 'Painting': 0.056, 'Exercise': 0.055, 'Food': 0.054, 'Mathematics': 0.054, 'Geography': 0.053, 'Engineering': 0.053, 'Health': 0.05, 'Science': 0.049, 'Theatre': 0.048, 'Technology': 0.048, 'Language': 0.047, 'Nature': 0.044, 'Electronics': 0.043, 'History': 0.042, 'Crime': 0.042, 'Religion': 0.04, 'Literature': 0.039, 'Society': 0.037, 'Recreation': 0.036, 'Education': 0.03, 'Transport': 0.003}\n",
      "International Atomic Time\n",
      "{}\n",
      "Altruism\n",
      "{}\n",
      "Ayn Rand\n",
      "{'Biology': 0.049, 'Statistics': 0.046, 'Fitness': 0.043, 'Medicine': 0.043, 'Philosophy': 0.041, 'Sculpture': 0.039, 'Art': 0.037, 'Film': 0.036, 'Belief': 0.036, 'Culture': 0.034, 'Life': 0.033, 'Games': 0.032, 'Earth': 0.032, 'Painting': 0.031, 'Internet': 0.031, 'Exercise': 0.031, 'Logic': 0.03, 'Sport': 0.029, 'Media': 0.029, 'Religion': 0.028, 'Language': 0.027, 'Dance': 0.027, 'Geography': 0.025, 'Mathematics': 0.025, 'Technology': 0.025, 'Crime': 0.024, 'War': 0.024, 'Science': 0.024, 'Food': 0.023, 'Society': 0.022, 'Computing': 0.021, 'Electronics': 0.021, 'Engineering': 0.021, 'Literature': 0.02, 'Health': 0.02, 'Theatre': 0.019, 'History': 0.019, 'Nature': 0.018, 'Music': 0.017, 'Recreation': 0.017, 'Education': 0.007, 'Transport': 0.004}\n",
      "Alain Connes\n",
      "{'Art': 0.285, 'Fitness': 0.241, 'Mathematics': 0.238, 'Culture': 0.233, 'Games': 0.232, 'Medicine': 0.227, 'Life': 0.215, 'Sport': 0.211, 'Earth': 0.211, 'Internet': 0.208, 'Film': 0.205, 'Biology': 0.204, 'Dance': 0.202, 'Logic': 0.194, 'Statistics': 0.193, 'Philosophy': 0.193, 'Food': 0.184, 'Painting': 0.181, 'Exercise': 0.174, 'Belief': 0.171, 'Geography': 0.164, 'Health': 0.164, 'Crime': 0.163, 'Theatre': 0.162, 'War': 0.161, 'Sculpture': 0.152, 'Media': 0.151, 'Technology': 0.149, 'Electronics': 0.149, 'Engineering': 0.146, 'Language': 0.142, 'Music': 0.136, 'Literature': 0.126, 'Science': 0.124, 'Nature': 0.114, 'Recreation': 0.104, 'History': 0.075, 'Religion': 0.056, 'Society': 0.036, 'Computing': 0.035, 'Education': 0.024, 'Transport': 0.005}\n",
      "Allan Dwan\n",
      "{'Computing': 0.181, 'Art': 0.146, 'Games': 0.132, 'Life': 0.124, 'Fitness': 0.122, 'Mathematics': 0.12, 'Medicine': 0.119, 'Internet': 0.118, 'Culture': 0.116, 'Earth': 0.109, 'Biology': 0.108, 'Film': 0.107, 'Belief': 0.103, 'Logic': 0.102, 'Dance': 0.101, 'Painting': 0.099, 'Philosophy': 0.099, 'Crime': 0.093, 'Statistics': 0.093, 'Exercise': 0.092, 'Food': 0.09, 'Media': 0.089, 'War': 0.087, 'Sport': 0.085, 'Theatre': 0.083, 'Geography': 0.083, 'Technology': 0.08, 'Health': 0.078, 'Electronics': 0.078, 'Language': 0.076, 'Sculpture': 0.074, 'Music': 0.07, 'Engineering': 0.07, 'Literature': 0.066, 'Science': 0.064, 'Nature': 0.063, 'Recreation': 0.052, 'History': 0.043, 'Religion': 0.041, 'Society': 0.026, 'Education': 0.016, 'Transport': 0.002}\n",
      "Algeria\n",
      "{'Games': 0.464, 'Art': 0.455, 'Internet': 0.447, 'Fitness': 0.434, 'Life': 0.428, 'Painting': 0.417, 'Culture': 0.39, 'Medicine': 0.384, 'Film': 0.38, 'Earth': 0.368, 'Biology': 0.367, 'Philosophy': 0.363, 'Dance': 0.356, 'Logic': 0.355, 'Mathematics': 0.351, 'Belief': 0.342, 'Sport': 0.339, 'Statistics': 0.326, 'Food': 0.324, 'Crime': 0.307, 'Sculpture': 0.289, 'Geography': 0.282, 'Theatre': 0.278, 'War': 0.278, 'Media': 0.274, 'Electronics': 0.271, 'Music': 0.257, 'Engineering': 0.257, 'Technology': 0.254, 'Health': 0.242, 'Language': 0.237, 'Exercise': 0.226, 'Religion': 0.202, 'History': 0.196, 'Science': 0.196, 'Nature': 0.192, 'Literature': 0.191, 'Recreation': 0.179, 'Computing': 0.13, 'Society': 0.122, 'Education': 0.049, 'Transport': 0.029}\n",
      "List of Atlas Shrugged characters\n",
      "{}\n",
      "Anthropology\n",
      "{}\n",
      "Agricultural science\n",
      "{}\n",
      "Alchemy\n",
      "{}\n",
      "Alien\n",
      "{}\n",
      "Astronomer\n",
      "{}\n",
      "ASCII\n",
      "{'Art': 0.134, 'Games': 0.123, 'Fitness': 0.123, 'Culture': 0.118, 'Food': 0.117, 'Life': 0.116, 'Medicine': 0.112, 'Biology': 0.111, 'Earth': 0.109, 'Mathematics': 0.109, 'Philosophy': 0.109, 'Film': 0.108, 'Dance': 0.104, 'Internet': 0.104, 'Logic': 0.104, 'Painting': 0.102, 'Statistics': 0.1, 'Belief': 0.1, 'Sport': 0.094, 'Sculpture': 0.088, 'War': 0.085, 'Crime': 0.084, 'Language': 0.083, 'Geography': 0.083, 'Media': 0.081, 'Engineering': 0.08, 'Theatre': 0.078, 'Music': 0.076, 'Health': 0.075, 'Electronics': 0.075, 'Technology': 0.073, 'Exercise': 0.07, 'History': 0.069, 'Science': 0.065, 'Nature': 0.063, 'Literature': 0.062, 'Recreation': 0.052, 'Religion': 0.047, 'Society': 0.04, 'Computing': 0.039, 'Education': 0.007, 'Transport': 0.005}\n",
      "Austin (disambiguation)\n",
      "{}\n",
      "Animation\n",
      "{}\n",
      "Apollo\n",
      "{'Recreation': 0.047, 'Exercise': 0.037, 'Earth': 0.034, 'Culture': 0.026, 'Science': 0.021, 'Society': 0.019, 'Literature': 0.015, 'Art': 0.015, 'Fitness': 0.013, 'Belief': 0.012, 'Technology': 0.012, 'Religion': 0.011, 'Sport': 0.01, 'Internet': 0.01, 'War': 0.01, 'Film': 0.009, 'Dance': 0.008, 'Music': 0.008, 'Media': 0.008, 'Geography': 0.008, 'History': 0.008, 'Philosophy': 0.008, 'Life': 0.007, 'Medicine': 0.007, 'Logic': 0.007, 'Statistics': 0.007, 'Biology': 0.007, 'Games': 0.006, 'Computing': 0.006, 'Electronics': 0.006, 'Engineering': 0.006, 'Language': 0.005, 'Theatre': 0.005, 'Sculpture': 0.005, 'Mathematics': 0.005, 'Nature': 0.005, 'Food': 0.004, 'Painting': 0.004, 'Health': 0.004, 'Crime': 0.004, 'Education': 0.002, 'Transport': 0.001}\n",
      "Andre Agassi\n",
      "{'Art': 0.156, 'Games': 0.148, 'Electronics': 0.146, 'Fitness': 0.141, 'Internet': 0.14, 'Medicine': 0.138, 'Culture': 0.137, 'Life': 0.136, 'Film': 0.131, 'Philosophy': 0.128, 'Mathematics': 0.126, 'Painting': 0.125, 'Earth': 0.123, 'Biology': 0.12, 'Logic': 0.118, 'Dance': 0.115, 'Statistics': 0.113, 'Food': 0.107, 'Belief': 0.107, 'Sport': 0.106, 'Geography': 0.102, 'Crime': 0.1, 'Theatre': 0.092, 'Sculpture': 0.092, 'Exercise': 0.091, 'Media': 0.09, 'War': 0.09, 'Music': 0.085, 'Language': 0.084, 'Health': 0.082, 'Technology': 0.08, 'Engineering': 0.079, 'Religion': 0.076, 'Literature': 0.068, 'Science': 0.067, 'History': 0.065, 'Nature': 0.065, 'Recreation': 0.064, 'Society': 0.049, 'Computing': 0.037, 'Education': 0.012, 'Architecture': 0.009, 'Transport': 0.003}\n"
     ]
    },
    {
     "name": "stderr",
     "output_type": "stream",
     "text": [
      "<ipython-input-165-4c4a280a82e7>:11: RuntimeWarning: invalid value encountered in double_scalars\n",
      "  cx = lambda a, b : round(np.inner(a, b)/(LA.norm(a)*LA.norm(b)), 3)\n",
      "<ipython-input-165-4c4a280a82e7>:11: RuntimeWarning: invalid value encountered in double_scalars\n",
      "  cx = lambda a, b : round(np.inner(a, b)/(LA.norm(a)*LA.norm(b)), 3)\n",
      "<ipython-input-165-4c4a280a82e7>:11: RuntimeWarning: invalid value encountered in double_scalars\n",
      "  cx = lambda a, b : round(np.inner(a, b)/(LA.norm(a)*LA.norm(b)), 3)\n",
      "<ipython-input-165-4c4a280a82e7>:11: RuntimeWarning: invalid value encountered in double_scalars\n",
      "  cx = lambda a, b : round(np.inner(a, b)/(LA.norm(a)*LA.norm(b)), 3)\n",
      "<ipython-input-165-4c4a280a82e7>:11: RuntimeWarning: invalid value encountered in double_scalars\n",
      "  cx = lambda a, b : round(np.inner(a, b)/(LA.norm(a)*LA.norm(b)), 3)\n",
      "<ipython-input-165-4c4a280a82e7>:11: RuntimeWarning: invalid value encountered in double_scalars\n",
      "  cx = lambda a, b : round(np.inner(a, b)/(LA.norm(a)*LA.norm(b)), 3)\n",
      "<ipython-input-165-4c4a280a82e7>:11: RuntimeWarning: invalid value encountered in double_scalars\n",
      "  cx = lambda a, b : round(np.inner(a, b)/(LA.norm(a)*LA.norm(b)), 3)\n",
      "<ipython-input-165-4c4a280a82e7>:11: RuntimeWarning: invalid value encountered in double_scalars\n",
      "  cx = lambda a, b : round(np.inner(a, b)/(LA.norm(a)*LA.norm(b)), 3)\n",
      "<ipython-input-165-4c4a280a82e7>:11: RuntimeWarning: invalid value encountered in double_scalars\n",
      "  cx = lambda a, b : round(np.inner(a, b)/(LA.norm(a)*LA.norm(b)), 3)\n",
      "<ipython-input-165-4c4a280a82e7>:11: RuntimeWarning: invalid value encountered in double_scalars\n",
      "  cx = lambda a, b : round(np.inner(a, b)/(LA.norm(a)*LA.norm(b)), 3)\n",
      "<ipython-input-165-4c4a280a82e7>:11: RuntimeWarning: invalid value encountered in double_scalars\n",
      "  cx = lambda a, b : round(np.inner(a, b)/(LA.norm(a)*LA.norm(b)), 3)\n",
      "<ipython-input-165-4c4a280a82e7>:11: RuntimeWarning: invalid value encountered in double_scalars\n",
      "  cx = lambda a, b : round(np.inner(a, b)/(LA.norm(a)*LA.norm(b)), 3)\n",
      "<ipython-input-165-4c4a280a82e7>:11: RuntimeWarning: invalid value encountered in double_scalars\n",
      "  cx = lambda a, b : round(np.inner(a, b)/(LA.norm(a)*LA.norm(b)), 3)\n",
      "<ipython-input-165-4c4a280a82e7>:11: RuntimeWarning: invalid value encountered in double_scalars\n",
      "  cx = lambda a, b : round(np.inner(a, b)/(LA.norm(a)*LA.norm(b)), 3)\n",
      "<ipython-input-165-4c4a280a82e7>:11: RuntimeWarning: invalid value encountered in double_scalars\n",
      "  cx = lambda a, b : round(np.inner(a, b)/(LA.norm(a)*LA.norm(b)), 3)\n",
      "<ipython-input-165-4c4a280a82e7>:11: RuntimeWarning: invalid value encountered in double_scalars\n",
      "  cx = lambda a, b : round(np.inner(a, b)/(LA.norm(a)*LA.norm(b)), 3)\n"
     ]
    }
   ],
   "source": [
    "for art in articles_test:\n",
    "    art['infobox_sims_cat'] = tfdif_test_cosine([' '.join(art.get('infobox_tokens'))], vectorizer_wiki2, trained_model_wiki2)\n",
    "    art['infobox_sims_cat'] = {k: v for k, v in sorted(art.get('infobox_sims').items(), key = lambda item: item[1], reverse=True)}\n",
    "    print(art.get('title'))\n",
    "    print(art.get('infobox_sims_cat'))"
   ]
  },
  {
   "cell_type": "markdown",
   "metadata": {},
   "source": [
    "###  Text clanku - kosinusova podobnost"
   ]
  },
  {
   "cell_type": "code",
   "execution_count": 207,
   "metadata": {},
   "outputs": [
    {
     "name": "stderr",
     "output_type": "stream",
     "text": [
      "<ipython-input-165-4c4a280a82e7>:11: RuntimeWarning: invalid value encountered in double_scalars\n",
      "  cx = lambda a, b : round(np.inner(a, b)/(LA.norm(a)*LA.norm(b)), 3)\n",
      "<ipython-input-165-4c4a280a82e7>:11: RuntimeWarning: invalid value encountered in double_scalars\n",
      "  cx = lambda a, b : round(np.inner(a, b)/(LA.norm(a)*LA.norm(b)), 3)\n",
      "<ipython-input-165-4c4a280a82e7>:11: RuntimeWarning: invalid value encountered in double_scalars\n",
      "  cx = lambda a, b : round(np.inner(a, b)/(LA.norm(a)*LA.norm(b)), 3)\n",
      "<ipython-input-165-4c4a280a82e7>:11: RuntimeWarning: invalid value encountered in double_scalars\n",
      "  cx = lambda a, b : round(np.inner(a, b)/(LA.norm(a)*LA.norm(b)), 3)\n",
      "<ipython-input-165-4c4a280a82e7>:11: RuntimeWarning: invalid value encountered in double_scalars\n",
      "  cx = lambda a, b : round(np.inner(a, b)/(LA.norm(a)*LA.norm(b)), 3)\n",
      "<ipython-input-165-4c4a280a82e7>:11: RuntimeWarning: invalid value encountered in double_scalars\n",
      "  cx = lambda a, b : round(np.inner(a, b)/(LA.norm(a)*LA.norm(b)), 3)\n",
      "<ipython-input-165-4c4a280a82e7>:11: RuntimeWarning: invalid value encountered in double_scalars\n",
      "  cx = lambda a, b : round(np.inner(a, b)/(LA.norm(a)*LA.norm(b)), 3)\n",
      "<ipython-input-165-4c4a280a82e7>:11: RuntimeWarning: invalid value encountered in double_scalars\n",
      "  cx = lambda a, b : round(np.inner(a, b)/(LA.norm(a)*LA.norm(b)), 3)\n",
      "<ipython-input-165-4c4a280a82e7>:11: RuntimeWarning: invalid value encountered in double_scalars\n",
      "  cx = lambda a, b : round(np.inner(a, b)/(LA.norm(a)*LA.norm(b)), 3)\n",
      "<ipython-input-165-4c4a280a82e7>:11: RuntimeWarning: invalid value encountered in double_scalars\n",
      "  cx = lambda a, b : round(np.inner(a, b)/(LA.norm(a)*LA.norm(b)), 3)\n",
      "<ipython-input-165-4c4a280a82e7>:11: RuntimeWarning: invalid value encountered in double_scalars\n",
      "  cx = lambda a, b : round(np.inner(a, b)/(LA.norm(a)*LA.norm(b)), 3)\n",
      "<ipython-input-165-4c4a280a82e7>:11: RuntimeWarning: invalid value encountered in double_scalars\n",
      "  cx = lambda a, b : round(np.inner(a, b)/(LA.norm(a)*LA.norm(b)), 3)\n",
      "<ipython-input-165-4c4a280a82e7>:11: RuntimeWarning: invalid value encountered in double_scalars\n",
      "  cx = lambda a, b : round(np.inner(a, b)/(LA.norm(a)*LA.norm(b)), 3)\n",
      "<ipython-input-165-4c4a280a82e7>:11: RuntimeWarning: invalid value encountered in double_scalars\n",
      "  cx = lambda a, b : round(np.inner(a, b)/(LA.norm(a)*LA.norm(b)), 3)\n",
      "<ipython-input-165-4c4a280a82e7>:11: RuntimeWarning: invalid value encountered in double_scalars\n",
      "  cx = lambda a, b : round(np.inner(a, b)/(LA.norm(a)*LA.norm(b)), 3)\n",
      "<ipython-input-165-4c4a280a82e7>:11: RuntimeWarning: invalid value encountered in double_scalars\n",
      "  cx = lambda a, b : round(np.inner(a, b)/(LA.norm(a)*LA.norm(b)), 3)\n",
      "<ipython-input-165-4c4a280a82e7>:11: RuntimeWarning: invalid value encountered in double_scalars\n",
      "  cx = lambda a, b : round(np.inner(a, b)/(LA.norm(a)*LA.norm(b)), 3)\n"
     ]
    },
    {
     "name": "stdout",
     "output_type": "stream",
     "text": [
      "Anarchism\n",
      "{'Fitness': 0.295, 'Society': 0.283, 'Philosophy': 0.282, 'Biology': 0.273, 'Life': 0.268, 'Belief': 0.26, 'Games': 0.246, 'Logic': 0.229, 'Film': 0.228, 'Religion': 0.225, 'Culture': 0.223, 'Earth': 0.215, 'Medicine': 0.212, 'Sport': 0.207, 'Internet': 0.203, 'Statistics': 0.2, 'Sculpture': 0.198, 'Art': 0.192, 'Dance': 0.185, 'Painting': 0.18, 'Food': 0.171, 'History': 0.171, 'War': 0.168, 'Music': 0.161, 'Media': 0.151, 'Mathematics': 0.147, 'Engineering': 0.144, 'Crime': 0.134, 'Health': 0.132, 'Geography': 0.13, 'Language': 0.127, 'Electronics': 0.125, 'Technology': 0.115, 'Theatre': 0.112, 'Science': 0.103, 'Literature': 0.102, 'Recreation': 0.101, 'Computing': 0.099, 'Exercise': 0.094, 'Nature': 0.094, 'Education': 0.021, 'Transport': 0.02, 'Architecture': 0.001}\n",
      "Autism\n",
      "{'Mathematics': 0.448, 'Art': 0.44, 'Games': 0.439, 'Fitness': 0.425, 'Life': 0.39, 'Culture': 0.389, 'Film': 0.379, 'Internet': 0.369, 'Logic': 0.362, 'Medicine': 0.36, 'Earth': 0.354, 'Media': 0.35, 'Biology': 0.343, 'Philosophy': 0.342, 'Crime': 0.339, 'Dance': 0.327, 'Belief': 0.325, 'Statistics': 0.322, 'Food': 0.321, 'Painting': 0.32, 'Sport': 0.296, 'Sculpture': 0.288, 'Geography': 0.282, 'War': 0.281, 'Theatre': 0.268, 'Health': 0.267, 'Electronics': 0.247, 'Music': 0.242, 'Engineering': 0.238, 'Language': 0.228, 'Technology': 0.227, 'Exercise': 0.223, 'Nature': 0.189, 'Science': 0.189, 'Literature': 0.188, 'Recreation': 0.176, 'History': 0.174, 'Religion': 0.13, 'Society': 0.11, 'Computing': 0.1, 'Transport': 0.023, 'Education': 0.017, 'Architecture': 0.001}\n",
      "Albedo\n",
      "{'Art': 0.484, 'Games': 0.435, 'Internet': 0.419, 'Fitness': 0.412, 'Life': 0.379, 'Mathematics': 0.374, 'Culture': 0.362, 'Medicine': 0.344, 'Biology': 0.341, 'Earth': 0.337, 'Film': 0.333, 'Philosophy': 0.332, 'Painting': 0.329, 'Dance': 0.325, 'Logic': 0.325, 'Belief': 0.318, 'Sport': 0.312, 'Statistics': 0.312, 'Food': 0.308, 'Crime': 0.276, 'War': 0.276, 'Sculpture': 0.268, 'Geography': 0.261, 'Media': 0.257, 'Theatre': 0.252, 'Engineering': 0.251, 'Music': 0.247, 'Health': 0.245, 'Electronics': 0.239, 'Technology': 0.233, 'Language': 0.225, 'Exercise': 0.224, 'Science': 0.201, 'Nature': 0.189, 'Literature': 0.186, 'Recreation': 0.175, 'History': 0.171, 'Religion': 0.159, 'Computing': 0.116, 'Society': 0.114, 'Transport': 0.027, 'Education': 0.014}\n",
      "A\n",
      "{'Fitness': 0.508, 'Art': 0.49, 'Games': 0.49, 'Life': 0.479, 'Internet': 0.448, 'Culture': 0.441, 'Philosophy': 0.435, 'Biology': 0.433, 'Mathematics': 0.423, 'Painting': 0.417, 'Sculpture': 0.413, 'Belief': 0.41, 'Earth': 0.409, 'Medicine': 0.409, 'Sport': 0.406, 'Film': 0.4, 'Dance': 0.399, 'Logic': 0.391, 'Statistics': 0.387, 'Food': 0.362, 'War': 0.328, 'Engineering': 0.327, 'Media': 0.317, 'Geography': 0.313, 'Crime': 0.313, 'Exercise': 0.305, 'Technology': 0.3, 'Music': 0.296, 'Theatre': 0.296, 'Health': 0.286, 'Electronics': 0.285, 'Language': 0.276, 'Science': 0.252, 'Literature': 0.242, 'Recreation': 0.234, 'History': 0.224, 'Religion': 0.22, 'Nature': 0.216, 'Society': 0.182, 'Computing': 0.169, 'Transport': 0.045, 'Education': 0.034, 'Architecture': 0.013}\n",
      "Alabama\n",
      "{'Games': 0.708, 'Art': 0.694, 'Fitness': 0.686, 'Life': 0.658, 'Internet': 0.656, 'Painting': 0.619, 'Culture': 0.6, 'Mathematics': 0.595, 'Medicine': 0.589, 'Biology': 0.587, 'Film': 0.578, 'Earth': 0.569, 'Philosophy': 0.569, 'Belief': 0.553, 'Dance': 0.55, 'Logic': 0.542, 'Statistics': 0.531, 'Sport': 0.526, 'Food': 0.493, 'Crime': 0.465, 'War': 0.443, 'Sculpture': 0.437, 'Media': 0.437, 'Geography': 0.436, 'Theatre': 0.424, 'Electronics': 0.422, 'Engineering': 0.408, 'Technology': 0.405, 'Language': 0.402, 'Music': 0.4, 'Health': 0.382, 'Exercise': 0.366, 'History': 0.325, 'Science': 0.318, 'Literature': 0.314, 'Nature': 0.307, 'Recreation': 0.303, 'Religion': 0.302, 'Computing': 0.229, 'Society': 0.222, 'Transport': 0.062, 'Education': 0.029, 'Architecture': 0.001}\n",
      "Achilles\n",
      "{'Art': 0.605, 'Fitness': 0.602, 'Culture': 0.574, 'Games': 0.563, 'Medicine': 0.56, 'Life': 0.54, 'Philosophy': 0.539, 'Biology': 0.531, 'Earth': 0.528, 'Mathematics': 0.522, 'Statistics': 0.503, 'Internet': 0.496, 'Dance': 0.478, 'Film': 0.474, 'Belief': 0.462, 'Sport': 0.448, 'Logic': 0.447, 'Painting': 0.433, 'Sculpture': 0.423, 'Exercise': 0.417, 'Food': 0.416, 'War': 0.412, 'Geography': 0.394, 'Crime': 0.383, 'Engineering': 0.38, 'Media': 0.375, 'Technology': 0.367, 'Theatre': 0.36, 'Electronics': 0.355, 'Language': 0.354, 'Music': 0.347, 'Health': 0.346, 'Science': 0.329, 'Literature': 0.306, 'Recreation': 0.286, 'Nature': 0.265, 'History': 0.245, 'Society': 0.216, 'Computing': 0.2, 'Religion': 0.196, 'Transport': 0.044, 'Education': 0.032, 'Architecture': 0.012}\n",
      "Abraham Lincoln\n",
      "{'Fitness': 0.264, 'Philosophy': 0.255, 'Games': 0.25, 'Life': 0.25, 'Biology': 0.249, 'Medicine': 0.242, 'Belief': 0.228, 'Society': 0.22, 'Art': 0.217, 'Culture': 0.216, 'Internet': 0.216, 'Earth': 0.213, 'Film': 0.211, 'Logic': 0.207, 'Painting': 0.2, 'Statistics': 0.198, 'Sport': 0.197, 'Dance': 0.192, 'Religion': 0.185, 'Mathematics': 0.176, 'Sculpture': 0.173, 'Food': 0.17, 'War': 0.168, 'Media': 0.153, 'Crime': 0.151, 'Music': 0.149, 'Geography': 0.144, 'Engineering': 0.144, 'Language': 0.143, 'Electronics': 0.141, 'Theatre': 0.134, 'Health': 0.134, 'Technology': 0.13, 'Exercise': 0.129, 'History': 0.127, 'Literature': 0.121, 'Science': 0.113, 'Nature': 0.107, 'Recreation': 0.103, 'Computing': 0.095, 'Education': 0.021, 'Transport': 0.02, 'Architecture': 0.001}\n",
      "Aristotle\n",
      "{'Fitness': 0.38, 'Society': 0.361, 'Biology': 0.359, 'Philosophy': 0.357, 'Games': 0.326, 'Life': 0.309, 'Belief': 0.299, 'Culture': 0.285, 'Sport': 0.282, 'Engineering': 0.282, 'Logic': 0.281, 'Internet': 0.279, 'Religion': 0.271, 'Art': 0.265, 'Earth': 0.261, 'Film': 0.255, 'Statistics': 0.247, 'Medicine': 0.241, 'Sculpture': 0.238, 'Dance': 0.236, 'Painting': 0.233, 'Mathematics': 0.216, 'War': 0.213, 'Food': 0.21, 'Media': 0.196, 'Music': 0.194, 'Crime': 0.176, 'History': 0.172, 'Geography': 0.169, 'Health': 0.166, 'Technology': 0.164, 'Language': 0.163, 'Electronics': 0.163, 'Science': 0.156, 'Theatre': 0.153, 'Exercise': 0.152, 'Recreation': 0.144, 'Literature': 0.141, 'Computing': 0.136, 'Nature': 0.118, 'Transport': 0.039, 'Education': 0.023, 'Architecture': 0.002}\n",
      "An American in Paris\n",
      "{'Games': 0.36, 'Fitness': 0.358, 'Art': 0.345, 'Life': 0.345, 'Culture': 0.326, 'Internet': 0.323, 'Biology': 0.307, 'Philosophy': 0.306, 'Painting': 0.302, 'Medicine': 0.301, 'Film': 0.292, 'Earth': 0.29, 'Belief': 0.289, 'Dance': 0.286, 'Logic': 0.285, 'Mathematics': 0.281, 'Recreation': 0.277, 'Sport': 0.269, 'Statistics': 0.269, 'Food': 0.259, 'Geography': 0.233, 'War': 0.23, 'Crime': 0.228, 'Sculpture': 0.226, 'Media': 0.22, 'Theatre': 0.214, 'Electronics': 0.213, 'Music': 0.212, 'Engineering': 0.212, 'Technology': 0.207, 'Health': 0.199, 'Literature': 0.198, 'Language': 0.191, 'Exercise': 0.191, 'Science': 0.18, 'Nature': 0.153, 'Religion': 0.152, 'History': 0.146, 'Computing': 0.136, 'Society': 0.131, 'Education': 0.025, 'Transport': 0.021}\n",
      "Academy Award for Best Production Design\n",
      "{'Mathematics': 0.5, 'Art': 0.414, 'Fitness': 0.404, 'Culture': 0.377, 'Biology': 0.365, 'Statistics': 0.356, 'Philosophy': 0.348, 'Earth': 0.34, 'Games': 0.337, 'Belief': 0.335, 'Life': 0.331, 'Sport': 0.327, 'Medicine': 0.306, 'Engineering': 0.304, 'Sculpture': 0.303, 'War': 0.298, 'Dance': 0.296, 'Painting': 0.269, 'Internet': 0.267, 'Exercise': 0.262, 'Film': 0.257, 'Technology': 0.255, 'Food': 0.246, 'Language': 0.244, 'Recreation': 0.242, 'Science': 0.241, 'Literature': 0.235, 'Music': 0.23, 'Media': 0.229, 'Crime': 0.228, 'Geography': 0.224, 'Logic': 0.224, 'Health': 0.216, 'Computing': 0.21, 'Theatre': 0.202, 'Electronics': 0.2, 'History': 0.164, 'Society': 0.149, 'Nature': 0.139, 'Religion': 0.096, 'Transport': 0.062, 'Education': 0.016, 'Architecture': 0.001}\n",
      "Academy Awards\n",
      "{'Games': 0.518, 'Internet': 0.48, 'Painting': 0.472, 'Fitness': 0.465, 'Life': 0.464, 'Art': 0.446, 'Culture': 0.412, 'Logic': 0.4, 'Philosophy': 0.399, 'Film': 0.397, 'Medicine': 0.39, 'Biology': 0.376, 'Dance': 0.373, 'Belief': 0.362, 'Sport': 0.352, 'Earth': 0.352, 'Food': 0.344, 'Statistics': 0.32, 'Mathematics': 0.319, 'Crime': 0.306, 'Electronics': 0.299, 'Geography': 0.298, 'Theatre': 0.292, 'Media': 0.286, 'Computing': 0.28, 'War': 0.27, 'Music': 0.266, 'Technology': 0.259, 'Sculpture': 0.257, 'Engineering': 0.243, 'Health': 0.241, 'Religion': 0.24, 'Language': 0.234, 'Exercise': 0.222, 'History': 0.214, 'Science': 0.204, 'Nature': 0.199, 'Literature': 0.191, 'Recreation': 0.185, 'Society': 0.163, 'Education': 0.037, 'Transport': 0.028, 'Architecture': 0.007}\n",
      "Actrius\n",
      "{'Computing': 0.473, 'Games': 0.457, 'Art': 0.432, 'Fitness': 0.429, 'Life': 0.408, 'Internet': 0.393, 'Culture': 0.384, 'Painting': 0.38, 'Philosophy': 0.379, 'Biology': 0.366, 'Medicine': 0.359, 'Mathematics': 0.353, 'Earth': 0.346, 'Belief': 0.346, 'Film': 0.345, 'Dance': 0.336, 'Logic': 0.329, 'Sport': 0.328, 'Statistics': 0.317, 'Food': 0.306, 'Sculpture': 0.284, 'War': 0.28, 'Crime': 0.271, 'Electronics': 0.266, 'Media': 0.265, 'Geography': 0.265, 'Engineering': 0.26, 'Theatre': 0.256, 'Music': 0.255, 'Technology': 0.247, 'Language': 0.233, 'Health': 0.225, 'Exercise': 0.208, 'Science': 0.196, 'Literature': 0.195, 'Recreation': 0.188, 'History': 0.186, 'Society': 0.186, 'Religion': 0.181, 'Nature': 0.172, 'Transport': 0.036, 'Education': 0.022}\n",
      "Animalia (book)\n",
      "{'Games': 0.374, 'Internet': 0.347, 'Painting': 0.343, 'Life': 0.332, 'Fitness': 0.326, 'Art': 0.31, 'Logic': 0.309, 'Film': 0.295, 'Culture': 0.289, 'Philosophy': 0.284, 'Medicine': 0.283, 'Biology': 0.27, 'Dance': 0.267, 'Food': 0.25, 'Earth': 0.25, 'Belief': 0.245, 'Sport': 0.243, 'Crime': 0.22, 'Geography': 0.215, 'Statistics': 0.213, 'Electronics': 0.213, 'Theatre': 0.211, 'Mathematics': 0.202, 'Media': 0.199, 'Music': 0.187, 'War': 0.18, 'Technology': 0.175, 'Sculpture': 0.174, 'Religion': 0.174, 'Health': 0.167, 'Language': 0.158, 'Engineering': 0.158, 'History': 0.145, 'Exercise': 0.142, 'Nature': 0.141, 'Science': 0.136, 'Literature': 0.121, 'Recreation': 0.114, 'Computing': 0.098, 'Society': 0.095, 'Education': 0.011, 'Transport': 0.011}\n",
      "International Atomic Time\n",
      "{'Games': 0.252, 'Art': 0.242, 'Internet': 0.24, 'Fitness': 0.232, 'Life': 0.231, 'Painting': 0.226, 'Film': 0.195, 'Logic': 0.194, 'Philosophy': 0.191, 'Medicine': 0.19, 'Culture': 0.189, 'Dance': 0.184, 'Biology': 0.181, 'Belief': 0.181, 'Sport': 0.176, 'Food': 0.175, 'Earth': 0.173, 'Statistics': 0.164, 'Mathematics': 0.163, 'Crime': 0.155, 'Geography': 0.147, 'Media': 0.144, 'Music': 0.141, 'Theatre': 0.14, 'Sculpture': 0.139, 'Religion': 0.139, 'Electronics': 0.139, 'War': 0.138, 'Health': 0.132, 'Technology': 0.128, 'Engineering': 0.125, 'Language': 0.121, 'History': 0.117, 'Nature': 0.106, 'Society': 0.102, 'Exercise': 0.101, 'Science': 0.099, 'Recreation': 0.097, 'Literature': 0.096, 'Computing': 0.076, 'Transport': 0.018, 'Education': 0.011}\n",
      "Altruism\n",
      "{'Fitness': 0.514, 'Games': 0.492, 'Art': 0.48, 'Life': 0.458, 'Mathematics': 0.452, 'Biology': 0.448, 'Culture': 0.44, 'Earth': 0.44, 'Belief': 0.418, 'Medicine': 0.415, 'Internet': 0.414, 'Philosophy': 0.413, 'Film': 0.408, 'Logic': 0.408, 'Statistics': 0.392, 'Dance': 0.38, 'Painting': 0.366, 'Sport': 0.366, 'Crime': 0.36, 'War': 0.36, 'Food': 0.359, 'Sculpture': 0.342, 'Media': 0.334, 'Geography': 0.318, 'Engineering': 0.302, 'Health': 0.295, 'Music': 0.294, 'Theatre': 0.291, 'Language': 0.289, 'Electronics': 0.278, 'Technology': 0.273, 'History': 0.261, 'Exercise': 0.26, 'Literature': 0.227, 'Science': 0.225, 'Recreation': 0.218, 'Nature': 0.215, 'Religion': 0.182, 'Society': 0.172, 'Computing': 0.153, 'Transport': 0.06, 'Education': 0.026, 'Architecture': 0.004}\n",
      "Ayn Rand\n",
      "{'Fitness': 0.42, 'Art': 0.409, 'Games': 0.401, 'Biology': 0.385, 'Culture': 0.384, 'Life': 0.382, 'Philosophy': 0.365, 'Earth': 0.358, 'Medicine': 0.354, 'Mathematics': 0.343, 'Internet': 0.337, 'Film': 0.332, 'Statistics': 0.329, 'Belief': 0.329, 'Dance': 0.328, 'Logic': 0.326, 'Painting': 0.308, 'Sport': 0.301, 'Food': 0.295, 'Sculpture': 0.287, 'War': 0.278, 'Crime': 0.262, 'Geography': 0.261, 'Engineering': 0.256, 'Media': 0.251, 'Theatre': 0.246, 'Electronics': 0.239, 'Music': 0.238, 'Health': 0.236, 'Language': 0.235, 'Exercise': 0.231, 'Technology': 0.231, 'Science': 0.198, 'Literature': 0.193, 'Recreation': 0.175, 'Nature': 0.174, 'History': 0.166, 'Society': 0.149, 'Religion': 0.133, 'Computing': 0.122, 'Transport': 0.022, 'Education': 0.018}\n"
     ]
    },
    {
     "name": "stdout",
     "output_type": "stream",
     "text": [
      "Alain Connes\n",
      "{'Sport': 0.345, 'Fitness': 0.317, 'Games': 0.316, 'Art': 0.297, 'Life': 0.29, 'Internet': 0.285, 'Culture': 0.278, 'Logic': 0.277, 'Painting': 0.266, 'Biology': 0.264, 'Medicine': 0.26, 'Film': 0.259, 'Philosophy': 0.254, 'Dance': 0.253, 'Earth': 0.242, 'Food': 0.237, 'Belief': 0.232, 'Statistics': 0.222, 'Mathematics': 0.215, 'Crime': 0.203, 'Geography': 0.191, 'Media': 0.189, 'Theatre': 0.187, 'Music': 0.183, 'Electronics': 0.183, 'War': 0.181, 'Engineering': 0.176, 'Sculpture': 0.174, 'Health': 0.173, 'History': 0.163, 'Technology': 0.163, 'Language': 0.156, 'Religion': 0.148, 'Exercise': 0.147, 'Nature': 0.132, 'Science': 0.131, 'Literature': 0.121, 'Recreation': 0.109, 'Society': 0.094, 'Computing': 0.074, 'Transport': 0.024, 'Education': 0.012}\n",
      "Allan Dwan\n",
      "{'Computing': 0.298, 'Fitness': 0.245, 'Games': 0.243, 'Life': 0.236, 'Art': 0.226, 'Internet': 0.22, 'Culture': 0.213, 'Philosophy': 0.208, 'Medicine': 0.207, 'Biology': 0.206, 'Painting': 0.204, 'Logic': 0.199, 'Dance': 0.196, 'Belief': 0.196, 'Film': 0.195, 'Earth': 0.195, 'Statistics': 0.182, 'Sport': 0.178, 'Food': 0.174, 'Mathematics': 0.174, 'Media': 0.151, 'Crime': 0.151, 'Geography': 0.15, 'Sculpture': 0.149, 'War': 0.149, 'Music': 0.147, 'Language': 0.146, 'Electronics': 0.144, 'Theatre': 0.139, 'Engineering': 0.137, 'Exercise': 0.133, 'Technology': 0.133, 'Health': 0.132, 'Religion': 0.118, 'Science': 0.117, 'Society': 0.114, 'History': 0.113, 'Nature': 0.111, 'Literature': 0.109, 'Recreation': 0.103, 'Education': 0.018, 'Transport': 0.018}\n",
      "Algeria\n",
      "{'Games': 0.523, 'Internet': 0.509, 'Life': 0.493, 'Fitness': 0.479, 'Painting': 0.477, 'Art': 0.463, 'Medicine': 0.432, 'Film': 0.428, 'Culture': 0.42, 'Logic': 0.416, 'Biology': 0.399, 'Philosophy': 0.394, 'Dance': 0.389, 'Earth': 0.384, 'Belief': 0.384, 'Sport': 0.363, 'Food': 0.358, 'Statistics': 0.343, 'Mathematics': 0.334, 'Crime': 0.327, 'Media': 0.311, 'Geography': 0.31, 'Electronics': 0.31, 'Theatre': 0.308, 'War': 0.283, 'Music': 0.278, 'Sculpture': 0.276, 'Technology': 0.274, 'Religion': 0.263, 'Engineering': 0.253, 'Health': 0.252, 'Language': 0.249, 'Exercise': 0.241, 'History': 0.234, 'Nature': 0.221, 'Science': 0.213, 'Literature': 0.198, 'Recreation': 0.195, 'Computing': 0.157, 'Society': 0.149, 'Education': 0.065, 'Transport': 0.026, 'Architecture': 0.002}\n",
      "List of Atlas Shrugged characters\n",
      "{'Fitness': 0.195, 'Philosophy': 0.179, 'Life': 0.172, 'Biology': 0.172, 'Belief': 0.16, 'Statistics': 0.158, 'Culture': 0.156, 'Dance': 0.154, 'Games': 0.15, 'Mathematics': 0.147, 'Earth': 0.144, 'War': 0.144, 'Sport': 0.143, 'Sculpture': 0.142, 'Art': 0.139, 'Medicine': 0.139, 'Engineering': 0.131, 'Film': 0.129, 'History': 0.127, 'Painting': 0.124, 'Internet': 0.123, 'Language': 0.121, 'Media': 0.119, 'Food': 0.118, 'Music': 0.115, 'Logic': 0.113, 'Computing': 0.112, 'Recreation': 0.108, 'Technology': 0.108, 'Exercise': 0.106, 'Society': 0.105, 'Health': 0.103, 'Crime': 0.103, 'Geography': 0.101, 'Science': 0.096, 'Literature': 0.094, 'Nature': 0.094, 'Electronics': 0.088, 'Theatre': 0.086, 'Religion': 0.082, 'Transport': 0.032, 'Education': 0.02}\n",
      "Anthropology\n",
      "{'Belief': 0.569, 'Fitness': 0.536, 'Life': 0.498, 'Games': 0.493, 'Art': 0.482, 'Culture': 0.47, 'Earth': 0.464, 'Biology': 0.457, 'Statistics': 0.447, 'Logic': 0.446, 'Medicine': 0.444, 'Philosophy': 0.44, 'Internet': 0.429, 'Film': 0.422, 'Mathematics': 0.413, 'Dance': 0.404, 'Painting': 0.38, 'Sport': 0.377, 'Sculpture': 0.373, 'Food': 0.371, 'Media': 0.348, 'Crime': 0.343, 'War': 0.341, 'Geography': 0.325, 'Theatre': 0.305, 'History': 0.302, 'Engineering': 0.302, 'Health': 0.301, 'Music': 0.296, 'Electronics': 0.29, 'Technology': 0.286, 'Language': 0.285, 'Exercise': 0.277, 'Science': 0.246, 'Literature': 0.238, 'Recreation': 0.231, 'Religion': 0.228, 'Nature': 0.218, 'Society': 0.187, 'Computing': 0.164, 'Education': 0.053, 'Transport': 0.043, 'Architecture': 0.002}\n",
      "Agricultural science\n",
      "{'Fitness': 0.316, 'Life': 0.275, 'Internet': 0.271, 'Logic': 0.268, 'Games': 0.263, 'Theatre': 0.258, 'Dance': 0.244, 'Film': 0.232, 'Painting': 0.228, 'History': 0.225, 'Art': 0.218, 'Food': 0.215, 'Belief': 0.208, 'Biology': 0.203, 'Culture': 0.201, 'Medicine': 0.194, 'Sport': 0.189, 'Statistics': 0.187, 'Philosophy': 0.186, 'Earth': 0.185, 'Crime': 0.182, 'Media': 0.176, 'Mathematics': 0.162, 'Religion': 0.161, 'Geography': 0.154, 'Technology': 0.151, 'Music': 0.146, 'Health': 0.143, 'War': 0.14, 'Electronics': 0.135, 'Sculpture': 0.132, 'Engineering': 0.128, 'Language': 0.123, 'Nature': 0.121, 'Exercise': 0.119, 'Science': 0.103, 'Recreation': 0.094, 'Literature': 0.092, 'Computing': 0.085, 'Society': 0.082, 'Transport': 0.031, 'Education': 0.025}\n",
      "Alchemy\n",
      "{'Fitness': 0.484, 'Art': 0.442, 'Culture': 0.434, 'Biology': 0.426, 'Games': 0.424, 'Life': 0.417, 'Earth': 0.403, 'Philosophy': 0.398, 'Statistics': 0.385, 'Medicine': 0.38, 'Internet': 0.369, 'Mathematics': 0.368, 'Dance': 0.366, 'Film': 0.359, 'Logic': 0.358, 'Belief': 0.355, 'Sport': 0.336, 'Food': 0.321, 'Painting': 0.32, 'Sculpture': 0.315, 'War': 0.308, 'Media': 0.307, 'Geography': 0.285, 'Crime': 0.284, 'Exercise': 0.281, 'Engineering': 0.279, 'Theatre': 0.265, 'Health': 0.265, 'Music': 0.264, 'Technology': 0.261, 'Electronics': 0.256, 'Language': 0.254, 'Science': 0.233, 'Literature': 0.213, 'Recreation': 0.198, 'Nature': 0.192, 'History': 0.184, 'Religion': 0.158, 'Society': 0.158, 'Computing': 0.123, 'Transport': 0.026, 'Education': 0.025, 'Architecture': 0.004}\n",
      "Alien\n",
      "{'Computing': 0.251, 'Recreation': 0.08, 'Philosophy': 0.077, 'Fitness': 0.076, 'Games': 0.072, 'Mathematics': 0.069, 'Statistics': 0.069, 'Life': 0.066, 'Biology': 0.066, 'Belief': 0.066, 'Art': 0.063, 'War': 0.063, 'Culture': 0.062, 'Engineering': 0.061, 'Sculpture': 0.06, 'Sport': 0.06, 'Internet': 0.059, 'Earth': 0.058, 'Medicine': 0.053, 'Education': 0.052, 'Language': 0.049, 'Society': 0.048, 'Dance': 0.047, 'Science': 0.047, 'Literature': 0.046, 'Exercise': 0.046, 'Technology': 0.045, 'Food': 0.042, 'History': 0.042, 'Music': 0.041, 'Painting': 0.041, 'Media': 0.039, 'Transport': 0.039, 'Geography': 0.038, 'Health': 0.036, 'Film': 0.035, 'Crime': 0.034, 'Electronics': 0.034, 'Logic': 0.032, 'Theatre': 0.027, 'Religion': 0.026, 'Nature': 0.023, 'Architecture': 0.016}\n",
      "Astronomer\n",
      "{'Fitness': 0.257, 'Internet': 0.244, 'Games': 0.243, 'Life': 0.224, 'Art': 0.222, 'Painting': 0.219, 'Film': 0.206, 'Logic': 0.204, 'Dance': 0.194, 'Biology': 0.187, 'Belief': 0.181, 'Medicine': 0.178, 'Sport': 0.176, 'Culture': 0.175, 'Food': 0.175, 'Philosophy': 0.171, 'History': 0.163, 'Earth': 0.162, 'Statistics': 0.162, 'Religion': 0.157, 'Media': 0.156, 'Crime': 0.148, 'Geography': 0.147, 'Mathematics': 0.137, 'Theatre': 0.135, 'Health': 0.133, 'Electronics': 0.133, 'Music': 0.128, 'Sculpture': 0.126, 'War': 0.126, 'Technology': 0.126, 'Engineering': 0.113, 'Language': 0.111, 'Exercise': 0.108, 'Nature': 0.101, 'Recreation': 0.094, 'Science': 0.093, 'Literature': 0.088, 'Society': 0.083, 'Computing': 0.079, 'Transport': 0.023, 'Education': 0.017}\n",
      "ASCII\n",
      "{'Mathematics': 0.5, 'Fitness': 0.484, 'Art': 0.471, 'Games': 0.437, 'Biology': 0.431, 'Culture': 0.426, 'Life': 0.421, 'Statistics': 0.412, 'Philosophy': 0.411, 'Belief': 0.403, 'Earth': 0.396, 'Sport': 0.393, 'Dance': 0.369, 'Medicine': 0.369, 'Painting': 0.361, 'Sculpture': 0.36, 'Engineering': 0.358, 'Internet': 0.354, 'War': 0.354, 'Food': 0.333, 'Film': 0.329, 'Logic': 0.32, 'Language': 0.309, 'Technology': 0.297, 'Music': 0.289, 'Exercise': 0.287, 'Media': 0.283, 'Crime': 0.283, 'Geography': 0.272, 'Science': 0.272, 'Health': 0.269, 'Recreation': 0.268, 'Literature': 0.267, 'Theatre': 0.252, 'Electronics': 0.246, 'Computing': 0.212, 'History': 0.205, 'Nature': 0.178, 'Society': 0.178, 'Religion': 0.14, 'Transport': 0.07, 'Education': 0.022, 'Architecture': 0.001}\n",
      "Austin (disambiguation)\n",
      "{'Education': 0.024, 'Sculpture': 0.016, 'Philosophy': 0.014, 'Earth': 0.013, 'Nature': 0.012, 'Belief': 0.012, 'Computing': 0.012, 'Fitness': 0.01, 'Religion': 0.01, 'Technology': 0.01, 'Dance': 0.009, 'History': 0.009, 'Film': 0.008, 'Statistics': 0.008, 'Language': 0.007, 'Art': 0.007, 'Life': 0.007, 'Crime': 0.007, 'Biology': 0.007, 'Society': 0.007, 'Culture': 0.006, 'Food': 0.006, 'Games': 0.006, 'Sport': 0.006, 'Media': 0.006, 'Internet': 0.006, 'Medicine': 0.006, 'War': 0.006, 'Theatre': 0.005, 'Painting': 0.005, 'Recreation': 0.005, 'Geography': 0.005, 'Exercise': 0.005, 'Logic': 0.005, 'Literature': 0.004, 'Music': 0.004, 'Health': 0.004, 'Mathematics': 0.004, 'Science': 0.004, 'Electronics': 0.004, 'Engineering': 0.004, 'Transport': 0.003}\n",
      "Animation\n",
      "{'Computing': 0.401, 'Fitness': 0.297, 'Life': 0.297, 'Philosophy': 0.297, 'Internet': 0.289, 'Games': 0.287, 'Society': 0.285, 'Logic': 0.267, 'Belief': 0.256, 'Culture': 0.247, 'Painting': 0.247, 'Biology': 0.245, 'Film': 0.238, 'Religion': 0.233, 'Food': 0.232, 'Art': 0.23, 'Sport': 0.227, 'Medicine': 0.224, 'Earth': 0.223, 'Dance': 0.221, 'Sculpture': 0.203, 'Statistics': 0.203, 'Media': 0.184, 'Music': 0.178, 'Geography': 0.178, 'Theatre': 0.175, 'Mathematics': 0.173, 'History': 0.169, 'Crime': 0.168, 'War': 0.165, 'Electronics': 0.156, 'Science': 0.153, 'Exercise': 0.152, 'Health': 0.15, 'Technology': 0.146, 'Engineering': 0.146, 'Nature': 0.139, 'Language': 0.134, 'Recreation': 0.126, 'Literature': 0.116, 'Education': 0.064, 'Transport': 0.029, 'Architecture': 0.007}\n",
      "Apollo\n",
      "{'Art': 0.437, 'Fitness': 0.41, 'Culture': 0.408, 'Earth': 0.385, 'Games': 0.382, 'Medicine': 0.37, 'Life': 0.369, 'Biology': 0.369, 'Mathematics': 0.367, 'Philosophy': 0.352, 'Statistics': 0.345, 'Internet': 0.341, 'Dance': 0.334, 'Film': 0.326, 'Belief': 0.314, 'Sport': 0.313, 'Exercise': 0.302, 'Logic': 0.302, 'Sculpture': 0.298, 'Painting': 0.297, 'War': 0.293, 'Food': 0.29, 'Geography': 0.273, 'Crime': 0.272, 'Engineering': 0.267, 'Media': 0.261, 'Technology': 0.259, 'Theatre': 0.256, 'Language': 0.252, 'Electronics': 0.247, 'Health': 0.245, 'Music': 0.238, 'Science': 0.222, 'Literature': 0.216, 'Recreation': 0.21, 'Nature': 0.185, 'History': 0.164, 'Society': 0.132, 'Computing': 0.111, 'Religion': 0.109, 'Transport': 0.029, 'Education': 0.018, 'Architecture': 0.004}\n",
      "Andre Agassi\n",
      "{'Games': 0.648, 'Art': 0.62, 'Fitness': 0.619, 'Life': 0.596, 'Internet': 0.574, 'Culture': 0.557, 'Painting': 0.55, 'Biology': 0.528, 'Medicine': 0.527, 'Philosophy': 0.524, 'Mathematics': 0.521, 'Film': 0.513, 'Earth': 0.504, 'Belief': 0.493, 'Logic': 0.492, 'Dance': 0.491, 'Electronics': 0.487, 'Sport': 0.473, 'Statistics': 0.467, 'Food': 0.452, 'Crime': 0.408, 'War': 0.398, 'Geography': 0.397, 'Sculpture': 0.394, 'Media': 0.386, 'Theatre': 0.38, 'Music': 0.366, 'Engineering': 0.366, 'Technology': 0.351, 'Language': 0.338, 'Health': 0.337, 'Exercise': 0.323, 'Science': 0.292, 'Literature': 0.284, 'Recreation': 0.275, 'History': 0.27, 'Nature': 0.257, 'Religion': 0.256, 'Society': 0.209, 'Computing': 0.208, 'Transport': 0.051, 'Education': 0.028, 'Architecture': 0.006}\n"
     ]
    },
    {
     "name": "stderr",
     "output_type": "stream",
     "text": [
      "<ipython-input-165-4c4a280a82e7>:11: RuntimeWarning: invalid value encountered in double_scalars\n",
      "  cx = lambda a, b : round(np.inner(a, b)/(LA.norm(a)*LA.norm(b)), 3)\n",
      "<ipython-input-165-4c4a280a82e7>:11: RuntimeWarning: invalid value encountered in double_scalars\n",
      "  cx = lambda a, b : round(np.inner(a, b)/(LA.norm(a)*LA.norm(b)), 3)\n",
      "<ipython-input-165-4c4a280a82e7>:11: RuntimeWarning: invalid value encountered in double_scalars\n",
      "  cx = lambda a, b : round(np.inner(a, b)/(LA.norm(a)*LA.norm(b)), 3)\n",
      "<ipython-input-165-4c4a280a82e7>:11: RuntimeWarning: invalid value encountered in double_scalars\n",
      "  cx = lambda a, b : round(np.inner(a, b)/(LA.norm(a)*LA.norm(b)), 3)\n",
      "<ipython-input-165-4c4a280a82e7>:11: RuntimeWarning: invalid value encountered in double_scalars\n",
      "  cx = lambda a, b : round(np.inner(a, b)/(LA.norm(a)*LA.norm(b)), 3)\n",
      "<ipython-input-165-4c4a280a82e7>:11: RuntimeWarning: invalid value encountered in double_scalars\n",
      "  cx = lambda a, b : round(np.inner(a, b)/(LA.norm(a)*LA.norm(b)), 3)\n",
      "<ipython-input-165-4c4a280a82e7>:11: RuntimeWarning: invalid value encountered in double_scalars\n",
      "  cx = lambda a, b : round(np.inner(a, b)/(LA.norm(a)*LA.norm(b)), 3)\n",
      "<ipython-input-165-4c4a280a82e7>:11: RuntimeWarning: invalid value encountered in double_scalars\n",
      "  cx = lambda a, b : round(np.inner(a, b)/(LA.norm(a)*LA.norm(b)), 3)\n",
      "<ipython-input-165-4c4a280a82e7>:11: RuntimeWarning: invalid value encountered in double_scalars\n",
      "  cx = lambda a, b : round(np.inner(a, b)/(LA.norm(a)*LA.norm(b)), 3)\n",
      "<ipython-input-165-4c4a280a82e7>:11: RuntimeWarning: invalid value encountered in double_scalars\n",
      "  cx = lambda a, b : round(np.inner(a, b)/(LA.norm(a)*LA.norm(b)), 3)\n",
      "<ipython-input-165-4c4a280a82e7>:11: RuntimeWarning: invalid value encountered in double_scalars\n",
      "  cx = lambda a, b : round(np.inner(a, b)/(LA.norm(a)*LA.norm(b)), 3)\n",
      "<ipython-input-165-4c4a280a82e7>:11: RuntimeWarning: invalid value encountered in double_scalars\n",
      "  cx = lambda a, b : round(np.inner(a, b)/(LA.norm(a)*LA.norm(b)), 3)\n",
      "<ipython-input-165-4c4a280a82e7>:11: RuntimeWarning: invalid value encountered in double_scalars\n",
      "  cx = lambda a, b : round(np.inner(a, b)/(LA.norm(a)*LA.norm(b)), 3)\n"
     ]
    }
   ],
   "source": [
    "for art in articles_test:\n",
    "    art['text_sims_cat'] = tfdif_test_cosine([' '.join(art.get('text_tokens'))], vectorizer_wiki2, trained_model_wiki2)\n",
    "    art['text_sims_cat'] = {k: v for k, v in sorted(art.get('text_sims').items(), key = lambda item: item[1], reverse=True)}\n",
    "    print(art.get('title'))\n",
    "    print(art.get('text_sims_cat'))"
   ]
  },
  {
   "cell_type": "markdown",
   "metadata": {},
   "source": [
    "## Presna zhoda"
   ]
  },
  {
   "cell_type": "markdown",
   "metadata": {},
   "source": [
    "### 6. Z tela článku vyhľadať najčastejšie používané termy a tie, ktoré boli identifikované v kroku 2"
   ]
  },
  {
   "cell_type": "markdown",
   "metadata": {},
   "source": [
    "Find exact match words or expressions with categorised words"
   ]
  },
  {
   "cell_type": "code",
   "execution_count": 35,
   "metadata": {},
   "outputs": [],
   "source": [
    "Find exact match words or expressions with categorised words\n",
    "\n",
    "def find_exact_match(articles, categories):\n",
    "    for article in articles:\n",
    "        article['categories_exact_text'] = []\n",
    "        article['categories_exact_anchors'] = []\n",
    "        article['categories_exact_infobox'] = []\n",
    "        for category in categories:\n",
    "            related_words = category.get('related_words')\n",
    "            found_text = []\n",
    "            found_anchors = []\n",
    "            found_infobox = []\n",
    "            found_text = list(filter(lambda word: re.findall(rf'\\W+({word})\\W+', article['text'], re.IGNORECASE), related_words))\n",
    "            found_anchors = list(filter(lambda word: re.findall(rf'\\W+({word})\\W+', str(article['anchors']).strip('[]'), re.IGNORECASE), related_words))\n",
    "            found_infobox = list(filter(lambda word: re.findall(rf'\\W+({word})\\W+', str(article['infobox']).strip('[]'), re.IGNORECASE), related_words))\n",
    "            if found_text:\n",
    "                article['categories_exact_text'].append({'category':category.get('category'),'related_words':found_text})\n",
    "            if found_anchors:\n",
    "                article['categories_exact_anchors'].append({'category':category.get('category'),'related_words':found_anchors})\n",
    "            if found_infobox:\n",
    "                article['categories_exact_infobox'].append({'category':category.get('category'),'related_words':found_infobox})\n",
    "    return articles"
   ]
  },
  {
   "cell_type": "code",
   "execution_count": null,
   "metadata": {},
   "outputs": [],
   "source": [
    "def save_articles(articles, file_name):\n",
    "    with open(f'../data/{file_name}.json', 'w') as outfile:\n",
    "        json.dump(articles, outfile, indent=4)"
   ]
  },
  {
   "cell_type": "code",
   "execution_count": null,
   "metadata": {},
   "outputs": [],
   "source": [
    "exact_match = find_exact_match(articles, cats_with_words)\n",
    "save_articles(exact_match, 'wiki_100_exact_match')"
   ]
  },
  {
   "cell_type": "markdown",
   "metadata": {},
   "source": [
    "### Vyskusat PySpark"
   ]
  },
  {
   "cell_type": "code",
   "execution_count": null,
   "metadata": {},
   "outputs": [],
   "source": [
    "import findspark\n",
    "findspark.init()\n",
    "findspark.find()\n",
    "import pyspark\n",
    "findspark.find()"
   ]
  },
  {
   "cell_type": "code",
   "execution_count": null,
   "metadata": {},
   "outputs": [],
   "source": [
    "from pyspark import SparkConf, SparkContext\n",
    "from pyspark.sql import SparkSession\n",
    "conf = SparkConf().setAppName('SparkApp').setMaster(\"local\")\n",
    "sc = pyspark.SparkContext(conf = conf)\n",
    "spark = SparkSession(sc)"
   ]
  },
  {
   "cell_type": "code",
   "execution_count": null,
   "metadata": {},
   "outputs": [],
   "source": [
    "tic = time.perf_counter()\n",
    "numeric_val = sc.parallelize(articles)\n",
    "square_udf_int = udf(lambda z: remove_stop_words(z))\n",
    "#numeric_val.map(lambda x: remove_stop_words(x)).collect()\n",
    "toc = time.perf_counter()\n",
    "print(f\"Performed in {toc - tic:0.4f} seconds\")"
   ]
  },
  {
   "cell_type": "code",
   "execution_count": null,
   "metadata": {},
   "outputs": [],
   "source": [
    "tic = time.perf_counter()\n",
    "numeric_val.map(lambda x: square_udf_int(x)).collect()\n",
    "toc = time.perf_counter()\n",
    "print(f\"Performed in {toc - tic:0.4f} seconds\")"
   ]
  },
  {
   "cell_type": "code",
   "execution_count": null,
   "metadata": {},
   "outputs": [],
   "source": [
    "def square(x):\n",
    "    return x**2"
   ]
  },
  {
   "cell_type": "code",
   "execution_count": null,
   "metadata": {},
   "outputs": [],
   "source": [
    "from pyspark.sql.types import IntegerType\n",
    "from pyspark.sql.functions import udf\n",
    "square_udf_int = udf(lambda z: square(z), IntegerType())"
   ]
  },
  {
   "cell_type": "code",
   "execution_count": null,
   "metadata": {},
   "outputs": [],
   "source": [
    "square_udf_int([1,2,3])"
   ]
  }
 ],
 "metadata": {
  "kernelspec": {
   "display_name": "Python 3",
   "language": "python",
   "name": "python3"
  },
  "language_info": {
   "codemirror_mode": {
    "name": "ipython",
    "version": 3
   },
   "file_extension": ".py",
   "mimetype": "text/x-python",
   "name": "python",
   "nbconvert_exporter": "python",
   "pygments_lexer": "ipython3",
   "version": "3.8.3"
  }
 },
 "nbformat": 4,
 "nbformat_minor": 4
}
