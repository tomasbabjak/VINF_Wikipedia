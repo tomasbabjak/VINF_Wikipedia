{
 "cells": [
  {
   "cell_type": "markdown",
   "metadata": {},
   "source": [
    "## Zhlukovanie článkov Wikipédie do kategórií na základe ich vedecko-spoločenskej oblasti"
   ]
  },
  {
   "cell_type": "markdown",
   "metadata": {},
   "source": [
    "**Vypracoval:** Tomáš Babjak\n",
    "\n",
    "**Predmet:** Vyhľadávanie informácii\n",
    "\n",
    "**GitHub:** https://github.com/tomasbabjak/VINF_Wikipedia"
   ]
  },
  {
   "cell_type": "markdown",
   "metadata": {},
   "source": [
    "Imports"
   ]
  },
  {
   "cell_type": "code",
   "execution_count": null,
   "metadata": {
    "scrolled": true
   },
   "outputs": [],
   "source": [
    "import regex\n",
    "import re\n",
    "import datamuse\n",
    "import nltk\n",
    "import json\n",
    "import string\n",
    "import time\n",
    "from nltk.corpus import stopwords\n",
    "from nltk.tokenize import word_tokenize\n",
    "from nltk.stem.porter import *\n",
    "from sklearn.feature_extraction.text import TfidfVectorizer"
   ]
  },
  {
   "cell_type": "markdown",
   "metadata": {},
   "source": [
    "### 1. Vytvoriť testovaciu vzorku dát, na ktorej budeme prvotne projekt realizovať"
   ]
  },
  {
   "cell_type": "markdown",
   "metadata": {},
   "source": [
    "Read XML file with Wiki articles and parse articles to list:"
   ]
  },
  {
   "cell_type": "code",
   "execution_count": 134,
   "metadata": {},
   "outputs": [],
   "source": [
    "def read_xml(file_name, n_first_articles):\n",
    "    \n",
    "    start_tag = f'<page>'\n",
    "    end_tag = f'</page>'\n",
    "    \n",
    "    start_found = False\n",
    "    articles_found = []\n",
    "    lines = ''\n",
    "    \n",
    "    with open(file_name, encoding=\"utf8\") as f:\n",
    "        for line in f:\n",
    "            if start_tag in line:\n",
    "                start_found = True\n",
    "            if start_found:\n",
    "                lines += line\n",
    "            if end_tag in line:\n",
    "                start_found = False\n",
    "                articles_found.append(lines)\n",
    "                lines = ''\n",
    "            if len(articles_found) == n_first_articles:\n",
    "                break\n",
    "    with open(f'../data/wiki_{n_first_articles}_before.json', 'w') as outfile:\n",
    "        json.dump(articles_found, outfile, indent=4)\n",
    "    return articles_found"
   ]
  },
  {
   "cell_type": "code",
   "execution_count": 133,
   "metadata": {},
   "outputs": [],
   "source": [
    "def read_xml_modified(file_name, n_first_articles):\n",
    "    \n",
    "    start_tag = f'<page>'\n",
    "    end_tag = f'</page>'\n",
    "    \n",
    "    start_found = False\n",
    "    articles_found = []\n",
    "    lines = ''\n",
    "    counter = 0\n",
    "    \n",
    "    with open(file_name, encoding=\"utf8\") as f:\n",
    "        for line in f:\n",
    "            if start_tag in line:\n",
    "                start_found = True\n",
    "            if start_found:\n",
    "                lines += line\n",
    "            if end_tag in line:\n",
    "                start_found = False\n",
    "                articles_found.append(lines)\n",
    "                lines = ''\n",
    "            if len(articles_found) == n_first_articles:\n",
    "                counter += 1\n",
    "                with open(f'../data/wiki_{counter}_before.json', 'w') as outfile:\n",
    "                    json.dump(articles_found, outfile, indent=4)\n",
    "                articles_found = []\n",
    "    return articles_found"
   ]
  },
  {
   "cell_type": "markdown",
   "metadata": {},
   "source": [
    "Extract Title and Text attributes from article and create dictionary from them:"
   ]
  },
  {
   "cell_type": "code",
   "execution_count": 132,
   "metadata": {},
   "outputs": [],
   "source": [
    "def extract_text(text):\n",
    "    title_regex = r'<title[^>]*>([^<]+)</title>'\n",
    "    text_regex = r'<text[^>]*>([^<]+)</text>'\n",
    "    pages = []\n",
    "    for page in text:\n",
    "        title = regex.findall(title_regex, page)\n",
    "        text = regex.findall(text_regex, page)\n",
    "        pages.append({\"title\": title[0] if title else '',\n",
    "                      \"text\": text[0] if text else ''})\n",
    "    return pages"
   ]
  },
  {
   "cell_type": "markdown",
   "metadata": {},
   "source": [
    "## Najst infobox, anchor texty a wiki kategorie"
   ]
  },
  {
   "cell_type": "markdown",
   "metadata": {},
   "source": [
    "### 4. Z článkov testovacej sady vyhľadať dôležité pojmy - zamerať sa na Infobox, kde sa nachádzajú dôležité informácie o článku\n",
    "\n",
    "### 5. Vyhľadať odkazy na iné články Wikipédie (anchor text), ktoré môžu smerovať priamo na oblasť alebo aspoň priblížiť kontext článku"
   ]
  },
  {
   "cell_type": "markdown",
   "metadata": {},
   "source": [
    "Find Infobox and Achor texts from Text attribute of article and add them to dictionary"
   ]
  },
  {
   "cell_type": "code",
   "execution_count": 129,
   "metadata": {},
   "outputs": [],
   "source": [
    "def find_infobox_anchor(text):\n",
    "    regex_infobox = r\"(?=\\{Infobox )(\\{([^{}]|(?1))*\\})\"\n",
    "    regex_anchor = r\"\\[\\[([^\\]\\[:]+)\\|([^\\]\\[:]+)\\]\\]\"\n",
    "    regex_category = r\"\\[\\[Category:([^\\]]*\\b)\"\n",
    "    for page in text:\n",
    "        page['infobox'] = regex.findall(regex_infobox, page['text'])\n",
    "        page['anchors'] = regex.findall(regex_anchor, page['text'])\n",
    "        page['category_wiki'] = regex.findall(regex_category, page['text'])\n",
    "        page['text'] = regex.sub(regex_infobox, '', page['text'])\n",
    "        page['text'] = regex.sub(regex_anchor, '', page['text'])\n",
    "        page['text'] = regex.sub(regex_category, '', page['text'])\n",
    "    return text"
   ]
  },
  {
   "cell_type": "markdown",
   "metadata": {},
   "source": [
    "Separate Redirect articles from others into two separate lists"
   ]
  },
  {
   "cell_type": "code",
   "execution_count": 130,
   "metadata": {},
   "outputs": [],
   "source": [
    "def find_redirect(text):\n",
    "    regex_redirect = r\"^#redirect[^\\[]*\\[\\[([^\\]]+)\"\n",
    "    redirect_pages = []\n",
    "    article_pages = []\n",
    "    for page in text:\n",
    "        if regex.findall(regex_redirect, page['text']):\n",
    "            redirect_pages.append(page)\n",
    "        else:\n",
    "            article_pages.append(page)\n",
    "    return (redirect_pages, article_pages)"
   ]
  },
  {
   "cell_type": "code",
   "execution_count": null,
   "metadata": {},
   "outputs": [],
   "source": [
    "#redirects, articles_test = find_redirect(find_infobox_anchor(extract_text(read_xml_modified('../data/enwiki-latest-pages-articles.xml', 100))))"
   ]
  },
  {
   "cell_type": "code",
   "execution_count": null,
   "metadata": {
    "scrolled": true
   },
   "outputs": [],
   "source": [
    "#read_xml_modified('../data/enwiki-latest-pages-articles.xml', 100000)\n",
    "for i in range(12,207):\n",
    "    with open(f'../data/wiki_{i}_before.json', 'r+') as json_file:\n",
    "        print(i)\n",
    "        articles_all = json.load(json_file)\n",
    "        redirects, articles_all = find_redirect(find_infobox_anchor(extract_text(articles_all)))\n",
    "    with open(f'../data/wiki_{i}_before.json', 'w+') as json_file:\n",
    "        json.dump(articles_all, json_file, indent=4)"
   ]
  },
  {
   "cell_type": "code",
   "execution_count": null,
   "metadata": {
    "scrolled": true
   },
   "outputs": [],
   "source": [
    "for i in range(12,207):\n",
    "    with open(f'../data/wiki_{i}_before.json', 'r+') as json_file:\n",
    "        print(i)\n",
    "        articles_all = json.load(json_file)\n",
    "        redirects, articles_all = find_redirect(articles_all)\n",
    "    with open(f'../data/wiki_{i}_before.json', 'w+') as json_file:\n",
    "        json.dump(articles_all, json_file, indent=4)"
   ]
  },
  {
   "cell_type": "markdown",
   "metadata": {},
   "source": [
    "### 2. Vytvoriť zoznam (strom) spoločensko-vedných oblastí, do ktorých budeme jednotlivé stránky zaraďovať, ku každej oblasti nájsť aj slová, ktoré sa s ňou spájajú"
   ]
  },
  {
   "cell_type": "markdown",
   "metadata": {},
   "source": [
    "Find terms related to our categories with Datamuse library. Split words of each category and find 100 terms related to them"
   ]
  },
  {
   "cell_type": "code",
   "execution_count": null,
   "metadata": {},
   "outputs": [],
   "source": [
    "categories = [\n",
    "    'Culture, literature and the arts',\n",
    "    'Geography - places and states',\n",
    "    'Medicine - health and fitness',\n",
    "    'History and events',\n",
    "    'Mathematics and logic',\n",
    "    'Nature and physics',\n",
    "    'Technology and computing',\n",
    "    'Philosophy and thinking',\n",
    "    'Religion and belief',\n",
    "    'Society, politics and people'\n",
    "]\n",
    "\n",
    "new_categories = [\n",
    "    'Culture',\n",
    "    'Food',\n",
    "    'Language',\n",
    "    'Literature',\n",
    "    'Art',\n",
    "    'Dance',\n",
    "    'Film',\n",
    "    'Music',\n",
    "    'Theatre',\n",
    "    'Architecture',\n",
    "    'Painting',\n",
    "    'Sculpture',\n",
    "    'Games',\n",
    "    'Sport',\n",
    "    'Recreation',\n",
    "    'Media',\n",
    "    'Internet',\n",
    "    'Geography',\n",
    "    'Earth',\n",
    "    'Health',\n",
    "    'Fitness',\n",
    "    'Exercise',\n",
    "    'Life',\n",
    "    'Medicine',\n",
    "    'History',\n",
    "    'Education',\n",
    "    'Crime',\n",
    "    'War',\n",
    "    'Transport',\n",
    "    'Mathematics',\n",
    "    'Logic',\n",
    "    'Statistics',\n",
    "    'Biology',\n",
    "    'Nature',\n",
    "    'Science',\n",
    "    'Philosophy',\n",
    "    'Religion',\n",
    "    'Belief',\n",
    "    'Society',\n",
    "    'Technology',\n",
    "    'Computing',\n",
    "    'Electronics',\n",
    "    'Engineering']"
   ]
  },
  {
   "cell_type": "markdown",
   "metadata": {},
   "source": [
    "### Vytvorit gazeteer pomocou Wiki clankov mojich kategorii"
   ]
  },
  {
   "cell_type": "markdown",
   "metadata": {},
   "source": [
    "Ku kazdej z mojich kategorii najst clanok wikipedie s rovnakym nazvom a pomocou neho neskor vytvorit gazeteer."
   ]
  },
  {
   "cell_type": "code",
   "execution_count": null,
   "metadata": {},
   "outputs": [],
   "source": [
    "def find_categories_articles(file_name):\n",
    "    start_tag = f'<page>'\n",
    "    end_tag = f'</page>'\n",
    "    title_regex = r'<title[^>]*>([^<]+)</title>'\n",
    "\n",
    "    start_found = False\n",
    "    reading = False\n",
    "    start_just = False\n",
    "    articles_found = []\n",
    "    lines = ''\n",
    "    \n",
    "    try:\n",
    "        with open(file_name, encoding=\"utf8\") as f:\n",
    "            for line in f:\n",
    "                if start_tag in line:\n",
    "                    start_found = True\n",
    "                    start_just = True\n",
    "                    continue\n",
    "                if start_just:\n",
    "                    category = regex.findall(title_regex, line)\n",
    "                    if category[0] in new_categories:\n",
    "                        print(category[0])\n",
    "                        reading = True\n",
    "                    start_just = False\n",
    "                if start_found and reading:\n",
    "                    lines += line\n",
    "                if end_tag in line:\n",
    "                    start_found = False\n",
    "                    reading = False\n",
    "                    if category[0] in new_categories:\n",
    "                        articles_found.append(lines)\n",
    "                    category = ''\n",
    "                    lines = ''\n",
    "                if len(articles_found) == len(new_categories):\n",
    "                    break\n",
    "        with open(f'../data/wiki_categories.json', 'w') as outfile:\n",
    "            json.dump(articles_found, outfile)\n",
    "        return articles_found\n",
    "    except:\n",
    "          print(\"An exception occurred\")\n",
    "    finally:\n",
    "        with open(f'../data/wiki_categories.json', 'w') as outfile:\n",
    "            json.dump(articles_found, outfile)    \n",
    "        return articles_found"
   ]
  },
  {
   "cell_type": "code",
   "execution_count": 127,
   "metadata": {
    "scrolled": true
   },
   "outputs": [
    {
     "name": "stdout",
     "output_type": "stream",
     "text": [
      "Art\n",
      "Computing\n",
      "Crime\n",
      "Dance\n",
      "Earth\n",
      "Engineering\n",
      "Education\n",
      "Electronics\n",
      "Food\n",
      "Games\n",
      "Internet\n",
      "Language\n",
      "Life\n",
      "Mathematics\n",
      "Music\n",
      "Medicine\n",
      "Nature\n",
      "Recreation\n",
      "Religion\n",
      "Statistics\n",
      "Science\n",
      "Sculpture\n",
      "Technology\n",
      "War\n",
      "Society\n",
      "Media\n",
      "Health\n",
      "Belief\n",
      "An exception occurred\n"
     ]
    }
   ],
   "source": [
    "categories_articles = find_categories_articles('../data/enwiki-latest-pages-articles.xml')"
   ]
  },
  {
   "cell_type": "markdown",
   "metadata": {},
   "source": [
    "### Vytvorit gazeteer pomocou Datamuse kniznice"
   ]
  },
  {
   "cell_type": "markdown",
   "metadata": {},
   "source": [
    "Ku kazdej z mojich kategorii najst gazeteer pomocou kniznice Datamuse - related words"
   ]
  },
  {
   "cell_type": "code",
   "execution_count": 39,
   "metadata": {
    "scrolled": true
   },
   "outputs": [],
   "source": [
    "api = datamuse.Datamuse()\n",
    "        \n",
    "def categories_find_related(categories):\n",
    "    cats_with_words = []\n",
    "\n",
    "    for c in categories:\n",
    "        api_words = api.words(ml=c, max=20)\n",
    "        result = list(map(lambda x: x.get('word'), api_words))\n",
    "        result.append(c.lower())\n",
    "        cats_with_words.append({'category':c,'related_words':result})\n",
    "\n",
    "    return cats_with_words"
   ]
  },
  {
   "cell_type": "markdown",
   "metadata": {},
   "source": [
    "## Predspracovanie"
   ]
  },
  {
   "cell_type": "markdown",
   "metadata": {},
   "source": [
    "### 3. Články vhodne predspracovať - stemming, tokenizácia, odstránenie stop slov"
   ]
  },
  {
   "cell_type": "code",
   "execution_count": 56,
   "metadata": {},
   "outputs": [],
   "source": [
    "def tokenize_text(text):\n",
    "    text_tokens = word_tokenize(text)\n",
    "    text_tokens = [token.lower() for token in text_tokens if token not in [\"*+'-./:;,|<=>?@[\\]^_`{}~!\\\"#$%&()\\n\"]]\n",
    "    return text_tokens"
   ]
  },
  {
   "cell_type": "code",
   "execution_count": 57,
   "metadata": {},
   "outputs": [],
   "source": [
    "def remove_stops(text):\n",
    "    tokens_without_stops = list(filter(lambda x: (x not in string.punctuation) and (x not in stopwords.words('english')),text))\n",
    "    return tokens_without_stops"
   ]
  },
  {
   "cell_type": "code",
   "execution_count": 58,
   "metadata": {},
   "outputs": [],
   "source": [
    "stemmer = PorterStemmer()\n",
    "\n",
    "def stem_list(llist):\n",
    "    return [stemmer.stem(word) for word in llist]"
   ]
  },
  {
   "cell_type": "code",
   "execution_count": 59,
   "metadata": {},
   "outputs": [],
   "source": [
    "def preprocess_text(text):\n",
    "    if not text:\n",
    "        return []\n",
    "    else:\n",
    "        text = tokenize_text(text)\n",
    "        text = remove_stops(text)\n",
    "        text = stem_list(text)\n",
    "        return text"
   ]
  },
  {
   "cell_type": "markdown",
   "metadata": {},
   "source": [
    "### Predspracovat slova textu clanku, kategorii, infoboxov a anchor textov"
   ]
  },
  {
   "cell_type": "code",
   "execution_count": null,
   "metadata": {
    "scrolled": true
   },
   "outputs": [],
   "source": [
    "for art in articles_test:\n",
    "    # Predspracovat slova textu clanku:\n",
    "    art['text_tokens'] = preprocess_text(art.get('text'))\n",
    "    # Predspracovat slova z kategorii:\n",
    "    art['category_wiki_tokens'] = preprocess_text(' '.join(art.get('category_wiki')))\n",
    "    # Predspracovat slova z infoboxov:\n",
    "    if art.get('infobox'):\n",
    "        art['infobox_tokens'] = preprocess_text(' '.join(art.get('infobox')[0]))\n",
    "    else:\n",
    "        art['infobox_tokens'] = []\n",
    "    # Predspracovat slova z anchor textov:\n",
    "    art['anchors_tokens'] = preprocess_text(' '.join([' '.join(tups) for tups in art.get('anchors')]))"
   ]
  },
  {
   "cell_type": "markdown",
   "metadata": {},
   "source": [
    "#### Testovanie pre jeden subor"
   ]
  },
  {
   "cell_type": "code",
   "execution_count": null,
   "metadata": {
    "scrolled": true
   },
   "outputs": [],
   "source": [
    "import time\n",
    "\n",
    "for i in range(11,12):\n",
    "    with open(f'../data/wiki_{i}_before.json', 'r+') as json_file:\n",
    "        articles_all = json.load(json_file)\n",
    "        start_time = time.time()\n",
    "        for index, art in zip(range(100,1100), articles_all):\n",
    "            print(index)\n",
    "            art['text_tokens'] = preprocess_text(art.pop('text',''))\n",
    "            art['category_wiki_tokens'] = preprocess_text(' '.join(art.pop('category_wiki','')))\n",
    "            if art.get('infobox'):\n",
    "                art['infobox_tokens'] = preprocess_text(' '.join(art.pop('infobox','')[0]))\n",
    "            else:\n",
    "                art['infobox_tokens'] = []\n",
    "            art['anchors_tokens'] = preprocess_text(' '.join([' '.join(tups) for tups in art.pop('anchors','')]))\n",
    "        print(\"--- %s seconds ---\" % (time.time() - start_time))\n",
    "#     with open(f'../data/wiki_{i}_before.json', 'w+') as json_file:\n",
    "#         json.dump(articles_all, json_file, indent=4)"
   ]
  },
  {
   "cell_type": "code",
   "execution_count": null,
   "metadata": {},
   "outputs": [],
   "source": [
    "arts = articles_all[100:1100]"
   ]
  },
  {
   "cell_type": "markdown",
   "metadata": {},
   "source": [
    "#### Vsetky subory"
   ]
  },
  {
   "cell_type": "code",
   "execution_count": null,
   "metadata": {},
   "outputs": [],
   "source": [
    "for i in range(12,207):\n",
    "    with open(f'../data/wiki_{i}_before.json', 'r+') as json_file:\n",
    "        articles_all = json.load(json_file)\n",
    "        for index, art in zip(range(10), items):\n",
    "            print(index)\n",
    "            art['text_tokens'] = preprocess_text(art.pop('text',''))\n",
    "            art['category_wiki_tokens'] = preprocess_text(' '.join(art.pop('category_wiki','')))\n",
    "            if art.get('infobox'):\n",
    "                art['infobox_tokens'] = preprocess_text(' '.join(art.pop('infobox','')[0]))\n",
    "            else:\n",
    "                art['infobox_tokens'] = []\n",
    "            art['anchors_tokens'] = preprocess_text(' '.join([' '.join(tups) for tups in art.pop('anchors','')]))\n",
    "    with open(f'../data/wiki_{i}_before.json', 'w+') as json_file:\n",
    "        json.dump(articles_all, json_file, indent=4)"
   ]
  },
  {
   "cell_type": "markdown",
   "metadata": {},
   "source": [
    "### Predspracovat slova pre gazeteer - DATAMUSE"
   ]
  },
  {
   "cell_type": "code",
   "execution_count": null,
   "metadata": {},
   "outputs": [],
   "source": [
    "cats_with_words = categories_find_related(new_categories)\n",
    "for cat in cats_with_words:\n",
    "    cat['related_tokens'] = preprocess_text(' '.join(cat.get('related_words')))"
   ]
  },
  {
   "cell_type": "markdown",
   "metadata": {},
   "source": [
    "### Predspracovat slova pre gazeteer - WIKI clanky"
   ]
  },
  {
   "cell_type": "code",
   "execution_count": 135,
   "metadata": {},
   "outputs": [],
   "source": [
    "# categories_articles = find_categories_articles('../data/enwiki-latest-pages-articles.xml')\n",
    "with open('../data/wiki_categories.json') as json_file:\n",
    "    categories_articles = json.load(json_file)\n",
    "\n",
    "categories_articles = find_infobox_anchor(extract_text(categories_articles))\n",
    "for art in categories_articles:\n",
    "    art['text_tokens'] = preprocess_text(art.get('text'))# num = 0\n",
    "    art['category_wiki_tokens'] = preprocess_text(' '.join(art.get('category_wiki')))\n",
    "    if art.get('infobox'):\n",
    "        art['infobox_tokens'] = preprocess_text(' '.join(art.get('infobox')[0]))\n",
    "    else:\n",
    "        art['infobox_tokens'] = []\n",
    "    art['anchors_tokens'] = preprocess_text(' '.join([' '.join(tups) for tups in art.get('anchors')]))"
   ]
  },
  {
   "cell_type": "markdown",
   "metadata": {},
   "source": [
    "## TF-IDF"
   ]
  },
  {
   "cell_type": "code",
   "execution_count": null,
   "metadata": {},
   "outputs": [],
   "source": [
    "import pandas as pd \n",
    "from sklearn.feature_extraction.text import TfidfTransformer \n",
    "from sklearn.feature_extraction.text import CountVectorizer \n",
    "from sklearn.feature_extraction.text import TfidfVectorizer\n",
    "from sklearn.metrics.pairwise import cosine_similarity\n",
    "import numpy as np\n",
    "import numpy.linalg as LA"
   ]
  },
  {
   "cell_type": "code",
   "execution_count": null,
   "metadata": {},
   "outputs": [],
   "source": [
    "# OLD VERSION\n",
    "\n",
    "# def tfidf_train(train_set):\n",
    "#     vectorizer = TfidfVectorizer(use_idf=True)\n",
    "#     trainVectorizerArray = vectorizer.fit_transform(train_set).toarray()\n",
    "#     print(trainVectorizerArray)\n",
    "#     return vectorizer, trainVectorizerArray\n",
    "\n",
    "# def tfdif_test_cosine(test_set, vectorizer, trainVectorizerArray):\n",
    "#     if not test_set[0]:\n",
    "#         return {}\n",
    "    \n",
    "#     testVectorizerArray = vectorizer.transform(test_set).toarray()\n",
    "#     cx = lambda a, b : round(np.inner(a, b)/(LA.norm(a)*LA.norm(b)), 3)\n",
    "    \n",
    "#     categories_sims = {}\n",
    "#     for vector, category in zip(trainVectorizerArray, new_categories):\n",
    "#         for testV in testVectorizerArray:\n",
    "#             cosine = cx(vector, testV)\n",
    "#             if cosine != 0:\n",
    "#                 categories_sims[category] = cosine\n",
    "#     return categories_sims"
   ]
  },
  {
   "cell_type": "code",
   "execution_count": 124,
   "metadata": {},
   "outputs": [],
   "source": [
    "def tfidf_train(train_set):\n",
    "    vectorizer = TfidfVectorizer()\n",
    "    docs_tfidf = vectorizer.fit_transform(train_set)\n",
    "    return vectorizer, docs_tfidf\n",
    "\n",
    "def tfdif_test_cosine(query, vectorizer, docs_tfidf):\n",
    "    query_tfidf = vectorizer.transform([query])\n",
    "    cosineSimilarities = cosine_similarity(query_tfidf, docs_tfidf).flatten()\n",
    "    categories_sims = {}\n",
    "    \n",
    "    for cosine, category in zip(cosineSimilarities, new_categories):\n",
    "        if cosine != 0:\n",
    "            categories_sims[category] = cosine\n",
    "    return categories_sims"
   ]
  },
  {
   "cell_type": "markdown",
   "metadata": {},
   "source": [
    "## Kosinusova podobnost TF-IDF"
   ]
  },
  {
   "cell_type": "markdown",
   "metadata": {},
   "source": [
    "Natrenovana Term frequency - Inverse document frequency na datasete mojho gazeteeru, teda slov jednotlivych kategorii.\n",
    "\n",
    "Tento model vyhodnotime na slovach textu clankov, infoboxov, kategorii a anchor textoch a vypocitame kosinusovu podobnost s kategoriami gazeteeru."
   ]
  },
  {
   "cell_type": "markdown",
   "metadata": {},
   "source": [
    "### Trenovanie TF-IDF na gazeteere z DATAMUSE"
   ]
  },
  {
   "cell_type": "code",
   "execution_count": null,
   "metadata": {
    "scrolled": true
   },
   "outputs": [],
   "source": [
    "train_set = [' '.join(cat.get('related_tokens')) for cat in cats_with_words]\n",
    "\n",
    "vectorizer_datamuse, trained_model_datamuse = tfidf_train(train_set)"
   ]
  },
  {
   "cell_type": "markdown",
   "metadata": {},
   "source": [
    "### Trenovanie TF-IDF na gazeteere z WIKI clankov kategorii"
   ]
  },
  {
   "cell_type": "code",
   "execution_count": null,
   "metadata": {},
   "outputs": [],
   "source": [
    "# train_set_text = [' '.join(cat.get('text_tokens')) for cat in categories_articles]\n",
    "train_set_category = [' '.join(cat.get('category_wiki_tokens')) for cat in categories_articles]\n",
    "train_set_infobox = [' '.join(cat.get('infobox_tokens')) for cat in categories_articles]\n",
    "train_set_anchors = [' '.join(cat.get('anchors_tokens')) for cat in categories_articles]\n",
    "\n",
    "vectorizer_wiki0, trained_model_wiki0 = tfidf_train(train_set_anchors)\n",
    "vectorizer_wiki1, trained_model_wiki1 = tfidf_train(train_set_infobox)\n",
    "vectorizer_wiki2, trained_model_wiki2 = tfidf_train(train_set_category)"
   ]
  },
  {
   "cell_type": "code",
   "execution_count": 136,
   "metadata": {},
   "outputs": [],
   "source": [
    "train_set_text = [' '.join(cat.get('text_tokens')) for cat in categories_articles]\n",
    "vectorizer_wiki3, trained_model_wiki3 = tfidf_train(train_set_text)"
   ]
  },
  {
   "cell_type": "code",
   "execution_count": 126,
   "metadata": {},
   "outputs": [
    {
     "data": {
      "text/plain": [
       "'    <title>Art</title>\\n    <ns>0</ns>\\n    <id>752</id>\\n    <revision>\\n      <id>979038585</id>\\n      <parentid>979038551</parentid>\\n      <timestamp>2020-09-18T11:47:28Z</timestamp>\\n      <contributor>\\n        <username>Materialscientist</username>\\n        <id>7852030</id>\\n      </contributor>\\n      <minor />\\n      <comment>Reverted edits by [[Special:Contributions/Russian_r_maybe|Russian_r_maybe]] ([[User talk:Russian_r_maybe|talk]]) ([[WP:HG|HG]]) (3.4.10)</comment>\\n      <model>wikitext</model>\\n      <format>text/x-wiki</format>\\n      <text bytes=\"98875\" xml:space=\"preserve\">{{about|the general concept of art|the group of creative disciplines|The arts|other uses|Art (disambiguation)}}\\n{{pp-semi-indef}}\\n{{pp-move-indef}}\\n{{short description|Creative work to evoke emotional response}}\\n{{Use dmy dates|date=July 2020}}\\n[[File:Art-portrait-collage 2.jpg|thumb|upright=1.5|Clockwise from upper left: an 1887 [[self-portrait]] by [[Vincent van Gogh]]; a female ancestor figure by a [[Chokwe people|Chokwe]] artist; detail from \\'\\'[[The Birth of Venus]]\\'\\' (c. 1484–1486) by [[Sandro Botticelli]]; and an Okinawan [[Shisa]] lion]]\\n\\n\\'\\'\\'Art\\'\\'\\' is a diverse range of [[human behavior|human activities]] involving the creation of visual, auditory or performing artifacts ([[artworks]]), which express the creator\\'s [[imagination]], [[concept]]ual [[idea]]s, or technical skill, intended to be appreciated primarily for their beauty or emotional power.&lt;ref name=&quot;OD&quot;&gt;{{cite web |url=http://www.oxforddictionaries.com/definition/english/art |title=Art: definition |publisher=Oxford Dictionaries}}&lt;/ref&gt;&lt;ref name=&quot;MW&quot;&gt;{{cite web |url=http://www.merriam-webster.com/dictionary/art |title=art |publisher=Merriam-Websters Dictionary}}&lt;/ref&gt; Other activities related to the production of works of art include the [[art criticism|criticism of art]], and the study of [[art history|the history of art]].\\n\\nThe three classical branches of visual art are painting, sculpture and architecture.&lt;ref&gt;{{Cite book|url=https://books.google.com/?id=q8rvdsxGokwC&amp;printsec=frontcover&amp;dq=Vasari+lives+of+painters,+sculptors+and+painters|title=The Lives of the Most Excellent Painters, Sculptors, and Architects|first=Giorgio|last=Vasari|date=18 December 2007|publisher=Random House Publishing Group|isbn=9780307432391}}&lt;/ref&gt; Music, theatre, film, dance, and other performing arts, as well as literature and other media such as [[interactive media]], are included in a broader definition of [[the arts]].&lt;ref name=OD/&gt;&lt;ref&gt;&quot;Art, n. 1&quot;. OED Online. December 2011. Oxford University Press. http://www.oed.com. (Accessed 26 February 2012.)&lt;/ref&gt; Until the 17th century, \\'\\'art\\'\\' referred to any skill or mastery and was not differentiated from [[craft]]s or [[sciences]]. In modern usage after the 17th century, where aesthetic considerations are paramount, the fine arts are separated and distinguished from acquired skills in general, such as the [[decorative arts|decorative]] or [[applied arts]].\\n\\nThough there is no generally agreed definition of what constitutes art,&lt;ref&gt;{{cite book |title=Definitions of Art |author=Stephen Davies |publisher=Cornell University Press |year=1991 |isbn=978-0-8014-9794-0}}&lt;/ref&gt;&lt;ref&gt;{{cite book |title=Artworks: Definition, Meaning, Value |author=Robert Stecker |publisher=Pennsylvania State University Press |year=1997 |isbn=978-0-271-01596-5}}&lt;/ref&gt;&lt;ref&gt;{{cite book |title=Theories of Art Today |editor=Noël Carroll |publisher=University of Wisconsin Press |year=2000 |isbn=978-0-299-16354-9}}&lt;/ref&gt; and ideas have changed over time, general descriptions mention an idea of imaginative or technical skill stemming from [[Agency (philosophy)|human agency]]&lt;ref&gt;{{cite web |url=https://www.ubc.ca/okanagan/creative/links/arthistory/What_is_Art_.html |archive-date=27 April 2012 |archive-url=https://web.archive.org/web/20120427192624/http://www.ubc.ca/okanagan/creative/links/arthistory/What_is_Art_.html |title=What Is Art? |author=Dr. Robert J. Belton}}&lt;/ref&gt; and creation.&lt;ref name=&quot;britannica.com&quot;&gt;{{cite web |url=http://www.britannica.com/EBchecked/topic/630806/art |title=art |website=Encyclopædia Britannica}}&lt;/ref&gt; The nature of art and related concepts, such as creativity and [[Aesthetic interpretation|interpretation]], are explored in a branch of philosophy known as [[aesthetics]].&lt;ref&gt;W. E. Kennick, \\'\\'Art and Philosophy: Readings in Aesthetics.\\'\\' New York: St. Martin\\'s Press, 1979, pp. xi–xiii. {{ISBN|0-312-05391-6}}.&lt;/ref&gt;\\n\\n==Overview==\\n{{wide image|Wang Ximeng - A Thousand Li of River (Bridge).jpg|1250px|Works of art can tell stories or simply express an aesthetic truth or feeling. Panorama of a section of \\'\\'A Thousand Li of Mountains and Rivers\\'\\', a 12th-century painting by Song dynasty artist [[Wang Ximeng]].}}\\n\\nIn the perspective of the history of art,&lt;ref name=&quot;britannica.com&quot;/&gt; artistic works have existed for almost as long as humankind: from early [[pre-historic art]] to [[contemporary art]]; however, some theorists feel that the typical concept of &quot;artistic works&quot; fits less well outside modern Western societies.&lt;ref&gt;Elkins, James &quot;Art History and Images That Are Not Art&quot;, \\'\\'The Art Bulletin\\'\\', Vol. 47, No. 4 (December 1995), with previous bibliography. &quot;Non-Western images are not well described in terms of art, and neither are medieval paintings that were made in the absence of humanist ideas of artistic value&quot;. 553&lt;/ref&gt; One early sense of the definition of \\'\\'art\\'\\' is closely related to the older Latin meaning, which roughly translates to &quot;skill&quot; or &quot;craft,&quot; as associated with words such as &quot;artisan.&quot; English words derived from this meaning include \\'\\'artifact\\'\\', \\'\\'artificial\\'\\', \\'\\'artifice\\'\\', \\'\\'medical arts\\'\\', and \\'\\'military arts\\'\\'. However, there are many other colloquial uses of the word, all with some relation to its [[etymology]].\\n[[File:Teke bottle.JPG|thumb|upright|20th-century bottle, [[Twa]] peoples, Rwanda, Artistic works may serve practical functions, in addition to their decorative value.]]\\n\\nOver time, philosophers like [[Plato]], [[Aristotle]], [[Socrates]] and [[Kant]], among others, questioned the meaning of art.&lt;ref&gt;Gilbert, Kuhn pp. 73–96&lt;/ref&gt; Several dialogues in Plato tackle questions about art: Socrates says that poetry is inspired by the [[muses]], and is not rational. He speaks approvingly of this, and other forms of divine madness (drunkenness, eroticism, and dreaming) in the \\'\\'[[Phaedrus (Plato)|Phaedrus]] \\'\\'(265a–c), and yet in the \\'\\'[[Republic (Plato)|\\'\\'Republic\\'\\']]\\'\\' wants to outlaw Homer\\'s great poetic art, and laughter as well. In \\'\\'[[Ion (dialogue)|Ion]]\\'\\', Socrates gives no hint of the disapproval of Homer that he expresses in the \\'\\'Republic\\'\\'. The dialogue \\'\\'Ion\\'\\' suggests that [[Homer]]\\'s \\'\\'[[Iliad]]\\'\\' functioned in the ancient Greek world as the Bible does today in the modern Christian world: as divinely inspired literary art that can provide moral guidance, if only it can be properly interpreted.&lt;ref&gt;Gilbert, Kuhn pp. 40–72&lt;/ref&gt;\\n\\nWith regards to the literary art and the musical arts, Aristotle considered [[epic poetry]], tragedy, comedy, [[Dithyramb]]ic poetry and music to be [[Mimesis|mimetic]] or imitative art, each varying in imitation by medium, object, and manner.&lt;ref&gt;Aristotle, \\'\\'Poetics\\'\\' I 1447a&lt;/ref&gt; For example, music imitates with the media of rhythm and harmony, whereas dance imitates with rhythm alone, and poetry with language. The forms also differ in their object of imitation. Comedy, for instance, is a dramatic imitation of men worse than average; whereas tragedy imitates men slightly better than average. Lastly, the forms differ in their manner of imitation—through narrative or character, through change or no change, and through drama or no drama.&lt;ref&gt;Aristotle, \\'\\'Poetics\\'\\' III&lt;/ref&gt; Aristotle believed that imitation is natural to mankind and constitutes one of mankind\\'s advantages over animals.&lt;ref&gt;Aristotle, \\'\\'Poetics\\'\\' IV&lt;/ref&gt;\\n\\nThe more recent and specific sense of the word \\'\\'art\\'\\' as an abbreviation for \\'\\'creative art\\'\\' or \\'\\'fine art\\'\\' emerged in the early 17th century.&lt;ref&gt;\\'\\'[[Shorter Oxford English Dictionary|The New Shorter Oxford English Dictionary]]\\'\\'. [[Oxford University Press]], Oxford 1993, p.&amp;nbsp;120&lt;/ref&gt; Fine art refers to a skill used to express the artist\\'s creativity, or to engage the audience\\'s aesthetic sensibilities, or to draw the audience towards consideration of more refined or \\'\\'finer\\'\\' work of art.\\n\\nWithin this latter sense, the word \\'\\'art\\'\\' may refer to several things: (i) a study of a creative skill, (ii) a process of using the creative skill, (iii) a product of the creative skill, or (iv) the audience\\'s experience with the creative skill. The creative arts (\\'\\'art\\'\\' as discipline) are a collection of disciplines which produce \\'\\'artworks\\'\\' (\\'\\'art\\'\\' as objects) that are compelled by a personal drive (art as activity) and convey a message, mood, or symbolism for the perceiver to interpret (art as experience).  Art is something that stimulates an individual\\'s thoughts, emotions, beliefs, or ideas through the senses. Works of art can be explicitly made for this purpose or interpreted on the basis of images or objects. For some scholars, such as [[Kant]], the sciences and the arts could be distinguished by taking science as representing the domain of knowledge and the arts as representing the domain of the freedom of artistic expression.&lt;ref&gt;Gilbert, Kuhn pp. 287–326&lt;/ref&gt;\\n\\nOften, if the skill is being used in a common or practical way, people will consider it a craft instead of art. Likewise, if the skill is being used in a commercial or industrial way, it may be considered [[commercial art]] instead of fine art. On the other hand, crafts and design are sometimes considered [[applied art]]. Some art followers have argued that the difference between fine art and applied art has more to do with value judgments made about the art than any clear definitional difference.&lt;ref&gt;David Novitz, \\'\\'The Boundaries of Art\\'\\', 1992&lt;/ref&gt; However, even fine art often has goals beyond pure creativity and self-expression. The purpose of works of art may be to communicate ideas, such as in politically, spiritually, or philosophically motivated art; to create a sense of beauty (see [[aesthetics]]); to explore the nature of perception; for pleasure; or to generate strong [[emotion]]s. The purpose may also be seemingly nonexistent.\\n\\nThe nature of art has been described by philosopher [[Richard Wollheim]] as &quot;one of the most elusive of the traditional problems of human culture&quot;.&lt;ref&gt;Richard Wollheim, \\'\\'Art and its objects\\'\\', p. 1, 2nd ed., 1980, Cambridge University Press, {{ISBN|0-521-29706-0}}&lt;/ref&gt; Art has been defined as a vehicle for the expression or communication of emotions and ideas, a means for exploring and appreciating [[Formalism (art)|formal elements]] for their own sake, and as \\'\\'[[mimesis]]\\'\\' or [[Representation (arts)|representation]]. Art as mimesis has deep roots in the philosophy of [[Aristotle]].&lt;ref name=Levinson5/&gt; [[Leo Tolstoy]] identified art as a use of indirect means to communicate from one person to another.&lt;ref name=&quot;Levinson5&quot;&gt;Jerrold Levinson, \\'\\'The Oxford Handbook of Aesthetics\\'\\', Oxford University Press, 2003, p. 5. {{ISBN|0-19-927945-4}}&lt;/ref&gt; [[Benedetto Croce]] and [[R. G. Collingwood]] advanced the [[Idealism|idealist]] view that art expresses emotions, and that the work of art therefore essentially exists in the mind of the creator.&lt;ref&gt;Jerrold Levinson, \\'\\'The Oxford Handbook of Aesthetics\\'\\', Oxford University Press, 2003, p. 16. {{ISBN|0-19-927945-4}}&lt;/ref&gt;&lt;ref&gt;R.G. Collingwood\\'s view, expressed in \\'\\'The Principles of Art\\'\\', is considered in Wollheim, op. cit. 1980 pp. 36–43&lt;/ref&gt; The theory of art as form has its roots in the philosophy of [[Kant]], and was developed in the early 20th century by [[Roger Fry]] and [[Clive Bell]].  More recently, thinkers influenced by [[Martin Heidegger]] have interpreted art as the means by which a community develops for itself a medium for self-expression and interpretation.&lt;ref&gt;[[Martin Heidegger]], &quot;The Origin of the Work of Art&quot;, in \\'\\'Poetry, Language, Thought\\'\\', (Harper Perennial, 2001). See also [[Maurice Merleau-Ponty]], &quot;Cézanne\\'s Doubt&quot; in \\'\\'The Merleau-Ponty Aesthetics Reader\\'\\', Galen Johnson and Michael Smith (eds), (Northwestern University Press, 1994) and [[John Russon]], \\'\\'Bearing Witness to Epiphany\\'\\', (State University of New York Press, 2009).&lt;/ref&gt; [[George Dickie (philosopher)|George Dickie]] has offered an [[institutional theory of art]] that defines a work of art as any artifact upon which a qualified person or persons acting on behalf of the social institution commonly referred to as &quot;the [[art world]]&quot; has conferred &quot;the status of candidate for appreciation&quot;.&lt;ref&gt;W. E. Kennick, \\'\\'Art and Philosophy: Readings in Aesthetics.\\'\\' New York: St. Martin\\'s Press, 1979, p. 89. {{ISBN|0-312-05391-6}}.&lt;/ref&gt; Larry Shiner has described fine art as &quot;not an essence or a fate but something we have made. Art as we have generally understood it is a European invention barely two hundred years old.&quot;&lt;ref&gt;Shiner 2003. \\'\\'[[The Invention of Art: A Cultural History]].\\'\\' The University of Chicago Press Books. p. 3. {{ISBN|978-0-226-75342-3}}&lt;/ref&gt;\\n\\nArt may be characterized in terms of [[mimesis]] (its representation of reality), narrative (storytelling), expression, communication of emotion, or other qualities. During the [[Romanticism|Romantic period]], art came to be seen as &quot;a special faculty of the human mind to be classified with religion and science&quot;.&lt;ref&gt;{{cite web |author=Gombrich, Ernst. |url=http://www.gombrich.co.uk/showdoc.php?id=68 |title=Press statement on The Story of Art |year=2005 |website=The Gombrich Archive |archiveurl=https://web.archive.org/web/20081006212330/http://www.gombrich.co.uk/showdoc.php?id=68 |archivedate=6 October 2008 |url-status=dead }}&lt;/ref&gt;\\n\\n==History==\\n{{Main|History of art}}\\n[[File:Venus of Willendorf frontview retouched 2.jpg|thumb|upright|left|[[Venus of Willendorf]], \\'\\'circa\\'\\' 24,000–22,000&amp;nbsp;[[Before Present|BP]]]]\\n[[File:Oval basin or dish with subject from Amadis of Gaul MET DP320592.jpg|thumb|Back of a Renaissance oval basin or dish, in the [[Metropolitan Museum of Art]]]]\\n\\nThe oldest documented forms of art are visual arts,&lt;ref name=&quot;RampleyLenain2012&quot;&gt;{{cite book|last1=Matthew|author2=Thierry Lenain|author3=Hubert Locher|title=Art History and Visual Studies in Europe: Transnational Discourses and National Frameworks|url=https://books.google.com/books?id=qWa-yPrQOucC|year=2012|publisher=BRILL|isbn=978-90-04-21877-2|pages=222–223}}&lt;/ref&gt; which include creation of images or objects in fields including today painting, sculpture, [[printmaking]], photography, and other visual media. Sculptures, [[cave paintings]], rock paintings and [[petroglyphs]] from the [[Upper Paleolithic]] dating to roughly 40,000 years ago have been found,&lt;ref&gt;{{cite journal |title=World\\'s oldest art found in Indonesian cave |url=http://www.nature.com/news/world-s-oldest-art-found-in-indonesian-cave-1.16100 |journal=Nature |date=8 October 2014|doi=10.1038/nature.2014.16100 |last1=Cyranoski |first1=David }}&lt;/ref&gt; but the precise meaning of such art is often disputed because so little is known about the cultures that produced them. In 2014, a shell engraved by \\'\\'[[Homo erectus]]\\'\\' was determined to be between 430,000 and 540,000 years old.&lt;ref name=&quot;homoerectus&quot;&gt;{{cite web |url=https://www.newscientist.com/article/mg22429983.200-shell-art-made-300000-years-before-humans-evolved.html |title=Shell \\'Art\\' Made 300,000 Years Before Humans Evolved |date=3 December 2014 |website=[[New Scientist]] |publisher=[[Reed Business Information]] Ltd}}&lt;/ref&gt; A set of eight 130,000 years old white-tailed eagle talons bear cut marks and abrasion that indicate manipulation by neanderthals, possibly for using it as jewelry.&lt;ref&gt;http://www.sci-news.com/archaeology/science-neanderthal-eagle-claw-necklace-krapina-croatia-02588.html&lt;/ref&gt; A series of tiny, drilled snail shells about 75,000 years old—were discovered in a South African cave.&lt;ref&gt;Radford, Tim. [http://education.guardian.co.uk/higher/artsandhumanities/story/0,12241,1193237,00.html &quot;World\\'s Oldest Jewellery Found in Cave&quot;]. \\'\\'Guardian Unlimited\\'\\', 16 April 2004. Retrieved on 18 January 2008.&lt;/ref&gt; Containers that may have been used to hold paints have been found dating as far back as 100,000 years.&lt;ref&gt;{{cite news |url=https://www.nytimes.com/2011/10/14/science/14paint.html |work=The New York Times |title=African Cave Yields Evidence of a Prehistoric Paint Factory |date=13 October 2011}}&lt;/ref&gt;\\n\\n[[File:lascaux2.jpg|thumb|right|[[Cave painting]] of a horse from the [[Lascaux]] caves, \\'\\'circa\\'\\' 16,000&amp;nbsp;BP]]\\n\\nMany great traditions in art have a foundation in the art of one of the great ancient civilizations: [[Ancient Egypt]], [[Mesopotamia]], [[History of Iran|Persia]], India, China, Ancient Greece, Rome, as well as [[Inca civilization|Inca]], [[Maya civilization|Maya]], and [[Olmec]]. Each of these centers of early civilization developed a unique and characteristic style in its art. Because of the size and duration of these civilizations, more of their art works have survived and more of their influence has been transmitted to other cultures and later times. Some also have provided the first records of how artists worked. For example, this period of Greek art saw a veneration of the human physical form and the development of equivalent skills to show musculature, poise, beauty, and anatomically correct proportions.&lt;ref&gt;Gombrich, p.83, pp.75–115 pp.132–141, pp.147–155, p.163, p.627.&lt;/ref&gt;\\n\\nIn [[Byzantine art|Byzantine]] and [[Medieval art]] of the Western Middle Ages, much art focused on the expression of subjects about Biblical and religious culture, and used styles that showed the higher glory of a heavenly world, such as the use of gold in the background of paintings, or glass in mosaics or windows, which also presented figures in idealized, patterned (flat) forms. Nevertheless, a classical realist tradition persisted in small Byzantine works, and realism steadily grew in the art of [[Catholic Europe]].&lt;ref&gt;Gombrich, pp. 86–89, pp. 135–141, p. 143, p. 179, p. 185.&lt;/ref&gt;\\n\\n[[Renaissance art]] had a greatly increased emphasis on the realistic depiction of the material world, and the place of humans in it, reflected in the corporeality of the human body, and development of a systematic method of [[graphical perspective]] to depict recession in a three-dimensional picture space.&lt;ref name=&quot;Nichols2012&quot;&gt;{{cite book|author=Tom Nichols|title=Renaissance Art: A Beginner\\'s Guide|url=https://books.google.com/books?id=dzMRpHo0QHUC|date=1 December 2012|publisher=Oneworld Publications|isbn=978-1-78074-178-9}}&lt;/ref&gt;\\n[[File:Tugra Mahmuds II.gif|right|thumb|The stylized signature of [[Sultan]] [[Mahmud II]] of the [[Ottoman Empire]] was written in [[Islamic calligraphy]]. It reads &quot;Mahmud Khan son of Abdulhamid is forever victorious&quot;.]]\\n[[File:Great Mosque of Kairouan Panorama - Grande Mosquée de Kairouan Panorama.jpg|thumb|The [[Mosque of Uqba|Great Mosque of Kairouan]] in Tunisia, also called the Mosque of Uqba, is one of the finest, most significant and best preserved artistic and architectural examples of early great mosques. Dated in its present state from the 9th century, it is the ancestor and model of all the mosques in the western Islamic lands.&lt;ref&gt;{{Cite book|url=https://books.google.com/books?id=IaM9AAAAIAAJ&amp;pg=PA104|title=The Genius of Arab Civilization: Source of Renaissance|date=1 January 1983|publisher=MIT Press|isbn=9780262081368}}&lt;/ref&gt;]]\\n\\nIn the east, [[Islamic art]]\\'s rejection of [[iconography]] led to emphasis on [[Islamic geometric patterns|geometric patterns]], [[Islamic calligraphy|calligraphy]], and [[Islamic architecture|architecture]].&lt;ref&gt;Gombrich, pp. 127-128&lt;/ref&gt; Further east, religion dominated artistic styles and forms too. India and Tibet saw emphasis on painted sculptures and dance, while religious painting borrowed many conventions from sculpture and tended to bright contrasting colors with emphasis on outlines. China saw the flourishing of many art forms: jade carving, bronzework, pottery (including the stunning [[terracotta army]] of Emperor Qin&lt;ref&gt;Gombrich, pp. 634–635&lt;/ref&gt;), poetry, calligraphy, music, painting, drama, fiction, etc. Chinese styles vary greatly from era to era and each one is traditionally named after the ruling dynasty. So, for example, [[Tang dynasty]] paintings are monochromatic and sparse, emphasizing idealized landscapes, but [[Ming dynasty]] paintings are busy and colorful, and focus on telling stories via setting and composition.&lt;ref name=&quot;Watson1995&quot;&gt;{{cite book|author=William Watson|title=The Arts of China 900–1620|url=https://books.google.com/books?id=T-v5jUKaCxYC|year=1995|publisher=Yale University Press|isbn=978-0-300-09835-8}}&lt;/ref&gt; Japan names its styles after imperial dynasties too, and also saw much interplay between the styles of calligraphy and painting. [[Woodblock printing]] became important in Japan after the 17th century.&lt;ref&gt;Gombrich, p. 155, p. 530.&lt;/ref&gt;\\n\\n[[File:Ma Lin Guests.jpg|thumb|left|Painting by [[Song dynasty]] artist Ma Lin, \\'\\'circa\\'\\' 1250. 24.8&amp;nbsp;× 25.2&amp;nbsp;cm]]\\n\\nThe western [[Age of Enlightenment]] in the 18th century saw artistic depictions of physical and rational certainties of the clockwork universe, as well as politically revolutionary visions of a post-monarchist world, such as [[William Blake|Blake]]\\'s portrayal of Newton as a divine geometer,&lt;ref name=&quot;Moore2010&quot;&gt;{{cite book|author=Colin Moore|title=Propaganda Prints: A History of Art in the Service of Social and Political Change|url=https://books.google.com/books?id=l0KAlsQ2Yj4C|date=6 August 2010|publisher=A&amp;amp;C Black|isbn=978-1-4081-0591-7|page=76}}&lt;/ref&gt; or [[Jacques-Louis David|David]]\\'s propagandistic paintings. This led to [[Romanticism|Romantic]] rejections of this in favor of pictures of the emotional side and individuality of humans, exemplified in the novels of [[Goethe]]. The late 19th century then saw a host of artistic movements, such as [[academic art]], [[Symbolism (arts)|Symbolism]], [[impressionism]] and [[fauvism]] among others.&lt;ref&gt;Gombrich, pp.394–395, pp.519–527, pp. 573–575.&lt;/ref&gt;&lt;ref&gt;{{cite web|title=The Age of Enlightenment An Anthology Prepared for the Enlightenment Book Club|url=http://www.rosenfels.org/The_Age_Of_Enlightenment_Anthology.pdf|accessdate=26 May 2018|pages=1–45}}&lt;/ref&gt;\\n\\nThe history of 20th-century art is a narrative of endless possibilities and the search for new standards, each being torn down in succession by the next. Thus the parameters of [[Impressionism]], [[Expressionism]], [[Fauvism]], [[Cubism]], [[Dadaism]], [[Surrealism]], etc. cannot be maintained very much beyond the time of their invention. Increasing [[globalization|global]] interaction during this time saw an equivalent influence of other cultures into Western art. Thus, Japanese woodblock prints (themselves influenced by Western Renaissance draftsmanship) had an immense influence on impressionism and subsequent development. Later, [[African art|African sculptures]] were taken up by Picasso and to some extent by [[Matisse]]. Similarly, in the 19th and 20th centuries the West has had huge impacts on Eastern art with originally western ideas like [[Communism]] and [[Post-Modernism]] exerting a powerful influence.&lt;ref&gt;{{cite book|title=The New York Times Book Review|url=https://books.google.com/books?id=vwEjAQAAMAAJ|volume=1, 84|year=1979|publisher=The New York Times Company|page=30}}&lt;/ref&gt;\\n\\n[[Modernism]], the idealistic search for truth, gave way in the latter half of the 20th century to a realization of its unattainability. [[Theodor W. Adorno]] said in 1970, &quot;It is now taken for granted that nothing which concerns art can be taken for granted any more: neither art itself, nor art in relationship to the whole, nor even the right of art to exist.&quot;&lt;ref&gt;Adorno, Theodor W., \\'\\'Aesthetic Theory\\'\\', (1970 in German)&lt;/ref&gt; [[Relativism]] was accepted as an unavoidable truth, which led to the period of [[contemporary art]] and [[List of postmodern critics|postmodern criticism]], where cultures of the world and of history are seen as changing forms, which can be appreciated and drawn from only with [[skepticism]] and irony. Furthermore, the separation of cultures is increasingly blurred and some argue it is now more appropriate to think in terms of a global culture, rather than of regional ones.&lt;ref name=&quot;Sangeeta2017&quot;&gt;{{cite book|author=Dr. Sangeeta|title=Development of Modern Art Criticism in India after Independence: Post Independence Indian Art Criticism|url=https://books.google.com/books?id=Vqs4DwAAQBAJ|year=2017|publisher=Notion Press|isbn=978-1-947697-31-7}}&lt;/ref&gt;\\n\\nIn \\'\\'[[The Origin of the Work of Art]]\\'\\', Martin Heidegger, a German philosopher and a seminal thinker, describes the essence of art in terms of the concepts of being and truth. He argues that art is not only a way of expressing the element of truth in a culture, but the means of creating it and providing a springboard from which &quot;that which is&quot; can be revealed. Works of art are not merely representations of the way things are, but actually produce a community\\'s shared understanding. Each time a new artwork is added to any culture, the meaning of what it is to exist is inherently changed.\\n\\n==Forms, genres, media, and styles==\\n[[File:Ingres, Napoleon on his Imperial throne.jpg|thumb|\\'\\'[[Napoleon I on his Imperial Throne]]\\'\\' by [[Jean-Auguste-Dominique Ingres|Ingres]] (French, 1806), oil on canvas]]\\n{{Main|The arts}}\\nThe creative arts are often divided into more specific categories, typically along perceptually distinguishable categories such as [[List of art mediums|media]], genre, [[Art movement|styles]], and form.&lt;ref&gt;{{cite journal |last1=Walton |first1=Kendall L. |title=Categories of Art |journal=The Philosophical Review |date=1 January 1970 |volume=79 |issue=3 |pages=334–67 |doi=10.2307/2183933 |jstor=2183933}}&lt;/ref&gt; \\'\\'\\'\\'\\'Art form\\'\\'\\'\\'\\' refers to the [[elements of art]] that are independent of its interpretation or significance. It covers the methods adopted by the artist and the physical [[Composition (visual arts)|composition]] of the artwork, primarily non-semantic aspects of the work (i.e., [[figurae]]),&lt;ref&gt;{{cite book |last1=Monelle |first1=Raymond |title=Linguistics and Semiotics in Music |date=3 January 1992 |publisher=Routledge |isbn=978-3718652099 |page=202 |url=https://books.google.com/books?id=nMtQAwAAQBAJ&amp;lpg=PA202&amp;pg=PA202#q=figurae}}&lt;/ref&gt; such as [[Color theory|color]], [[Contour drawing|contour]], [[Fourth dimension in art|dimension]], [[List of art mediums|medium]], [[melody]], [[Negative space|space]], [[Texture (painting)|texture]], and [[Lightness|value]]. Form may also include [[Visual design elements and principles#Principles of design|visual design principles]], such as arrangement, [[Formal balance|balance]], [[Contrast (vision)|contrast]], [[Emphasis (typography)|emphasis]], [[harmony]], [[Hierarchical proportion|proportion]], [[Principles of grouping|proximity]], and rhythm.&lt;ref name=&quot;Belton&quot;&gt;{{cite book |last1=Belton |first1=Dr. Robert J. |title=Art History: A Preliminary Handbook |chapter=The Elements of Art |date=1996|chapter-url=http://fccs.ok.ubc.ca/about/links/resources/arthistory/elements.html}}&lt;/ref&gt;\\n\\nIn general there are three schools of philosophy regarding art, focusing respectively on form, content, and context.&lt;ref name=&quot;Belton&quot;/&gt; Extreme [[Formalism (art)|Formalism]] is the view that all aesthetic properties of art are formal (that is, part of the art form). Philosophers almost universally reject this view and hold that the properties and aesthetics of art extend beyond materials, techniques, and form.&lt;ref&gt;{{cite journal |last1=Xu |first1=Min |last2=Deng |first2=Guifang |title=Against Zangwill\\'s Extreme Formalism About Inorganic Nature |journal=Philosophia |date=2 December 2014 |volume=43 |issue=1 |pages=249–57 |doi=10.1007/s11406-014-9575-1 |url=http://xy.cmsproxy.sysu.edu.cn/pub/hkmacc/docs/2014-12/20141215194213014875.pdf}}&lt;/ref&gt; Unfortunately, there is little consensus on terminology for these informal properties. Some authors refer to subject matter and content – i.e., [[denotation]]s and [[connotation]]s – while others prefer terms like [[Meaning (semiotics)|meaning]] and significance.&lt;ref name=&quot;Belton&quot;/&gt;\\n\\nExtreme Intentionalism holds that [[authorial intent]] plays a decisive role in the meaning of a work of art, conveying the content or essential main idea, while all other interpretations can be discarded.&lt;ref name=&quot;Livingston&quot;&gt;{{cite journal |last1=Livingston |first1=Paisley |title=Intentionalism in Aesthetics |journal=New Literary History |date=1998 |volume=29 |issue=4 |pages=831–46 |doi=10.1353/nlh.1998.0042 |url=http://works.bepress.com/paisley_livingston/67 |archive-url=https://web.archive.org/web/20170831041725/https://works.bepress.com/paisley_livingston/67/ |archive-date=31 August 2017 |url-status=dead }}&lt;/ref&gt; It defines the subject as the persons or idea represented,&lt;ref&gt;{{cite book |last1=Munk |first1=Eduard |last2=Beck |first2=Charles |last3=Felton |first3=Cornelius Conway |title=The Metres of the Greeks and Romans |date=1844 |page=[https://archive.org/details/metresofgreeksro00munk/page/1 1] |url=https://archive.org/details/metresofgreeksro00munk |accessdate=26 February 2017}}&lt;/ref&gt; and the content as the artist\\'s experience of that subject.&lt;ref&gt;{{cite book |last1=Tolstoy |first1=Leo |title=What is Art? |date=1899 |publisher=Crowell |page=[https://archive.org/details/whatisart00maudgoog/page/n40 24] |url=https://archive.org/details/whatisart00maudgoog}}&lt;/ref&gt; For example, the composition of [[Napoleon I on his Imperial Throne]] is partly borrowed from the [[Statue of Zeus at Olympia]]. As evidenced by the title, the subject is [[Napoleon]], and the content is [[Jean-Auguste-Dominique Ingres|Ingres]]\\'s representation of Napoleon as &quot;Emperor-God beyond time and space&quot;.&lt;ref name=&quot;Belton&quot;/&gt; Similarly to extreme formalism, philosophers typically reject extreme intentionalism, because art may have multiple ambiguous meanings and authorial intent may be unknowable and thus irrelevant. Its restrictive interpretation is &quot;socially unhealthy, philosophically unreal, and politically unwise&quot;.&lt;ref name=&quot;Belton&quot;/&gt;\\n\\nFinally, the developing theory of [[post-structuralism]] studies art\\'s significance in a cultural context, such as the ideas, emotions, and reactions prompted by a work.&lt;ref&gt;{{cite conference |first1=Melahat Küçükarslan |last1=Emiroğlu |first2=Fitnat Cimşit |last2=Koş |title=Design Semiotics and Post-Structuralism |conference=12th World Congress of Semiotics |date=16–20 September 2014 |location=New Bulgarian University |url=http://semio2014.org/en/design-semiotics-and-post-structuralism}}&lt;/ref&gt; The cultural context often reduces to the artist\\'s techniques and intentions, in which case analysis proceeds along lines similar to formalism and intentionalism. However, in other cases historical and material conditions may predominate, such as religious and philosophical convictions, sociopolitical and economic structures, or even climate and geography. [[Art criticism]] continues to grow and develop alongside art.&lt;ref name=&quot;Belton&quot;/&gt;\\n\\n===Skill and craft===\\n{{See also|Conceptual art#Conceptual art and artistic skill|l1=Conceptual art and artistic skill}}\\n[[File:Michelangelo, Creation of Adam 03.jpg|thumb|left|\\'\\'[[The Creation of Adam]]\\'\\', detail from [[Michelangelo]]\\'s fresco in the [[Sistine Chapel]] (1511)]]\\n\\nArt can connote a sense of trained ability or mastery of a [[Media (arts)|medium]]. Art can also simply refer to the developed and efficient use of a [[language]] to convey meaning with immediacy or depth. Art can be defined as an act of expressing feelings, thoughts, and observations.&lt;ref&gt;Breskin, Vladimir, [https://web.archive.org/web/20110901145415/http://vip.iva.dk/signs/Articles_Signs_International_Section/2010/Breskin_(2010)_Signs_Triad_eng_final_rev_2010.pdf &quot;Triad: Method for studying the core of the semiotic parity of language and art&quot;], \\'\\'Signs – International Journal of Semiotics\\'\\' 3, pp. 1–28, 2010. {{ISSN|1902-8822}}&lt;/ref&gt;\\n\\nThere is an understanding that is reached with the material as a result of handling it, which facilitates one\\'s thought processes.\\nA common view is that the [[Wikt:epithet|epithet]] &quot;art&quot;, particular in its elevated sense, requires a certain level of creative expertise by the artist, whether this be a demonstration of technical ability, an originality in stylistic approach, or a combination of these two. Traditionally skill of execution was viewed as a quality inseparable from art and thus necessary for its success; for [[Leonardo da Vinci]], art, neither more nor less than his other endeavors, was a manifestation of skill.&lt;ref&gt;{{cite book|title=The Illustrated London News|url=https://books.google.com/books?id=-oc-AQAAMAAJ|year=1872|publisher=Illustrated London News &amp; Sketch Limited|page=502}}&lt;/ref&gt; [[Rembrandt]]\\'s work, now praised for its ephemeral virtues, was most admired by his contemporaries for its virtuosity.&lt;ref name=&quot;NewtonNeil1966&quot;&gt;{{cite book|author1=Eric Newton|author2=William Neil|title=2000 Years of Christian Art|url=https://books.google.com/books?id=IsSfAAAAMAAJ|year=1966|publisher=Harper &amp; Row|page=184}}&lt;/ref&gt; At the turn of the 20th century, the adroit performances of [[John Singer Sargent]] were alternately admired and viewed with skepticism for their manual fluency,&lt;ref name=&quot;RichardsGjertson2002&quot;&gt;{{cite book|author1=Kirk Richards|author2=Stephen Gjertson|title=For glory and for beauty: practical perspectives on Christianity and the visual arts|url=https://books.google.com/books?id=JaBGAQAAIAAJ|year=2002|publisher=American Society of Classical Realism|isbn=978-0-9636180-4-7}}&lt;/ref&gt; yet at nearly the same time the artist who would become the era\\'s most recognized and peripatetic iconoclast, [[Pablo Picasso]], was completing a traditional academic training at which he excelled.&lt;ref name=&quot;Leslie2005&quot;&gt;{{cite book|author=Richard Leslie|title=Pablo Picasso: A Modern Master|url=https://books.google.com/books?id=iE8Es-9j3e0C|date=30 December 2005|publisher=New Line Books|isbn=978-1-59764-094-7|page=7}}&lt;/ref&gt;&lt;ref name=&quot;DillenbergerHandley2014&quot;&gt;{{cite book|author1=Jane Dillenberger|author2=John Handley|title=The Religious Art of Pablo Picasso|url=https://books.google.com/books?id=6uglDQAAQBAJ|date=17 April 2014|publisher=Univ of California Press|isbn=978-0-520-27629-1|page=26}}&lt;/ref&gt;\\n\\n[[File:MonaLisa sfumato.jpeg|thumb|Detail of [[Leonardo da Vinci]]\\'s \\'\\'[[Mona Lisa]]\\'\\', c. 1503–1506, showing the painting technique of \\'\\'[[sfumato]]\\'\\']]\\nA common contemporary criticism of some [[modern art]] occurs along the lines of objecting to the apparent lack of skill or ability required in the production of the artistic object. In conceptual art, [[Marcel Duchamp]]\\'s &quot;[[Fountain (Duchamp)|Fountain]]&quot; is among the first examples of pieces wherein the artist used found objects (&quot;ready-made&quot;) and exercised no traditionally recognised set of skills.&lt;ref name=&quot;Kleiner2009&quot;&gt;{{cite book|author=Fred S. Kleiner|title=Gardner\\'s Art through the Ages: The Western Perspective|url=https://books.google.com/books?id=UK_jTggtYl8C|year=2009|publisher=Cengage Learning|isbn=978-0-495-57364-7|pages=24–27}}&lt;/ref&gt; [[Tracey Emin]]\\'s \\'\\'My Bed\\'\\', or [[Damien Hirst]]\\'s \\'\\'The Physical Impossibility of Death in the Mind of Someone Living\\'\\' follow this example and also manipulate the mass media. Emin slept (and engaged in other activities) in her bed before placing the result in a gallery as work of art. Hirst came up with the conceptual design for the artwork but has left most of the eventual creation of many works to employed artisans. Hirst\\'s celebrity is founded entirely on his ability to produce shocking concepts.&lt;ref&gt;{{cite web|last1=White|first1=Luke|title=Damien Hirst\\'s Shark: Nature, Capitalism and the Sublime|url=http://www.tate.org.uk/art/research-publications/the-sublime/luke-white-damien-hirsts-shark-nature-capitalism-and-the-sublime-r1136828|publisher=Tate|accessdate=26 May 2018|language=en|date=1 January 2013}}&lt;/ref&gt; The actual production in many conceptual and contemporary works of art is a matter of assembly of found objects. However, there are many modernist and contemporary artists who continue to excel in the skills of drawing and painting and in creating \\'\\'hands-on\\'\\' works of art.&lt;ref&gt;{{cite book|title=La Belle Assemblée|url=https://books.google.com/books?id=pucAAAAAYAAJ|volume=V|year=1808|publisher=J. Bell|page=8}}&lt;/ref&gt;\\n\\n==Purpose ==\\n[[File:Transition 1880.jpg|thumb|right|A [[Navajo rug]] made \\'\\'circa\\'\\' 1880]]\\n[[File:B Escorial 93v.jpg|thumb|[[Mozarabic art|Mozarabic]] [[Commentary on the Apocalypse|Beatus]] [[miniature (illuminated manuscript)|miniature]]. Spain, late 10th century]]\\nArt has had a great number of different functions throughout its history, making its purpose difficult to abstract or quantify to any single concept. This does not imply that the purpose of Art is &quot;vague&quot;, but that it has had many unique, different reasons for being created. Some of these functions of Art are provided in the following outline. The different purposes of art may be grouped according to those that are non-motivated, and those that are motivated (Lévi-Strauss).&lt;ref name=&quot;Schiuma2011&quot;&gt;{{cite book|author=Giovanni Schiuma|title=The Value of Arts for Business|url=https://books.google.com/books?id=9wyboE8aWDcC|date=19 May 2011|publisher=Cambridge University Press|isbn=978-1-139-49665-0|page=37}}&lt;/ref&gt;\\n\\n===Non-motivated functions ===\\nThe non-motivated purposes of art are those that are integral to being human, transcend the individual, or do not fulfill a specific external purpose. In this sense, Art, as creativity, is something humans must do by their very nature (i.e.,&amp;nbsp;no other species creates art), and is therefore beyond utility.&lt;ref name=&quot;Schiuma2011&quot; /&gt;\\n# \\'\\'\\'[[fine arts|Basic human instinct for harmony, balance, rhythm]].\\'\\'\\' Art at this level is not an action or an object, but an internal appreciation of balance and harmony (beauty), and therefore an aspect of being human beyond utility.&lt;blockquote&gt;Imitation, then, is one instinct of our nature. Next, there is the instinct for \\'harmony\\' and rhythm, meters being manifestly sections of rhythm. Persons, therefore, starting with this natural gift developed by degrees their special aptitudes, till their rude improvisations gave birth to Poetry. – Aristotle&lt;ref&gt;{{cite book |author=Aristotle |title=Republic |chapter=[Book 10:] The Poetics |others=Note: Although speaking mostly of poetry here, the Ancient Greeks often speak of the arts collectively |url=http://www.authorama.com/the-poetics-2.html |website=www.authorama.com}}&lt;/ref&gt;&lt;/blockquote&gt;\\n# \\'\\'\\'Experience of the mysterious.\\'\\'\\' Art provides a way to experience one\\'s self in relation to the universe. This experience may often come unmotivated, as one appreciates art, music or poetry.&lt;blockquote&gt;The most beautiful thing we can experience is the mysterious. It is the source of all true art and science. – Albert Einstein&lt;ref&gt;Einstein, Albert. &quot;The World as I See It&quot;. http://www.aip.org/history/einstein/essay.htm&lt;/ref&gt;&lt;/blockquote&gt;\\n# \\'\\'\\'Expression of the imagination.\\'\\'\\' Art provides a means to express the imagination in non-grammatic ways that are not tied to the formality of spoken or written language. Unlike words, which come in sequences and each of which have a definite meaning, art provides a range of forms, symbols and ideas with meanings that are malleable.&lt;blockquote&gt;Jupiter\\'s eagle [as an example of art] is not, like logical (aesthetic) attributes of an object, the concept of the sublimity and majesty of creation, but rather something else—something that gives the imagination an incentive to spread its flight over a whole host of kindred representations that provoke more thought than admits of expression in a concept determined by words. They furnish an aesthetic idea, which serves the above rational idea as a substitute for logical presentation, but with the proper function, however, of animating the mind by opening out for it a prospect into a field of kindred representations stretching beyond its ken. – Immanuel Kant&lt;ref&gt;Immanuel Kant, \\'\\'Critique of Aesthetic Judgement\\'\\' (1790).&lt;/ref&gt;&lt;/blockquote&gt;\\n# \\'\\'\\'Ritualistic and symbolic functions.\\'\\'\\' In many cultures, art is used in rituals, performances and dances as a decoration or symbol. While these often have no specific utilitarian (motivated) purpose, anthropologists know that they often serve a purpose at the level of meaning within a particular culture. This meaning is not furnished by any one individual, but is often the result of many generations of change, and of a cosmological relationship within the culture.&lt;blockquote&gt;Most scholars who deal with rock paintings or objects recovered from prehistoric contexts that cannot be explained in utilitarian terms and are thus categorized as decorative, ritual or symbolic, are aware of the trap posed by the term \\'art\\'. – Silva Tomaskova&lt;ref&gt;Silvia Tomaskova, \\'\\'Places of Art: Art and Archaeology in Context\\'\\': (1997)&lt;/ref&gt;\\n&lt;/blockquote&gt;\\n\\n===Motivated functions ===\\nMotivated purposes of art refer to intentional, conscious actions on the part of the artists or creator. These may be to bring about political change, to comment on an aspect of society, to convey a specific emotion or mood, to address personal psychology, to illustrate another discipline, to (with commercial arts) sell a product, or simply as a form of communication.&lt;ref name=&quot;Schiuma2011&quot; /&gt;&lt;ref name=&quot;Stephanidis2011&quot;&gt;{{cite book|author=Constantine Stephanidis|title=HCI International 2011 Posters\\' Extended Abstracts: International Conference, HCI International 2011, Orlando, FL, USA, July 9–14, 2011, Proceedings|url=https://books.google.com/books?id=Qble3WYcH0cC|date=24 June 2011|publisher=Springer Science &amp; Business Media|isbn=978-3-642-22094-4|pages=529–533}}&lt;/ref&gt;\\n# \\'\\'\\'Communication.\\'\\'\\' Art, at its simplest, is a form of communication. As most forms of communication have an intent or goal directed toward another individual, this is a motivated purpose. Illustrative arts, such as scientific illustration, are a form of art as communication. Maps are another example. However, the content need not be scientific. Emotions, moods and feelings are also communicated through art.&lt;blockquote&gt;[Art is a set of] artefacts or images with symbolic meanings as a means of communication. – Steve Mithen&lt;ref&gt;Steve Mithen. \\'\\'The Prehistory of the Mind: The Cognitive Origins of Art, Religion and Science\\'\\'. 1999&lt;/ref&gt;&lt;/blockquote&gt;\\n# \\'\\'\\'Art as entertainment\\'\\'\\'. Art may seek to bring about a particular emotion or mood, for the purpose of relaxing or entertaining the viewer. This is often the function of the art industries of Motion Pictures and Video Games.&lt;ref name=&quot;Resources2014&quot;&gt;{{cite book|author=Information Resources Management Association|url=https://books.google.com/books?id=1BaXBQAAQBAJ|title=Digital Arts and Entertainment: Concepts, Methodologies, Tools, and Applications.|date=30 June 2014|publisher=IGI Global|isbn=978-1-4666-6115-8|location=USA|page=976}}&lt;/ref&gt;\\n# \\'\\'\\'The Avant-Garde. Art for political change.\\'\\'\\' One of the defining functions of early 20th-century art has been to use visual images to bring about political change. Art movements that had this goal—[[Dadaism]], [[Surrealism]], [[Russian constructivism]], and [[Abstract Expressionism]], among others—are collectively referred to as the \\'\\'avant-garde\\'\\' arts.&lt;blockquote&gt;By contrast, the realistic attitude, inspired by positivism, from Saint Thomas Aquinas to Anatole France, clearly seems to me to be hostile to any intellectual or moral advancement. I loathe it, for it is made up of mediocrity, hate, and dull conceit. It is this attitude which today gives birth to these ridiculous books, these insulting plays. It constantly feeds on and derives strength from the newspapers and stultifies both science and art by assiduously flattering the lowest of tastes; clarity bordering on stupidity, a dog\\'s life. – André Breton (Surrealism)&lt;ref&gt;[https://www.tcf.ua.edu/Classes/Jbutler/T340/SurManifesto/ManifestoOfSurrealism.htm André Breton, \\'\\'Manifesto of Surrealism\\'\\'  (1924)]&lt;/ref&gt;&lt;/blockquote&gt;\\n# \\'\\'\\'Art as a &quot;free zone&quot;\\'\\'\\', removed from the action of the social censure. Unlike the [[avant-garde]] movements, which wanted to erase cultural differences in order to produce new universal values, [[contemporary art]] has enhanced its tolerance towards cultural differences as well as its critical and liberating functions (social inquiry, activism, subversion, deconstruction ...), becoming a more open place for research and experimentation.&lt;ref&gt;According to [[Maurizio Bolognini]] this is not only associated with the [[postmodern art|postmodern]] rejection of all canons but with a process of secularization of art, which is finally considered as &quot;a mere (albeit essential) convention, sustained and reproduced by the art system (artists, galleries, critics, collectors), providing a free zone, that is, a more open place for experimentation, removed from the constraints of the practical sphere.&quot;: see {{Cite book |title=Postdigitale |url=http://www.bolognini.org/bolognini_PDIG.htm |year=2008 |author=Maurizio Bolognini |publisher=Carocci |location=Rome |isbn=978-88-430-4739-0}}, [http://www.bolognini.org/bolognini_PDIG.htm#ch3b chap. 3].&lt;/ref&gt;\\n# \\'\\'\\'Art for social inquiry, subversion or anarchy.\\'\\'\\' While similar to art for political change, subversive or deconstructivist art may seek to question aspects of society without any specific political goal. In this case, the function of art may be simply to criticize some aspect of society.[[File:Graffiti Panorama rome.jpg|upright=3.2|thumb|center|[[Aerosol paint|Spray-paint]] [[graffiti]] on a wall in Rome]] [[Graffiti#Uses|Graffiti art]] and other types of [[street art]] are graphics and images that are [[Spray painting|spray-painted]] or [[stencil]]led on publicly viewable walls, buildings, buses, trains, and bridges, usually without permission. Certain art forms, such as graffiti, may also be illegal when they break laws (in this case vandalism).\\n# \\'\\'\\'Art for social causes.\\'\\'\\' Art can be used to raise awareness for a large variety of causes. A number of art activities were aimed at raising awareness of [[autism]],&lt;ref&gt;{{cite news |last=Trotter |first=Jeramia |title=RiverKings raising autism awareness with art |url=http://southaven-hornlake.wmctv.com/news/arts-culture/riverkings-raising-autism-awareness-art/52165 |newspaper=WMC tv |date=15 February 2011 |url-status=dead |archiveurl=https://web.archive.org/web/20110222053732/http://southaven-hornlake.wmctv.com/news/arts-culture/riverkings-raising-autism-awareness-art/52165 |archivedate=22 February 2011}}&lt;/ref&gt;&lt;ref&gt;{{cite news |title=Art exhibit aims to raise awareness of autism |url=http://www.newsminer.com/article_1a9b7e33-6ca0-56a5-89f3-c9c0798815a2.html |newspaper=Daily News-Miner |date=4 April 2012}}&lt;/ref&gt;&lt;ref&gt;{{cite web |title=Anchorage art exhibit to raise awareness about autism |url=http://dhss.alaska.gov/News/Documents/press/2011/Anchorage_art_exhibit_autism_PR033111.pdf |publisher=Alaska Department of Health and Social Services}}&lt;/ref&gt; cancer,&lt;ref&gt;{{cite news |last=Ruhl |first=Ashleigh |title=Photographer Seeks Subjects To Help Raise Cancer Awareness |url=http://www.gazettes.com/lifestyle/arts_and_entertainment/photographer-seeks-subjects-to-help-raise-cancer-awareness/article_10291db8-7614-11e2-be53-0019bb2963f4.html |newspaper=Gazettes |date=18 February 2013}}&lt;/ref&gt;&lt;ref&gt;{{cite news |title=Bra art raising awareness for breast cancer |url=http://www.palmbeachpost.com/videos/news/national/bra-art-raising-awareness-for-breast-cancer/vgBSm/ |accessdate=22 January 2015 |newspaper=The Palm Beach Post |date=n.d.}}&lt;/ref&gt;&lt;ref&gt;{{cite news |last=Flynn |first=Marella |title=October art walk aims to raise money, awareness for breast cancer |url=http://gargoyle.flagler.edu/2007/10/october-art-walk-aims-to-raise-money-awareness-for-breast-cancer/ |newspaper=Flagler College Gargoyle |date=10 January 2007}}&lt;/ref&gt; [[human trafficking]],&lt;ref&gt;{{cite news |title=Students get creative in the fight against human trafficking |url=http://www.wdtn.com/dpp/news/local/montgomery/ud-students-use-art-to-raise-awareness#.USb6vFeIqAg |newspaper=WDTN Channel 2 News |date=26 November 2012 |archiveurl=https://archive.is/20130630141018/http://www.wdtn.com/dpp/news/local/montgomery/ud-students-use-art-to-raise-awareness%23.UdA8P33LfK5 |archivedate=30 June 2013}}{{cbignore|bot=medic}}&lt;/ref&gt;&lt;ref&gt;{{cite news |title=Looking to raise awareness at ArtPrize |url=http://www.wwmt.com/shared/newsroom/top-stories/stories/wwmt_looking-raise-awareness-at-artprize-4625.shtml |newspaper=WWMT, Newschannel 3 |date=10 January 2012 |url-status=dead |archiveurl=https://web.archive.org/web/20121006075346/http://www.wwmt.com/shared/newsroom/top-stories/stories/wwmt_looking-raise-awareness-at-artprize-4625.shtml |archivedate=6 October 2012}}&lt;/ref&gt; and a variety of other topics, such as ocean conservation,&lt;ref&gt;{{cite web |title=SciCafe – Art/Sci Collision: Raising Ocean Conservation Awareness |url=http://www.amnh.org/calendar/scicafe-art-sci-collision-raising-ocean-conservation-awareness |publisher=American Museum of Natural History |accessdate=21 February 2013 |archive-url=https://archive.today/20130703164121/http://www.amnh.org/calendar/scicafe-art-sci-collision-raising-ocean-conservation-awareness |archive-date=3 July 2013 |url-status=dead  }}&lt;/ref&gt; human rights in [[Darfur]],&lt;ref&gt;{{cite news |title=SMU students raise awareness with \\'Art for Darfur\\' |url=http://smu.edu/newsinfo/releases/07138c.asp |newspaper=SMU News Release |date=4 March 2008 |archiveurl=https://archive.is/20130403085335/http://smu.edu/newsinfo/releases/07138c.asp |archivedate=3 April 2013 |url-status=dead }}&lt;/ref&gt; murdered and missing Aboriginal women,&lt;ref&gt;{{cite news |last=Donnelly |first=Greg |title=Red dress art project to raise awareness of murdered and missing Aboriginal women |url=https://globalnews.ca/news/219101/red-dress-art-project-to-raise-awareness-of-murdered-and-missing-aboriginal-women/ |newspaper=[[Global News]] |date=3 May 2012}}&lt;/ref&gt; elder abuse,&lt;ref&gt;{{cite web |title=Raising elder abuse awareness through intergenerational art |url=http://www.hrsdc.gc.ca/eng/success_stories/seniors/40/index.shtml |publisher=Human Resources and Skills Development Canada |accessdate=21 February 2013 |url-status=dead |archiveurl=https://web.archive.org/web/20130122162638/http://www.hrsdc.gc.ca/eng/success_stories/seniors/40/index.shtml |archivedate=22 January 2013 }}&lt;/ref&gt; and pollution.&lt;ref&gt;{{cite news |last=Mathema |first=Paavan |title=Trash to treasure: Turning Mt. Everest waste into art |url=http://www.cnn.com/2013/01/15/world/asia/everest-trash-art/ |newspaper=CNN |date=16 January 2013}}&lt;/ref&gt; [[Trashion]], using trash to make fashion, practiced by artists such as [[Marina DeBris]] is one example of using art to raise awareness about pollution.\\n# \\'\\'\\'Art for psychological and healing purposes.\\'\\'\\' Art is also used by art therapists, psychotherapists and clinical psychologists as [[art therapy]]. The [[Art therapy#The Diagnostic Drawing Series (DDS)|Diagnostic Drawing Series]], for example, is used to determine the personality and emotional functioning of a patient. The end product is not the principal goal in this case, but rather a process of healing, through creative acts, is sought. The resultant piece of artwork may also offer insight into the troubles experienced by the subject and may suggest suitable approaches to be used in more conventional forms of psychiatric therapy.&lt;ref name=&quot;Hogan2001&quot;&gt;{{cite book|author=Susan Hogan|title=Healing Arts: The History of Art Therapy|url=https://books.google.com/books?id=vzUuna6LPBIC|year=2001|publisher=Jessica Kingsley Publishers|isbn=978-1-85302-799-4}}&lt;/ref&gt;\\n# \\'\\'\\'Art for propaganda, or commercialism.\\'\\'\\' Art is often utilized as a form of propaganda, and thus can be used to subtly influence popular conceptions or mood. In a similar way, art that tries to sell a product also influences mood and emotion. In both cases, the purpose of art here is to subtly manipulate the viewer into a particular emotional or psychological response toward a particular idea or object.&lt;ref&gt;[[Roland Barthes]], \\'\\'Mythologies\\'\\'&lt;/ref&gt;\\n# \\'\\'\\'Art as a fitness indicator.\\'\\'\\' It has been argued that the ability of the human brain by far exceeds what was needed for survival in the ancestral environment. One [[evolutionary psychology]] explanation for this is that the human brain and associated traits (such as artistic ability and creativity) are the human equivalent of the [[peacock]]\\'s tail. The purpose of the male peacock\\'s extravagant tail has been argued to be to attract females (see also [[Fisherian runaway]] and [[handicap principle]]). According to this theory superior execution of art was evolutionarily important because it attracted mates.&lt;ref name=&quot;Dutton&quot;&gt;[[Denis Dutton|Dutton, Denis]]. 2003. &quot;Aesthetics and Evolutionary Psychology&quot; in \\'\\'The Oxford Handbook for Aesthetics\\'\\'. Oxford University Press.&lt;/ref&gt;\\n\\nThe functions of art described above are not mutually exclusive, as many of them may overlap. For example, art for the purpose of entertainment may also seek to sell a product, i.e. the movie or video game.\\n\\n==Public access==\\n[[File:Cour de Marbre du Château de Versailles October 5, 2011.jpg|upright=2|thumb|left|Versailles: [[Louis Le Vau]] opened up the interior court to create the expansive entrance \\'\\'[[cour d\\'honneur]]\\'\\', later copied all over Europe.]]\\n\\nSince ancient times, much of the finest art has represented a deliberate display of wealth or power, often achieved by using massive scale and expensive materials. Much art has been commissioned by political rulers or religious establishments, with more modest versions only available to the most wealthy in society.&lt;ref&gt;Gilbert, Kuhn pp. 161–165&lt;/ref&gt;\\n\\nNevertheless, there have been many periods where art of very high quality was available, in terms of ownership, across large parts of society, above all in cheap media such as pottery, which persists in the ground, and perishable media such as textiles and wood. In many different cultures, the [[ceramics of indigenous peoples of the Americas]] are found in such a wide range of graves that they were clearly not restricted to a [[social elite]],&lt;ref&gt;{{cite web|title=Ceramics of the Indigenous Peoples of South America: Studies of Production and Exchange using INAA|url=https://core.tdar.org/collection/58128/ceramics-of-the-indigenous-peoples-of-south-america-studies-of-production-and-exchange-using-inaa|website=core.tdar.org|accessdate=28 May 2018|language=en}}&lt;/ref&gt; though other forms of art may have been. Reproductive methods such as [[Molding (process)|moulds]] made mass-production easier, and were used to bring high-quality [[Ancient Roman pottery]] and Greek [[Tanagra figurine]]s to a very wide market. [[Cylinder seal]]s were both artistic and practical, and very widely used by what can be loosely called the middle class in the [[Ancient Near East]].&lt;ref name=&quot;Kipfer2000&quot;&gt;{{cite book|author=Barbara Ann Kipfer|title=Encyclopedic Dictionary of Archaeology|url=https://books.google.com/books?id=XneTstDbcC0C|date=30 April 2000|publisher=Springer Science &amp; Business Media|isbn=978-0-306-46158-3|page=264}}&lt;/ref&gt; Once [[coin]]s were widely used, these also became an art form that reached the widest range of society.&lt;ref&gt;{{cite book|title=Ancient Coins as Works of Art|url=https://books.google.com/books?id=34jbjgEACAAJ|year=1960|publisher=Museum Haaretz}}&lt;/ref&gt;\\n\\nAnother important innovation came in the 15th century in Europe, when [[printmaking]] began with small [[woodcut]]s, mostly religious, that were often very small and hand-colored, and affordable even by [[peasant]]s who glued them to the walls of their homes. Printed books were initially very expensive, but fell steadily in price until by the 19th century even the poorest could afford some with printed illustrations.&lt;ref name=&quot;Tucker2000&quot;&gt;{{cite book|author=George Hugo Tucker|title=Forms of the &quot;medieval&quot; in the &quot;Renaissance&quot;: A Multidisciplinary Exploration of a Cultural Continuum|url=https://books.google.com/books?id=zfbNzcqgYM4C|year=2000|publisher=Rookwood Press|isbn=978-1-886365-20-9|page=148}}&lt;/ref&gt; [[Popular prints]] of many different sorts have decorated homes and other places for centuries.&lt;ref name=&quot;Griffiths1996&quot;&gt;{{cite book|author=Antony Griffiths|title=Prints and Printmaking: An Introduction to the History and Techniques|url=https://archive.org/details/printsprintmakin00grif|url-access=registration|year=1996|publisher=University of California Press|isbn=978-0-520-20714-1|page=[https://archive.org/details/printsprintmakin00grif/page/149 149]|author-link=Antony Griffiths}}&lt;/ref&gt;\\n\\n[[File:Basel - 2017 - Kunstmuseum Basel - Altbau.jpg|thumb|The Museum of Art in [[Basel]] ([[Switzerland]]), is the oldest public museum of art in the world.]]\\nIn 1661, the city of [[Basel]], in [[Switzerland]], opened the first public museum of art in the world, the [[Kunstmuseum Basel]]. Today, its collection is distinguished by an impressively wide historic span, from the early 15th century up to the immediate present. Its various areas of emphasis give it international standing as one of the most significant museums of its kind. These encompass: paintings and drawings by artists active in the Upper Rhine region between 1400 and 1600, and on the art of the 19th to 21st centuries.&lt;ref&gt;https://unigeschichte.unibas.ch/lokal-global/das-verhaeltnis-zu-politik-und-gesellschaft/kooperationen-in-der-stadt/museen-startseite.html&lt;/ref&gt;\\n\\n[[Public art|Public buildings and monuments]], secular and religious, by their nature normally address the whole of society, and visitors as viewers, and display to the general public has long been an important factor in their design. [[Egyptian temple]]s are typical in that the most largest and most lavish decoration was placed on the parts that could be seen by the general public, rather than the areas seen only by the priests.&lt;ref name=&quot;Vörös2007&quot;&gt;{{cite book|author=Győző Vörös|title=Egyptian Temple Architecture: 100 Years of Hungarian Excavations in Egypt, 1907–2007|url=https://books.google.com/books?id=StEyE9jkMHEC|year=2007|publisher=American Univ in Cairo Press|isbn=978-963-662-084-4|page=140}}&lt;/ref&gt; Many areas of royal palaces, castles and the houses of the social elite were often generally accessible, and large parts of the art collections of such people could often be seen, either by anybody, or by those able to pay a small price, or those wearing the correct clothes, regardless of who they were, as at the [[Palace of Versailles]], where the appropriate extra accessories (silver shoe buckles and a sword) could be hired from shops outside.&lt;ref name=&quot;Waldie1839&quot;&gt;{{cite book|author=Adam Waldie|title=The Select Circulating Library|url=https://books.google.com/books?id=cBs7AQAAIAAJ|year=1839|publisher=A. Waldie.|page=367}}&lt;/ref&gt;\\n\\nSpecial arrangements were made to allow the public to see many royal or private collections placed in galleries, as with the [[Orleans Collection#Collection in Paris|Orleans Collection]] mostly housed in a wing of the [[Palais Royal]] in Paris, which could be visited for most of the 18th century.&lt;ref name=&quot;MeyerSavoy2014&quot;&gt;{{cite book|author1=Andrea Meyer|author2=Benedicte Savoy|title=The Museum Is Open: Towards a Transnational History of Museums 1750–1940|url=https://books.google.com/books?id=xhroBQAAQBAJ|year=2014|publisher=De Gruyter|isbn=978-3-11-029882-6|page=66}}&lt;/ref&gt; In Italy the art tourism of the [[Grand Tour]] became a major industry from the Renaissance onwards, and governments and cities made efforts to make their key works accessible. The British [[Royal Collection]] remains distinct, but large donations such as the [[Old Royal Library]] were made from it to the [[British Museum]], established in 1753. The [[Uffizi]] in [[Florence]] opened entirely as a gallery in 1765, though this function had been gradually taking the building over from the original civil servants\\' offices for a long time before.&lt;ref name=&quot;Fossi1999&quot;&gt;{{cite book|author=Gloria Fossi|title=The Uffizi: The Official Guide : All of the Works|url=https://books.google.com/books?id=lYUh_6F-hc8C|year=1999|publisher=Giunti Editore|isbn=978-88-09-01487-9|pages=8–11}}&lt;/ref&gt; The building now occupied by the [[Prado]] in Madrid was built before the French Revolution for the public display of parts of the royal art collection, and similar royal galleries open to the public existed in [[Vienna]], Munich and other capitals. The opening of the [[Musée du Louvre]] during the [[French Revolution]] (in 1793) as a public museum for much of the former French royal collection certainly marked an important stage in the development of public access to art, transferring ownership to a republican state, but was a continuation of trends already well established.&lt;ref&gt;{{cite book|title=Public Access to Art in Paris: A Documentary History from the Middle Ages to 1800|url=https://books.google.com/books?id=xpD9NgeQozEC|publisher=Penn State Press|isbn=978-0-271-04434-7|pages=281–283}}&lt;/ref&gt;\\n\\nMost modern public museums and art education programs for children in schools can be traced back to this impulse to have art available to everyone. Museums in the United States tend to be gifts from the very rich to the masses. ([[The Metropolitan Museum of Art]] in New York City, for example, was created by [[John Taylor Johnston]], a railroad executive whose personal art collection seeded the museum.) But despite all this, at least one of the important functions of art in the 21st century remains as a marker of wealth and social status.&lt;ref name=&quot;Findlay2012&quot;&gt;{{cite book|author=Michael Findlay|title=The Value of Art|url=https://books.google.com/books?id=t6jJ5FvdLjcC|year=2012|publisher=Prestel Verlag|isbn=978-3-641-08342-7}}&lt;/ref&gt;\\n\\n[[File:BeuysAchberg78.jpg|thumb|Performance by [[Joseph Beuys]], 1978: \\'\\'Everyone an artist – On the way to the libertarian form of the social organism\\'\\']]\\n\\nThere have been attempts by artists to create art that can not be bought by the wealthy as a status object. One of the prime original motivators of much of the art of the late 1960s and 1970s was to create art that could not be bought and sold. It is &quot;necessary to present something more than mere objects&quot;&lt;ref&gt;{{cite journal |title=An Interview with Joseph Beuys |journal=ArtForum |date=December 1969 |first=Willoughby |last=Sharp |volume=8 |issue=4 |page=45 }}&lt;/ref&gt; said the major post war German artist Joseph Beuys. This time period saw the rise of such things as performance art, [[video art]], and [[conceptual art]]. The idea was that if the artwork was a performance that would leave nothing behind, or was simply an idea, it could not be bought and sold. &quot;Democratic precepts revolving around the idea that a work of art is a commodity impelled the aesthetic innovation which germinated in the mid-1960s and was reaped throughout the 1970s. Artists broadly identified under the heading of Conceptual art ... substituting performance and publishing activities for engagement with both the material and materialistic concerns of painted or sculptural form ... [have] endeavored to undermine the art object qua object.&quot;&lt;ref&gt;Rorimer, Anne: \\'\\'New Art in the 60s and 70s Redefining Reality\\'\\', p. 35. Thames and Hudson, 2001.&lt;/ref&gt;\\n\\nIn the decades since, these ideas have been somewhat lost as the art market has learned to sell limited edition DVDs of video works,&lt;ref&gt;{{cite news |first=Mia |last=Fineman |title=YouTube for Artists The best places to find video art online. |date=21 March 2007 |url=http://www.slate.com/id/2162382/ |work=Slate }}&lt;/ref&gt; invitations to exclusive performance art pieces, and the objects left over from conceptual pieces. Many of these performances create works that are only understood by the elite who have been educated as to why an idea or video or piece of apparent garbage may be considered art. The marker of status becomes understanding the work instead of necessarily owning it, and the artwork remains an upper-class activity. &quot;With the widespread use of DVD recording technology in the early 2000s, artists, and the gallery system that derives its profits from the sale of artworks, gained an important means of controlling the sale of video and computer artworks in limited editions to collectors.&quot;&lt;ref&gt;Robertson, Jean and Craig McDaniel: \\'\\'Themes of Contemporary Art, Visual Art after 1980\\'\\', p. 16. Oxford University Press, 2005.&lt;/ref&gt;\\n\\n==Controversies==\\n[[File:JEAN LOUIS THÉODORE GÉRICAULT - La Balsa de la Medusa (Museo del Louvre, 1818-19).jpg|thumb|left|upright=1.5|[[Théodore Géricault]]\\'s \\'\\'[[The Raft of the Medusa|Raft of the Medusa]]\\'\\', \\'\\'circa\\'\\' 1820]]\\n\\nArt has long been controversial, that is to say disliked by some viewers, for a wide variety of reasons, though most pre-modern controversies are dimly recorded, or completely lost to a modern view. [[Iconoclasm]] is the destruction of art that is disliked for a variety of reasons, including religious ones. [[Aniconism]] is a general dislike of either all figurative images, or often just religious ones, and has been a thread in many major religions. It has been a crucial factor in the history of [[Islamic art]], where [[depictions of Muhammad]] remain especially controversial. Much art has been disliked purely because it depicted or otherwise stood for unpopular rulers, parties or other groups. Artistic conventions have often been conservative and taken very seriously by [[art critic]]s, though often much less so by a wider public. The [[iconography|iconographic]] content of art could cause controversy, as with late medieval depictions of the new motif of the [[Swoon of the Virgin]] in scenes of the [[Crucifixion of Jesus]]. [[The Last Judgment (Michelangelo)|The \\'\\'Last Judgment\\'\\']] by [[Michelangelo]] was controversial for various reasons, including breaches of [[decorum]] through nudity and the [[Apollo]]-like pose of Christ.&lt;ref name=&quot;McCue2016&quot;&gt;{{cite book|author=Maureen McCue|title=British Romanticism and the Reception of Italian Old Master Art, 1793–1840|url=https://books.google.com/books?id=xW43DAAAQBAJ|year=2016|publisher=Taylor &amp; Francis|isbn=978-1-317-17148-5}}&lt;/ref&gt;&lt;ref name=&quot;Nickerson2010&quot;&gt;{{cite book|author=Angela K. Nickerson|title=A Journey into Michelangelo\\'s Rome|url=https://books.google.com/books?id=5hnJaIh36eoC|year=2010|publisher=ReadHowYouWant.com|isbn=978-1-4587-8547-3|page=182}}&lt;/ref&gt;\\n\\nThe content of much formal art through history was dictated by the patron or commissioner rather than just the artist, but with the advent of [[Romanticism]], and economic changes in the production of art, the artists\\' vision became the usual determinant of the content of his art, increasing the incidence of controversies, though often reducing their significance. Strong incentives for perceived originality and publicity also encouraged artists to court controversy. [[Théodore Géricault]]\\'s \\'\\'[[The Raft of the Medusa|Raft of the Medusa]]\\'\\' (c. 1820), was in part a political commentary on a recent event. [[Édouard Manet]]\\'s \\'\\'[[The Luncheon on the Grass|Le Déjeuner sur l\\'Herbe]]\\'\\' (1863), was considered scandalous not because of the nude woman, but because she is seated next to men fully dressed in the clothing of the time, rather than in robes of the antique world.&lt;ref name=&quot;RuprechtTaiana1995&quot;&gt;{{cite book|author1=Alvina Ruprecht|author2=Cecilia Taiana|title=Reordering of Culture: Latin America, the Caribbean and Canada in the Hood|url=https://books.google.com/books?id=onoI0AI-JJYC|year=1995|publisher=McGill-Queen\\'s Press – MQUP|isbn=978-0-88629-269-0|page=256}}&lt;/ref&gt;&lt;ref name=&quot;Stout2018&quot;&gt;{{cite book|author=John C. Stout|title=Objects Observed: The Poetry of Things in Twentieth-Century France and America|url=https://books.google.com/books?id=UxBaDwAAQBAJ|year=2018|publisher=University of Toronto Press|isbn=978-1-4875-0157-0|page=50}}&lt;/ref&gt; [[John Singer Sargent]]\\'s \\'\\'[[Portrait of Madame X|Madame Pierre Gautreau (Madam&amp;nbsp;X)]]\\'\\' (1884), caused a controversy over the reddish pink used to color the woman\\'s ear lobe, considered far too suggestive and supposedly ruining the high-society model\\'s reputation.&lt;ref name=&quot;Summers2004&quot;&gt;{{cite book|author=Claude J. Summers|title=The Queer Encyclopedia of the Visual Arts|url=https://books.google.com/books?id=sNCJAwAAQBAJ|year=2004|publisher=Cleis Press|isbn=978-1-57344-191-9}}&lt;/ref&gt;&lt;ref name=&quot;Bender2014&quot;&gt;{{cite book|author=Narim Bender|title=John Sargent: 121 Drawings|url=https://books.google.com/books?id=SSEPBAAAQBAJ|year=2014|publisher=Osmora Incorporated|isbn=978-2-7659-0006-1}}&lt;/ref&gt;\\nThe gradual abandonment of naturalism and the depiction of realistic representations of the visual appearance of subjects in the 19th and 20th centuries led to a rolling controversy lasting for over a century.\\n\\nIn the 20th century, [[Pablo Picasso]]\\'s \\'\\'[[Guernica (painting)|Guernica]]\\'\\' (1937) used arresting [[cubism|cubist]] techniques and stark [[Monochrome painting|monochromatic oils]], to depict the harrowing consequences of a contemporary bombing of a small, ancient Basque town. [[Leon Golub]]\\'s \\'\\'Interrogation III\\'\\' (1981), depicts a female nude, hooded detainee strapped to a chair, her legs open to reveal her sexual organs, surrounded by two tormentors dressed in everyday clothing. [[Andres Serrano]]\\'s \\'\\'[[Piss Christ]]\\'\\' (1989) is a photograph of a crucifix, sacred to the Christian religion and representing [[Jesus Christ|Christ]]\\'s sacrifice and final suffering, submerged in a glass of the artist\\'s own urine. The resulting uproar led to comments in the United States Senate about public funding of the arts.&lt;ref name=&quot;ChapmanCiment2015&quot;&gt;{{cite book|author1=Roger Chapman|author2=James Ciment|title=Culture Wars: An Encyclopedia of Issues, Viewpoints and Voices|url=https://books.google.com/books?id=XO9nBwAAQBAJ|year=2015|publisher=Routledge|isbn=978-1-317-47351-0|page=594}}&lt;/ref&gt;&lt;ref name=&quot;Brown2008&quot;&gt;{{cite book|author=Brian Arthur Brown|title=Noah\\'s Other Son: Bridging the Gap Between the Bible and the Qur\\'an|url=https://books.google.com/books?id=JjbUAwAAQBAJ|year=2008|publisher=A&amp;C Black|isbn=978-0-8264-2996-4|page=210}}&lt;/ref&gt;\\n\\n==Theory==\\n{{Main|Aesthetics}}\\nBefore Modernism, aesthetics in Western art was greatly concerned with achieving the appropriate balance between different aspects of [[Realism (arts)|realism or truth to nature]] and the [[Idealism|ideal]]; ideas as to what the appropriate balance is have shifted to and fro over the centuries.  This concern is largely absent in other traditions of art.  The aesthetic theorist [[John Ruskin]], who championed what he saw as the naturalism of [[J. M. W. Turner|J.&amp;nbsp;M.&amp;nbsp;W. Turner]], saw art\\'s role as the communication by artifice of an essential truth that could only be found in nature.&lt;ref&gt;&quot;go to nature in all [[singleness of heart]], rejecting nothing and selecting nothing, and scorning nothing, believing all things are right and good, and rejoicing always in the truth&quot;. [[John Ruskin|Ruskin, John]]. \\'\\'[[Modern Painters]]\\'\\', Volume I, 1843. London: Smith, Elder and Co.&lt;/ref&gt;\\n\\nThe definition and evaluation of art has become especially problematic since the 20th century. [[Richard Wollheim]] distinguishes three approaches to assessing the aesthetic value of art: the [[Aesthetic realism|Realist]], whereby aesthetic quality is an absolute value independent of any human view; the [[Objectivity (philosophy)|Objectivist]], whereby it is also an absolute value, but is dependent on general human experience; and the [[Relativist]] [[Aesthetic relativism|position]], whereby it is not an absolute value, but depends on, and varies with, the human experience of different humans.&lt;ref&gt;Wollheim 1980, \\'\\'Essay VI\\'\\'. pp. 231–39.&lt;/ref&gt;\\n\\n===Arrival of Modernism===\\n[[File:Piet Mondriaan, 1930 - Mondrian Composition II in Red, Blue, and Yellow.jpg|thumb|\\'\\'[[Composition with Red Blue and Yellow]]\\'\\' (1930) by [[Piet Mondrian]] (Dutch, 1872–1944)]]\\nThe arrival of [[Modernism]] in the late 19th century lead to a radical break in the conception of the function of art,&lt;ref&gt;Griselda Pollock, \\'\\'Differencing the Canon\\'\\'. Routledge, London &amp; New York, 1999. {{ISBN|0-415-06700-6}}&lt;/ref&gt; and then again in the late 20th century with the advent of [[Postmodern art|postmodernism]]. [[Clement Greenberg]]\\'s 1960 article &quot;Modernist Painting&quot; defines modern art as &quot;the use of characteristic methods of a discipline to criticize the discipline itself&quot;.&lt;ref name = &quot;Frascina&quot;&gt;\\'\\'Modern Art and Modernism: A Critical Anthology\\'\\'. ed. Francis Frascina and Charles Harrison, 1982.&lt;/ref&gt; Greenberg originally applied this idea to the Abstract Expressionist movement and used it as a way to understand and justify flat (non-illusionistic) abstract painting:\\n{{quote|Realistic, naturalistic art had dissembled the medium, using art to conceal art; modernism used art to call attention to art. The limitations that constitute the medium of painting—the flat surface, the shape of the support, the properties of the pigment—were treated by the Old Masters as negative factors that could be acknowledged only implicitly or indirectly. Under Modernism these same limitations came to be regarded as positive factors, and were acknowledged openly.&lt;ref name = &quot;Frascina&quot; /&gt;}} After Greenberg, several important art theorists emerged, such as [[Michael Fried]], [[T. J. Clark (historian)|T.&amp;nbsp;J.&amp;nbsp;Clark]], [[Rosalind Krauss]], [[Linda Nochlin]] and [[Griselda Pollock]] among others. Though only originally intended as a way of understanding a specific set of artists, Greenberg\\'s definition of modern art is important to many of the ideas of art within the various art movements of the 20th century and early 21st century.&lt;ref name=&quot;Harris2005&quot;&gt;{{cite book|author=Jonathan P. Harris|title=Writing Back to Modern Art: After Greenberg, Fried, and Clark|url=https://books.google.com/books?id=_TzAIu3LziIC|year=2005|publisher=Psychology Press|isbn=978-0-415-32429-8}}&lt;/ref&gt;&lt;ref name=&quot;Holt2001&quot;&gt;{{cite book|author=David Kenneth Holt|title=The Search for Aesthetic Meaning in the Visual Arts: The Need for the Aesthetic Tradition in Contemporary Art Theory and Education|url=https://books.google.com/books?id=VWedB7SA-KMC|year=2001|publisher=Greenwood Publishing Group|isbn=978-0-89789-773-0}}&lt;/ref&gt;\\n\\n[[Pop art]]ists like [[Andy Warhol]] became both noteworthy and influential through work including and possibly critiquing popular culture, as well as the [[art world]]. Artists of the 1980s, 1990s, and 2000s expanded this technique of self-criticism beyond \\'\\'high art\\'\\' to all cultural image-making, including fashion images, comics, billboards and pornography.&lt;ref name=&quot;Gemünden1998&quot;&gt;{{cite book|author=Gerd Gemünden|title=Framed Visions: Popular Culture, Americanization, and the Contemporary German and Austrian Imagination|url=https://books.google.com/books?id=7Mpfn_pue34C|year=1998|publisher=University of Michigan Press|isbn=978-0-472-08560-6|page=43}}&lt;/ref&gt;&lt;ref&gt;{{cite book|title=The New Yorker|url=https://books.google.com/books?id=9BcnAQAAIAAJ|year=2004|publisher=F-R Publishing Corporation|page=84}}&lt;/ref&gt;\\n\\nDuchamp once proposed that art is any activity of any kind-everything. However, the way that only certain activities are classified today as art is a social construction.&lt;ref name=&quot;Duchamp Interview Clip&quot;&gt;{{YouTube|haon2DXWvLk|Duchamp Two Statements}}{{Dead link|date=May 2016}}&lt;/ref&gt; There is evidence that there may be an element of truth to this. In \\'\\'[[The Invention of Art: A Cultural History]]\\'\\', Larry Shiner examines the construction of the modern system of the arts, i.e. fine art. He finds evidence that the older system of the arts before our modern system (fine art) held art to be any skilled human activity; for example, Ancient Greek society did not possess the term art, but [[techne]]. Techne can be understood neither as art or craft, the reason being that the distinctions of art and [[craft]] are historical products that came later on in human history. Techne included painting, sculpting and music, but also cooking, medicine, [[horsemanship]], [[geometry]], carpentry, [[prophecy]], and farming, etc.&lt;ref name=&quot;BurgueteLam2011&quot;&gt;{{cite book|author1=Maria Burguete|author2=Lui Lam|title=Arts: A Science Matter|url=https://books.google.com/books?id=zKmND2ImrGUC|year=2011|publisher=World Scientific|isbn=978-981-4324-93-9|page=74}}&lt;/ref&gt;\\n\\n===New Criticism and the &quot;intentional fallacy&quot;===\\nFollowing Duchamp during the first half of the 20th century, a significant shift to general aesthetic theory took place which attempted to apply aesthetic theory between various forms of art, including the literary arts and the visual arts, to each other. This resulted in the rise of the [[New Criticism]] school and debate concerning \\'\\'the intentional fallacy\\'\\'. At issue was the question of whether the aesthetic intentions of the artist in creating the work of art, whatever its specific form, should be associated with the criticism and evaluation of the final product of the work of art, or, if the work of art should be evaluated on its own merits independent of the intentions of the artist.&lt;ref name=&quot;Waugh2006&quot;&gt;{{cite book|author=Patricia Waugh|title=Literary Theory and Criticism: An Oxford Guide|url=https://books.google.com/books?id=7LXMA_7Ko9YC|year=2006|publisher=Oxford University Press|isbn=978-0-19-929133-5|page=171}}&lt;/ref&gt;&lt;ref name=&quot;Colebrook1997&quot;&gt;{{cite book|author=Claire Colebrook|title=New Literary Histories: New Historicism and Contemporary Criticism|url=https://books.google.com/books?id=aT-8AAAAIAAJ|year=1997|publisher=Manchester University Press|isbn=978-0-7190-4987-3|page=221}}&lt;/ref&gt;\\n\\nIn 1946, [[W. K. Wimsatt|William K. Wimsatt]] and [[Monroe Beardsley]] published a classic and controversial New Critical essay entitled &quot;[[Intentional Fallacy|The Intentional Fallacy]]&quot;, in which they argued strongly against the relevance of an [[Authorial intentionality|author\\'s intention]], or &quot;intended meaning&quot; in the analysis of a literary work. For Wimsatt and Beardsley, the words on the page were all that mattered; importation of meanings from outside the text was considered irrelevant, and potentially distracting.&lt;ref name=&quot;Roholt2013&quot;&gt;{{cite book|author=Tiger C. Roholt|title=Key Terms in Philosophy of Art|url=https://books.google.com/books?id=US6aAAAAQBAJ|year=2013|publisher=Bloomsbury Publishing|isbn=978-1-4411-3246-8|page=161}}&lt;/ref&gt;&lt;ref name=&quot;Hick2017&quot;&gt;{{cite book|author=Darren Hudson Hick|title=Introducing Aesthetics and the Philosophy of Art|url=https://books.google.com/books?id=L_S4DgAAQBAJ|year=2017|publisher=Bloomsbury Publishing|isbn=978-1-350-00691-1}}&lt;/ref&gt;\\n\\nIn another essay, &quot;[[Affective fallacy|The Affective Fallacy]],&quot; which served as a kind of sister essay to &quot;The Intentional Fallacy&quot; Wimsatt and Beardsley also discounted the reader\\'s personal/emotional reaction to a literary work as a valid means of analyzing a text. This fallacy would later be repudiated by theorists from the [[reader-response]] school of literary theory. Ironically, one of the leading theorists from this school, [[Stanley Fish]], was himself trained by New Critics. Fish criticizes Wimsatt and Beardsley in his 1970 essay &quot;Literature in the Reader.&quot;&lt;ref&gt;Leitch, Vincent B., et al., eds. \\'\\'The Norton Anthology of Theory and Criticism\\'\\'. New York: W. W. Norton &amp; Company, 2001.&lt;/ref&gt;&lt;ref&gt;{{Cite journal|last=Fish|first=Stanley|date=Autumn 1970|title=Literature in the Reader: Affective Stylistics|jstor=468593|journal=New Literary History|volume=2|issue=1|pages=123–162|doi=10.2307/468593}}&lt;/ref&gt;\\n\\nAs summarized by Gaut and Livingston in their essay &quot;The Creation of Art&quot;: &quot;Structuralist and post-structuralists theorists and critics were sharply critical of many aspects of New Criticism, beginning with the emphasis on aesthetic appreciation and the so-called autonomy of art, but they reiterated the attack on biographical criticisms\\' assumption that the artist\\'s activities and experience were a privileged critical topic.&quot;&lt;ref&gt;Gaut and Livingston, \\'\\'The Creation of Art\\'\\', p. 3.&lt;/ref&gt; These authors contend that: &quot;Anti-intentionalists, such as formalists, hold that the intentions involved in the making of art are irrelevant or peripheral to correctly interpreting art. So details of the act of creating a work, though possibly of interest in themselves, have no bearing on the correct interpretation of the work.&quot;&lt;ref name=&quot;Gaut and Livingston, p.6&quot;&gt;Gaut and Livingston, p. 6.&lt;/ref&gt;\\n\\nGaut and Livingston define the intentionalists as distinct from formalists stating that: &quot;Intentionalists, unlike formalists, hold that reference to intentions is essential in fixing the correct interpretation of works.&quot; They quote [[Richard Wollheim]] as stating that, &quot;The task of criticism is the reconstruction of the creative process, where the creative process must in turn be thought of as something not stopping short of, but terminating on, the work of art itself.&quot;&lt;ref name=&quot;Gaut and Livingston, p.6&quot;/&gt;\\n\\n===&quot;Linguistic turn&quot; and its debate===\\nThe end of the 20th century fostered an extensive debate known as the linguistic turn controversy, or the &quot;innocent eye debate&quot;, and generally referred to as the structuralism-[[poststructuralism]] debate in the philosophy of art. This debate discussed the encounter of the work of art as being determined by the relative extent to which the conceptual encounter with the work of art dominates over the perceptual encounter with the work of art.&lt;ref&gt;\\'\\'Philosophy for Architecture\\'\\', Branco Mitrovic, 2012.&lt;/ref&gt;\\n\\nDecisive for the linguistic turn debate in art history and the humanities were the works of yet another tradition, namely the [[structuralism]] of [[Ferdinand de Saussure]] and the ensuing movement of [[poststructuralism]]. In 1981, the artist [[Mark Tansey]] created a work of art titled &quot;The Innocent Eye&quot; as a criticism of the prevailing climate of disagreement in the philosophy of art during the closing decades of the 20th century. Influential theorists include [[Judith Butler]], [[Luce Irigaray]], [[Julia Kristeva]], [[Michel Foucault]] and [[Jacques Derrida]]. The power of language, more specifically of certain rhetorical tropes, in art history and historical discourse was explored by [[Hayden White]]. The fact that language is \\'\\'not\\'\\' a transparent medium of thought had been stressed by a very different form of [[philosophy of language]] which originated in the works of [[Johann Georg Hamann]] and [[Wilhelm von Humboldt]].&lt;ref&gt;\\'\\'Introduction to Structuralism\\'\\', Michael Lane, Basic Books University of Michigan, 1970.&lt;/ref&gt; [[Ernst Gombrich]] and [[Nelson Goodman]] in his book \\'\\'[[Languages of Art]]: An Approach to a Theory of Symbols\\'\\' came to hold that the conceptual encounter with the work of art predominated exclusively over the perceptual and visual encounter with the work of art during the 1960s and 1970s.&lt;ref&gt;\\'\\'[[Languages of Art]]: An Approach to a Theory of Symbols\\'\\'. Indianapolis: Bobbs-Merrill, 1968. 2nd ed. Indianapolis: Hackett, 1976. Based on his 1960–61 [[John Locke lectures]].&lt;/ref&gt; He was challenged on the basis of research done by the Nobel prize winning psychologist [[Roger Sperry]] who maintained that the human visual encounter was not limited to concepts represented in language alone (the linguistic turn) and that other forms of psychological representations of the work of art were equally defensible and demonstrable. Sperry\\'s view eventually prevailed by the end of the 20th century with aesthetic philosophers such as [[Nick Zangwill]] strongly defending a return to moderate aesthetic formalism among other alternatives.&lt;ref&gt;Nick Zangwill, &quot;Feasible Aesthetic Formalism&quot;, \\'\\'Nous\\'\\', December 1999, pp. 610–29.&lt;/ref&gt;\\n\\n==Classification disputes==\\n{{Main|Classificatory disputes about art}}\\n[[File:Marcel Duchamp, 1917, Fountain, photograph by Alfred Stieglitz.jpg|thumb|The original \\'\\'[[Fountain (Duchamp)|Fountain]]\\'\\' by [[Marcel Duchamp]], 1917, photographed by [[Alfred Stieglitz]] at the [[Little Galleries of the Photo-Secession|291]] after the 1917 [[Society of Independent Artists]] exhibit. Stieglitz used a backdrop of \\'\\'The Warriors\\'\\' by [[Marsden Hartley]] to photograph the urinal. The exhibition entry tag can be clearly seen.&lt;ref name=&quot;Tomkins, p. 186&quot;&gt;Tomkins, \\'\\'Duchamp: A Biography\\'\\', p. 186.&lt;/ref&gt;]] Disputes as to whether or not to classify something as a work of art are referred to as classificatory disputes about art. Classificatory disputes in the 20th century have included [[cubist]] and [[impressionist]] paintings, [[Duchamp]]\\'s \\'\\'[[Fountain (Duchamp)|Fountain]]\\'\\', the movies, superlative imitations of [[J. S. G. Boggs|banknotes]], [[conceptual art]], and [[video games]].&lt;ref&gt;{{cite news |author=Deborah Solomon |title=2003: the 3rd Annual Year in Ideas: Video Game Art |newspaper=The New York Times Magazine |date=14 December 2003 |url=https://www.nytimes.com/2003/12/14/magazine/2003-the-3rd-annual-year-in-ideas-video-game-art.html}}&lt;/ref&gt; Philosopher David Novitz has argued that disagreement about the definition of art are rarely the heart of the problem. Rather, &quot;the passionate concerns and interests that humans vest in their social life&quot; are &quot;so much a part of all classificatory disputes about art.&quot;&lt;ref&gt;{{Cite journal|last=Novitz|first=David|date=1996|title=Disputes about Art|jstor=431087|journal=The Journal of Aesthetics and Art Criticism|volume=54|issue=2|pages=153–163|doi=10.2307/431087|issn=0021-8529}}&lt;/ref&gt; According to Novitz, classificatory disputes are more often disputes about societal values and where society is trying to go than they are about theory proper. For example, when the \\'\\'[[Daily Mail]]\\'\\' criticized [[Damien Hirst|Hirst]]\\'s and [[Tracey Emin|Emin]]\\'s work by arguing &quot;For 1,000 years art has been one of our great civilising forces. Today, pickled sheep and soiled beds threaten to make barbarians of us all&quot; they are not advancing a definition or theory about art, but questioning the value of Hirst\\'s and Emin\\'s work.&lt;ref&gt;Painter, Colin. \\'\\'Contemporary Art and the Home\\'\\'. Berg Publishers, 2002. p. 12. {{ISBN|1-85973-661-0}}&lt;/ref&gt; In 1998, [[Arthur Danto]], suggested a thought experiment showing that &quot;the status of an artifact as work of art results from the ideas a culture applies to it, rather than its inherent physical or perceptible qualities. Cultural interpretation (an art theory of some kind) is therefore constitutive of an object\\'s arthood.&quot;&lt;ref&gt;Dutton, Denis [http://www.denisdutton.com/tribal_art.htm &quot;Tribal Art&quot;] in \\'\\'[[Encyclopedia of Aesthetics]], edited by Michael Kelly (New York: Oxford University Press, 1998).\\'\\'&lt;/ref&gt;&lt;ref&gt;Danto, Arthur. &quot;Artifact and Art&quot; in \\'\\'Art/Artifact\\'\\', edited by Susan Vogel. New York, 1988.&lt;/ref&gt;\\n\\n[[Anti-art]] is a label for art that intentionally challenges the established parameters and values of art;&lt;ref name=tate/&gt; it is term associated with [[Dada]]ism and attributed to [[Marcel Duchamp]] just before World War I,&lt;ref name=&quot;tate&quot;&gt;[http://www.tate.org.uk/collections/glossary/definition.jsp?entryId=571 &quot;Glossary: Anti-art&quot;] {{Webarchive|url=https://web.archive.org/web/20090910173718/http://www.tate.org.uk/collections/glossary/definition.jsp?entryId=571 |date=10 September 2009 }}, [[Tate]]. Retrieved 23 January 2010.&lt;/ref&gt; when he was making art from [[found art|found objects]].&lt;ref name=tate/&gt; One of these,  \\'\\'[[Fountain (Duchamp)|Fountain]]\\'\\' (1917), an ordinary urinal, has achieved considerable prominence and influence on art.&lt;ref name=tate/&gt; Anti-art is a feature of work by [[Situationist International]],&lt;ref&gt;Schneider, Caroline. [http://www.encyclopedia.com/doc/1G1-78637292.html &quot;Asger Jorn&quot;], \\'\\'[[Artforum]]\\'\\', 1 September 2001. Retrieved from encyclopedia.com, 24 January 2010. {{webarchive |url=https://web.archive.org/web/20110513081709/http://www.encyclopedia.com/doc/1G1-78637292.html |date=13 May 2011 }}&lt;/ref&gt; the lo-fi Mail art movement, and the [[Young British Artists]],&lt;ref name=tate/&gt; though it is a form still rejected by the [[Stuckism|Stuckists]],&lt;ref name=tate/&gt; who describe themselves as [[anti-anti-art]].&lt;ref&gt;Ferguson, Euan. [https://www.theguardian.com/artanddesign/2003/apr/20/thesaatchigallery.art2 &quot;In bed with Tracey, Sarah ... and Ron&quot;], \\'\\'[[The Observer]]\\'\\', 20 April 2003. Retrieved on 2 May 2009.&lt;/ref&gt;&lt;ref&gt;[http://www.artnet.com/Magazine/news/artnetnews/artnetnews10-27-00.asp &quot;Stuck on the Turner Prize&quot;], [[artnet]], 27 October 2000. Retrieved on 2 May 2009.&lt;/ref&gt;\\n\\nArchitecture is often included as one of the visual arts; however, like the [[decorative arts]], or advertising, it involves the creation of objects where the practical considerations of use are essential in a way that they usually are not in a painting, for example.&lt;ref&gt;{{cite news |last1=Glancey |first1=Jonathan |title=Is advertising art? |url=https://www.independent.co.uk/arts-entertainment/is-advertising-art-1593252.html |work=The Independent |date=26 July 1995}}&lt;/ref&gt;\\n\\n===Value judgment===\\n[[File:Aboriginal hollow log tomb.jpg|thumb|left|upright|Aboriginal hollow log tombs. National Gallery, [[Canberra]], Australia]]\\n\\nSomewhat in relation to the above, the word \\'\\'art\\'\\' is also used to apply judgments of value, as in such expressions as &quot;that meal was a work of art&quot; (the cook is an artist),&lt;ref name=&quot;Potts2011&quot;&gt;{{cite book|author=Joe Potts|title=The Kahuna Kit|url=https://books.google.com/books?id=6uu6lPR6EPQC|year=2011|publisher=AuthorHouse|isbn=978-1-4567-8689-2|page=72}}&lt;/ref&gt; or &quot;the art of deception&quot; (the highly attained level of skill of the deceiver is praised). It is this use of the word as a measure of high quality and high value that gives the term its flavor of subjectivity. Making judgments of value requires a basis for criticism. At the simplest level, a way to determine whether the impact of the object on the senses meets the criteria to be considered \\'\\'art\\'\\' is whether it is perceived to be attractive or repulsive. Though perception is always colored by experience, and is necessarily subjective, it is commonly understood that what is not somehow aesthetically satisfying cannot be art. However, &quot;good&quot; art is not always or even regularly aesthetically appealing to a majority of viewers. In other words, an artist\\'s prime motivation need not be the pursuit of the aesthetic. Also, art often depicts terrible images made for social, moral, or thought-provoking reasons. For example, [[Francisco Goya]]\\'s painting depicting the Spanish shootings of 3 May 1808 is a graphic depiction of a firing squad executing several pleading civilians. Yet at the same time, the horrific imagery demonstrates Goya\\'s keen artistic ability in composition and execution and produces fitting social and political outrage. Thus, the debate continues as to what mode of aesthetic satisfaction, if any, is required to define \\'art\\'.&lt;ref name=&quot;AddisonBurgess2012&quot;&gt;{{cite book|author1=Nicholas Addison|author2=Lesley Burgess|title=Debates in Art and Design Education|url=https://books.google.com/books?id=qOY10gcBeP8C|year=2012|publisher=Routledge|isbn=978-0-415-61887-8|page=97}}&lt;/ref&gt;&lt;ref name=&quot;FergusonMansbach2008&quot;&gt;{{cite book|author1=Yale H. Ferguson|authorlink2=Richard W. Mansbach|author2=Richard W. Mansbach|title=A World of Polities: Essays on Global Politics|url=https://books.google.com/books?id=adOTAgAAQBAJ|year=2008|publisher=Routledge|isbn=978-1-135-98149-5|pages=38–39}}&lt;/ref&gt;\\n\\nThe assumption of new values or the rebellion against accepted notions of what is aesthetically superior need not occur concurrently with a complete abandonment of the pursuit of what is aesthetically appealing. Indeed, the reverse is often true, that the revision of what is popularly conceived of as being aesthetically appealing allows for a re-invigoration of aesthetic sensibility, and a new appreciation for the standards of art itself. Countless schools have proposed their own ways to define quality, yet they all seem to agree in at least one point: once their aesthetic choices are accepted, the value of the work of art is determined by its capacity to transcend the limits of its chosen medium to strike some universal chord by the rarity of the skill of the artist or in its accurate reflection in what is termed the \\'\\'[[zeitgeist]]\\'\\'. Art is often intended to appeal to and connect with human emotion. It can arouse [[aesthetic]] or [[morality|moral]] feelings, and can be understood as a way of communicating these feelings. Artists express something so that their audience is aroused to some extent, but they do not have to do so consciously. Art may be considered an exploration of the [[human condition]]; that is, what it is to be human.&lt;ref&gt;{{cite book |last1=Graham |first1=Gordon |title=Philosophy of the arts: an introduction to aesthetics |publisher=Taylor &amp; Francis |year=2005}}&lt;/ref&gt; By extension, it has been argued by Emily L. Spratt that the development of artificial intelligence, especially in regard to its uses with images, necessitates a re-evaluation of aesthetic theory in art history today and a reconsideration of the limits of human creativity.&lt;ref&gt;{{Cite journal|last=Spratt|first=Emily L.|date=3 April 2018|title=Computers and art in the age of machine learning|url=https://www.researchgate.net/publication/324232798|journal=XRDS: Crossroads|language=en|publisher=ACM: Association for Computing Machinery|volume=24|issue=3|pages=8–20|doi=10.1145/3186697}}&lt;/ref&gt;&lt;ref&gt;{{cite arxiv|last=Spratt|first=Emily L.|last2=Elgammal|first2=Ahmed|date=29 September 2014|title=Computational Beauty: Aesthetic Judgment at the Intersection of Art and Science|eprint=1410.2488|class=cs.CV}}&lt;/ref&gt;\\n\\n==See also==\\n{{Portal|Arts|Visual arts}}\\n&lt;!-- Please keep entries in alphabetical order and add a short description [[WP:SEEALSO]] --&gt;\\n{{Div col|colwidth=20em|small=no}}\\n* [[Applied arts]]\\n* [[Art movement]]\\n* [[Artist in residence]]\\n* [[Artistic freedom]]\\n* [[Formal analysis]]\\n* [[History of art]]\\n* [[List of artistic media]]\\n* [[List of art techniques]]\\n* [[Mathematics and art]]\\n* [[Street art]] (or &quot;independent public art&quot;)\\n* [[Outline of the visual arts]], a guide to the subject of art presented as a [[tree structure]]d list of its subtopics.\\n{{div col end}}\\n&lt;!-- please keep entries in alphabetical order --&gt;\\n{{Wikipedia books|Art|position=left}}\\n\\n==Notes==\\n{{reflist|30em}}\\n\\n==Bibliography==\\n* Oscar Wilde, \\'\\'Intentions\\'\\', 1891\\n* Stephen Davies, \\'\\'Definitions of Art\\'\\', 1991\\n* Nina Felshin, ed. \\'\\'But is it Art?\\'\\', 1995\\n* [[Catherine de Zegher]] (ed.). \\'\\'Inside the Visible\\'\\'. MIT Press, 1996\\n* Evelyn Hatcher, ed. \\'\\'Art as Culture: An Introduction to the Anthropology of Art\\'\\', 1999\\n* Noel Carroll, \\'\\'Theories of Art Today\\'\\', 2000\\n* John Whitehead. \\'\\'Grasping for the Wind\\'\\', 2001\\n* Michael Ann Holly and Keith Moxey (eds.) \\'\\'Art History Aesthetics Visual Studies\\'\\'. New Haven: Yale University Press, 2002. {{ISBN|0300097891}}\\n* Shiner, Larry. \\'\\'[[The Invention of Art: A Cultural History]]\\'\\'. Chicago: University of Chicago Press, 2003. {{ISBN|978-0-226-75342-3}}\\n* [[Arthur Danto]], \\'\\'The Abuse of Beauty: Aesthetics and the Concept of Art.\\'\\' 2003\\n* [[Dana Arnold]] and Margaret Iverson, eds. \\'\\'Art and Thought\\'\\'. London: Blackwell, 2003. {{ISBN|0631227156}}\\n* Jean Robertson and Craig McDaniel, \\'\\'Themes of Contemporary Art, Visual Art after 1980\\'\\', 2005\\n\\n==Further reading==\\n* Antony Briant and [[Griselda Pollock]], eds. \\'\\'Digital and Other Virtualities: Renegotiating the image\\'\\'. London and NY: I.B.Tauris, 2010. {{ISBN|978-1441676313}}\\n* Augros, Robert M., Stanciu, George N. \\'\\'The New Story of Science: mind and the universe\\'\\', Lake Bluff, Ill.: Regnery Gateway, 1984. {{ISBN|0-89526-833-7}} (this book has significant material on art and science)\\n* [[Benedetto Croce]]. \\'\\'Aesthetic as Science of Expression and General Linguistic\\'\\', 2002\\n* Botar, Oliver A.I. Technical Detours: \\'\\'The Early Moholy-Nagy Reconsidered\\'\\'. Art Gallery of The Graduate Center, The City University of New York and The Salgo Trust for Education, 2006. {{ISBN|978-1599713571}}\\n* Burguete, Maria, and Lam, Lui, eds. (2011). \\'\\'Arts: A Science Matter\\'\\'. World Scientific: Singapore. {{ISBN|978-981-4324-93-9}}\\n* [[Carol Armstrong]] and [[Catherine de Zegher]], eds. \\'\\'Women Artists at the Millennium\\'\\'. Massachusetts: October Books/The MIT Press, 2006. {{ISBN|026201226X}}\\n* [[Carl Jung]], \\'\\'Man and His Symbols\\'\\'. London: Pan Books, 1978. {{ISBN|0330253212}}\\n* [[E.H. Gombrich]], \\'\\'The Story of Art\\'\\'. London: Phaidon Press, 1995. {{ISBN|978-0714832470}}\\n* Florian Dombois, [[Ute Meta Bauer]], Claudia Mareis and Michael Schwab, eds. \\'\\'Intellectual Birdhouse. Artistic Practice as Research\\'\\'. London: Koening Books, 2012. {{ISBN|978-3863351182}}\\n* Katharine Everett Gilbert and Helmut Kuhn, \\'\\'A History of Esthetics\\'\\'. Edition 2, revised. Indiana: Indiana University Press, 1953.\\n* [[Kristine Stiles]] and [[Peter Selz]], eds. \\'\\'Theories and Documents of Contemporary Art\\'\\'. Berkeley: University of California Press, 1986\\n* Kleiner, Gardner, Mamiya and Tansey. \\'\\'Art Through the Ages, Twelfth Edition (2 volumes)\\'\\' Wadsworth, 2004. {{ISBN|0-534-64095-8}} (vol 1) and {{ISBN|0-534-64091-5}} (vol 2)\\n* [[Richard Wollheim]], \\'\\'Art and its Objects: An introduction to aesthetics\\'\\'. New York: Harper &amp; Row, 1968. {{OCLC|1077405}}\\n* [[Will Gompertz]]. \\'\\'What Are You Looking At?: 150 Years of Modern Art in the Blink of an Eye\\'\\'. New York: Viking, 2012. {{ISBN|978-0670920495}}\\n* [[Władysław Tatarkiewicz]], \\'\\'A History of Six Ideas: an Essay in Aesthetics\\'\\', translated from the Polish by [[Christopher Kasparek]], The Hague, Martinus Nijhoff, 1980\\n\\n==External links==\\n{{Sister project links|art}}\\n{{Library resources box\\n|by=no\\n|onlinebooks=no\\n|others=no\\n|about=yes\\n|label=Art }}\\n&lt;!--\\nDo not place advertisements here.\\nCOMMERCIAL LINKS WILL BE REMOVED.\\nSee this article\\'s Talk page, WP:EL, and WP:SPAM for more information.\\nWikipedia is not a link directory. Consider submitting your link to DMOZ instead.\\n--&gt;\\n* [http://xtf.lib.virginia.edu/xtf/view?docId=DicHist/uvaBook/tei/DicHist1.xml;chunk.id=dv1-17;toc.depth=1;toc.id=dv1-17;brand=default;query=Dictionary%20of%20the%20History%20of%20Ideas#1 \\'\\'Art and Play\\'\\' from the Dictionary of the History of ideas]\\n* [https://web.archive.org/web/20160306190600/http://witcombe.sbc.edu/arthlinks.html In-depth directory of art]\\n* \\'\\'[http://www.sil.si.edu/digitalcollections/art-design/artandartistfiles/ Art and Artist Files in the Smithsonian Libraries Collection]\\'\\' (2005) Smithsonian Digital Libraries\\n* [https://web.archive.org/web/20120716205617/http://www.ahds.ac.uk/ Visual Arts Data Service (VADS)] – online collections from UK museums, galleries, universities\\n* [http://www.RevolutionArtMagazine.com/ RevolutionArt – Art magazines with worldwide exhibitions, callings and competitions]\\n* {{cite SEP |url-id=art-definition |title=The Definition of Art |last=Adajian |first=Thomas}}\\n* {{Curlie|Arts/|Art}}\\n&lt;!--\\nDo not place advertisements here.\\nCOMMERCIAL LINKS WILL BE REMOVED.\\nSee this article\\'s Talk page, WP:EL, and WP:SPAM for more information.\\nWikipedia is not a link directory. Consider submitting your link to DMOZ instead.\\n--&gt;\\n\\n{{aesthetics}}\\n\\n{{Authority control}}\\n\\n[[Category:Art| ]]\\n[[Category:Aesthetics]]\\n[[Category:Visual arts]]</text>\\n      <sha1>8w2mdm6b5ln90f93zw0vrpwf0102nhj</sha1>\\n    </revision>\\n  </page>\\n'"
      ]
     },
     "execution_count": 126,
     "metadata": {},
     "output_type": "execute_result"
    }
   ],
   "source": [
    "categories_articles[0]"
   ]
  },
  {
   "cell_type": "markdown",
   "metadata": {},
   "source": [
    "### Kosinusova podobnost s Kategorickymi clankami Wiki - DATAMUSE TFIDF"
   ]
  },
  {
   "cell_type": "markdown",
   "metadata": {},
   "source": [
    "### Anchor text - kosinusova podobnost"
   ]
  },
  {
   "cell_type": "code",
   "execution_count": null,
   "metadata": {
    "scrolled": true
   },
   "outputs": [],
   "source": [
    "for art in categories_articles:\n",
    "    art['anchor_sims'] = tfdif_test_cosine(' '.join(art.get('anchors_tokens')), vectorizer_datamuse, trained_model_datamuse)\n",
    "    art['anchor_sims'] = {k: v for k, v in sorted(art.get('anchor_sims').items(), key = lambda item: item[1], reverse=True)}\n",
    "    print(art.get('title'))\n",
    "    print(art.get('anchor_sims'))"
   ]
  },
  {
   "cell_type": "markdown",
   "metadata": {},
   "source": [
    "### Kategorie Wiki - kosinusova podobnost"
   ]
  },
  {
   "cell_type": "code",
   "execution_count": null,
   "metadata": {
    "scrolled": true
   },
   "outputs": [],
   "source": [
    "for art in categories_articles:\n",
    "    art['categories_sims'] = tfdif_test_cosine(' '.join(art.get('category_wiki_tokens')), vectorizer_datamuse, trained_model_datamuse)\n",
    "    art['categories_sims'] = {k: v for k, v in sorted(art.get('categories_sims').items(), key = lambda item: item[1], reverse=True)}        \n",
    "    print(art.get('title'))\n",
    "    print(art.get('categories_sims'))"
   ]
  },
  {
   "cell_type": "markdown",
   "metadata": {},
   "source": [
    "### Infobox - kosinusova podobnost"
   ]
  },
  {
   "cell_type": "code",
   "execution_count": null,
   "metadata": {
    "scrolled": true
   },
   "outputs": [],
   "source": [
    "for art in categories_articles:\n",
    "    art['infobox_sims'] = tfdif_test_cosine(' '.join(art.get('infobox_tokens')), vectorizer_datamuse, trained_model_datamuse)\n",
    "    art['infobox_sims'] = {k: v for k, v in sorted(art.get('infobox_sims').items(), key = lambda item: item[1], reverse=True)}    \n",
    "    print(art.get('title'))\n",
    "    print(art.get('infobox_sims'))"
   ]
  },
  {
   "cell_type": "markdown",
   "metadata": {},
   "source": [
    "###  Text clanku - kosinusova podobnost"
   ]
  },
  {
   "cell_type": "code",
   "execution_count": null,
   "metadata": {},
   "outputs": [],
   "source": [
    "for art in categories_articles:\n",
    "    art['text_sims'] = tfdif_test_cosine(' '.join(art.get('text_tokens')), vectorizer_datamuse, trained_model_datamuse)\n",
    "    art['text_sims'] = {k: v for k, v in sorted(art.get('text_sims').items(), key = lambda item: item[1], reverse=True)}\n",
    "    print(art.get('title'))\n",
    "    print(art.get('text_sims'))"
   ]
  },
  {
   "cell_type": "markdown",
   "metadata": {},
   "source": [
    "### Kosinusova podobnost s testovacimi clankami - DATAMUSE TFIDF"
   ]
  },
  {
   "cell_type": "markdown",
   "metadata": {},
   "source": [
    "### Anchor text - kosinusova podobnost"
   ]
  },
  {
   "cell_type": "code",
   "execution_count": null,
   "metadata": {},
   "outputs": [],
   "source": [
    "for art in articles_test:\n",
    "    art['anchor_sims'] = tfdif_test_cosine(' '.join(art.get('anchors_tokens')), vectorizer_datamuse, trained_model_datamuse)\n",
    "    art['anchor_sims'] = {k: v for k, v in sorted(art.get('anchor_sims').items(), key = lambda item: item[1], reverse=True)}\n",
    "    print(art.get('title'))\n",
    "    print(art.get('anchor_sims'))"
   ]
  },
  {
   "cell_type": "markdown",
   "metadata": {},
   "source": [
    "### Kategorie Wiki - kosinusova podobnost"
   ]
  },
  {
   "cell_type": "code",
   "execution_count": null,
   "metadata": {
    "scrolled": true
   },
   "outputs": [],
   "source": [
    "for art in articles_test:\n",
    "    art['categories_sims'] = tfdif_test_cosine(' '.join(art.get('category_wiki_tokens')), vectorizer_datamuse, trained_model_datamuse)\n",
    "    art['categories_sims'] = {k: v for k, v in sorted(art.get('categories_sims').items(), key = lambda item: item[1], reverse=True)}    \n",
    "    print(art.get('title'))\n",
    "    print(art.get('categories_sims'))"
   ]
  },
  {
   "cell_type": "markdown",
   "metadata": {},
   "source": [
    "### Infobox - kosinusova podobnost"
   ]
  },
  {
   "cell_type": "code",
   "execution_count": null,
   "metadata": {
    "scrolled": true
   },
   "outputs": [],
   "source": [
    "for art in articles_test:\n",
    "    art['infobox_sims'] = tfdif_test_cosine(' '.join(art.get('infobox_tokens')), vectorizer_datamuse, trained_model_datamuse)\n",
    "    art['infobox_sims'] = {k: v for k, v in sorted(art.get('infobox_sims').items(), key = lambda item: item[1], reverse=True)}\n",
    "    print(art.get('title'))\n",
    "    print(art.get('infobox_sims'))"
   ]
  },
  {
   "cell_type": "markdown",
   "metadata": {},
   "source": [
    "###  Text clanku - kosinusova podobnost"
   ]
  },
  {
   "cell_type": "code",
   "execution_count": null,
   "metadata": {},
   "outputs": [],
   "source": [
    "for art in articles_test:\n",
    "    art['text_sims'] = tfdif_test_cosine(' '.join(art.get('text_tokens')), vectorizer_datamuse, trained_model_datamuse)\n",
    "    art['text_sims'] = {k: v for k, v in sorted(art.get('text_sims').items(), key = lambda item: item[1], reverse=True)}\n",
    "    print(art.get('title'))\n",
    "    print(art.get('text_sims'))"
   ]
  },
  {
   "cell_type": "markdown",
   "metadata": {},
   "source": [
    "### Kosinusova podobnost s  s testovacimi clankami - WIKI Infobox TFIDF"
   ]
  },
  {
   "cell_type": "markdown",
   "metadata": {},
   "source": [
    "### Anchor text - kosinusova podobnost"
   ]
  },
  {
   "cell_type": "code",
   "execution_count": null,
   "metadata": {
    "scrolled": true
   },
   "outputs": [],
   "source": [
    "for art in articles_test:\n",
    "    art['anchor_sims_info'] = tfdif_test_cosine(' '.join(art.get('anchors_tokens')), vectorizer_wiki1, trained_model_wiki1)\n",
    "    art['anchor_sims_info'] = {k: v for k, v in sorted(art.get('anchor_sims_info').items(), key = lambda item: item[1], reverse=True)}    \n",
    "    print(art.get('title'))\n",
    "    print(art.get('anchor_sims_info'))"
   ]
  },
  {
   "cell_type": "markdown",
   "metadata": {},
   "source": [
    "### Kategorie Wiki - kosinusova podobnost"
   ]
  },
  {
   "cell_type": "code",
   "execution_count": null,
   "metadata": {
    "scrolled": true
   },
   "outputs": [],
   "source": [
    "for art in articles_test:\n",
    "    art['categories_sims_info'] = tfdif_test_cosine(' '.join(art.get('category_wiki_tokens')), vectorizer_wiki1, trained_model_wiki1)\n",
    "    art['categories_sims_info'] = {k: v for k, v in sorted(art.get('categories_sims_info').items(), key = lambda item: item[1], reverse=True)}    \n",
    "    print(art.get('title'))\n",
    "    print(art.get('categories_sims_info'))"
   ]
  },
  {
   "cell_type": "markdown",
   "metadata": {},
   "source": [
    "### Infobox - kosinusova podobnost"
   ]
  },
  {
   "cell_type": "code",
   "execution_count": null,
   "metadata": {
    "scrolled": true
   },
   "outputs": [],
   "source": [
    "for art in articles_test:\n",
    "    art['infobox_sims_info'] = tfdif_test_cosine(' '.join(art.get('infobox_tokens')), vectorizer_wiki1, trained_model_wiki1)\n",
    "    art['infobox_sims_info'] = {k: v for k, v in sorted(art.get('infobox_sims_info').items(), key = lambda item: item[1], reverse=True)}\n",
    "    print(art.get('title'))\n",
    "    print(art.get('infobox_sims_info'))"
   ]
  },
  {
   "cell_type": "markdown",
   "metadata": {},
   "source": [
    "###  Text clanku - kosinusova podobnost"
   ]
  },
  {
   "cell_type": "code",
   "execution_count": null,
   "metadata": {
    "scrolled": true
   },
   "outputs": [],
   "source": [
    "for art in articles_test:\n",
    "    art['text_sims_info'] = tfdif_test_cosine(' '.join(art.get('text_tokens')), vectorizer_wiki1, trained_model_wiki1)\n",
    "    art['text_sims_info'] = {k: v for k, v in sorted(art.get('text_sims_info').items(), key = lambda item: item[1], reverse=True)}\n",
    "    print(art.get('title'))\n",
    "    print(art.get('text_sims_info'))"
   ]
  },
  {
   "cell_type": "markdown",
   "metadata": {},
   "source": [
    "### Kosinusova podobnost  s testovacimi clankami - WIKI kategorie TFIDF"
   ]
  },
  {
   "cell_type": "markdown",
   "metadata": {},
   "source": [
    "### Anchor text - kosinusova podobnost"
   ]
  },
  {
   "cell_type": "code",
   "execution_count": null,
   "metadata": {},
   "outputs": [],
   "source": [
    "for art in articles_test:\n",
    "    art['anchor_sims_cat'] = tfdif_test_cosine(' '.join(art.get('anchors_tokens')), vectorizer_wiki2, trained_model_wiki2)\n",
    "    art['anchor_sims_cat'] = {k: v for k, v in sorted(art.get('anchor_sims_cat').items(), key = lambda item: item[1], reverse=True)}    \n",
    "    print(art.get('title'))\n",
    "    print(art.get('anchor_sims_cat'))"
   ]
  },
  {
   "cell_type": "markdown",
   "metadata": {},
   "source": [
    "### Kategorie Wiki - kosinusova podobnost"
   ]
  },
  {
   "cell_type": "code",
   "execution_count": null,
   "metadata": {
    "scrolled": true
   },
   "outputs": [],
   "source": [
    "for art in articles_test:\n",
    "    art['categories_sims_cat'] = tfdif_test_cosine(' '.join(art.get('category_wiki_tokens')), vectorizer_wiki2, trained_model_wiki2)\n",
    "    art['categories_sims_cat'] = {k: v for k, v in sorted(art.get('categories_sims_cat').items(), key = lambda item: item[1], reverse=True)}    \n",
    "    print(art.get('title'))\n",
    "    print(art.get('categories_sims_cat'))"
   ]
  },
  {
   "cell_type": "markdown",
   "metadata": {},
   "source": [
    "### Infobox - kosinusova podobnost"
   ]
  },
  {
   "cell_type": "code",
   "execution_count": null,
   "metadata": {
    "scrolled": true
   },
   "outputs": [],
   "source": [
    "for art in articles_test:\n",
    "    art['infobox_sims_cat'] = tfdif_test_cosine(' '.join(art.get('infobox_tokens')), vectorizer_wiki2, trained_model_wiki2)\n",
    "    art['infobox_sims_cat'] = {k: v for k, v in sorted(art.get('infobox_sims_cat').items(), key = lambda item: item[1], reverse=True)}\n",
    "    print(art.get('title'))\n",
    "    print(art.get('infobox_sims_cat'))"
   ]
  },
  {
   "cell_type": "markdown",
   "metadata": {},
   "source": [
    "###  Text clanku - kosinusova podobnost"
   ]
  },
  {
   "cell_type": "code",
   "execution_count": null,
   "metadata": {},
   "outputs": [],
   "source": [
    "for art in articles_test:\n",
    "    art['text_sims_cat'] = tfdif_test_cosine(' '.join(art.get('text_tokens')), vectorizer_wiki2, trained_model_wiki2)\n",
    "    art['text_sims_cat'] = {k: v for k, v in sorted(art.get('text_sims_cat').items(), key = lambda item: item[1], reverse=True)}\n",
    "    print(art.get('title'))\n",
    "    print(art.get('text_sims_cat'))"
   ]
  },
  {
   "cell_type": "markdown",
   "metadata": {},
   "source": [
    "### Kosinusova podobnost  s testovacimi clankami - WIKI text TFIDF"
   ]
  },
  {
   "cell_type": "markdown",
   "metadata": {},
   "source": [
    "### Anchor text - kosinusova podobnost"
   ]
  },
  {
   "cell_type": "code",
   "execution_count": 138,
   "metadata": {},
   "outputs": [
    {
     "name": "stdout",
     "output_type": "stream",
     "text": [
      "Anarchism\n",
      "{'Earth': 0.07244911022677851, 'History': 0.06700589993343714, 'Medicine': 0.05714992036223981, 'Language': 0.05355468495119101, 'Film': 0.04890920237097767, 'Fitness': 0.04139444246229392, 'War': 0.03825578079125836, 'Health': 0.03587335537628782, 'Media': 0.03208074024430446, 'Culture': 0.030875891552559164, 'Life': 0.029800582617354285, 'Education': 0.027006592809053043, 'Internet': 0.024166673530668835, 'Sport': 0.022914222787118445, 'Crime': 0.0221760342602772, 'Geography': 0.02193233462149937, 'Dance': 0.02133418194400668, 'Exercise': 0.021286249582868833, 'Sculpture': 0.02074728769975692, 'Painting': 0.020670919688639114, 'Theatre': 0.020064317849952683, 'Literature': 0.018524342217998507, 'Games': 0.017923024019223268, 'Food': 0.01623841074336768, 'Recreation': 0.013805809269872623, 'Music': 0.011387356496594418, 'Art': 0.009886175700932328}\n",
      "Autism\n",
      "{'Media': 0.10393937988900835, 'Crime': 0.05878668975014259, 'Sculpture': 0.04480115784310468, 'Health': 0.03962452758501084, 'Theatre': 0.03629570902038478, 'Culture': 0.03577373625843628, 'Film': 0.03048284195440447, 'War': 0.028219026982403462, 'History': 0.02746054670789427, 'Fitness': 0.02745866987477909, 'Games': 0.025046105347704583, 'Earth': 0.02271634056383591, 'Recreation': 0.02157220803979309, 'Life': 0.02135080834384899, 'Medicine': 0.021111546075701194, 'Sport': 0.01927517930672845, 'Dance': 0.01895142782543371, 'Geography': 0.01826175860542437, 'Literature': 0.017673817475461987, 'Language': 0.017507173972999245, 'Music': 0.017406501003003436, 'Internet': 0.016043058502334295, 'Food': 0.015864985306111003, 'Exercise': 0.01483550362105554, 'Painting': 0.014453345704297113, 'Art': 0.013161711060572267, 'Education': 0.006709562607467068}\n",
      "Albedo\n",
      "{'Internet': 0.03949908461832263, 'Art': 0.03732570133523328, 'Fitness': 0.018038582104805006, 'Food': 0.01691478277946422, 'Games': 0.015057017179494269, 'Music': 0.014844089912402353, 'Sport': 0.00985256302357635, 'Life': 0.009663897824816992, 'Film': 0.00901042083591465, 'Language': 0.008885147847124351, 'Sculpture': 0.008705722730741303, 'Geography': 0.00796850625483201, 'Dance': 0.007798075800974655, 'Painting': 0.007256921058412468, 'History': 0.006923820193695666, 'Exercise': 0.006836072634840212, 'Media': 0.006820637010113809, 'War': 0.0068001400516449935, 'Theatre': 0.006343004052021445, 'Crime': 0.00593098677602492, 'Earth': 0.005004497392749004, 'Culture': 0.004913509592388231, 'Health': 0.004873673195349473, 'Education': 0.004847531562391694, 'Medicine': 0.00435493184835522, 'Literature': 0.0030961275657721055, 'Recreation': 0.002145255836350267}\n",
      "A\n",
      "{'Sculpture': 0.10215657427333884, 'Art': 0.03265145885426011, 'Culture': 0.03104546165703419, 'Fitness': 0.029767212180221467, 'Sport': 0.02840042214567767, 'Earth': 0.02787802611052828, 'Media': 0.026504333251262224, 'Film': 0.025842232861297526, 'Dance': 0.025782274350578168, 'Medicine': 0.02427772213509704, 'Games': 0.023488636127533883, 'Exercise': 0.023114022673367745, 'Language': 0.0229400165693119, 'Life': 0.022742531735822125, 'Internet': 0.0220278014135804, 'Geography': 0.021943088722845776, 'Painting': 0.02187341834442016, 'Food': 0.01956885893338226, 'Health': 0.019264544343056675, 'Theatre': 0.01757251069876555, 'War': 0.01739330535094383, 'Literature': 0.01703481421855539, 'Crime': 0.015924148839120196, 'Recreation': 0.015646602158983832, 'Music': 0.015432985776550131, 'History': 0.012873525023989996, 'Education': 0.008645937959100826}\n",
      "Alabama\n",
      "{'Painting': 0.039612266538989714, 'Language': 0.03720859920755641, 'Crime': 0.03609781904432674, 'Sculpture': 0.03426714624984274, 'Medicine': 0.033962006272217786, 'History': 0.03223256426351328, 'Internet': 0.031346098868186706, 'Media': 0.03029455491904226, 'Film': 0.0292305130355733, 'Exercise': 0.028191966831999978, 'Health': 0.02801889273477217, 'Earth': 0.02504420647183963, 'Geography': 0.02486624117399308, 'Fitness': 0.024444785365719337, 'Life': 0.022839751912020596, 'War': 0.019696815401749505, 'Dance': 0.019626342678502953, 'Art': 0.01955862718305659, 'Culture': 0.019124386247411432, 'Theatre': 0.019100807667951438, 'Music': 0.018317347088131982, 'Games': 0.01692599176421063, 'Education': 0.016546171431160047, 'Sport': 0.016196806782426673, 'Literature': 0.013785188660182803, 'Recreation': 0.013358217440147317, 'Food': 0.011059804948473338}\n",
      "Achilles\n",
      "{'Exercise': 0.045276319439375115, 'Sculpture': 0.04326576887869106, 'Culture': 0.03688017127513285, 'Internet': 0.033508909466807804, 'Earth': 0.028883059009400556, 'Fitness': 0.022586982144190883, 'Geography': 0.022362629141059073, 'Media': 0.02077930111012172, 'Education': 0.017961236403309908, 'Language': 0.017644876915660933, 'Dance': 0.017324331911815177, 'Recreation': 0.015225528094856293, 'Life': 0.014984248346494677, 'Sport': 0.014755010492286998, 'Games': 0.013846285017838867, 'Literature': 0.013486528037415159, 'Medicine': 0.01288011225501308, 'Art': 0.011591342136980843, 'War': 0.011356369927655872, 'Film': 0.010970839736808317, 'History': 0.010769438164032476, 'Food': 0.009240751722548025, 'Painting': 0.008607469044488482, 'Theatre': 0.00826923009001197, 'Crime': 0.008121228280124335, 'Health': 0.0077367325463222145, 'Music': 0.006662385678314694}\n",
      "Abraham Lincoln\n",
      "{'Medicine': 0.09454957969516975, 'Language': 0.07223537545597698, 'History': 0.04991534692416167, 'Fitness': 0.04617956506101241, 'Media': 0.043192468373321545, 'Earth': 0.041731748711148486, 'Film': 0.03693506660055052, 'Exercise': 0.036712098563881225, 'War': 0.035699340653527374, 'Sculpture': 0.03541463203559815, 'Painting': 0.0345771874356495, 'Life': 0.03264313186660222, 'Literature': 0.031210383562916135, 'Dance': 0.030771142418599934, 'Culture': 0.029644490463688347, 'Geography': 0.02820955626272203, 'Games': 0.02698605647306843, 'Crime': 0.0267360889749511, 'Internet': 0.02613589180722061, 'Health': 0.025200803479618873, 'Art': 0.025132987108098914, 'Theatre': 0.024231075122333245, 'Recreation': 0.023959193688628234, 'Music': 0.02206241577806891, 'Education': 0.021642955355123297, 'Sport': 0.021266240562205066, 'Food': 0.017290851918957677}\n",
      "Aristotle\n",
      "{'Fitness': 0.08526120440612887, 'Exercise': 0.07970453453792, 'Internet': 0.07413519603421041, 'Games': 0.06933273497773003, 'Art': 0.06267219846549042, 'Culture': 0.058605507281895564, 'Sport': 0.05135242706658069, 'Dance': 0.04233942247101167, 'Sculpture': 0.03991668783081217, 'Recreation': 0.0389426444515946, 'Media': 0.03863807542631451, 'Film': 0.038012512210702946, 'Language': 0.03753587649125848, 'Life': 0.03748162251769047, 'War': 0.03678832866217521, 'Earth': 0.03677670169791975, 'History': 0.03458817161020911, 'Medicine': 0.03361433242334191, 'Geography': 0.030696802869797757, 'Health': 0.02912115875791691, 'Literature': 0.028489345117638284, 'Crime': 0.027491142249066396, 'Music': 0.026741152597820873, 'Theatre': 0.025037620334739386, 'Food': 0.024046852313675197, 'Painting': 0.020658424086730333, 'Architecture': 0.015049356543508054, 'Education': 0.01474168585622036}\n",
      "An American in Paris\n",
      "{'Recreation': 0.1463359786252008, 'Literature': 0.02855929240676923, 'Fitness': 0.023266520111024074, 'Culture': 0.011582310376553133, 'Exercise': 0.011308083024583419, 'Geography': 0.010351413761041914, 'Dance': 0.009779673353171453, 'Life': 0.008542710717444823, 'Earth': 0.008425658027470894, 'Media': 0.00782622684244475, 'Language': 0.007582555396870161, 'Food': 0.007550897137740313, 'Sport': 0.007082603962034197, 'Internet': 0.006843921163225619, 'Sculpture': 0.0063067245414277434, 'Painting': 0.005733003000922637, 'War': 0.005381838533163317, 'Film': 0.005070683426622248, 'Health': 0.004935791522067179, 'History': 0.004836421812350991, 'Art': 0.004683426408215001, 'Crime': 0.004587364143807698, 'Games': 0.004353033006464365, 'Medicine': 0.004351577047971619, 'Education': 0.0042858171395632975, 'Theatre': 0.0030329654480174004, 'Music': 0.002319563419450995}\n",
      "Academy Award for Best Production Design\n",
      "{'Culture': 0.06591997719171125, 'Exercise': 0.03601497903929737, 'Education': 0.03402338159067012, 'Recreation': 0.019488024887233724, 'Fitness': 0.018417279191300213, 'Medicine': 0.016106004171998284, 'Dance': 0.015210746837648682, 'Film': 0.014369053939085743, 'Sport': 0.013585315013732408, 'Life': 0.013292133311683885, 'Language': 0.013216511931928078, 'Literature': 0.012305407566834585, 'Geography': 0.012192604167591435, 'Media': 0.011596869358069528, 'Earth': 0.011144236935965912, 'Games': 0.011009812866925478, 'Art': 0.01083664470796275, 'Internet': 0.010532198515632684, 'History': 0.010115535743068104, 'Painting': 0.009699660144503817, 'Theatre': 0.008847837581378472, 'Food': 0.008300251378167712, 'Health': 0.007631138439638722, 'Sculpture': 0.0073205754202440914, 'War': 0.0072660656053515375, 'Music': 0.006845409891699066, 'Crime': 0.005497648834919735}\n",
      "Academy Awards\n",
      "{'Recreation': 0.03065986256653517, 'Fitness': 0.03032212789030519, 'Literature': 0.027393576787055663, 'Education': 0.020786801588149068, 'Dance': 0.020218930982660168, 'Sport': 0.01863668750195484, 'History': 0.015649920341008195, 'Film': 0.015515671429563303, 'Geography': 0.012889219597451294, 'Exercise': 0.011565760186289381, 'Culture': 0.010983299534388077, 'Sculpture': 0.010647297675564835, 'Games': 0.010405229438739448, 'Internet': 0.010224187363172198, 'Painting': 0.01018736727434793, 'Life': 0.01010264291119217, 'Media': 0.00958874359117191, 'Earth': 0.009341782336085416, 'Theatre': 0.009337864451661656, 'Medicine': 0.00921212188381564, 'Art': 0.008174160863813668, 'War': 0.00806285651086996, 'Language': 0.007666392547735982, 'Music': 0.0075554582693304504, 'Food': 0.006802662768843342, 'Health': 0.006761905044724165, 'Crime': 0.005944717674120663}\n",
      "Actrius\n",
      "{'Sculpture': 0.19857670260394703, 'Dance': 0.021157553118200213, 'Life': 0.020787716483807176, 'Food': 0.017976939632010205, 'History': 0.01595515274554972, 'Painting': 0.011578145376844491, 'Media': 0.011456131239801421, 'Culture': 0.011116217593129826, 'Film': 0.010357877924569403, 'Earth': 0.009388930425797002, 'Games': 0.008362807393593371, 'Exercise': 0.008062223455337015, 'Fitness': 0.007961755558200272, 'Language': 0.0070220963336550665, 'Geography': 0.006935753578826431, 'Medicine': 0.005816981958507796, 'Art': 0.005391815434140815, 'Internet': 0.005370828267965953, 'Sport': 0.005156444743054552, 'Recreation': 0.005015695257051734, 'Literature': 0.004466058286601368, 'Music': 0.003878700801776228, 'Theatre': 0.003426734710181336, 'Crime': 0.002219379580863331, 'Health': 0.002151645031881193, 'War': 0.0010816651598590174}\n",
      "Animalia (book)\n",
      "{'Fitness': 0.029245665129850856, 'Culture': 0.02872952331585248, 'Life': 0.02210216057186985, 'Music': 0.021583292832577677, 'Medicine': 0.02109316399524565, 'Film': 0.020711399784959464, 'Earth': 0.019055677846717894, 'Sport': 0.018115259438072982, 'Dance': 0.01750753839965355, 'Sculpture': 0.016938193615545945, 'Painting': 0.015501185834964602, 'Games': 0.015456632997593976, 'War': 0.014254911299784618, 'Geography': 0.013149320455426541, 'Education': 0.012689977453632656, 'Internet': 0.011937056108510358, 'Health': 0.01102740460366182, 'Media': 0.010346341127856953, 'Food': 0.010261429922021368, 'History': 0.009907428523764136, 'Crime': 0.009792348364694815, 'Literature': 0.00972465556684399, 'Art': 0.0077846754911361565, 'Recreation': 0.007288634910354086, 'Theatre': 0.007226975574735589, 'Exercise': 0.0071573540610416885, 'Language': 0.006527731368113168}\n",
      "International Atomic Time\n",
      "{'Life': 0.0443749006184022, 'Games': 0.030520912292089992, 'Fitness': 0.030298795167193273, 'Media': 0.029055037496001444, 'Health': 0.026512755203308886, 'Food': 0.026428569751441398, 'Internet': 0.02614510986621542, 'Painting': 0.025834237811948817, 'Geography': 0.024874571104020027, 'Dance': 0.024597686295023354, 'Film': 0.022445033508753855, 'Sport': 0.020966111433013693, 'History': 0.020503171554534794, 'Art': 0.020472416243223764, 'Music': 0.019349799463061604, 'Crime': 0.018687597770130016, 'Medicine': 0.018421287703503982, 'Language': 0.015802799342852673, 'Theatre': 0.015246804118449333, 'Earth': 0.014168250436786904, 'Culture': 0.01334300468993954, 'War': 0.013206995543795291, 'Literature': 0.011712475248641826, 'Education': 0.011251557308622954, 'Recreation': 0.011122893205722772, 'Sculpture': 0.010665264565955896, 'Exercise': 0.00890385174014328}\n",
      "Altruism\n",
      "{'Fitness': 0.04870628181764687, 'Architecture': 0.0438999336782139, 'Media': 0.04300734730299059, 'Earth': 0.037734216922059347, 'History': 0.03401305695768671, 'Games': 0.031061564422702848, 'Crime': 0.02889983038684456, 'Internet': 0.028405919039315806, 'Language': 0.025449670445164326, 'Geography': 0.024017939425368506, 'Life': 0.023823073751350676, 'War': 0.023650205581864585, 'Dance': 0.023333118197935238, 'Medicine': 0.023172948884809058, 'Sport': 0.023032623350240127, 'Film': 0.021270245886357987, 'Food': 0.019242977307684175, 'Culture': 0.018520728995921245, 'Health': 0.018219682728456293, 'Painting': 0.01571831211716928, 'Music': 0.014533030420115082, 'Sculpture': 0.013268487948359735, 'Theatre': 0.012238119085140232, 'Art': 0.010457981727652664, 'Recreation': 0.009212183235684299, 'Exercise': 0.008163860302817707, 'Literature': 0.007057086906358433, 'Education': 0.0066498344211147285}\n",
      "Ayn Rand\n",
      "{'Language': 0.05373010176272773, 'Earth': 0.04741742647278565, 'Fitness': 0.04547884903627388, 'History': 0.0433203081862826, 'Sculpture': 0.03884816313879452, 'Media': 0.03768110689314669, 'Medicine': 0.035681313292546396, 'Film': 0.03546600983502611, 'Culture': 0.03537948036584509, 'War': 0.0306612350653042, 'Geography': 0.029890484717083447, 'Life': 0.027383301780843076, 'Internet': 0.0266992686574145, 'Dance': 0.025215395291668614, 'Art': 0.023780943021166102, 'Games': 0.023001464369527113, 'Painting': 0.022798091781304153, 'Crime': 0.0218636282938327, 'Exercise': 0.021491086687491175, 'Recreation': 0.019986215036948935, 'Health': 0.019424421206442746, 'Theatre': 0.018687301189835935, 'Sport': 0.017720369251946148, 'Literature': 0.01725870588358647, 'Food': 0.016709722514546967, 'Education': 0.015979516520559643, 'Music': 0.013954087045111363}\n",
      "Alain Connes\n",
      "{'Fitness': 0.08890967184737598, 'Sport': 0.07752705487112321, 'Sculpture': 0.038678197365515726, 'Food': 0.02883223784885112, 'Dance': 0.025132967619873502, 'Film': 0.021232702519622036, 'Media': 0.020245722377075136, 'Life': 0.018712104251889187, 'Health': 0.016611424894582155, 'Medicine': 0.012299144637056275, 'History': 0.012121147020424867, 'Games': 0.012039184222750248, 'Internet': 0.011641609283038729, 'Geography': 0.011087329438298599, 'Art': 0.010522195499223166, 'Crime': 0.0104690013974728, 'Earth': 0.009673305990678843, 'Culture': 0.009576123309644852, 'Education': 0.009132435167535738, 'Language': 0.007996211147897683, 'War': 0.006824476838824624, 'Theatre': 0.006462382810383299, 'Painting': 0.006272671493006328, 'Music': 0.006186895859844735, 'Literature': 0.005198831186679595, 'Recreation': 0.004671786151296223, 'Exercise': 0.0027987909139060557}\n",
      "Allan Dwan\n",
      "{'Education': 0.04467043387040902, 'Medicine': 0.012823223974216395, 'Exercise': 0.012291074919563775, 'Life': 0.011851235394312399, 'Internet': 0.01052112355342197, 'Culture': 0.010335493108894664, 'Language': 0.009761939155505356, 'Crime': 0.009697169196288559, 'History': 0.009497607884187199, 'Health': 0.009137351561093658, 'Film': 0.008998499233337781, 'Painting': 0.008983152953702384, 'Music': 0.008553977431840798, 'Fitness': 0.008390046648284298, 'Media': 0.008226596253854909, 'Earth': 0.008089786511131746, 'Games': 0.007973699061612771, 'Theatre': 0.00790037183486823, 'Recreation': 0.007888840390997012, 'Sculpture': 0.006885673199695632, 'Art': 0.00563004612001689, 'Dance': 0.005594890364002081, 'Food': 0.00543243256039042, 'Geography': 0.0053128510554381675, 'War': 0.005270887859631806, 'Sport': 0.005112762615838525, 'Literature': 0.004902979900810686}\n",
      "Algeria\n",
      "{'Education': 0.06708914253406066, 'Sculpture': 0.05586308548450632, 'Medicine': 0.05124180241858376, 'Recreation': 0.03369420574377319, 'Earth': 0.033533249153193126, 'History': 0.028677896975490613, 'Film': 0.02741523258378315, 'Media': 0.02668365200385803, 'Internet': 0.025548394532817882, 'Fitness': 0.02546428891835576, 'Exercise': 0.024833599172761935, 'Language': 0.02235919023981064, 'War': 0.020542388719863896, 'Painting': 0.019458874335466295, 'Dance': 0.018895136411260866, 'Life': 0.01854852381839174, 'Health': 0.018244680718924378, 'Crime': 0.017596622514408213, 'Sport': 0.016532141046814986, 'Geography': 0.016310558749874273, 'Games': 0.01609168308272729, 'Theatre': 0.016017547058762634, 'Culture': 0.015332396071268798, 'Literature': 0.01346680463194669, 'Food': 0.011565659279836243, 'Art': 0.01135538314511805, 'Music': 0.008317836213949117}\n",
      "List of Atlas Shrugged characters\n",
      "{'Exercise': 0.03166990031176135, 'Language': 0.017576725067259956, 'Media': 0.017448800264084515, 'Fitness': 0.011954922473365463, 'Earth': 0.01161471649607115, 'Film': 0.009681379956362897, 'Medicine': 0.009386035867972806, 'History': 0.009169822590534272, 'Life': 0.008911293349234815, 'War': 0.00842032697348104, 'Geography': 0.007659837574525842, 'Games': 0.0071771807800468344, 'Crime': 0.006880877165006919, 'Sculpture': 0.006694303666182689, 'Culture': 0.0066823919715567745, 'Painting': 0.006521049320430441, 'Dance': 0.006486815180541301, 'Literature': 0.0061317696774530125, 'Health': 0.0059705195692915545, 'Internet': 0.005709025780200008, 'Art': 0.005656660062738975, 'Sport': 0.005165156341703789, 'Recreation': 0.005063929268528371, 'Theatre': 0.0039024042450865235, 'Music': 0.003058518685770088, 'Education': 0.0025350110744822747, 'Food': 0.0016309054987250385}\n",
      "Anthropology\n",
      "{'History': 0.1305176906926215, 'Sculpture': 0.0777308275578664, 'Fitness': 0.06680805019270265, 'Earth': 0.06181682745212282, 'Life': 0.05851104041415746, 'Media': 0.05002447745570039, 'Medicine': 0.04883577632201808, 'Culture': 0.0423363289413496, 'Internet': 0.039144914897256376, 'Film': 0.03877112285815789, 'Education': 0.038435066881279074, 'Games': 0.036200046615571184, 'Exercise': 0.03556727222915078, 'Theatre': 0.03458353380943497, 'Crime': 0.03427736989096159, 'Dance': 0.033785783019890915, 'Recreation': 0.03228015070006496, 'Sport': 0.03188998019740529, 'Language': 0.03180346822944499, 'Geography': 0.03061785593558929, 'War': 0.02887866278992993, 'Food': 0.027372967054465704, 'Literature': 0.026852106655151545, 'Health': 0.026731684085204675, 'Art': 0.022381173819312896, 'Painting': 0.020274026880199917, 'Music': 0.0191884683211229}\n",
      "Agricultural science\n",
      "{'Theatre': 0.1653418408995153, 'Health': 0.10991347665417298, 'Earth': 0.10108038559555683, 'History': 0.08023085643373064, 'Fitness': 0.06697763237879942, 'Media': 0.06645569160415583, 'Film': 0.03483015544870386, 'Dance': 0.03011737732780769, 'Internet': 0.026699118087759544, 'Sport': 0.02615578735165306, 'War': 0.024703978575056684, 'Life': 0.024148277167677024, 'Food': 0.024046531217812965, 'Crime': 0.01762218343901846, 'Games': 0.01445929147607261, 'Culture': 0.01406070114309627, 'Medicine': 0.012593484020846785, 'Education': 0.012524386832592646, 'Painting': 0.012186278669202119, 'Music': 0.010831835065378895, 'Art': 0.010774978193202799, 'Language': 0.01072995525694824, 'Recreation': 0.00989102307383092, 'Sculpture': 0.008929178538136148, 'Exercise': 0.007828720903098297, 'Geography': 0.007409664234435055, 'Literature': 0.00582289762211594}\n",
      "Alchemy\n",
      "{'Media': 0.1197279274247423, 'Fitness': 0.10242683640954071, 'Sculpture': 0.06518926549887448, 'Exercise': 0.06427748444450704, 'Internet': 0.06315339768513, 'Earth': 0.0625978212847569, 'Art': 0.0555930609936146, 'Life': 0.054359540828954694, 'Games': 0.04941602153461738, 'Dance': 0.04700202868118644, 'Sport': 0.03531311536328874, 'Recreation': 0.033772880067328835, 'Culture': 0.03123413935349, 'Film': 0.02853406506569774, 'History': 0.024980910865781542, 'Medicine': 0.02326480080089791, 'War': 0.023101245224705958, 'Food': 0.021933324087788548, 'Literature': 0.020958708972922173, 'Health': 0.02078945906583252, 'Geography': 0.020100586698539074, 'Music': 0.019595095409068355, 'Language': 0.01783503014775977, 'Theatre': 0.017147756687316947, 'Crime': 0.016979381332266192, 'Painting': 0.015156829527611796, 'Education': 0.01272519712237494}\n",
      "Alien\n",
      "{'Exercise': 0.03507198425866324, 'Recreation': 0.02939046156552915, 'War': 0.028045364431397733, 'Architecture': 0.026810200359867302, 'Games': 0.026800011218711745, 'Internet': 0.023460391568287987, 'Fitness': 0.02322251630176087, 'Culture': 0.021852245877865214, 'Sport': 0.021105254455075485, 'Life': 0.020956486835482555, 'Sculpture': 0.020597867090734665, 'Earth': 0.02034250435232499, 'Education': 0.01949185236041375, 'Geography': 0.01821668489453929, 'Medicine': 0.0178338907397958, 'Art': 0.017310557563630792, 'Language': 0.016557603755965482, 'Dance': 0.016053971313631267, 'Literature': 0.015390406173708885, 'Painting': 0.015024209351893891, 'Music': 0.013777596137361235, 'Media': 0.013098034395768938, 'Health': 0.013003426761567162, 'History': 0.012139151604024607, 'Crime': 0.011550385158009501, 'Food': 0.01049643014527948, 'Film': 0.009836018804491793, 'Theatre': 0.009330846388512035}\n",
      "Astronomer\n",
      "{'Fitness': 0.06922872968507396, 'Internet': 0.03139319341601619, 'Media': 0.030119319102470978, 'Games': 0.02602983512661743, 'Art': 0.025936686191128204, 'Sport': 0.023248320290235748, 'Health': 0.02269919140130253, 'History': 0.020594158467620312, 'Dance': 0.01877838036883804, 'Food': 0.014496721520346836, 'War': 0.014433736517844357, 'Life': 0.014071271923106487, 'Education': 0.012982779946502378, 'Earth': 0.012582322357952739, 'Culture': 0.010798936556973577, 'Medicine': 0.00916215204043347, 'Sculpture': 0.008941453064354583, 'Film': 0.008838080923584379, 'Recreation': 0.008338083571923068, 'Crime': 0.006517811251542499, 'Music': 0.006059760197507159, 'Language': 0.0056193887710653334, 'Painting': 0.005376749415555966, 'Exercise': 0.004727844523364436, 'Geography': 0.0036809164252801516, 'Literature': 0.0035770488534918442, 'Theatre': 0.0029930634225536603}\n",
      "ASCII\n",
      "{'Food': 0.14593337402889248, 'Sculpture': 0.12627661532709764, 'Painting': 0.09391409970264004, 'Dance': 0.08604976596113535, 'Fitness': 0.08256989962372688, 'Sport': 0.08227848780936486, 'Music': 0.08016657884204544, 'Health': 0.07928035018388777, 'Art': 0.07643499202941176, 'Culture': 0.06937805174808646, 'Life': 0.06784368284782205, 'Earth': 0.06620540241633852, 'Medicine': 0.06507039548900002, 'Games': 0.06388716032686137, 'Internet': 0.05989813631398973, 'Film': 0.058843242115103306, 'Language': 0.057440215551100876, 'War': 0.05648387599448162, 'Media': 0.05391951896855448, 'Crime': 0.051378331868410065, 'Geography': 0.050941927535186615, 'Exercise': 0.050230643823095895, 'Literature': 0.049352256572553196, 'Recreation': 0.0489753554649044, 'Theatre': 0.046847969282759735, 'History': 0.04496943659033395, 'Education': 0.025552510013526413, 'Architecture': 0.01790690718660904}\n",
      "Austin (disambiguation)\n",
      "{'Recreation': 0.050308460721364856, 'Sculpture': 0.049813409992803453, 'Fitness': 0.04324069170135858, 'War': 0.03880335271617133, 'Sport': 0.03831856061701183, 'Culture': 0.03522598801616404, 'Earth': 0.03365291671034572, 'Art': 0.03151116544834531, 'Music': 0.030140300208252285, 'Life': 0.029814046799644018, 'Language': 0.029496463890899875, 'Games': 0.028709599701975844, 'Literature': 0.027993755873981604, 'Dance': 0.02776270759467434, 'Medicine': 0.025523662442448653, 'Exercise': 0.02331392091490569, 'Media': 0.022132609007837062, 'Health': 0.02133978675824179, 'History': 0.02093295157864143, 'Crime': 0.019776940175694386, 'Geography': 0.0197376439396199, 'Painting': 0.01920662076748021, 'Food': 0.01912529702415442, 'Internet': 0.016720603968781392, 'Film': 0.01642414366855044, 'Theatre': 0.015618898636273363}\n",
      "Animation\n",
      "{'Exercise': 0.05059470432169805, 'Food': 0.040136484423119144, 'Education': 0.03594614670018323, 'Medicine': 0.03233043476980437, 'Geography': 0.03013741877571302, 'Internet': 0.029596689495288462, 'Theatre': 0.02105952726648936, 'Culture': 0.019998954871909537, 'History': 0.019813873909769162, 'Music': 0.018546153631913573, 'Life': 0.017560153490924935, 'Media': 0.01692001859014322, 'Painting': 0.01617385685769728, 'Dance': 0.015999807874378862, 'Games': 0.015461258258961382, 'Language': 0.013672538249870867, 'Sculpture': 0.01268616224933427, 'Sport': 0.012392685691946787, 'Fitness': 0.012380733983585196, 'Art': 0.012327807661045102, 'Health': 0.01229534239197494, 'Recreation': 0.011733050392756158, 'Film': 0.010869321737201476, 'Earth': 0.010696099467787264, 'War': 0.010237909210760484, 'Literature': 0.00931326031168741, 'Crime': 0.00828654740503482, 'Architecture': 0.00442373949038597}\n",
      "Apollo\n",
      "{'Earth': 0.0651557104158204, 'Exercise': 0.04855255781538288, 'Sculpture': 0.045134256032517514, 'Culture': 0.024935123313762304, 'Life': 0.02057515583134431, 'Fitness': 0.019550199658203236, 'Internet': 0.017626926769124952, 'Art': 0.017294367174790902, 'Media': 0.016113517073282006, 'Language': 0.015883013991788743, 'War': 0.015551602681729382, 'Recreation': 0.0144758027898894, 'Sport': 0.012944159888665568, 'Dance': 0.012900172993502363, 'Medicine': 0.012334115410461357, 'History': 0.011891497107943922, 'Education': 0.011674189296116414, 'Games': 0.01054514983311521, 'Film': 0.007993335013138396, 'Geography': 0.007865016341335117, 'Literature': 0.007503965725233466, 'Theatre': 0.006075353682193001, 'Food': 0.005548534494577702, 'Music': 0.005002396619327778, 'Health': 0.0043914995587015105, 'Crime': 0.0042500288488837796, 'Painting': 0.003739606338154417}\n"
     ]
    },
    {
     "name": "stdout",
     "output_type": "stream",
     "text": [
      "Andre Agassi\n",
      "{'History': 0.030308603991457895, 'Sculpture': 0.028145206474875943, 'Culture': 0.023672894379247137, 'Film': 0.02356806135920569, 'Geography': 0.02320421349164917, 'Painting': 0.02305220168066994, 'Medicine': 0.022514716270426133, 'Fitness': 0.02169978178193662, 'Earth': 0.020779975788907043, 'Food': 0.01815939735398965, 'Exercise': 0.0168629852298678, 'Recreation': 0.016685940145354097, 'Crime': 0.016514344911032663, 'Language': 0.01644092324532501, 'Internet': 0.015330794545304862, 'Games': 0.0153035552989865, 'Life': 0.01486302252894969, 'Media': 0.014767367080669908, 'Sport': 0.014415782769178011, 'Dance': 0.01367381990046725, 'War': 0.01322897190513676, 'Art': 0.013075080175810804, 'Health': 0.012122100327839525, 'Music': 0.011675382593045383, 'Literature': 0.011121387186636102, 'Education': 0.010335745352183219, 'Theatre': 0.010038530816272642, 'Architecture': 0.0032845475746463232}\n"
     ]
    }
   ],
   "source": [
    "for art in articles_test:\n",
    "    art['anchor_sims_text'] = tfdif_test_cosine(' '.join(art.get('anchors_tokens')), vectorizer_wiki3, trained_model_wiki3)\n",
    "    art['anchor_sims_text'] = {k: v for k, v in sorted(art.get('anchor_sims_text').items(), key = lambda item: item[1], reverse=True)}    \n",
    "    print(art.get('title'))\n",
    "    print(art.get('anchor_sims_text'))"
   ]
  },
  {
   "cell_type": "markdown",
   "metadata": {},
   "source": [
    "### Kategorie Wiki - kosinusova podobnost"
   ]
  },
  {
   "cell_type": "code",
   "execution_count": 139,
   "metadata": {},
   "outputs": [
    {
     "name": "stdout",
     "output_type": "stream",
     "text": [
      "Anarchism\n",
      "{'Earth': 0.07244911022677851, 'History': 0.06700589993343714, 'Medicine': 0.05714992036223981, 'Language': 0.05355468495119101, 'Film': 0.04890920237097767, 'Fitness': 0.04139444246229392, 'War': 0.03825578079125836, 'Health': 0.03587335537628782, 'Media': 0.03208074024430446, 'Culture': 0.030875891552559164, 'Life': 0.029800582617354285, 'Education': 0.027006592809053043, 'Internet': 0.024166673530668835, 'Sport': 0.022914222787118445, 'Crime': 0.0221760342602772, 'Geography': 0.02193233462149937, 'Dance': 0.02133418194400668, 'Exercise': 0.021286249582868833, 'Sculpture': 0.02074728769975692, 'Painting': 0.020670919688639114, 'Theatre': 0.020064317849952683, 'Literature': 0.018524342217998507, 'Games': 0.017923024019223268, 'Food': 0.01623841074336768, 'Recreation': 0.013805809269872623, 'Music': 0.011387356496594418, 'Art': 0.009886175700932328}\n",
      "Autism\n",
      "{'Media': 0.10393937988900835, 'Crime': 0.05878668975014259, 'Sculpture': 0.04480115784310468, 'Health': 0.03962452758501084, 'Theatre': 0.03629570902038478, 'Culture': 0.03577373625843628, 'Film': 0.03048284195440447, 'War': 0.028219026982403462, 'History': 0.02746054670789427, 'Fitness': 0.02745866987477909, 'Games': 0.025046105347704583, 'Earth': 0.02271634056383591, 'Recreation': 0.02157220803979309, 'Life': 0.02135080834384899, 'Medicine': 0.021111546075701194, 'Sport': 0.01927517930672845, 'Dance': 0.01895142782543371, 'Geography': 0.01826175860542437, 'Literature': 0.017673817475461987, 'Language': 0.017507173972999245, 'Music': 0.017406501003003436, 'Internet': 0.016043058502334295, 'Food': 0.015864985306111003, 'Exercise': 0.01483550362105554, 'Painting': 0.014453345704297113, 'Art': 0.013161711060572267, 'Education': 0.006709562607467068}\n",
      "Albedo\n",
      "{'Internet': 0.03949908461832263, 'Art': 0.03732570133523328, 'Fitness': 0.018038582104805006, 'Food': 0.01691478277946422, 'Games': 0.015057017179494269, 'Music': 0.014844089912402353, 'Sport': 0.00985256302357635, 'Life': 0.009663897824816992, 'Film': 0.00901042083591465, 'Language': 0.008885147847124351, 'Sculpture': 0.008705722730741303, 'Geography': 0.00796850625483201, 'Dance': 0.007798075800974655, 'Painting': 0.007256921058412468, 'History': 0.006923820193695666, 'Exercise': 0.006836072634840212, 'Media': 0.006820637010113809, 'War': 0.0068001400516449935, 'Theatre': 0.006343004052021445, 'Crime': 0.00593098677602492, 'Earth': 0.005004497392749004, 'Culture': 0.004913509592388231, 'Health': 0.004873673195349473, 'Education': 0.004847531562391694, 'Medicine': 0.00435493184835522, 'Literature': 0.0030961275657721055, 'Recreation': 0.002145255836350267}\n",
      "A\n",
      "{'Sculpture': 0.10215657427333884, 'Art': 0.03265145885426011, 'Culture': 0.03104546165703419, 'Fitness': 0.029767212180221467, 'Sport': 0.02840042214567767, 'Earth': 0.02787802611052828, 'Media': 0.026504333251262224, 'Film': 0.025842232861297526, 'Dance': 0.025782274350578168, 'Medicine': 0.02427772213509704, 'Games': 0.023488636127533883, 'Exercise': 0.023114022673367745, 'Language': 0.0229400165693119, 'Life': 0.022742531735822125, 'Internet': 0.0220278014135804, 'Geography': 0.021943088722845776, 'Painting': 0.02187341834442016, 'Food': 0.01956885893338226, 'Health': 0.019264544343056675, 'Theatre': 0.01757251069876555, 'War': 0.01739330535094383, 'Literature': 0.01703481421855539, 'Crime': 0.015924148839120196, 'Recreation': 0.015646602158983832, 'Music': 0.015432985776550131, 'History': 0.012873525023989996, 'Education': 0.008645937959100826}\n",
      "Alabama\n",
      "{'Painting': 0.039612266538989714, 'Language': 0.03720859920755641, 'Crime': 0.03609781904432674, 'Sculpture': 0.03426714624984274, 'Medicine': 0.033962006272217786, 'History': 0.03223256426351328, 'Internet': 0.031346098868186706, 'Media': 0.03029455491904226, 'Film': 0.0292305130355733, 'Exercise': 0.028191966831999978, 'Health': 0.02801889273477217, 'Earth': 0.02504420647183963, 'Geography': 0.02486624117399308, 'Fitness': 0.024444785365719337, 'Life': 0.022839751912020596, 'War': 0.019696815401749505, 'Dance': 0.019626342678502953, 'Art': 0.01955862718305659, 'Culture': 0.019124386247411432, 'Theatre': 0.019100807667951438, 'Music': 0.018317347088131982, 'Games': 0.01692599176421063, 'Education': 0.016546171431160047, 'Sport': 0.016196806782426673, 'Literature': 0.013785188660182803, 'Recreation': 0.013358217440147317, 'Food': 0.011059804948473338}\n",
      "Achilles\n",
      "{'Exercise': 0.045276319439375115, 'Sculpture': 0.04326576887869106, 'Culture': 0.03688017127513285, 'Internet': 0.033508909466807804, 'Earth': 0.028883059009400556, 'Fitness': 0.022586982144190883, 'Geography': 0.022362629141059073, 'Media': 0.02077930111012172, 'Education': 0.017961236403309908, 'Language': 0.017644876915660933, 'Dance': 0.017324331911815177, 'Recreation': 0.015225528094856293, 'Life': 0.014984248346494677, 'Sport': 0.014755010492286998, 'Games': 0.013846285017838867, 'Literature': 0.013486528037415159, 'Medicine': 0.01288011225501308, 'Art': 0.011591342136980843, 'War': 0.011356369927655872, 'Film': 0.010970839736808317, 'History': 0.010769438164032476, 'Food': 0.009240751722548025, 'Painting': 0.008607469044488482, 'Theatre': 0.00826923009001197, 'Crime': 0.008121228280124335, 'Health': 0.0077367325463222145, 'Music': 0.006662385678314694}\n",
      "Abraham Lincoln\n",
      "{'Medicine': 0.09454957969516975, 'Language': 0.07223537545597698, 'History': 0.04991534692416167, 'Fitness': 0.04617956506101241, 'Media': 0.043192468373321545, 'Earth': 0.041731748711148486, 'Film': 0.03693506660055052, 'Exercise': 0.036712098563881225, 'War': 0.035699340653527374, 'Sculpture': 0.03541463203559815, 'Painting': 0.0345771874356495, 'Life': 0.03264313186660222, 'Literature': 0.031210383562916135, 'Dance': 0.030771142418599934, 'Culture': 0.029644490463688347, 'Geography': 0.02820955626272203, 'Games': 0.02698605647306843, 'Crime': 0.0267360889749511, 'Internet': 0.02613589180722061, 'Health': 0.025200803479618873, 'Art': 0.025132987108098914, 'Theatre': 0.024231075122333245, 'Recreation': 0.023959193688628234, 'Music': 0.02206241577806891, 'Education': 0.021642955355123297, 'Sport': 0.021266240562205066, 'Food': 0.017290851918957677}\n",
      "Aristotle\n",
      "{'Fitness': 0.08526120440612887, 'Exercise': 0.07970453453792, 'Internet': 0.07413519603421041, 'Games': 0.06933273497773003, 'Art': 0.06267219846549042, 'Culture': 0.058605507281895564, 'Sport': 0.05135242706658069, 'Dance': 0.04233942247101167, 'Sculpture': 0.03991668783081217, 'Recreation': 0.0389426444515946, 'Media': 0.03863807542631451, 'Film': 0.038012512210702946, 'Language': 0.03753587649125848, 'Life': 0.03748162251769047, 'War': 0.03678832866217521, 'Earth': 0.03677670169791975, 'History': 0.03458817161020911, 'Medicine': 0.03361433242334191, 'Geography': 0.030696802869797757, 'Health': 0.02912115875791691, 'Literature': 0.028489345117638284, 'Crime': 0.027491142249066396, 'Music': 0.026741152597820873, 'Theatre': 0.025037620334739386, 'Food': 0.024046852313675197, 'Painting': 0.020658424086730333, 'Architecture': 0.015049356543508054, 'Education': 0.01474168585622036}\n",
      "An American in Paris\n",
      "{'Recreation': 0.1463359786252008, 'Literature': 0.02855929240676923, 'Fitness': 0.023266520111024074, 'Culture': 0.011582310376553133, 'Exercise': 0.011308083024583419, 'Geography': 0.010351413761041914, 'Dance': 0.009779673353171453, 'Life': 0.008542710717444823, 'Earth': 0.008425658027470894, 'Media': 0.00782622684244475, 'Language': 0.007582555396870161, 'Food': 0.007550897137740313, 'Sport': 0.007082603962034197, 'Internet': 0.006843921163225619, 'Sculpture': 0.0063067245414277434, 'Painting': 0.005733003000922637, 'War': 0.005381838533163317, 'Film': 0.005070683426622248, 'Health': 0.004935791522067179, 'History': 0.004836421812350991, 'Art': 0.004683426408215001, 'Crime': 0.004587364143807698, 'Games': 0.004353033006464365, 'Medicine': 0.004351577047971619, 'Education': 0.0042858171395632975, 'Theatre': 0.0030329654480174004, 'Music': 0.002319563419450995}\n",
      "Academy Award for Best Production Design\n",
      "{'Culture': 0.06591997719171125, 'Exercise': 0.03601497903929737, 'Education': 0.03402338159067012, 'Recreation': 0.019488024887233724, 'Fitness': 0.018417279191300213, 'Medicine': 0.016106004171998284, 'Dance': 0.015210746837648682, 'Film': 0.014369053939085743, 'Sport': 0.013585315013732408, 'Life': 0.013292133311683885, 'Language': 0.013216511931928078, 'Literature': 0.012305407566834585, 'Geography': 0.012192604167591435, 'Media': 0.011596869358069528, 'Earth': 0.011144236935965912, 'Games': 0.011009812866925478, 'Art': 0.01083664470796275, 'Internet': 0.010532198515632684, 'History': 0.010115535743068104, 'Painting': 0.009699660144503817, 'Theatre': 0.008847837581378472, 'Food': 0.008300251378167712, 'Health': 0.007631138439638722, 'Sculpture': 0.0073205754202440914, 'War': 0.0072660656053515375, 'Music': 0.006845409891699066, 'Crime': 0.005497648834919735}\n",
      "Academy Awards\n",
      "{'Recreation': 0.03065986256653517, 'Fitness': 0.03032212789030519, 'Literature': 0.027393576787055663, 'Education': 0.020786801588149068, 'Dance': 0.020218930982660168, 'Sport': 0.01863668750195484, 'History': 0.015649920341008195, 'Film': 0.015515671429563303, 'Geography': 0.012889219597451294, 'Exercise': 0.011565760186289381, 'Culture': 0.010983299534388077, 'Sculpture': 0.010647297675564835, 'Games': 0.010405229438739448, 'Internet': 0.010224187363172198, 'Painting': 0.01018736727434793, 'Life': 0.01010264291119217, 'Media': 0.00958874359117191, 'Earth': 0.009341782336085416, 'Theatre': 0.009337864451661656, 'Medicine': 0.00921212188381564, 'Art': 0.008174160863813668, 'War': 0.00806285651086996, 'Language': 0.007666392547735982, 'Music': 0.0075554582693304504, 'Food': 0.006802662768843342, 'Health': 0.006761905044724165, 'Crime': 0.005944717674120663}\n",
      "Actrius\n",
      "{'Sculpture': 0.19857670260394703, 'Dance': 0.021157553118200213, 'Life': 0.020787716483807176, 'Food': 0.017976939632010205, 'History': 0.01595515274554972, 'Painting': 0.011578145376844491, 'Media': 0.011456131239801421, 'Culture': 0.011116217593129826, 'Film': 0.010357877924569403, 'Earth': 0.009388930425797002, 'Games': 0.008362807393593371, 'Exercise': 0.008062223455337015, 'Fitness': 0.007961755558200272, 'Language': 0.0070220963336550665, 'Geography': 0.006935753578826431, 'Medicine': 0.005816981958507796, 'Art': 0.005391815434140815, 'Internet': 0.005370828267965953, 'Sport': 0.005156444743054552, 'Recreation': 0.005015695257051734, 'Literature': 0.004466058286601368, 'Music': 0.003878700801776228, 'Theatre': 0.003426734710181336, 'Crime': 0.002219379580863331, 'Health': 0.002151645031881193, 'War': 0.0010816651598590174}\n",
      "Animalia (book)\n",
      "{'Fitness': 0.029245665129850856, 'Culture': 0.02872952331585248, 'Life': 0.02210216057186985, 'Music': 0.021583292832577677, 'Medicine': 0.02109316399524565, 'Film': 0.020711399784959464, 'Earth': 0.019055677846717894, 'Sport': 0.018115259438072982, 'Dance': 0.01750753839965355, 'Sculpture': 0.016938193615545945, 'Painting': 0.015501185834964602, 'Games': 0.015456632997593976, 'War': 0.014254911299784618, 'Geography': 0.013149320455426541, 'Education': 0.012689977453632656, 'Internet': 0.011937056108510358, 'Health': 0.01102740460366182, 'Media': 0.010346341127856953, 'Food': 0.010261429922021368, 'History': 0.009907428523764136, 'Crime': 0.009792348364694815, 'Literature': 0.00972465556684399, 'Art': 0.0077846754911361565, 'Recreation': 0.007288634910354086, 'Theatre': 0.007226975574735589, 'Exercise': 0.0071573540610416885, 'Language': 0.006527731368113168}\n",
      "International Atomic Time\n",
      "{'Life': 0.0443749006184022, 'Games': 0.030520912292089992, 'Fitness': 0.030298795167193273, 'Media': 0.029055037496001444, 'Health': 0.026512755203308886, 'Food': 0.026428569751441398, 'Internet': 0.02614510986621542, 'Painting': 0.025834237811948817, 'Geography': 0.024874571104020027, 'Dance': 0.024597686295023354, 'Film': 0.022445033508753855, 'Sport': 0.020966111433013693, 'History': 0.020503171554534794, 'Art': 0.020472416243223764, 'Music': 0.019349799463061604, 'Crime': 0.018687597770130016, 'Medicine': 0.018421287703503982, 'Language': 0.015802799342852673, 'Theatre': 0.015246804118449333, 'Earth': 0.014168250436786904, 'Culture': 0.01334300468993954, 'War': 0.013206995543795291, 'Literature': 0.011712475248641826, 'Education': 0.011251557308622954, 'Recreation': 0.011122893205722772, 'Sculpture': 0.010665264565955896, 'Exercise': 0.00890385174014328}\n",
      "Altruism\n",
      "{'Fitness': 0.04870628181764687, 'Architecture': 0.0438999336782139, 'Media': 0.04300734730299059, 'Earth': 0.037734216922059347, 'History': 0.03401305695768671, 'Games': 0.031061564422702848, 'Crime': 0.02889983038684456, 'Internet': 0.028405919039315806, 'Language': 0.025449670445164326, 'Geography': 0.024017939425368506, 'Life': 0.023823073751350676, 'War': 0.023650205581864585, 'Dance': 0.023333118197935238, 'Medicine': 0.023172948884809058, 'Sport': 0.023032623350240127, 'Film': 0.021270245886357987, 'Food': 0.019242977307684175, 'Culture': 0.018520728995921245, 'Health': 0.018219682728456293, 'Painting': 0.01571831211716928, 'Music': 0.014533030420115082, 'Sculpture': 0.013268487948359735, 'Theatre': 0.012238119085140232, 'Art': 0.010457981727652664, 'Recreation': 0.009212183235684299, 'Exercise': 0.008163860302817707, 'Literature': 0.007057086906358433, 'Education': 0.0066498344211147285}\n",
      "Ayn Rand\n",
      "{'Language': 0.05373010176272773, 'Earth': 0.04741742647278565, 'Fitness': 0.04547884903627388, 'History': 0.0433203081862826, 'Sculpture': 0.03884816313879452, 'Media': 0.03768110689314669, 'Medicine': 0.035681313292546396, 'Film': 0.03546600983502611, 'Culture': 0.03537948036584509, 'War': 0.0306612350653042, 'Geography': 0.029890484717083447, 'Life': 0.027383301780843076, 'Internet': 0.0266992686574145, 'Dance': 0.025215395291668614, 'Art': 0.023780943021166102, 'Games': 0.023001464369527113, 'Painting': 0.022798091781304153, 'Crime': 0.0218636282938327, 'Exercise': 0.021491086687491175, 'Recreation': 0.019986215036948935, 'Health': 0.019424421206442746, 'Theatre': 0.018687301189835935, 'Sport': 0.017720369251946148, 'Literature': 0.01725870588358647, 'Food': 0.016709722514546967, 'Education': 0.015979516520559643, 'Music': 0.013954087045111363}\n",
      "Alain Connes\n",
      "{'Fitness': 0.08890967184737598, 'Sport': 0.07752705487112321, 'Sculpture': 0.038678197365515726, 'Food': 0.02883223784885112, 'Dance': 0.025132967619873502, 'Film': 0.021232702519622036, 'Media': 0.020245722377075136, 'Life': 0.018712104251889187, 'Health': 0.016611424894582155, 'Medicine': 0.012299144637056275, 'History': 0.012121147020424867, 'Games': 0.012039184222750248, 'Internet': 0.011641609283038729, 'Geography': 0.011087329438298599, 'Art': 0.010522195499223166, 'Crime': 0.0104690013974728, 'Earth': 0.009673305990678843, 'Culture': 0.009576123309644852, 'Education': 0.009132435167535738, 'Language': 0.007996211147897683, 'War': 0.006824476838824624, 'Theatre': 0.006462382810383299, 'Painting': 0.006272671493006328, 'Music': 0.006186895859844735, 'Literature': 0.005198831186679595, 'Recreation': 0.004671786151296223, 'Exercise': 0.0027987909139060557}\n",
      "Allan Dwan\n",
      "{'Education': 0.04467043387040902, 'Medicine': 0.012823223974216395, 'Exercise': 0.012291074919563775, 'Life': 0.011851235394312399, 'Internet': 0.01052112355342197, 'Culture': 0.010335493108894664, 'Language': 0.009761939155505356, 'Crime': 0.009697169196288559, 'History': 0.009497607884187199, 'Health': 0.009137351561093658, 'Film': 0.008998499233337781, 'Painting': 0.008983152953702384, 'Music': 0.008553977431840798, 'Fitness': 0.008390046648284298, 'Media': 0.008226596253854909, 'Earth': 0.008089786511131746, 'Games': 0.007973699061612771, 'Theatre': 0.00790037183486823, 'Recreation': 0.007888840390997012, 'Sculpture': 0.006885673199695632, 'Art': 0.00563004612001689, 'Dance': 0.005594890364002081, 'Food': 0.00543243256039042, 'Geography': 0.0053128510554381675, 'War': 0.005270887859631806, 'Sport': 0.005112762615838525, 'Literature': 0.004902979900810686}\n",
      "Algeria\n",
      "{'Education': 0.06708914253406066, 'Sculpture': 0.05586308548450632, 'Medicine': 0.05124180241858376, 'Recreation': 0.03369420574377319, 'Earth': 0.033533249153193126, 'History': 0.028677896975490613, 'Film': 0.02741523258378315, 'Media': 0.02668365200385803, 'Internet': 0.025548394532817882, 'Fitness': 0.02546428891835576, 'Exercise': 0.024833599172761935, 'Language': 0.02235919023981064, 'War': 0.020542388719863896, 'Painting': 0.019458874335466295, 'Dance': 0.018895136411260866, 'Life': 0.01854852381839174, 'Health': 0.018244680718924378, 'Crime': 0.017596622514408213, 'Sport': 0.016532141046814986, 'Geography': 0.016310558749874273, 'Games': 0.01609168308272729, 'Theatre': 0.016017547058762634, 'Culture': 0.015332396071268798, 'Literature': 0.01346680463194669, 'Food': 0.011565659279836243, 'Art': 0.01135538314511805, 'Music': 0.008317836213949117}\n",
      "List of Atlas Shrugged characters\n",
      "{'Exercise': 0.03166990031176135, 'Language': 0.017576725067259956, 'Media': 0.017448800264084515, 'Fitness': 0.011954922473365463, 'Earth': 0.01161471649607115, 'Film': 0.009681379956362897, 'Medicine': 0.009386035867972806, 'History': 0.009169822590534272, 'Life': 0.008911293349234815, 'War': 0.00842032697348104, 'Geography': 0.007659837574525842, 'Games': 0.0071771807800468344, 'Crime': 0.006880877165006919, 'Sculpture': 0.006694303666182689, 'Culture': 0.0066823919715567745, 'Painting': 0.006521049320430441, 'Dance': 0.006486815180541301, 'Literature': 0.0061317696774530125, 'Health': 0.0059705195692915545, 'Internet': 0.005709025780200008, 'Art': 0.005656660062738975, 'Sport': 0.005165156341703789, 'Recreation': 0.005063929268528371, 'Theatre': 0.0039024042450865235, 'Music': 0.003058518685770088, 'Education': 0.0025350110744822747, 'Food': 0.0016309054987250385}\n",
      "Anthropology\n",
      "{'History': 0.1305176906926215, 'Sculpture': 0.0777308275578664, 'Fitness': 0.06680805019270265, 'Earth': 0.06181682745212282, 'Life': 0.05851104041415746, 'Media': 0.05002447745570039, 'Medicine': 0.04883577632201808, 'Culture': 0.0423363289413496, 'Internet': 0.039144914897256376, 'Film': 0.03877112285815789, 'Education': 0.038435066881279074, 'Games': 0.036200046615571184, 'Exercise': 0.03556727222915078, 'Theatre': 0.03458353380943497, 'Crime': 0.03427736989096159, 'Dance': 0.033785783019890915, 'Recreation': 0.03228015070006496, 'Sport': 0.03188998019740529, 'Language': 0.03180346822944499, 'Geography': 0.03061785593558929, 'War': 0.02887866278992993, 'Food': 0.027372967054465704, 'Literature': 0.026852106655151545, 'Health': 0.026731684085204675, 'Art': 0.022381173819312896, 'Painting': 0.020274026880199917, 'Music': 0.0191884683211229}\n",
      "Agricultural science\n",
      "{'Theatre': 0.1653418408995153, 'Health': 0.10991347665417298, 'Earth': 0.10108038559555683, 'History': 0.08023085643373064, 'Fitness': 0.06697763237879942, 'Media': 0.06645569160415583, 'Film': 0.03483015544870386, 'Dance': 0.03011737732780769, 'Internet': 0.026699118087759544, 'Sport': 0.02615578735165306, 'War': 0.024703978575056684, 'Life': 0.024148277167677024, 'Food': 0.024046531217812965, 'Crime': 0.01762218343901846, 'Games': 0.01445929147607261, 'Culture': 0.01406070114309627, 'Medicine': 0.012593484020846785, 'Education': 0.012524386832592646, 'Painting': 0.012186278669202119, 'Music': 0.010831835065378895, 'Art': 0.010774978193202799, 'Language': 0.01072995525694824, 'Recreation': 0.00989102307383092, 'Sculpture': 0.008929178538136148, 'Exercise': 0.007828720903098297, 'Geography': 0.007409664234435055, 'Literature': 0.00582289762211594}\n",
      "Alchemy\n",
      "{'Media': 0.1197279274247423, 'Fitness': 0.10242683640954071, 'Sculpture': 0.06518926549887448, 'Exercise': 0.06427748444450704, 'Internet': 0.06315339768513, 'Earth': 0.0625978212847569, 'Art': 0.0555930609936146, 'Life': 0.054359540828954694, 'Games': 0.04941602153461738, 'Dance': 0.04700202868118644, 'Sport': 0.03531311536328874, 'Recreation': 0.033772880067328835, 'Culture': 0.03123413935349, 'Film': 0.02853406506569774, 'History': 0.024980910865781542, 'Medicine': 0.02326480080089791, 'War': 0.023101245224705958, 'Food': 0.021933324087788548, 'Literature': 0.020958708972922173, 'Health': 0.02078945906583252, 'Geography': 0.020100586698539074, 'Music': 0.019595095409068355, 'Language': 0.01783503014775977, 'Theatre': 0.017147756687316947, 'Crime': 0.016979381332266192, 'Painting': 0.015156829527611796, 'Education': 0.01272519712237494}\n",
      "Alien\n",
      "{'Exercise': 0.03507198425866324, 'Recreation': 0.02939046156552915, 'War': 0.028045364431397733, 'Architecture': 0.026810200359867302, 'Games': 0.026800011218711745, 'Internet': 0.023460391568287987, 'Fitness': 0.02322251630176087, 'Culture': 0.021852245877865214, 'Sport': 0.021105254455075485, 'Life': 0.020956486835482555, 'Sculpture': 0.020597867090734665, 'Earth': 0.02034250435232499, 'Education': 0.01949185236041375, 'Geography': 0.01821668489453929, 'Medicine': 0.0178338907397958, 'Art': 0.017310557563630792, 'Language': 0.016557603755965482, 'Dance': 0.016053971313631267, 'Literature': 0.015390406173708885, 'Painting': 0.015024209351893891, 'Music': 0.013777596137361235, 'Media': 0.013098034395768938, 'Health': 0.013003426761567162, 'History': 0.012139151604024607, 'Crime': 0.011550385158009501, 'Food': 0.01049643014527948, 'Film': 0.009836018804491793, 'Theatre': 0.009330846388512035}\n",
      "Astronomer\n",
      "{'Fitness': 0.06922872968507396, 'Internet': 0.03139319341601619, 'Media': 0.030119319102470978, 'Games': 0.02602983512661743, 'Art': 0.025936686191128204, 'Sport': 0.023248320290235748, 'Health': 0.02269919140130253, 'History': 0.020594158467620312, 'Dance': 0.01877838036883804, 'Food': 0.014496721520346836, 'War': 0.014433736517844357, 'Life': 0.014071271923106487, 'Education': 0.012982779946502378, 'Earth': 0.012582322357952739, 'Culture': 0.010798936556973577, 'Medicine': 0.00916215204043347, 'Sculpture': 0.008941453064354583, 'Film': 0.008838080923584379, 'Recreation': 0.008338083571923068, 'Crime': 0.006517811251542499, 'Music': 0.006059760197507159, 'Language': 0.0056193887710653334, 'Painting': 0.005376749415555966, 'Exercise': 0.004727844523364436, 'Geography': 0.0036809164252801516, 'Literature': 0.0035770488534918442, 'Theatre': 0.0029930634225536603}\n",
      "ASCII\n",
      "{'Food': 0.14593337402889248, 'Sculpture': 0.12627661532709764, 'Painting': 0.09391409970264004, 'Dance': 0.08604976596113535, 'Fitness': 0.08256989962372688, 'Sport': 0.08227848780936486, 'Music': 0.08016657884204544, 'Health': 0.07928035018388777, 'Art': 0.07643499202941176, 'Culture': 0.06937805174808646, 'Life': 0.06784368284782205, 'Earth': 0.06620540241633852, 'Medicine': 0.06507039548900002, 'Games': 0.06388716032686137, 'Internet': 0.05989813631398973, 'Film': 0.058843242115103306, 'Language': 0.057440215551100876, 'War': 0.05648387599448162, 'Media': 0.05391951896855448, 'Crime': 0.051378331868410065, 'Geography': 0.050941927535186615, 'Exercise': 0.050230643823095895, 'Literature': 0.049352256572553196, 'Recreation': 0.0489753554649044, 'Theatre': 0.046847969282759735, 'History': 0.04496943659033395, 'Education': 0.025552510013526413, 'Architecture': 0.01790690718660904}\n",
      "Austin (disambiguation)\n",
      "{'Recreation': 0.050308460721364856, 'Sculpture': 0.049813409992803453, 'Fitness': 0.04324069170135858, 'War': 0.03880335271617133, 'Sport': 0.03831856061701183, 'Culture': 0.03522598801616404, 'Earth': 0.03365291671034572, 'Art': 0.03151116544834531, 'Music': 0.030140300208252285, 'Life': 0.029814046799644018, 'Language': 0.029496463890899875, 'Games': 0.028709599701975844, 'Literature': 0.027993755873981604, 'Dance': 0.02776270759467434, 'Medicine': 0.025523662442448653, 'Exercise': 0.02331392091490569, 'Media': 0.022132609007837062, 'Health': 0.02133978675824179, 'History': 0.02093295157864143, 'Crime': 0.019776940175694386, 'Geography': 0.0197376439396199, 'Painting': 0.01920662076748021, 'Food': 0.01912529702415442, 'Internet': 0.016720603968781392, 'Film': 0.01642414366855044, 'Theatre': 0.015618898636273363}\n",
      "Animation\n",
      "{'Exercise': 0.05059470432169805, 'Food': 0.040136484423119144, 'Education': 0.03594614670018323, 'Medicine': 0.03233043476980437, 'Geography': 0.03013741877571302, 'Internet': 0.029596689495288462, 'Theatre': 0.02105952726648936, 'Culture': 0.019998954871909537, 'History': 0.019813873909769162, 'Music': 0.018546153631913573, 'Life': 0.017560153490924935, 'Media': 0.01692001859014322, 'Painting': 0.01617385685769728, 'Dance': 0.015999807874378862, 'Games': 0.015461258258961382, 'Language': 0.013672538249870867, 'Sculpture': 0.01268616224933427, 'Sport': 0.012392685691946787, 'Fitness': 0.012380733983585196, 'Art': 0.012327807661045102, 'Health': 0.01229534239197494, 'Recreation': 0.011733050392756158, 'Film': 0.010869321737201476, 'Earth': 0.010696099467787264, 'War': 0.010237909210760484, 'Literature': 0.00931326031168741, 'Crime': 0.00828654740503482, 'Architecture': 0.00442373949038597}\n"
     ]
    },
    {
     "name": "stdout",
     "output_type": "stream",
     "text": [
      "Apollo\n",
      "{'Earth': 0.0651557104158204, 'Exercise': 0.04855255781538288, 'Sculpture': 0.045134256032517514, 'Culture': 0.024935123313762304, 'Life': 0.02057515583134431, 'Fitness': 0.019550199658203236, 'Internet': 0.017626926769124952, 'Art': 0.017294367174790902, 'Media': 0.016113517073282006, 'Language': 0.015883013991788743, 'War': 0.015551602681729382, 'Recreation': 0.0144758027898894, 'Sport': 0.012944159888665568, 'Dance': 0.012900172993502363, 'Medicine': 0.012334115410461357, 'History': 0.011891497107943922, 'Education': 0.011674189296116414, 'Games': 0.01054514983311521, 'Film': 0.007993335013138396, 'Geography': 0.007865016341335117, 'Literature': 0.007503965725233466, 'Theatre': 0.006075353682193001, 'Food': 0.005548534494577702, 'Music': 0.005002396619327778, 'Health': 0.0043914995587015105, 'Crime': 0.0042500288488837796, 'Painting': 0.003739606338154417}\n",
      "Andre Agassi\n",
      "{'History': 0.030308603991457895, 'Sculpture': 0.028145206474875943, 'Culture': 0.023672894379247137, 'Film': 0.02356806135920569, 'Geography': 0.02320421349164917, 'Painting': 0.02305220168066994, 'Medicine': 0.022514716270426133, 'Fitness': 0.02169978178193662, 'Earth': 0.020779975788907043, 'Food': 0.01815939735398965, 'Exercise': 0.0168629852298678, 'Recreation': 0.016685940145354097, 'Crime': 0.016514344911032663, 'Language': 0.01644092324532501, 'Internet': 0.015330794545304862, 'Games': 0.0153035552989865, 'Life': 0.01486302252894969, 'Media': 0.014767367080669908, 'Sport': 0.014415782769178011, 'Dance': 0.01367381990046725, 'War': 0.01322897190513676, 'Art': 0.013075080175810804, 'Health': 0.012122100327839525, 'Music': 0.011675382593045383, 'Literature': 0.011121387186636102, 'Education': 0.010335745352183219, 'Theatre': 0.010038530816272642, 'Architecture': 0.0032845475746463232}\n"
     ]
    }
   ],
   "source": [
    "for art in articles_test:\n",
    "    art['categories_sims_text'] = tfdif_test_cosine(' '.join(art.get('category_wiki_tokens')), vectorizer_wiki3, trained_model_wiki3)\n",
    "    art['categories_sims_text'] = {k: v for k, v in sorted(art.get('categories_sims_text').items(), key = lambda item: item[1], reverse=True)}    \n",
    "    print(art.get('title'))\n",
    "    print(art.get('anchor_sims_text'))"
   ]
  },
  {
   "cell_type": "markdown",
   "metadata": {},
   "source": [
    "### Infobox - kosinusova podobnost"
   ]
  },
  {
   "cell_type": "code",
   "execution_count": 140,
   "metadata": {},
   "outputs": [
    {
     "name": "stdout",
     "output_type": "stream",
     "text": [
      "Anarchism\n",
      "{'Earth': 0.07244911022677851, 'History': 0.06700589993343714, 'Medicine': 0.05714992036223981, 'Language': 0.05355468495119101, 'Film': 0.04890920237097767, 'Fitness': 0.04139444246229392, 'War': 0.03825578079125836, 'Health': 0.03587335537628782, 'Media': 0.03208074024430446, 'Culture': 0.030875891552559164, 'Life': 0.029800582617354285, 'Education': 0.027006592809053043, 'Internet': 0.024166673530668835, 'Sport': 0.022914222787118445, 'Crime': 0.0221760342602772, 'Geography': 0.02193233462149937, 'Dance': 0.02133418194400668, 'Exercise': 0.021286249582868833, 'Sculpture': 0.02074728769975692, 'Painting': 0.020670919688639114, 'Theatre': 0.020064317849952683, 'Literature': 0.018524342217998507, 'Games': 0.017923024019223268, 'Food': 0.01623841074336768, 'Recreation': 0.013805809269872623, 'Music': 0.011387356496594418, 'Art': 0.009886175700932328}\n",
      "Autism\n",
      "{'Media': 0.10393937988900835, 'Crime': 0.05878668975014259, 'Sculpture': 0.04480115784310468, 'Health': 0.03962452758501084, 'Theatre': 0.03629570902038478, 'Culture': 0.03577373625843628, 'Film': 0.03048284195440447, 'War': 0.028219026982403462, 'History': 0.02746054670789427, 'Fitness': 0.02745866987477909, 'Games': 0.025046105347704583, 'Earth': 0.02271634056383591, 'Recreation': 0.02157220803979309, 'Life': 0.02135080834384899, 'Medicine': 0.021111546075701194, 'Sport': 0.01927517930672845, 'Dance': 0.01895142782543371, 'Geography': 0.01826175860542437, 'Literature': 0.017673817475461987, 'Language': 0.017507173972999245, 'Music': 0.017406501003003436, 'Internet': 0.016043058502334295, 'Food': 0.015864985306111003, 'Exercise': 0.01483550362105554, 'Painting': 0.014453345704297113, 'Art': 0.013161711060572267, 'Education': 0.006709562607467068}\n",
      "Albedo\n",
      "{'Internet': 0.03949908461832263, 'Art': 0.03732570133523328, 'Fitness': 0.018038582104805006, 'Food': 0.01691478277946422, 'Games': 0.015057017179494269, 'Music': 0.014844089912402353, 'Sport': 0.00985256302357635, 'Life': 0.009663897824816992, 'Film': 0.00901042083591465, 'Language': 0.008885147847124351, 'Sculpture': 0.008705722730741303, 'Geography': 0.00796850625483201, 'Dance': 0.007798075800974655, 'Painting': 0.007256921058412468, 'History': 0.006923820193695666, 'Exercise': 0.006836072634840212, 'Media': 0.006820637010113809, 'War': 0.0068001400516449935, 'Theatre': 0.006343004052021445, 'Crime': 0.00593098677602492, 'Earth': 0.005004497392749004, 'Culture': 0.004913509592388231, 'Health': 0.004873673195349473, 'Education': 0.004847531562391694, 'Medicine': 0.00435493184835522, 'Literature': 0.0030961275657721055, 'Recreation': 0.002145255836350267}\n",
      "A\n",
      "{'Sculpture': 0.10215657427333884, 'Art': 0.03265145885426011, 'Culture': 0.03104546165703419, 'Fitness': 0.029767212180221467, 'Sport': 0.02840042214567767, 'Earth': 0.02787802611052828, 'Media': 0.026504333251262224, 'Film': 0.025842232861297526, 'Dance': 0.025782274350578168, 'Medicine': 0.02427772213509704, 'Games': 0.023488636127533883, 'Exercise': 0.023114022673367745, 'Language': 0.0229400165693119, 'Life': 0.022742531735822125, 'Internet': 0.0220278014135804, 'Geography': 0.021943088722845776, 'Painting': 0.02187341834442016, 'Food': 0.01956885893338226, 'Health': 0.019264544343056675, 'Theatre': 0.01757251069876555, 'War': 0.01739330535094383, 'Literature': 0.01703481421855539, 'Crime': 0.015924148839120196, 'Recreation': 0.015646602158983832, 'Music': 0.015432985776550131, 'History': 0.012873525023989996, 'Education': 0.008645937959100826}\n",
      "Alabama\n",
      "{'Painting': 0.039612266538989714, 'Language': 0.03720859920755641, 'Crime': 0.03609781904432674, 'Sculpture': 0.03426714624984274, 'Medicine': 0.033962006272217786, 'History': 0.03223256426351328, 'Internet': 0.031346098868186706, 'Media': 0.03029455491904226, 'Film': 0.0292305130355733, 'Exercise': 0.028191966831999978, 'Health': 0.02801889273477217, 'Earth': 0.02504420647183963, 'Geography': 0.02486624117399308, 'Fitness': 0.024444785365719337, 'Life': 0.022839751912020596, 'War': 0.019696815401749505, 'Dance': 0.019626342678502953, 'Art': 0.01955862718305659, 'Culture': 0.019124386247411432, 'Theatre': 0.019100807667951438, 'Music': 0.018317347088131982, 'Games': 0.01692599176421063, 'Education': 0.016546171431160047, 'Sport': 0.016196806782426673, 'Literature': 0.013785188660182803, 'Recreation': 0.013358217440147317, 'Food': 0.011059804948473338}\n",
      "Achilles\n",
      "{'Exercise': 0.045276319439375115, 'Sculpture': 0.04326576887869106, 'Culture': 0.03688017127513285, 'Internet': 0.033508909466807804, 'Earth': 0.028883059009400556, 'Fitness': 0.022586982144190883, 'Geography': 0.022362629141059073, 'Media': 0.02077930111012172, 'Education': 0.017961236403309908, 'Language': 0.017644876915660933, 'Dance': 0.017324331911815177, 'Recreation': 0.015225528094856293, 'Life': 0.014984248346494677, 'Sport': 0.014755010492286998, 'Games': 0.013846285017838867, 'Literature': 0.013486528037415159, 'Medicine': 0.01288011225501308, 'Art': 0.011591342136980843, 'War': 0.011356369927655872, 'Film': 0.010970839736808317, 'History': 0.010769438164032476, 'Food': 0.009240751722548025, 'Painting': 0.008607469044488482, 'Theatre': 0.00826923009001197, 'Crime': 0.008121228280124335, 'Health': 0.0077367325463222145, 'Music': 0.006662385678314694}\n",
      "Abraham Lincoln\n",
      "{'Medicine': 0.09454957969516975, 'Language': 0.07223537545597698, 'History': 0.04991534692416167, 'Fitness': 0.04617956506101241, 'Media': 0.043192468373321545, 'Earth': 0.041731748711148486, 'Film': 0.03693506660055052, 'Exercise': 0.036712098563881225, 'War': 0.035699340653527374, 'Sculpture': 0.03541463203559815, 'Painting': 0.0345771874356495, 'Life': 0.03264313186660222, 'Literature': 0.031210383562916135, 'Dance': 0.030771142418599934, 'Culture': 0.029644490463688347, 'Geography': 0.02820955626272203, 'Games': 0.02698605647306843, 'Crime': 0.0267360889749511, 'Internet': 0.02613589180722061, 'Health': 0.025200803479618873, 'Art': 0.025132987108098914, 'Theatre': 0.024231075122333245, 'Recreation': 0.023959193688628234, 'Music': 0.02206241577806891, 'Education': 0.021642955355123297, 'Sport': 0.021266240562205066, 'Food': 0.017290851918957677}\n",
      "Aristotle\n",
      "{'Fitness': 0.08526120440612887, 'Exercise': 0.07970453453792, 'Internet': 0.07413519603421041, 'Games': 0.06933273497773003, 'Art': 0.06267219846549042, 'Culture': 0.058605507281895564, 'Sport': 0.05135242706658069, 'Dance': 0.04233942247101167, 'Sculpture': 0.03991668783081217, 'Recreation': 0.0389426444515946, 'Media': 0.03863807542631451, 'Film': 0.038012512210702946, 'Language': 0.03753587649125848, 'Life': 0.03748162251769047, 'War': 0.03678832866217521, 'Earth': 0.03677670169791975, 'History': 0.03458817161020911, 'Medicine': 0.03361433242334191, 'Geography': 0.030696802869797757, 'Health': 0.02912115875791691, 'Literature': 0.028489345117638284, 'Crime': 0.027491142249066396, 'Music': 0.026741152597820873, 'Theatre': 0.025037620334739386, 'Food': 0.024046852313675197, 'Painting': 0.020658424086730333, 'Architecture': 0.015049356543508054, 'Education': 0.01474168585622036}\n",
      "An American in Paris\n",
      "{'Recreation': 0.1463359786252008, 'Literature': 0.02855929240676923, 'Fitness': 0.023266520111024074, 'Culture': 0.011582310376553133, 'Exercise': 0.011308083024583419, 'Geography': 0.010351413761041914, 'Dance': 0.009779673353171453, 'Life': 0.008542710717444823, 'Earth': 0.008425658027470894, 'Media': 0.00782622684244475, 'Language': 0.007582555396870161, 'Food': 0.007550897137740313, 'Sport': 0.007082603962034197, 'Internet': 0.006843921163225619, 'Sculpture': 0.0063067245414277434, 'Painting': 0.005733003000922637, 'War': 0.005381838533163317, 'Film': 0.005070683426622248, 'Health': 0.004935791522067179, 'History': 0.004836421812350991, 'Art': 0.004683426408215001, 'Crime': 0.004587364143807698, 'Games': 0.004353033006464365, 'Medicine': 0.004351577047971619, 'Education': 0.0042858171395632975, 'Theatre': 0.0030329654480174004, 'Music': 0.002319563419450995}\n",
      "Academy Award for Best Production Design\n",
      "{'Culture': 0.06591997719171125, 'Exercise': 0.03601497903929737, 'Education': 0.03402338159067012, 'Recreation': 0.019488024887233724, 'Fitness': 0.018417279191300213, 'Medicine': 0.016106004171998284, 'Dance': 0.015210746837648682, 'Film': 0.014369053939085743, 'Sport': 0.013585315013732408, 'Life': 0.013292133311683885, 'Language': 0.013216511931928078, 'Literature': 0.012305407566834585, 'Geography': 0.012192604167591435, 'Media': 0.011596869358069528, 'Earth': 0.011144236935965912, 'Games': 0.011009812866925478, 'Art': 0.01083664470796275, 'Internet': 0.010532198515632684, 'History': 0.010115535743068104, 'Painting': 0.009699660144503817, 'Theatre': 0.008847837581378472, 'Food': 0.008300251378167712, 'Health': 0.007631138439638722, 'Sculpture': 0.0073205754202440914, 'War': 0.0072660656053515375, 'Music': 0.006845409891699066, 'Crime': 0.005497648834919735}\n",
      "Academy Awards\n",
      "{'Recreation': 0.03065986256653517, 'Fitness': 0.03032212789030519, 'Literature': 0.027393576787055663, 'Education': 0.020786801588149068, 'Dance': 0.020218930982660168, 'Sport': 0.01863668750195484, 'History': 0.015649920341008195, 'Film': 0.015515671429563303, 'Geography': 0.012889219597451294, 'Exercise': 0.011565760186289381, 'Culture': 0.010983299534388077, 'Sculpture': 0.010647297675564835, 'Games': 0.010405229438739448, 'Internet': 0.010224187363172198, 'Painting': 0.01018736727434793, 'Life': 0.01010264291119217, 'Media': 0.00958874359117191, 'Earth': 0.009341782336085416, 'Theatre': 0.009337864451661656, 'Medicine': 0.00921212188381564, 'Art': 0.008174160863813668, 'War': 0.00806285651086996, 'Language': 0.007666392547735982, 'Music': 0.0075554582693304504, 'Food': 0.006802662768843342, 'Health': 0.006761905044724165, 'Crime': 0.005944717674120663}\n",
      "Actrius\n",
      "{'Sculpture': 0.19857670260394703, 'Dance': 0.021157553118200213, 'Life': 0.020787716483807176, 'Food': 0.017976939632010205, 'History': 0.01595515274554972, 'Painting': 0.011578145376844491, 'Media': 0.011456131239801421, 'Culture': 0.011116217593129826, 'Film': 0.010357877924569403, 'Earth': 0.009388930425797002, 'Games': 0.008362807393593371, 'Exercise': 0.008062223455337015, 'Fitness': 0.007961755558200272, 'Language': 0.0070220963336550665, 'Geography': 0.006935753578826431, 'Medicine': 0.005816981958507796, 'Art': 0.005391815434140815, 'Internet': 0.005370828267965953, 'Sport': 0.005156444743054552, 'Recreation': 0.005015695257051734, 'Literature': 0.004466058286601368, 'Music': 0.003878700801776228, 'Theatre': 0.003426734710181336, 'Crime': 0.002219379580863331, 'Health': 0.002151645031881193, 'War': 0.0010816651598590174}\n",
      "Animalia (book)\n",
      "{'Fitness': 0.029245665129850856, 'Culture': 0.02872952331585248, 'Life': 0.02210216057186985, 'Music': 0.021583292832577677, 'Medicine': 0.02109316399524565, 'Film': 0.020711399784959464, 'Earth': 0.019055677846717894, 'Sport': 0.018115259438072982, 'Dance': 0.01750753839965355, 'Sculpture': 0.016938193615545945, 'Painting': 0.015501185834964602, 'Games': 0.015456632997593976, 'War': 0.014254911299784618, 'Geography': 0.013149320455426541, 'Education': 0.012689977453632656, 'Internet': 0.011937056108510358, 'Health': 0.01102740460366182, 'Media': 0.010346341127856953, 'Food': 0.010261429922021368, 'History': 0.009907428523764136, 'Crime': 0.009792348364694815, 'Literature': 0.00972465556684399, 'Art': 0.0077846754911361565, 'Recreation': 0.007288634910354086, 'Theatre': 0.007226975574735589, 'Exercise': 0.0071573540610416885, 'Language': 0.006527731368113168}\n",
      "International Atomic Time\n",
      "{'Life': 0.0443749006184022, 'Games': 0.030520912292089992, 'Fitness': 0.030298795167193273, 'Media': 0.029055037496001444, 'Health': 0.026512755203308886, 'Food': 0.026428569751441398, 'Internet': 0.02614510986621542, 'Painting': 0.025834237811948817, 'Geography': 0.024874571104020027, 'Dance': 0.024597686295023354, 'Film': 0.022445033508753855, 'Sport': 0.020966111433013693, 'History': 0.020503171554534794, 'Art': 0.020472416243223764, 'Music': 0.019349799463061604, 'Crime': 0.018687597770130016, 'Medicine': 0.018421287703503982, 'Language': 0.015802799342852673, 'Theatre': 0.015246804118449333, 'Earth': 0.014168250436786904, 'Culture': 0.01334300468993954, 'War': 0.013206995543795291, 'Literature': 0.011712475248641826, 'Education': 0.011251557308622954, 'Recreation': 0.011122893205722772, 'Sculpture': 0.010665264565955896, 'Exercise': 0.00890385174014328}\n",
      "Altruism\n",
      "{'Fitness': 0.04870628181764687, 'Architecture': 0.0438999336782139, 'Media': 0.04300734730299059, 'Earth': 0.037734216922059347, 'History': 0.03401305695768671, 'Games': 0.031061564422702848, 'Crime': 0.02889983038684456, 'Internet': 0.028405919039315806, 'Language': 0.025449670445164326, 'Geography': 0.024017939425368506, 'Life': 0.023823073751350676, 'War': 0.023650205581864585, 'Dance': 0.023333118197935238, 'Medicine': 0.023172948884809058, 'Sport': 0.023032623350240127, 'Film': 0.021270245886357987, 'Food': 0.019242977307684175, 'Culture': 0.018520728995921245, 'Health': 0.018219682728456293, 'Painting': 0.01571831211716928, 'Music': 0.014533030420115082, 'Sculpture': 0.013268487948359735, 'Theatre': 0.012238119085140232, 'Art': 0.010457981727652664, 'Recreation': 0.009212183235684299, 'Exercise': 0.008163860302817707, 'Literature': 0.007057086906358433, 'Education': 0.0066498344211147285}\n",
      "Ayn Rand\n",
      "{'Language': 0.05373010176272773, 'Earth': 0.04741742647278565, 'Fitness': 0.04547884903627388, 'History': 0.0433203081862826, 'Sculpture': 0.03884816313879452, 'Media': 0.03768110689314669, 'Medicine': 0.035681313292546396, 'Film': 0.03546600983502611, 'Culture': 0.03537948036584509, 'War': 0.0306612350653042, 'Geography': 0.029890484717083447, 'Life': 0.027383301780843076, 'Internet': 0.0266992686574145, 'Dance': 0.025215395291668614, 'Art': 0.023780943021166102, 'Games': 0.023001464369527113, 'Painting': 0.022798091781304153, 'Crime': 0.0218636282938327, 'Exercise': 0.021491086687491175, 'Recreation': 0.019986215036948935, 'Health': 0.019424421206442746, 'Theatre': 0.018687301189835935, 'Sport': 0.017720369251946148, 'Literature': 0.01725870588358647, 'Food': 0.016709722514546967, 'Education': 0.015979516520559643, 'Music': 0.013954087045111363}\n",
      "Alain Connes\n",
      "{'Fitness': 0.08890967184737598, 'Sport': 0.07752705487112321, 'Sculpture': 0.038678197365515726, 'Food': 0.02883223784885112, 'Dance': 0.025132967619873502, 'Film': 0.021232702519622036, 'Media': 0.020245722377075136, 'Life': 0.018712104251889187, 'Health': 0.016611424894582155, 'Medicine': 0.012299144637056275, 'History': 0.012121147020424867, 'Games': 0.012039184222750248, 'Internet': 0.011641609283038729, 'Geography': 0.011087329438298599, 'Art': 0.010522195499223166, 'Crime': 0.0104690013974728, 'Earth': 0.009673305990678843, 'Culture': 0.009576123309644852, 'Education': 0.009132435167535738, 'Language': 0.007996211147897683, 'War': 0.006824476838824624, 'Theatre': 0.006462382810383299, 'Painting': 0.006272671493006328, 'Music': 0.006186895859844735, 'Literature': 0.005198831186679595, 'Recreation': 0.004671786151296223, 'Exercise': 0.0027987909139060557}\n",
      "Allan Dwan\n",
      "{'Education': 0.04467043387040902, 'Medicine': 0.012823223974216395, 'Exercise': 0.012291074919563775, 'Life': 0.011851235394312399, 'Internet': 0.01052112355342197, 'Culture': 0.010335493108894664, 'Language': 0.009761939155505356, 'Crime': 0.009697169196288559, 'History': 0.009497607884187199, 'Health': 0.009137351561093658, 'Film': 0.008998499233337781, 'Painting': 0.008983152953702384, 'Music': 0.008553977431840798, 'Fitness': 0.008390046648284298, 'Media': 0.008226596253854909, 'Earth': 0.008089786511131746, 'Games': 0.007973699061612771, 'Theatre': 0.00790037183486823, 'Recreation': 0.007888840390997012, 'Sculpture': 0.006885673199695632, 'Art': 0.00563004612001689, 'Dance': 0.005594890364002081, 'Food': 0.00543243256039042, 'Geography': 0.0053128510554381675, 'War': 0.005270887859631806, 'Sport': 0.005112762615838525, 'Literature': 0.004902979900810686}\n",
      "Algeria\n",
      "{'Education': 0.06708914253406066, 'Sculpture': 0.05586308548450632, 'Medicine': 0.05124180241858376, 'Recreation': 0.03369420574377319, 'Earth': 0.033533249153193126, 'History': 0.028677896975490613, 'Film': 0.02741523258378315, 'Media': 0.02668365200385803, 'Internet': 0.025548394532817882, 'Fitness': 0.02546428891835576, 'Exercise': 0.024833599172761935, 'Language': 0.02235919023981064, 'War': 0.020542388719863896, 'Painting': 0.019458874335466295, 'Dance': 0.018895136411260866, 'Life': 0.01854852381839174, 'Health': 0.018244680718924378, 'Crime': 0.017596622514408213, 'Sport': 0.016532141046814986, 'Geography': 0.016310558749874273, 'Games': 0.01609168308272729, 'Theatre': 0.016017547058762634, 'Culture': 0.015332396071268798, 'Literature': 0.01346680463194669, 'Food': 0.011565659279836243, 'Art': 0.01135538314511805, 'Music': 0.008317836213949117}\n",
      "List of Atlas Shrugged characters\n",
      "{'Exercise': 0.03166990031176135, 'Language': 0.017576725067259956, 'Media': 0.017448800264084515, 'Fitness': 0.011954922473365463, 'Earth': 0.01161471649607115, 'Film': 0.009681379956362897, 'Medicine': 0.009386035867972806, 'History': 0.009169822590534272, 'Life': 0.008911293349234815, 'War': 0.00842032697348104, 'Geography': 0.007659837574525842, 'Games': 0.0071771807800468344, 'Crime': 0.006880877165006919, 'Sculpture': 0.006694303666182689, 'Culture': 0.0066823919715567745, 'Painting': 0.006521049320430441, 'Dance': 0.006486815180541301, 'Literature': 0.0061317696774530125, 'Health': 0.0059705195692915545, 'Internet': 0.005709025780200008, 'Art': 0.005656660062738975, 'Sport': 0.005165156341703789, 'Recreation': 0.005063929268528371, 'Theatre': 0.0039024042450865235, 'Music': 0.003058518685770088, 'Education': 0.0025350110744822747, 'Food': 0.0016309054987250385}\n",
      "Anthropology\n",
      "{'History': 0.1305176906926215, 'Sculpture': 0.0777308275578664, 'Fitness': 0.06680805019270265, 'Earth': 0.06181682745212282, 'Life': 0.05851104041415746, 'Media': 0.05002447745570039, 'Medicine': 0.04883577632201808, 'Culture': 0.0423363289413496, 'Internet': 0.039144914897256376, 'Film': 0.03877112285815789, 'Education': 0.038435066881279074, 'Games': 0.036200046615571184, 'Exercise': 0.03556727222915078, 'Theatre': 0.03458353380943497, 'Crime': 0.03427736989096159, 'Dance': 0.033785783019890915, 'Recreation': 0.03228015070006496, 'Sport': 0.03188998019740529, 'Language': 0.03180346822944499, 'Geography': 0.03061785593558929, 'War': 0.02887866278992993, 'Food': 0.027372967054465704, 'Literature': 0.026852106655151545, 'Health': 0.026731684085204675, 'Art': 0.022381173819312896, 'Painting': 0.020274026880199917, 'Music': 0.0191884683211229}\n",
      "Agricultural science\n",
      "{'Theatre': 0.1653418408995153, 'Health': 0.10991347665417298, 'Earth': 0.10108038559555683, 'History': 0.08023085643373064, 'Fitness': 0.06697763237879942, 'Media': 0.06645569160415583, 'Film': 0.03483015544870386, 'Dance': 0.03011737732780769, 'Internet': 0.026699118087759544, 'Sport': 0.02615578735165306, 'War': 0.024703978575056684, 'Life': 0.024148277167677024, 'Food': 0.024046531217812965, 'Crime': 0.01762218343901846, 'Games': 0.01445929147607261, 'Culture': 0.01406070114309627, 'Medicine': 0.012593484020846785, 'Education': 0.012524386832592646, 'Painting': 0.012186278669202119, 'Music': 0.010831835065378895, 'Art': 0.010774978193202799, 'Language': 0.01072995525694824, 'Recreation': 0.00989102307383092, 'Sculpture': 0.008929178538136148, 'Exercise': 0.007828720903098297, 'Geography': 0.007409664234435055, 'Literature': 0.00582289762211594}\n",
      "Alchemy\n",
      "{'Media': 0.1197279274247423, 'Fitness': 0.10242683640954071, 'Sculpture': 0.06518926549887448, 'Exercise': 0.06427748444450704, 'Internet': 0.06315339768513, 'Earth': 0.0625978212847569, 'Art': 0.0555930609936146, 'Life': 0.054359540828954694, 'Games': 0.04941602153461738, 'Dance': 0.04700202868118644, 'Sport': 0.03531311536328874, 'Recreation': 0.033772880067328835, 'Culture': 0.03123413935349, 'Film': 0.02853406506569774, 'History': 0.024980910865781542, 'Medicine': 0.02326480080089791, 'War': 0.023101245224705958, 'Food': 0.021933324087788548, 'Literature': 0.020958708972922173, 'Health': 0.02078945906583252, 'Geography': 0.020100586698539074, 'Music': 0.019595095409068355, 'Language': 0.01783503014775977, 'Theatre': 0.017147756687316947, 'Crime': 0.016979381332266192, 'Painting': 0.015156829527611796, 'Education': 0.01272519712237494}\n",
      "Alien\n",
      "{'Exercise': 0.03507198425866324, 'Recreation': 0.02939046156552915, 'War': 0.028045364431397733, 'Architecture': 0.026810200359867302, 'Games': 0.026800011218711745, 'Internet': 0.023460391568287987, 'Fitness': 0.02322251630176087, 'Culture': 0.021852245877865214, 'Sport': 0.021105254455075485, 'Life': 0.020956486835482555, 'Sculpture': 0.020597867090734665, 'Earth': 0.02034250435232499, 'Education': 0.01949185236041375, 'Geography': 0.01821668489453929, 'Medicine': 0.0178338907397958, 'Art': 0.017310557563630792, 'Language': 0.016557603755965482, 'Dance': 0.016053971313631267, 'Literature': 0.015390406173708885, 'Painting': 0.015024209351893891, 'Music': 0.013777596137361235, 'Media': 0.013098034395768938, 'Health': 0.013003426761567162, 'History': 0.012139151604024607, 'Crime': 0.011550385158009501, 'Food': 0.01049643014527948, 'Film': 0.009836018804491793, 'Theatre': 0.009330846388512035}\n",
      "Astronomer\n",
      "{'Fitness': 0.06922872968507396, 'Internet': 0.03139319341601619, 'Media': 0.030119319102470978, 'Games': 0.02602983512661743, 'Art': 0.025936686191128204, 'Sport': 0.023248320290235748, 'Health': 0.02269919140130253, 'History': 0.020594158467620312, 'Dance': 0.01877838036883804, 'Food': 0.014496721520346836, 'War': 0.014433736517844357, 'Life': 0.014071271923106487, 'Education': 0.012982779946502378, 'Earth': 0.012582322357952739, 'Culture': 0.010798936556973577, 'Medicine': 0.00916215204043347, 'Sculpture': 0.008941453064354583, 'Film': 0.008838080923584379, 'Recreation': 0.008338083571923068, 'Crime': 0.006517811251542499, 'Music': 0.006059760197507159, 'Language': 0.0056193887710653334, 'Painting': 0.005376749415555966, 'Exercise': 0.004727844523364436, 'Geography': 0.0036809164252801516, 'Literature': 0.0035770488534918442, 'Theatre': 0.0029930634225536603}\n",
      "ASCII\n",
      "{'Food': 0.14593337402889248, 'Sculpture': 0.12627661532709764, 'Painting': 0.09391409970264004, 'Dance': 0.08604976596113535, 'Fitness': 0.08256989962372688, 'Sport': 0.08227848780936486, 'Music': 0.08016657884204544, 'Health': 0.07928035018388777, 'Art': 0.07643499202941176, 'Culture': 0.06937805174808646, 'Life': 0.06784368284782205, 'Earth': 0.06620540241633852, 'Medicine': 0.06507039548900002, 'Games': 0.06388716032686137, 'Internet': 0.05989813631398973, 'Film': 0.058843242115103306, 'Language': 0.057440215551100876, 'War': 0.05648387599448162, 'Media': 0.05391951896855448, 'Crime': 0.051378331868410065, 'Geography': 0.050941927535186615, 'Exercise': 0.050230643823095895, 'Literature': 0.049352256572553196, 'Recreation': 0.0489753554649044, 'Theatre': 0.046847969282759735, 'History': 0.04496943659033395, 'Education': 0.025552510013526413, 'Architecture': 0.01790690718660904}\n",
      "Austin (disambiguation)\n",
      "{'Recreation': 0.050308460721364856, 'Sculpture': 0.049813409992803453, 'Fitness': 0.04324069170135858, 'War': 0.03880335271617133, 'Sport': 0.03831856061701183, 'Culture': 0.03522598801616404, 'Earth': 0.03365291671034572, 'Art': 0.03151116544834531, 'Music': 0.030140300208252285, 'Life': 0.029814046799644018, 'Language': 0.029496463890899875, 'Games': 0.028709599701975844, 'Literature': 0.027993755873981604, 'Dance': 0.02776270759467434, 'Medicine': 0.025523662442448653, 'Exercise': 0.02331392091490569, 'Media': 0.022132609007837062, 'Health': 0.02133978675824179, 'History': 0.02093295157864143, 'Crime': 0.019776940175694386, 'Geography': 0.0197376439396199, 'Painting': 0.01920662076748021, 'Food': 0.01912529702415442, 'Internet': 0.016720603968781392, 'Film': 0.01642414366855044, 'Theatre': 0.015618898636273363}\n",
      "Animation\n",
      "{'Exercise': 0.05059470432169805, 'Food': 0.040136484423119144, 'Education': 0.03594614670018323, 'Medicine': 0.03233043476980437, 'Geography': 0.03013741877571302, 'Internet': 0.029596689495288462, 'Theatre': 0.02105952726648936, 'Culture': 0.019998954871909537, 'History': 0.019813873909769162, 'Music': 0.018546153631913573, 'Life': 0.017560153490924935, 'Media': 0.01692001859014322, 'Painting': 0.01617385685769728, 'Dance': 0.015999807874378862, 'Games': 0.015461258258961382, 'Language': 0.013672538249870867, 'Sculpture': 0.01268616224933427, 'Sport': 0.012392685691946787, 'Fitness': 0.012380733983585196, 'Art': 0.012327807661045102, 'Health': 0.01229534239197494, 'Recreation': 0.011733050392756158, 'Film': 0.010869321737201476, 'Earth': 0.010696099467787264, 'War': 0.010237909210760484, 'Literature': 0.00931326031168741, 'Crime': 0.00828654740503482, 'Architecture': 0.00442373949038597}\n",
      "Apollo\n",
      "{'Earth': 0.0651557104158204, 'Exercise': 0.04855255781538288, 'Sculpture': 0.045134256032517514, 'Culture': 0.024935123313762304, 'Life': 0.02057515583134431, 'Fitness': 0.019550199658203236, 'Internet': 0.017626926769124952, 'Art': 0.017294367174790902, 'Media': 0.016113517073282006, 'Language': 0.015883013991788743, 'War': 0.015551602681729382, 'Recreation': 0.0144758027898894, 'Sport': 0.012944159888665568, 'Dance': 0.012900172993502363, 'Medicine': 0.012334115410461357, 'History': 0.011891497107943922, 'Education': 0.011674189296116414, 'Games': 0.01054514983311521, 'Film': 0.007993335013138396, 'Geography': 0.007865016341335117, 'Literature': 0.007503965725233466, 'Theatre': 0.006075353682193001, 'Food': 0.005548534494577702, 'Music': 0.005002396619327778, 'Health': 0.0043914995587015105, 'Crime': 0.0042500288488837796, 'Painting': 0.003739606338154417}\n",
      "Andre Agassi\n",
      "{'History': 0.030308603991457895, 'Sculpture': 0.028145206474875943, 'Culture': 0.023672894379247137, 'Film': 0.02356806135920569, 'Geography': 0.02320421349164917, 'Painting': 0.02305220168066994, 'Medicine': 0.022514716270426133, 'Fitness': 0.02169978178193662, 'Earth': 0.020779975788907043, 'Food': 0.01815939735398965, 'Exercise': 0.0168629852298678, 'Recreation': 0.016685940145354097, 'Crime': 0.016514344911032663, 'Language': 0.01644092324532501, 'Internet': 0.015330794545304862, 'Games': 0.0153035552989865, 'Life': 0.01486302252894969, 'Media': 0.014767367080669908, 'Sport': 0.014415782769178011, 'Dance': 0.01367381990046725, 'War': 0.01322897190513676, 'Art': 0.013075080175810804, 'Health': 0.012122100327839525, 'Music': 0.011675382593045383, 'Literature': 0.011121387186636102, 'Education': 0.010335745352183219, 'Theatre': 0.010038530816272642, 'Architecture': 0.0032845475746463232}\n"
     ]
    }
   ],
   "source": [
    "for art in articles_test:\n",
    "    art['infobox_sims_text'] = tfdif_test_cosine(' '.join(art.get('infobox_tokens')), vectorizer_wiki3, trained_model_wiki3)\n",
    "    art['infobox_sims_text'] = {k: v for k, v in sorted(art.get('infobox_sims_text').items(), key = lambda item: item[1], reverse=True)}    \n",
    "    print(art.get('title'))\n",
    "    print(art.get('anchor_sims_text'))"
   ]
  },
  {
   "cell_type": "markdown",
   "metadata": {},
   "source": [
    "###  Text clanku - kosinusova podobnost"
   ]
  },
  {
   "cell_type": "code",
   "execution_count": 141,
   "metadata": {},
   "outputs": [
    {
     "name": "stdout",
     "output_type": "stream",
     "text": [
      "Anarchism\n",
      "{'Fitness': 0.39933652965431, 'Life': 0.36300868513842904, 'Games': 0.3356660211844196, 'Film': 0.31506541008390543, 'Culture': 0.3021243497686672, 'Earth': 0.3004439751184369, 'Sport': 0.28926622263670654, 'Medicine': 0.2869505605002411, 'Internet': 0.2773459231364972, 'Sculpture': 0.2696662763516006, 'Art': 0.2625904653395812, 'Dance': 0.25933183615493094, 'Painting': 0.24503529601477533, 'War': 0.24064286486673614, 'Food': 0.2375597205384696, 'History': 0.23754299174257565, 'Music': 0.22962742766588254, 'Media': 0.2170663673247739, 'Health': 0.19237482408122264, 'Crime': 0.18934380658895186, 'Geography': 0.18032836885607498, 'Language': 0.17692380173652184, 'Theatre': 0.16043712686108288, 'Literature': 0.1353309713435972, 'Recreation': 0.13472867537075325, 'Exercise': 0.12570660614677312, 'Education': 0.03060649118953453, 'Architecture': 0.0009211383659994514}\n",
      "Autism\n",
      "{'Art': 0.4722744443395023, 'Games': 0.469157118319701, 'Fitness': 0.4534333082501079, 'Life': 0.41639406310000876, 'Film': 0.4109323380413604, 'Culture': 0.4104486244544536, 'Internet': 0.3967132111794994, 'Media': 0.38721598068322816, 'Earth': 0.38619412755353644, 'Medicine': 0.3855300381136628, 'Crime': 0.37078664690882646, 'Dance': 0.3596116738522204, 'Food': 0.35062383701305594, 'Painting': 0.3431963064314333, 'Sport': 0.32292189164952056, 'War': 0.31875830538860916, 'Geography': 0.3094188770579442, 'Health': 0.30762651017985304, 'Sculpture': 0.3073898421960526, 'Theatre': 0.30018087889346445, 'Music': 0.2738430022910865, 'Language': 0.2520352234831755, 'Exercise': 0.23264195045851646, 'Literature': 0.1964186505369798, 'History': 0.19319200703600195, 'Recreation': 0.1851981917013849, 'Education': 0.020084817033388016, 'Architecture': 0.0005943477820031826}\n",
      "Albedo\n",
      "{'Art': 0.5183109923961629, 'Games': 0.46809715951935704, 'Internet': 0.4485530845584196, 'Fitness': 0.4427646783963611, 'Life': 0.40738471181398067, 'Culture': 0.3875251024975136, 'Medicine': 0.3711991856958431, 'Earth': 0.37043199648784536, 'Film': 0.363543519604435, 'Dance': 0.3603438365732294, 'Painting': 0.3552997018277162, 'Sport': 0.34131445671913546, 'Food': 0.33706313565712626, 'War': 0.31671434689057343, 'Crime': 0.3087614622806669, 'Media': 0.29340599034206055, 'Geography': 0.28836722486638533, 'Sculpture': 0.2882806424826538, 'Theatre': 0.2854158144245111, 'Health': 0.2837675017378249, 'Music': 0.27995233283434406, 'Language': 0.2509784333997046, 'Exercise': 0.23584929596356174, 'Literature': 0.1960113715541862, 'History': 0.19205803886403183, 'Recreation': 0.1857562665559985, 'Education': 0.0165631283222124}\n",
      "A\n",
      "{'Fitness': 0.5242180763604145, 'Games': 0.5082364236042102, 'Art': 0.5074938749500638, 'Life': 0.49482704909730135, 'Internet': 0.46569438474600816, 'Culture': 0.45308905725751164, 'Painting': 0.43283793284263195, 'Earth': 0.43150946230754633, 'Sport': 0.4268048372292433, 'Sculpture': 0.424556425725715, 'Dance': 0.42402449660805347, 'Medicine': 0.42279895300969794, 'Film': 0.41945466420966065, 'Food': 0.38147690676391177, 'War': 0.3613410941598428, 'Media': 0.34657711051775814, 'Crime': 0.3364558313391612, 'Geography': 0.3315704528314278, 'Music': 0.32335584185149774, 'Theatre': 0.32276723385154366, 'Health': 0.320068388234553, 'Exercise': 0.30727326788478204, 'Language': 0.29568168221273583, 'Literature': 0.2437428940425931, 'History': 0.2411882500464154, 'Recreation': 0.23868422855752322, 'Education': 0.036530631691466434, 'Architecture': 0.013428530113919823}\n",
      "Alabama\n",
      "{'Games': 0.7285919530509427, 'Art': 0.716491861436808, 'Fitness': 0.7034666945592722, 'Internet': 0.6751907890885115, 'Life': 0.6739788038180262, 'Painting': 0.637753781678143, 'Culture': 0.6125925128786355, 'Medicine': 0.6040451513399585, 'Film': 0.6002556474336556, 'Earth': 0.594042392916919, 'Dance': 0.5796328060001816, 'Sport': 0.5514760008189208, 'Food': 0.5158771770480746, 'Crime': 0.493753940170574, 'War': 0.48334462987065985, 'Media': 0.472572003534687, 'Geography': 0.4575536211519745, 'Theatre': 0.4561964315676869, 'Sculpture': 0.44918649145116946, 'Music': 0.43286095418359727, 'Language': 0.4255454520388185, 'Health': 0.42039032639630275, 'Exercise': 0.36589331950534226, 'History': 0.3466056197587347, 'Literature': 0.3142978939286712, 'Recreation': 0.3076866521758311, 'Education': 0.031165325908295165, 'Architecture': 0.0012270704558748487}\n",
      "Achilles\n",
      "{'Art': 0.6249799819719826, 'Fitness': 0.6183453557387519, 'Culture': 0.5876313296290493, 'Games': 0.5807047603754812, 'Medicine': 0.5762651933909965, 'Life': 0.5553934243611488, 'Earth': 0.5537099906866674, 'Internet': 0.5129743490467952, 'Dance': 0.5070502856354259, 'Film': 0.4944644340708899, 'Sport': 0.4713344940879995, 'War': 0.4514854680144775, 'Painting': 0.4470370402600256, 'Food': 0.4374794505456413, 'Sculpture': 0.43584911227870665, 'Exercise': 0.4191611599933061, 'Geography': 0.4150937521340549, 'Crime': 0.4107199696291364, 'Media': 0.4080264897100306, 'Theatre': 0.3904302643256513, 'Health': 0.38564519100165584, 'Music': 0.3777794116931677, 'Language': 0.37622051819319896, 'Literature': 0.30700096029828955, 'Recreation': 0.29035161992571146, 'History': 0.262902060828504, 'Education': 0.03622747806630828, 'Architecture': 0.011937653055475077}\n",
      "Abraham Lincoln\n",
      "{'Fitness': 0.27433937697869465, 'Games': 0.26031343885334324, 'Life': 0.25884661290339644, 'Medicine': 0.2514754974468657, 'Art': 0.22677817226961253, 'Internet': 0.22605451491568004, 'Earth': 0.22600800899304774, 'Film': 0.2243250632830016, 'Culture': 0.2237996894935386, 'Sport': 0.21158644678793814, 'Painting': 0.20890264236818362, 'Dance': 0.20510768305484747, 'War': 0.1839724161708901, 'Sculpture': 0.18096027609743548, 'Food': 0.1801360214277764, 'Media': 0.1686389598411117, 'Crime': 0.16300039284022896, 'Music': 0.1628911790552269, 'Geography': 0.15331778976937718, 'Language': 0.1528780660628287, 'Health': 0.15009212295254906, 'Theatre': 0.14649480004271379, 'History': 0.13585790970517594, 'Exercise': 0.130045066736431, 'Literature': 0.12205462627611889, 'Recreation': 0.10554800080037056, 'Education': 0.02245824703869706, 'Architecture': 0.0006487817458457173}\n",
      "Aristotle\n",
      "{'Fitness': 0.36685879940808874, 'Games': 0.31455827845423356, 'Life': 0.2975317458319599, 'Sport': 0.27993148876669244, 'Culture': 0.2755356867007464, 'Internet': 0.2691755153934823, 'Earth': 0.25906144713464, 'Art': 0.2558478811452082, 'Film': 0.252508510556858, 'Dance': 0.233706432958516, 'Medicine': 0.2326340489692436, 'Sculpture': 0.23024579198431128, 'Painting': 0.22558349644082912, 'War': 0.21724327962420287, 'Food': 0.20664686321599984, 'Media': 0.19843992750352576, 'Music': 0.1966248441844282, 'Crime': 0.17578767373932302, 'Health': 0.17197775928319686, 'History': 0.17063166793575454, 'Geography': 0.16656790053220857, 'Language': 0.16183595490518382, 'Theatre': 0.15522602694354054, 'Exercise': 0.1432794754720397, 'Recreation': 0.13661075160217373, 'Literature': 0.1335776517839687, 'Education': 0.023865869374249553, 'Architecture': 0.001762701877738502}\n",
      "An American in Paris\n",
      "{'Games': 0.39002493801123583, 'Fitness': 0.3863328074444349, 'Art': 0.37398472263141685, 'Life': 0.37184174490315924, 'Internet': 0.35152240457267514, 'Culture': 0.35054007660640985, 'Painting': 0.3276517059295021, 'Medicine': 0.32564037736842827, 'Film': 0.3198933993322732, 'Earth': 0.3197543413264655, 'Dance': 0.31779730194993394, 'Sport': 0.29655542894863407, 'Recreation': 0.2947506089958597, 'Food': 0.28516524444965013, 'War': 0.2639723612705598, 'Geography': 0.25848847211132064, 'Crime': 0.25625030304593377, 'Media': 0.25215568210000444, 'Sculpture': 0.24460118062549774, 'Theatre': 0.24389686310655095, 'Music': 0.24135356172906086, 'Health': 0.23346963425752532, 'Language': 0.21390978688829027, 'Literature': 0.2099508989419305, 'Exercise': 0.20170580595284143, 'History': 0.1646516932775823, 'Education': 0.027251259590983474}\n",
      "Academy Award for Best Production Design\n",
      "{'Art': 0.4317090108867019, 'Fitness': 0.41888154351478024, 'Culture': 0.3889357819266454, 'Earth': 0.36118499159439255, 'Games': 0.3500593697398012, 'Sport': 0.34855853170310996, 'Life': 0.34265626421920076, 'War': 0.3310260148898274, 'Medicine': 0.31717875676892376, 'Sculpture': 0.31552228377263014, 'Dance': 0.31544859975201217, 'Painting': 0.27964903292255583, 'Internet': 0.27710505821798065, 'Film': 0.26863124739668953, 'Exercise': 0.2654498379838086, 'Language': 0.2630601327652528, 'Food': 0.2597542671223604, 'Music': 0.2522331174125631, 'Media': 0.2511024267703296, 'Recreation': 0.2490858312838188, 'Crime': 0.24584749662439964, 'Health': 0.242238919718312, 'Literature': 0.23798388406506293, 'Geography': 0.23705458838183552, 'Theatre': 0.21982970717878872, 'History': 0.17872729680780977, 'Education': 0.016890312862020734, 'Architecture': 0.0008215801299914328}\n"
     ]
    },
    {
     "name": "stdout",
     "output_type": "stream",
     "text": [
      "Academy Awards\n",
      "{'Games': 0.5070169212845437, 'Internet': 0.4720164168192308, 'Painting': 0.46302550099452694, 'Fitness': 0.45333874104801053, 'Life': 0.4521203638395053, 'Art': 0.43570882002864353, 'Culture': 0.39910122325966474, 'Film': 0.3926109669805059, 'Medicine': 0.38013096130422785, 'Dance': 0.37379167562689347, 'Sport': 0.35001299477041176, 'Earth': 0.3497612862161938, 'Food': 0.34259004874901894, 'Crime': 0.30985362094045854, 'Theatre': 0.3002311112736856, 'Geography': 0.2966884522449866, 'Media': 0.2950302928790549, 'War': 0.27945972119664414, 'Music': 0.2728395790582755, 'Health': 0.2529291648245821, 'Sculpture': 0.24906210694585074, 'Language': 0.23534914559814069, 'History': 0.21670056292160148, 'Exercise': 0.21016938307690894, 'Literature': 0.18115075463563365, 'Recreation': 0.1770493380084246, 'Education': 0.03615442964702903, 'Architecture': 0.006726200569632919}\n",
      "Actrius\n",
      "{'Games': 0.5127864806573236, 'Art': 0.4855286505530308, 'Fitness': 0.4810416107840157, 'Life': 0.4570663048971998, 'Internet': 0.4428903103369488, 'Painting': 0.4283337511448363, 'Culture': 0.4278935510838447, 'Medicine': 0.4026434882640242, 'Earth': 0.39540230217308364, 'Film': 0.39156196611244637, 'Dance': 0.3877574365180867, 'Sport': 0.3756668673723346, 'Food': 0.34998347097008486, 'War': 0.3340808774552296, 'Sculpture': 0.3188870538419668, 'Crime': 0.3168049713079942, 'Media': 0.3144151678770621, 'Geography': 0.3045574774598957, 'Theatre': 0.30249834496368305, 'Music': 0.3014319079763688, 'Health': 0.27341022144999316, 'Language': 0.2703480191528869, 'Exercise': 0.22772665109835255, 'History': 0.21753361586821438, 'Literature': 0.2137970045270873, 'Recreation': 0.2079597537765505, 'Education': 0.028275099649212314}\n",
      "Animalia (book)\n",
      "{'Games': 0.4085207467802082, 'Internet': 0.3813222334328695, 'Painting': 0.3759550584723474, 'Life': 0.3607436573611374, 'Fitness': 0.3525597256443496, 'Art': 0.33738089665607945, 'Film': 0.3253552844998762, 'Culture': 0.3112652108457513, 'Medicine': 0.30816668239719863, 'Dance': 0.2985179272813878, 'Food': 0.2779376895150606, 'Earth': 0.27636622177372144, 'Sport': 0.2693034377632404, 'Crime': 0.24864973276810348, 'Theatre': 0.24113134419081633, 'Geography': 0.23872224934832006, 'Media': 0.2286782937628728, 'Music': 0.2143287338922382, 'War': 0.2068919321105996, 'Health': 0.19562072134807817, 'Sculpture': 0.18670214274366423, 'Language': 0.17641773528074556, 'History': 0.16371011195666996, 'Exercise': 0.14973230574344304, 'Literature': 0.127357378584509, 'Recreation': 0.12086544805729595, 'Education': 0.013406516253597126}\n",
      "International Atomic Time\n",
      "{'Games': 0.2753324859544849, 'Internet': 0.26190461763388867, 'Art': 0.2617187488804958, 'Life': 0.251264011979683, 'Fitness': 0.25113547519675333, 'Painting': 0.2454765344381218, 'Film': 0.21688378234114966, 'Medicine': 0.2075414764857994, 'Dance': 0.20520838983193782, 'Culture': 0.20467279412081296, 'Sport': 0.19598539292061584, 'Food': 0.19400436279986924, 'Earth': 0.19265011711919108, 'Crime': 0.17488972183445173, 'Media': 0.16606995554433815, 'Geography': 0.164923982928299, 'Theatre': 0.16097282806514412, 'Music': 0.16028673361500095, 'War': 0.15965018452184432, 'Health': 0.1535496812832206, 'Sculpture': 0.15065216782177107, 'Language': 0.13525836451747772, 'History': 0.13240981335400592, 'Exercise': 0.10758372098602643, 'Recreation': 0.1039394050274295, 'Literature': 0.1011899227806104, 'Education': 0.013556210716691698}\n",
      "Altruism\n",
      "{'Fitness': 0.5471531026767396, 'Games': 0.5245319263499573, 'Art': 0.512816702439558, 'Life': 0.4873081971581803, 'Earth': 0.4755665759989732, 'Culture': 0.46716399174588924, 'Internet': 0.4428249605175178, 'Medicine': 0.44251917906878635, 'Film': 0.43989215776182927, 'Dance': 0.41678451162732116, 'War': 0.40579519140469916, 'Sport': 0.39858616456127305, 'Crime': 0.396538214139591, 'Painting': 0.39065941853520353, 'Food': 0.38963929411228365, 'Media': 0.3741803802814727, 'Sculpture': 0.363929256768509, 'Geography': 0.34711525622423867, 'Health': 0.3399479729045057, 'Music': 0.330116489375522, 'Theatre': 0.3246563923256714, 'Language': 0.31708919481994424, 'History': 0.2858766075686591, 'Exercise': 0.27124462466080373, 'Literature': 0.23697300730787627, 'Recreation': 0.2290937721741822, 'Education': 0.0302594498268196, 'Architecture': 0.004071925387461842}\n",
      "Ayn Rand\n",
      "{'Fitness': 0.4499787510092085, 'Art': 0.4393839423699856, 'Games': 0.4307261373643629, 'Culture': 0.40985899707657747, 'Life': 0.4089987247665171, 'Earth': 0.390674578019373, 'Medicine': 0.37972448626965344, 'Internet': 0.36293040641894997, 'Dance': 0.3612079742968682, 'Film': 0.3611571461318055, 'Painting': 0.33115847191579856, 'Sport': 0.3292978058268465, 'Food': 0.3225412006160351, 'War': 0.3166591078672424, 'Sculpture': 0.30788734075039936, 'Crime': 0.29293216510285996, 'Geography': 0.28630826393296627, 'Media': 0.28415341489285667, 'Theatre': 0.2773257368573676, 'Health': 0.2744617610724387, 'Music': 0.26935917545799437, 'Language': 0.2605488850233305, 'Exercise': 0.24166113767880695, 'Literature': 0.20237352396128383, 'History': 0.18598776544314838, 'Recreation': 0.18502205767802085, 'Education': 0.019726449021405263, 'Architecture': 0.0003125797073238929}\n",
      "Alain Connes\n",
      "{'Sport': 0.3604707769069864, 'Games': 0.3371803968058105, 'Fitness': 0.3351040580244314, 'Art': 0.3168071210475477, 'Life': 0.30837140835233967, 'Internet': 0.30552660263508274, 'Culture': 0.29380568026784165, 'Painting': 0.28480847826885597, 'Film': 0.2797104021677809, 'Medicine': 0.27678636770097875, 'Dance': 0.27630534676065094, 'Earth': 0.262395726890281, 'Food': 0.2563621248964311, 'Crime': 0.22492704294841742, 'Media': 0.21222848427533014, 'Theatre': 0.21009672201380009, 'Geography': 0.20832050214641135, 'Music': 0.2058927064772588, 'War': 0.20319403367765487, 'Health': 0.19825168447881367, 'Sculpture': 0.18342711440783044, 'History': 0.17552949783168267, 'Language': 0.17006271959075145, 'Exercise': 0.15197748455122703, 'Literature': 0.12499378751102738, 'Recreation': 0.11321310726456207, 'Education': 0.01412661586097637}\n",
      "Allan Dwan\n",
      "{'Fitness': 0.26663132992723765, 'Games': 0.2649299063333655, 'Life': 0.2569402032513439, 'Art': 0.24679475425871708, 'Internet': 0.24176577067212857, 'Culture': 0.230033026277813, 'Medicine': 0.22524533484121773, 'Painting': 0.2231616186821309, 'Dance': 0.21780279570200475, 'Earth': 0.21593889042582043, 'Film': 0.21512558378106156, 'Sport': 0.19781155534877712, 'Food': 0.1925989743308257, 'Media': 0.17360371797688826, 'War': 0.1719813108714443, 'Crime': 0.1715099820096579, 'Music': 0.1680610263780423, 'Geography': 0.16735327209433282, 'Language': 0.16243063588850612, 'Sculpture': 0.16188855691174747, 'Theatre': 0.15902750126013768, 'Health': 0.15575889883900904, 'Exercise': 0.1407081955673681, 'History': 0.12710973889132698, 'Literature': 0.11523019057507708, 'Recreation': 0.10988144473824106, 'Education': 0.02148239115594481}\n",
      "Algeria\n",
      "{'Games': 0.5595582535277237, 'Internet': 0.5469584654276765, 'Life': 0.524880299484055, 'Painting': 0.5115837494423792, 'Fitness': 0.5092796264619406, 'Art': 0.49411055782682234, 'Film': 0.4621480495294544, 'Medicine': 0.4601773562487965, 'Culture': 0.4448547972204776, 'Dance': 0.4264995217251575, 'Earth': 0.4154689554395038, 'Sport': 0.39452781689444716, 'Food': 0.38950218883092275, 'Crime': 0.36108965778455954, 'Media': 0.34991317933332755, 'Theatre': 0.34541720444052926, 'Geography': 0.3381575313583958, 'War': 0.32018833027725585, 'Music': 0.312513529587006, 'Sculpture': 0.29372446847740924, 'Health': 0.29037671908689044, 'Language': 0.272701482057685, 'History': 0.25850868853464637, 'Exercise': 0.24965818282876048, 'Literature': 0.20550437398934226, 'Recreation': 0.20458565238484444, 'Education': 0.06595317401362341, 'Architecture': 0.0016653038940365882}\n",
      "List of Atlas Shrugged characters\n",
      "{'Fitness': 0.21885329392606476, 'Life': 0.19077552347314855, 'Culture': 0.17483795559071993, 'Dance': 0.17446769985413998, 'War': 0.16991837984616642, 'Games': 0.16901853928932306, 'Earth': 0.1649973368071648, 'Sport': 0.16431780347306785, 'Sculpture': 0.15939223401658387, 'Art': 0.15669893923103878, 'Medicine': 0.15421070518706678, 'Film': 0.14439622888597065, 'History': 0.1441247434231744, 'Media': 0.13945633519737688, 'Language': 0.13908654627574818, 'Internet': 0.1383537470634665, 'Painting': 0.13788918191910113, 'Music': 0.13431429582158314, 'Food': 0.1335506967551619, 'Health': 0.12456664142572683, 'Crime': 0.11917898381781629, 'Recreation': 0.11908004520264791, 'Geography': 0.1165225003794303, 'Exercise': 0.11419498962254883, 'Literature': 0.10337721462845535, 'Theatre': 0.10061411980741647, 'Education': 0.02367036239957047}\n",
      "Anthropology\n",
      "{'Fitness': 0.5555272960125855, 'Life': 0.5144538405423862, 'Games': 0.5113952197544958, 'Art': 0.5024897343771301, 'Earth': 0.4875139580265628, 'Culture': 0.48495308789765396, 'Medicine': 0.4609164646232097, 'Internet': 0.4477120514033027, 'Film': 0.4437847470097836, 'Dance': 0.4312775659152805, 'Sport': 0.3997651185062284, 'Painting': 0.39596788546739287, 'Food': 0.3933277615199167, 'Sculpture': 0.387283751380047, 'Media': 0.37830074493514837, 'War': 0.37527169813842387, 'Crime': 0.369496900088426, 'Geography': 0.34561174690493857, 'Health': 0.3378114445112156, 'Theatre': 0.3312866541775049, 'Music': 0.32482578381423854, 'History': 0.3201181234295799, 'Language': 0.30544180716924474, 'Exercise': 0.28075208426556203, 'Literature': 0.24075763794943228, 'Recreation': 0.2362579371527002, 'Education': 0.054932282071444086, 'Architecture': 0.002215587840315452}\n",
      "Agricultural science\n",
      "{'Fitness': 0.32058722253693117, 'Life': 0.2772263104397602, 'Internet': 0.27345713395072846, 'Theatre': 0.26426015750442844, 'Games': 0.2642030637229057, 'Dance': 0.24915832425060072, 'Film': 0.23609241842293888, 'History': 0.23138192057359763, 'Painting': 0.23083925001221778, 'Food': 0.22107420302885036, 'Art': 0.22062982260813135, 'Culture': 0.20155993278130802, 'Medicine': 0.1952095420752338, 'Sport': 0.19465027718171313, 'Earth': 0.19059784791992948, 'Crime': 0.18885373429877322, 'Media': 0.18585804461763614, 'Geography': 0.15828895211079633, 'Health': 0.15518016843488328, 'Music': 0.1546448360949323, 'War': 0.15022076219873845, 'Sculpture': 0.13264031685906144, 'Language': 0.12740314727183938, 'Exercise': 0.11603243935851287, 'Recreation': 0.0931531948868652, 'Literature': 0.09022443710578791, 'Education': 0.02777183627421506}\n",
      "Alchemy\n",
      "{'Fitness': 0.5181982455847262, 'Art': 0.4764539813106766, 'Culture': 0.46400603134467705, 'Games': 0.4558941007545823, 'Life': 0.4472326213110019, 'Earth': 0.4407014968883434, 'Medicine': 0.40877837868454786, 'Dance': 0.40407353614171143, 'Internet': 0.39834571722359563, 'Film': 0.392492794238095, 'Sport': 0.3681227135782036, 'Food': 0.35207931619284544, 'War': 0.35119748496391817, 'Painting': 0.3456922247843123, 'Media': 0.344227641767486, 'Sculpture': 0.3381820247833604, 'Crime': 0.3174617032759413, 'Geography': 0.31384481646738327, 'Health': 0.30853124675459503, 'Theatre': 0.3000874868810856, 'Music': 0.29930489009002414, 'Exercise': 0.29418196457601303, 'Language': 0.28163118385808955, 'Literature': 0.2233832955867894, 'Recreation': 0.21021145438346153, 'History': 0.205563469128031, 'Education': 0.029038131545932332, 'Architecture': 0.004216911618218795}\n",
      "Alien\n",
      "{'Recreation': 0.08939683966645683, 'Fitness': 0.08901794720031264, 'Games': 0.07837314200589417, 'Life': 0.07624054452254052, 'War': 0.07510908468094318, 'Culture': 0.07173390530805267, 'Art': 0.07171043639664677, 'Sport': 0.07098131518377028, 'Sculpture': 0.06922033288399522, 'Earth': 0.06768272952993964, 'Internet': 0.0620938103769937, 'Medicine': 0.06055044547098747, 'Education': 0.05990791160751231, 'Language': 0.05921162855311404, 'Dance': 0.056273640267804105, 'Literature': 0.05240462311664292, 'Exercise': 0.051585551144174256, 'History': 0.05021786950353592, 'Music': 0.05000482137570085, 'Food': 0.04853392016265142, 'Media': 0.048435669047974694, 'Painting': 0.04682330907404051, 'Geography': 0.04521045448599175, 'Health': 0.04471285917686685, 'Crime': 0.04169628052034898, 'Film': 0.04114384184974091, 'Theatre': 0.03238123765558705, 'Architecture': 0.01823668188126587}\n",
      "Astronomer\n",
      "{'Fitness': 0.27678452593606506, 'Internet': 0.26749251643636, 'Games': 0.2657596274342959, 'Life': 0.2444599261882333, 'Painting': 0.24047409180846274, 'Art': 0.2393500298985056, 'Film': 0.2278540071736286, 'Dance': 0.21591316850622636, 'Sport': 0.19569628921416551, 'Food': 0.19473187840853054, 'Medicine': 0.19458139088508844, 'Culture': 0.19049519858657266, 'Earth': 0.18069047363533314, 'History': 0.1793970728484457, 'Media': 0.17894061097206196, 'Crime': 0.1689371901061657, 'Geography': 0.16453703092450686, 'Health': 0.15578380223312685, 'Theatre': 0.15530896249611872, 'Music': 0.14689372950417667, 'War': 0.14559332347725665, 'Sculpture': 0.13679120061350009, 'Language': 0.12517898011738368, 'Exercise': 0.11556240112977849, 'Recreation': 0.10027349720685928, 'Literature': 0.09360397316073796, 'Education': 0.020006303016303312}\n"
     ]
    },
    {
     "name": "stdout",
     "output_type": "stream",
     "text": [
      "ASCII\n",
      "{'Fitness': 0.494854530156508, 'Art': 0.48244334296120317, 'Games': 0.4458548829367324, 'Culture': 0.4338992436352611, 'Life': 0.43003571792525996, 'Earth': 0.41378608557146734, 'Sport': 0.41197206951734655, 'War': 0.38736406348115804, 'Dance': 0.3864063382358102, 'Medicine': 0.37721239204602613, 'Sculpture': 0.3692991632302381, 'Painting': 0.367260498287583, 'Internet': 0.3629515283333163, 'Food': 0.3431442909680095, 'Film': 0.33870165097423305, 'Language': 0.3229508905924473, 'Music': 0.31124060837541745, 'Media': 0.30609924193833044, 'Crime': 0.3014153912471974, 'Health': 0.2965019995583556, 'Exercise': 0.2869776168191269, 'Geography': 0.28492651483824527, 'Theatre': 0.2709912221547795, 'Recreation': 0.2708235029945509, 'Literature': 0.2667912529998638, 'History': 0.21957194004841446, 'Education': 0.02307065477116307, 'Architecture': 0.0012592414485311188}\n",
      "Austin (disambiguation)\n",
      "{'Education': 0.020770524978731584, 'Sculpture': 0.0170901024074799, 'Earth': 0.010860599710672028, 'Fitness': 0.008358953313856611, 'Dance': 0.008182271870027055, 'History': 0.007834453090558538, 'Film': 0.006949149231548454, 'Life': 0.006427452787127863, 'Art': 0.005842940789683549, 'Language': 0.0056739915431882485, 'Crime': 0.005649656943803438, 'Media': 0.0054552086121375, 'Culture': 0.005434999193142891, 'Games': 0.005337318057333723, 'Medicine': 0.005203916852819016, 'Sport': 0.005079124340051581, 'War': 0.005022619417076037, 'Internet': 0.004985505115517244, 'Food': 0.0047600927839389654, 'Painting': 0.004724444648226111, 'Geography': 0.004618118780306751, 'Exercise': 0.004431688742283089, 'Health': 0.004186025308868549, 'Theatre': 0.004149175059199921, 'Music': 0.0039347035813847185, 'Recreation': 0.0038743983031265723, 'Literature': 0.003304883613756583}\n",
      "Animation\n",
      "{'Life': 0.3006297192305951, 'Fitness': 0.30048111208667905, 'Internet': 0.29316665240317397, 'Games': 0.29100391841972034, 'Painting': 0.25124837615996287, 'Culture': 0.24959078769027773, 'Film': 0.24824515578317324, 'Sport': 0.23776952509837748, 'Food': 0.23673575349461065, 'Art': 0.23448900366173916, 'Earth': 0.23247673901946012, 'Dance': 0.23050627691501646, 'Medicine': 0.22811538407330412, 'Sculpture': 0.2063081816547533, 'Media': 0.19694508765842902, 'Music': 0.1899355359928094, 'Theatre': 0.1852454245770107, 'Geography': 0.1844568013193595, 'War': 0.17841351629933247, 'Crime': 0.17777578466122093, 'History': 0.17550429852278696, 'Health': 0.1640484852669681, 'Exercise': 0.1500584629450288, 'Language': 0.14101566646476624, 'Recreation': 0.1259321759005014, 'Literature': 0.11489605245869339, 'Education': 0.06314052262012289, 'Architecture': 0.006792173696781181}\n",
      "Apollo\n",
      "{'Art': 0.475386321208781, 'Fitness': 0.44659508967760037, 'Culture': 0.44188410264808503, 'Earth': 0.42576376173469827, 'Games': 0.4178656334039765, 'Medicine': 0.40348368598605816, 'Life': 0.4023096517061715, 'Dance': 0.37510471161758396, 'Internet': 0.37259823862726665, 'Film': 0.3606665582814366, 'Sport': 0.3489505430914545, 'War': 0.3389633948345057, 'Painting': 0.325489962475751, 'Sculpture': 0.32513542855377037, 'Food': 0.32287952083290605, 'Exercise': 0.3208628864351017, 'Crime': 0.30844992026134477, 'Geography': 0.3053432708635321, 'Media': 0.29991519019950086, 'Theatre': 0.29452295170017145, 'Health': 0.28941711204622833, 'Language': 0.2837070653369894, 'Music': 0.2750151874606274, 'Literature': 0.23034239645173835, 'Recreation': 0.22612568659459512, 'History': 0.18629431374886501, 'Education': 0.02116969220383143, 'Architecture': 0.0038757454166453618}\n",
      "Andre Agassi\n",
      "{'Games': 0.6942710050500157, 'Art': 0.6636913173594317, 'Fitness': 0.6600778653734654, 'Life': 0.6352886396956466, 'Internet': 0.6163304851125484, 'Culture': 0.5914311187984631, 'Painting': 0.5894538596132197, 'Medicine': 0.5630326911665328, 'Film': 0.5549667602734861, 'Earth': 0.5484433701262016, 'Dance': 0.5393756617449529, 'Sport': 0.5156730614843247, 'Food': 0.4926985745162964, 'War': 0.4529859289888717, 'Crime': 0.45263529168116967, 'Media': 0.43640269945605364, 'Geography': 0.434025171872269, 'Theatre': 0.42612838942113723, 'Sculpture': 0.42083586058787004, 'Music': 0.4116850683581305, 'Health': 0.3888515930610272, 'Language': 0.37324678999056654, 'Exercise': 0.33570733747431253, 'History': 0.3000508821332781, 'Literature': 0.296056098882348, 'Recreation': 0.2894744900686252, 'Education': 0.030888480113462805, 'Architecture': 0.006353734457814925}\n"
     ]
    }
   ],
   "source": [
    "for art in articles_test:\n",
    "    art['text_sims_text'] = tfdif_test_cosine(' '.join(art.get('text_tokens')), vectorizer_wiki3, trained_model_wiki3)\n",
    "    art['text_sims_text'] = {k: v for k, v in sorted(art.get('text_sims_text').items(), key = lambda item: item[1], reverse=True)}    \n",
    "    print(art.get('title'))\n",
    "    print(art.get('text_sims_text'))"
   ]
  },
  {
   "cell_type": "code",
   "execution_count": 143,
   "metadata": {},
   "outputs": [],
   "source": [
    "with open(f'../data/test_30_tested.json', 'w') as outfile:\n",
    "    json.dump(articles_test, outfile, indent=4)"
   ]
  },
  {
   "cell_type": "markdown",
   "metadata": {},
   "source": [
    "## Testovanie a vyhodnotenie"
   ]
  },
  {
   "cell_type": "markdown",
   "metadata": {},
   "source": [
    "### DATAMUSE gazeteer"
   ]
  },
  {
   "cell_type": "markdown",
   "metadata": {},
   "source": [
    "#### Anchor text +  Kategorie Wiki + Infobox + Text clanku"
   ]
  },
  {
   "cell_type": "code",
   "execution_count": 158,
   "metadata": {
    "scrolled": true
   },
   "outputs": [
    {
     "name": "stdout",
     "output_type": "stream",
     "text": [
      "                                          Anchor  Categories  Infobox    Text  \\\n",
      "Anarchism                                  25.00       75.00     0.00   50.00   \n",
      "Autism                                     66.67        0.00    33.33    0.00   \n",
      "Albedo                                      0.00        0.00     0.00    0.00   \n",
      "A                                          50.00        0.00    50.00    0.00   \n",
      "Alabama                                     0.00        0.00     0.00    0.00   \n",
      "Achilles                                    0.00       66.67     0.00   66.67   \n",
      "Abraham Lincoln                            40.00       40.00    20.00   20.00   \n",
      "Aristotle                                  57.14       57.14    57.14   42.86   \n",
      "An American in Paris                       50.00       25.00     0.00   50.00   \n",
      "Academy Award for Best Production Design   66.67       66.67    66.67   66.67   \n",
      "Academy Awards                             66.67       66.67    66.67   66.67   \n",
      "Actrius                                     0.00      100.00   100.00  100.00   \n",
      "Animalia (book)                           100.00      100.00   100.00  100.00   \n",
      "International Atomic Time                   0.00        0.00     0.00    0.00   \n",
      "Altruism                                   33.33       66.67     0.00   33.33   \n",
      "Ayn Rand                                   33.33       33.33     0.00   66.67   \n",
      "Alain Connes                               33.33       33.33    66.67   33.33   \n",
      "Allan Dwan                                100.00      100.00   100.00  100.00   \n",
      "Algeria                                     0.00        0.00     0.00    0.00   \n",
      "List of Atlas Shrugged characters           0.00      100.00     0.00  100.00   \n",
      "Anthropology                               40.00        0.00     0.00   60.00   \n",
      "Agricultural science                       50.00       25.00     0.00   75.00   \n",
      "Alchemy                                    50.00        0.00     0.00    0.00   \n",
      "Alien                                      25.00        0.00     0.00   25.00   \n",
      "Astronomer                                 66.67       66.67     0.00   33.33   \n",
      "ASCII                                      50.00       50.00     0.00   25.00   \n",
      "Austin (disambiguation)                     0.00        0.00     0.00    0.00   \n",
      "Animation                                  66.67       66.67     0.00   33.33   \n",
      "Apollo                                      0.00        0.00     0.00   33.33   \n",
      "Andre Agassi                                0.00        0.00     0.00   50.00   \n",
      "\n",
      "                                             All  \n",
      "Anarchism                                  75.00  \n",
      "Autism                                     66.67  \n",
      "Albedo                                      0.00  \n",
      "A                                          50.00  \n",
      "Alabama                                     0.00  \n",
      "Achilles                                   66.67  \n",
      "Abraham Lincoln                            60.00  \n",
      "Aristotle                                  85.71  \n",
      "An American in Paris                       50.00  \n",
      "Academy Award for Best Production Design  100.00  \n",
      "Academy Awards                             66.67  \n",
      "Actrius                                   100.00  \n",
      "Animalia (book)                           100.00  \n",
      "International Atomic Time                   0.00  \n",
      "Altruism                                   83.33  \n",
      "Ayn Rand                                   66.67  \n",
      "Alain Connes                               66.67  \n",
      "Allan Dwan                                100.00  \n",
      "Algeria                                     0.00  \n",
      "List of Atlas Shrugged characters         100.00  \n",
      "Anthropology                               60.00  \n",
      "Agricultural science                      100.00  \n",
      "Alchemy                                    50.00  \n",
      "Alien                                      25.00  \n",
      "Astronomer                                100.00  \n",
      "ASCII                                      50.00  \n",
      "Austin (disambiguation)                     0.00  \n",
      "Animation                                 100.00  \n",
      "Apollo                                     33.33  \n",
      "Andre Agassi                               50.00  \n",
      "           Anchor  Categories     Infobox        Text         All\n",
      "count   30.000000   30.000000   30.000000   30.000000   30.000000\n",
      "mean    35.682667   37.960667   22.016000   41.039667   60.190667\n",
      "std     30.835777   37.092951   35.267161   33.742612   34.684756\n",
      "min      0.000000    0.000000    0.000000    0.000000    0.000000\n",
      "25%      0.000000    0.000000    0.000000    5.000000   50.000000\n",
      "50%     36.665000   33.330000    0.000000   33.330000   66.670000\n",
      "75%     55.355000   66.670000   45.832500   66.670000   96.427500\n",
      "max    100.000000  100.000000  100.000000  100.000000  100.000000\n",
      "\n",
      "Average of All column:  60.19\n",
      "Precision:  0.48585954275609444\n",
      "Recall:  0.6436781609195402\n",
      "F1: 0.5077648405234612\n"
     ]
    },
    {
     "name": "stderr",
     "output_type": "stream",
     "text": [
      "D:\\anaconda3\\lib\\site-packages\\sklearn\\preprocessing\\_label.py:994: UserWarning: unknown class(es) ['Crime', 'Dance', 'Earth', 'Education', 'Exercise', 'Fitness', 'Food', 'Internet', 'Media', 'Painting'] will be ignored\n",
      "  warnings.warn('unknown class(es) {0} will be ignored'\n"
     ]
    }
   ],
   "source": [
    "from more_itertools import take\n",
    "from sklearn.metrics import classification_report\n",
    "from sklearn.preprocessing import MultiLabelBinarizer\n",
    "from sklearn.metrics import recall_score, precision_score, f1_score\n",
    "\n",
    "with open('../data/test_30_tested.json') as json_file:\n",
    "    articles_test = json.load(json_file)\n",
    "    \n",
    "titles = [art.get('title') for art in articles_test]\n",
    "anchors = [0] * 30\n",
    "categories = [0] * 30\n",
    "infoboxes = [0] * 30\n",
    "texts = [0] * 30\n",
    "extended = [0] * 30\n",
    "counter = 0\n",
    "\n",
    "for art in articles_test:\n",
    "    len_annotated = len(art.get('annotated_categories'))\n",
    "    \n",
    "    n_anchors = take(len_annotated, art.get('anchor_sims').keys())\n",
    "    n_anchors.extend(take(len_annotated, art.get('categories_sims').keys()))\n",
    "    n_anchors.extend(take(len_annotated, art.get('infobox_sims').keys()))\n",
    "    n_anchors.extend(take(len_annotated, art.get('text_sims').keys()))\n",
    "    art['extended_sims'] = list(set(n_anchors))\n",
    "    \n",
    "    for cat in art.get('annotated_categories'):\n",
    "        if cat in art.get('anchor_sims') and not pd.isna(art.get('anchor_sims').get(cat)) and list(art.get('anchor_sims')).index(cat) + 1 <= len_annotated:\n",
    "            anchors[counter] += 1\n",
    "        if cat in art.get('categories_sims') and not pd.isna(art.get('categories_sims').get(cat)) and list(art.get('categories_sims')).index(cat) + 1 <= len_annotated:\n",
    "            categories[counter] += 1\n",
    "        if cat in art.get('infobox_sims') and not pd.isna(art.get('infobox_sims').get(cat)) and list(art.get('infobox_sims')).index(cat) + 1 <= len_annotated:\n",
    "            infoboxes[counter] += 1\n",
    "        if cat in art.get('text_sims') and not pd.isna(art.get('text_sims').get(cat)) and list(art.get('text_sims')).index(cat) + 1 <= len_annotated:\n",
    "            texts[counter] += 1\n",
    "        if cat in art.get('extended_sims'):\n",
    "            extended[counter] += 1\n",
    "    anchors[counter] = float(\"{:.2f}\".format(anchors[counter] / len_annotated * 100))\n",
    "    categories[counter] = float(\"{:.2f}\".format(categories[counter] / len_annotated * 100))\n",
    "    infoboxes[counter] = float(\"{:.2f}\".format(infoboxes[counter] / len_annotated * 100))\n",
    "    texts[counter] = float(\"{:.2f}\".format(texts[counter] / len_annotated* 100))\n",
    "    extended[counter] = float(\"{:.2f}\".format(extended[counter] / len_annotated* 100))\n",
    "\n",
    "    counter += 1\n",
    "    \n",
    "cars = {\n",
    "    'Anchor': anchors,\n",
    "    'Categories': categories,\n",
    "    'Infobox': infoboxes, \n",
    "    'Text': texts,\n",
    "    'All': extended\n",
    "}\n",
    "\n",
    "df = pd.DataFrame(cars, columns = ['Anchor','Categories','Infobox','Text','All'], index=titles)\n",
    "\n",
    "print(df)\n",
    "print (df.describe())\n",
    "print('\\nAverage of All column: ', float(\"{:.2f}\".format(df['All'].mean())))\n",
    "\n",
    "A=[art['annotated_categories'] for art in articles_test]\n",
    "B=[art['extended_sims'] for art in articles_test]\n",
    "#A=[[ \"Culture\",\"Philosophy\",\"Belief\",\"Society\"],['Society']]\n",
    "#B=[['Culture', 'Philosophy', 'Belief','dsdasd'],['dsd']]\n",
    "\n",
    "multi = MultiLabelBinarizer()\n",
    "\n",
    "y_true = multi.fit(A).transform(A)\n",
    "y_pred = multi.transform(B)\n",
    "\n",
    "print('Precision: ',precision_score(y_true, y_pred,average='weighted',zero_division=1))\n",
    "print('Recall: ',recall_score(y_true, y_pred, average='weighted',zero_division=1))\n",
    "print('F1:' ,f1_score(y_true, y_pred, average='weighted'))"
   ]
  },
  {
   "cell_type": "markdown",
   "metadata": {},
   "source": [
    "### WIKI kategorie gazeteer"
   ]
  },
  {
   "cell_type": "markdown",
   "metadata": {},
   "source": [
    "#### Anchor text +  Kategorie Wiki + Infobox + Text clanku"
   ]
  },
  {
   "cell_type": "code",
   "execution_count": 45,
   "metadata": {
    "scrolled": true
   },
   "outputs": [
    {
     "name": "stdout",
     "output_type": "stream",
     "text": [
      "                                          Anchor  Categories  Infobox   Text  \\\n",
      "Anarchism                                   0.00       25.00     0.00  25.00   \n",
      "Autism                                      0.00        0.00     0.00   0.00   \n",
      "Albedo                                      0.00        0.00     0.00   0.00   \n",
      "A                                           0.00        0.00     0.00   0.00   \n",
      "Alabama                                     0.00        0.00     0.00   0.00   \n",
      "Achilles                                    0.00        0.00     0.00   0.00   \n",
      "Abraham Lincoln                             0.00        0.00     0.00   0.00   \n",
      "Aristotle                                  28.57        0.00    28.57  14.29   \n",
      "An American in Paris                        0.00        0.00     0.00   0.00   \n",
      "Academy Award for Best Production Design    0.00        0.00     0.00   0.00   \n",
      "Academy Awards                              0.00        0.00     0.00   0.00   \n",
      "Actrius                                     0.00        0.00     0.00   0.00   \n",
      "Animalia (book)                             0.00        0.00     0.00   0.00   \n",
      "International Atomic Time                   0.00        0.00     0.00   0.00   \n",
      "Altruism                                    0.00       33.33     0.00  16.67   \n",
      "Ayn Rand                                    0.00        0.00     0.00   0.00   \n",
      "Alain Connes                                0.00        0.00    33.33   0.00   \n",
      "Allan Dwan                                  0.00        0.00     0.00   0.00   \n",
      "Algeria                                     0.00        0.00     0.00   0.00   \n",
      "List of Atlas Shrugged characters           0.00        0.00     0.00   0.00   \n",
      "Anthropology                                0.00        0.00     0.00   0.00   \n",
      "Agricultural science                        0.00        0.00     0.00   0.00   \n",
      "Alchemy                                     0.00        0.00     0.00   0.00   \n",
      "Alien                                       0.00        0.00     0.00   0.00   \n",
      "Astronomer                                  0.00        0.00     0.00   0.00   \n",
      "ASCII                                       0.00        0.00     0.00   0.00   \n",
      "Austin (disambiguation)                     0.00        0.00     0.00   0.00   \n",
      "Animation                                  33.33       33.33     0.00  33.33   \n",
      "Apollo                                      0.00        0.00    33.33   0.00   \n",
      "Andre Agassi                                0.00        0.00     0.00   0.00   \n",
      "\n",
      "                                            All  \n",
      "Anarchism                                 25.00  \n",
      "Autism                                     0.00  \n",
      "Albedo                                     0.00  \n",
      "A                                          0.00  \n",
      "Alabama                                    0.00  \n",
      "Achilles                                   0.00  \n",
      "Abraham Lincoln                            0.00  \n",
      "Aristotle                                 42.86  \n",
      "An American in Paris                       0.00  \n",
      "Academy Award for Best Production Design   0.00  \n",
      "Academy Awards                             0.00  \n",
      "Actrius                                    0.00  \n",
      "Animalia (book)                            0.00  \n",
      "International Atomic Time                  0.00  \n",
      "Altruism                                  33.33  \n",
      "Ayn Rand                                   0.00  \n",
      "Alain Connes                              33.33  \n",
      "Allan Dwan                                 0.00  \n",
      "Algeria                                    0.00  \n",
      "List of Atlas Shrugged characters          0.00  \n",
      "Anthropology                               0.00  \n",
      "Agricultural science                       0.00  \n",
      "Alchemy                                    0.00  \n",
      "Alien                                      0.00  \n",
      "Astronomer                                 0.00  \n",
      "ASCII                                      0.00  \n",
      "Austin (disambiguation)                    0.00  \n",
      "Animation                                 33.33  \n",
      "Apollo                                    33.33  \n",
      "Andre Agassi                               0.00  \n",
      "          Anchor  Categories    Infobox       Text        All\n",
      "count  30.000000   30.000000  30.000000  30.000000  30.000000\n",
      "mean    2.063333    3.055333   3.174333   2.976333   6.706000\n",
      "std     7.877102    9.407858   9.712649   8.204761  13.841993\n",
      "min     0.000000    0.000000   0.000000   0.000000   0.000000\n",
      "25%     0.000000    0.000000   0.000000   0.000000   0.000000\n",
      "50%     0.000000    0.000000   0.000000   0.000000   0.000000\n",
      "75%     0.000000    0.000000   0.000000   0.000000   0.000000\n",
      "max    33.330000   33.330000  33.330000  33.330000  42.860000\n",
      "\n",
      "Average of All column:  6.71\n",
      "Precision:  0.11683087027914613\n",
      "Recall:  0.10344827586206896\n",
      "F1: 0.08149972632731255\n"
     ]
    },
    {
     "name": "stderr",
     "output_type": "stream",
     "text": [
      "D:\\anaconda3\\lib\\site-packages\\sklearn\\preprocessing\\_label.py:994: UserWarning: unknown class(es) ['Crime', 'Dance', 'Earth', 'Exercise', 'Fitness', 'Food', 'Internet', 'Media', 'Painting', 'Recreation'] will be ignored\n",
      "  warnings.warn('unknown class(es) {0} will be ignored'\n"
     ]
    }
   ],
   "source": [
    "with open('../data/test_30_tested.json') as json_file:\n",
    "    articles_test = json.load(json_file)\n",
    "    \n",
    "titles = [art.get('title') for art in articles_test]\n",
    "anchors = [0] * 30\n",
    "categories = [0] * 30\n",
    "infoboxes = [0] * 30\n",
    "texts = [0] * 30\n",
    "extended = [0] * 30\n",
    "counter = 0\n",
    "\n",
    "for art in articles_test:\n",
    "    len_annotated = len(art.get('annotated_categories'))\n",
    "\n",
    "    n_anchors = take(len_annotated, art.get('anchor_sims_cat').keys())\n",
    "    n_anchors.extend(take(len_annotated, art.get('categories_sims_cat').keys()))\n",
    "    n_anchors.extend(take(len_annotated, art.get('infobox_sims_cat').keys()))\n",
    "    n_anchors.extend(take(len_annotated, art.get('text_sims_cat').keys()))\n",
    "    art['extended_sims_cat'] = list(set(n_anchors))\n",
    "\n",
    "    for cat in art.get('annotated_categories'):\n",
    "        if cat in art.get('anchor_sims_cat') and not pd.isna(art.get('anchor_sims_cat').get(cat)) and list(art.get('anchor_sims_cat')).index(cat) + 1 <= len_annotated:\n",
    "            anchors[counter] += 1\n",
    "            #print(cat, art.get('anchor_sims_cat').get(cat),list(art.get('anchor_sims_cat')).index(cat) + 1)\n",
    "        if cat in art.get('categories_sims_cat') and not pd.isna(art.get('categories_sims_cat').get(cat)) and list(art.get('categories_sims_cat')).index(cat) + 1 <= len_annotated:\n",
    "            categories[counter] += 1\n",
    "            #print(cat, art.get('categories_sims_cat').get(cat),list(art.get('categories_sims_cat')).index(cat) + 1)\n",
    "        if cat in art.get('infobox_sims_cat') and not pd.isna(art.get('infobox_sims_cat').get(cat)) and list(art.get('infobox_sims_cat')).index(cat) + 1 <= len_annotated:\n",
    "            infoboxes[counter] += 1\n",
    "            #print(cat, art.get('infobox_sims_cat').get(cat),list(art.get('infobox_sims_cat')).index(cat) + 1)\n",
    "        if cat in art.get('text_sims_cat') and not pd.isna(art.get('text_sims_cat').get(cat)) and list(art.get('text_sims_cat')).index(cat) + 1 <= len_annotated:\n",
    "            texts[counter] += 1\n",
    "            #print(cat, art.get('text_sims_cat').get(cat),list(art.get('text_sims_cat')).index(cat) + 1)\n",
    "        if cat in art.get('extended_sims_cat'):\n",
    "            extended[counter] += 1\n",
    "    anchors[counter] = float(\"{:.2f}\".format(anchors[counter] / len_annotated * 100))\n",
    "    categories[counter] = float(\"{:.2f}\".format(categories[counter] / len_annotated * 100))\n",
    "    infoboxes[counter] = float(\"{:.2f}\".format(infoboxes[counter] / len_annotated * 100))\n",
    "    texts[counter] = float(\"{:.2f}\".format(texts[counter] / len_annotated* 100))\n",
    "    extended[counter] = float(\"{:.2f}\".format(extended[counter] / len_annotated* 100))\n",
    "\n",
    "    counter += 1\n",
    "    \n",
    "cars = {\n",
    "    'Anchor': anchors,\n",
    "    'Categories': categories,\n",
    "    'Infobox': infoboxes, \n",
    "    'Text': texts,\n",
    "    'All': extended\n",
    "}\n",
    "\n",
    "df = pd.DataFrame(cars, columns = ['Anchor','Categories','Infobox','Text','All'], index=titles)\n",
    "\n",
    "print(df)\n",
    "print (df.describe())\n",
    "print('\\nAverage of All column: ', float(\"{:.2f}\".format(df['All'].mean())))\n",
    "\n",
    "A=[art['annotated_categories'] for art in articles_test]\n",
    "B=[art['extended_sims_cat'] for art in articles_test]\n",
    "\n",
    "multi = MultiLabelBinarizer()\n",
    "\n",
    "y_true = multi.fit(A).transform(A)\n",
    "y_pred = multi.transform(B)\n",
    "\n",
    "print('Precision: ',precision_score(y_true, y_pred,average='weighted',zero_division=1))\n",
    "print('Recall: ',recall_score(y_true, y_pred, average='weighted',zero_division=1))\n",
    "print('F1:' ,f1_score(y_true, y_pred, average='weighted'))"
   ]
  },
  {
   "cell_type": "markdown",
   "metadata": {},
   "source": [
    "### WIKI Infobox gazeteer"
   ]
  },
  {
   "cell_type": "markdown",
   "metadata": {},
   "source": [
    "#### Anchor text +  Kategorie Wiki + Infobox + Text clanku"
   ]
  },
  {
   "cell_type": "code",
   "execution_count": 46,
   "metadata": {
    "scrolled": true
   },
   "outputs": [
    {
     "name": "stdout",
     "output_type": "stream",
     "text": [
      "                                          Anchor  Categories  Infobox    Text  \\\n",
      "Anarchism                                   0.00         0.0     0.00   50.00   \n",
      "Autism                                      0.00         0.0    33.33    0.00   \n",
      "Albedo                                      0.00         0.0     0.00    0.00   \n",
      "A                                           0.00         0.0    50.00    0.00   \n",
      "Alabama                                     0.00         0.0     0.00    0.00   \n",
      "Achilles                                    0.00         0.0     0.00   66.67   \n",
      "Abraham Lincoln                             0.00         0.0    20.00   20.00   \n",
      "Aristotle                                   0.00         0.0    57.14   42.86   \n",
      "An American in Paris                       25.00         0.0     0.00   50.00   \n",
      "Academy Award for Best Production Design   33.33         0.0    66.67   66.67   \n",
      "Academy Awards                             33.33         0.0    66.67   66.67   \n",
      "Actrius                                     0.00         0.0   100.00  100.00   \n",
      "Animalia (book)                             0.00         0.0   100.00  100.00   \n",
      "International Atomic Time                   0.00         0.0     0.00    0.00   \n",
      "Altruism                                    0.00         0.0     0.00   33.33   \n",
      "Ayn Rand                                    0.00         0.0     0.00   66.67   \n",
      "Alain Connes                                0.00         0.0    66.67   33.33   \n",
      "Allan Dwan                                  0.00         0.0   100.00  100.00   \n",
      "Algeria                                     0.00         0.0     0.00    0.00   \n",
      "List of Atlas Shrugged characters           0.00         0.0     0.00  100.00   \n",
      "Anthropology                                0.00         0.0     0.00   60.00   \n",
      "Agricultural science                        0.00         0.0     0.00   75.00   \n",
      "Alchemy                                     0.00         0.0     0.00    0.00   \n",
      "Alien                                       0.00         0.0     0.00   25.00   \n",
      "Astronomer                                  0.00         0.0     0.00   33.33   \n",
      "ASCII                                       0.00         0.0     0.00   25.00   \n",
      "Austin (disambiguation)                     0.00         0.0     0.00    0.00   \n",
      "Animation                                   0.00         0.0     0.00   33.33   \n",
      "Apollo                                      0.00         0.0     0.00   33.33   \n",
      "Andre Agassi                                0.00         0.0     0.00   50.00   \n",
      "\n",
      "                                             All  \n",
      "Anarchism                                  50.00  \n",
      "Autism                                     33.33  \n",
      "Albedo                                      0.00  \n",
      "A                                          50.00  \n",
      "Alabama                                     0.00  \n",
      "Achilles                                   66.67  \n",
      "Abraham Lincoln                            20.00  \n",
      "Aristotle                                  71.43  \n",
      "An American in Paris                       75.00  \n",
      "Academy Award for Best Production Design  100.00  \n",
      "Academy Awards                            100.00  \n",
      "Actrius                                   100.00  \n",
      "Animalia (book)                           100.00  \n",
      "International Atomic Time                   0.00  \n",
      "Altruism                                   33.33  \n",
      "Ayn Rand                                   66.67  \n",
      "Alain Connes                               66.67  \n",
      "Allan Dwan                                100.00  \n",
      "Algeria                                     0.00  \n",
      "List of Atlas Shrugged characters         100.00  \n",
      "Anthropology                               60.00  \n",
      "Agricultural science                       75.00  \n",
      "Alchemy                                     0.00  \n",
      "Alien                                      25.00  \n",
      "Astronomer                                 33.33  \n",
      "ASCII                                      25.00  \n",
      "Austin (disambiguation)                     0.00  \n",
      "Animation                                  33.33  \n",
      "Apollo                                     33.33  \n",
      "Andre Agassi                               50.00  \n",
      "          Anchor  Categories     Infobox        Text         All\n",
      "count  30.000000        30.0   30.000000   30.000000   30.000000\n",
      "mean    3.055333         0.0   22.016000   41.039667   48.936333\n",
      "std     9.407858         0.0   35.267161   33.742612   35.305765\n",
      "min     0.000000         0.0    0.000000    0.000000    0.000000\n",
      "25%     0.000000         0.0    0.000000    5.000000   25.000000\n",
      "50%     0.000000         0.0    0.000000   33.330000   50.000000\n",
      "75%     0.000000         0.0   45.832500   66.670000   74.107500\n",
      "max    33.330000         0.0  100.000000  100.000000  100.000000\n",
      "\n",
      "Average of All column:  48.94\n",
      "Precision:  0.5852490421455939\n",
      "Recall:  0.4942528735632184\n",
      "F1: 0.4698716765457588\n"
     ]
    },
    {
     "name": "stderr",
     "output_type": "stream",
     "text": [
      "D:\\anaconda3\\lib\\site-packages\\sklearn\\preprocessing\\_label.py:994: UserWarning: unknown class(es) ['Crime', 'Dance', 'Earth', 'Exercise', 'Fitness', 'Internet', 'Media', 'Painting', 'Recreation'] will be ignored\n",
      "  warnings.warn('unknown class(es) {0} will be ignored'\n"
     ]
    }
   ],
   "source": [
    "with open('../data/test_30_tested.json') as json_file:\n",
    "    articles_test = json.load(json_file)\n",
    "    \n",
    "titles = [art.get('title') for art in articles_test]\n",
    "anchors = [0] * 30\n",
    "categories = [0] * 30\n",
    "infoboxes = [0] * 30\n",
    "texts = [0] * 30\n",
    "extended = [0] * 30\n",
    "counter = 0\n",
    "\n",
    "for art in articles_test:\n",
    "    len_annotated = len(art.get('annotated_categories'))\n",
    "\n",
    "    n_anchors = take(len_annotated, art.get('anchor_sims_info').keys())\n",
    "    n_anchors.extend(take(len_annotated, art.get('categories_sims_info').keys()))\n",
    "    n_anchors.extend(take(len_annotated, art.get('infobox_sims_info').keys()))\n",
    "    n_anchors.extend(take(len_annotated, art.get('text_sims_info').keys()))\n",
    "    art['extended_sims_info'] = list(set(n_anchors))\n",
    "\n",
    "    for cat in art.get('annotated_categories'):\n",
    "        if cat in art.get('anchor_sims_info') and not pd.isna(art.get('anchor_sims_info').get(cat)) and list(art.get('anchor_sims_info')).index(cat) + 1 <= len_annotated:\n",
    "            anchors[counter] += 1\n",
    "        if cat in art.get('categories_sims_info') and not pd.isna(art.get('categories_sims_info').get(cat)) and list(art.get('categories_sims_info')).index(cat) + 1 <= len_annotated:\n",
    "            categories[counter] += 1\n",
    "        if cat in art.get('infobox_sims_info') and not pd.isna(art.get('infobox_sims_info').get(cat)) and list(art.get('infobox_sims_info')).index(cat) + 1 <= len_annotated:\n",
    "            infoboxes[counter] += 1\n",
    "        if cat in art.get('text_sims_info') and not pd.isna(art.get('text_sims_info').get(cat)) and list(art.get('text_sims_info')).index(cat) + 1 <= len_annotated:\n",
    "            texts[counter] += 1\n",
    "        if cat in art.get('extended_sims_info'):\n",
    "            extended[counter] += 1\n",
    "    anchors[counter] = float(\"{:.2f}\".format(anchors[counter] / len_annotated * 100))\n",
    "    categories[counter] = float(\"{:.2f}\".format(categories[counter] / len_annotated * 100))\n",
    "    infoboxes[counter] = float(\"{:.2f}\".format(infoboxes[counter] / len_annotated * 100))\n",
    "    texts[counter] = float(\"{:.2f}\".format(texts[counter] / len_annotated* 100))\n",
    "    extended[counter] = float(\"{:.2f}\".format(extended[counter] / len_annotated* 100))\n",
    "\n",
    "    counter += 1\n",
    "    \n",
    "cars = {\n",
    "    'Anchor': anchors,\n",
    "    'Categories': categories,\n",
    "    'Infobox': infoboxes, \n",
    "    'Text': texts,\n",
    "    'All': extended\n",
    "}\n",
    "\n",
    "df = pd.DataFrame(cars, columns = ['Anchor','Categories','Infobox','Text','All'], index=titles)\n",
    "\n",
    "print(df)\n",
    "print (df.describe())\n",
    "print('\\nAverage of All column: ', float(\"{:.2f}\".format(df['All'].mean())))\n",
    "\n",
    "A=[art['annotated_categories'] for art in articles_test]\n",
    "B=[art['extended_sims_info'] for art in articles_test]\n",
    "\n",
    "multi = MultiLabelBinarizer()\n",
    "\n",
    "y_true = multi.fit(A).transform(A)\n",
    "y_pred = multi.transform(B)\n",
    "\n",
    "print('Precision: ',precision_score(y_true, y_pred,average='weighted',zero_division=1))\n",
    "print('Recall: ',recall_score(y_true, y_pred, average='weighted',zero_division=1))\n",
    "print('F1:' ,f1_score(y_true, y_pred, average='weighted'))"
   ]
  },
  {
   "cell_type": "markdown",
   "metadata": {},
   "source": [
    "### WIKI Text gazeteer"
   ]
  },
  {
   "cell_type": "markdown",
   "metadata": {},
   "source": [
    "#### Anchor text +  Kategorie Wiki + Infobox + Text clanku"
   ]
  },
  {
   "cell_type": "code",
   "execution_count": 144,
   "metadata": {
    "scrolled": true
   },
   "outputs": [
    {
     "name": "stdout",
     "output_type": "stream",
     "text": [
      "                                          Anchor  Categories  Infobox   Text  \\\n",
      "Anarchism                                   0.00       25.00     0.00   0.00   \n",
      "Autism                                      0.00        0.00     0.00   0.00   \n",
      "Albedo                                      0.00        0.00     0.00   0.00   \n",
      "A                                           0.00        0.00     0.00   0.00   \n",
      "Alabama                                     0.00        0.00     0.00   0.00   \n",
      "Achilles                                    0.00        0.00     0.00   0.00   \n",
      "Abraham Lincoln                            20.00       40.00     0.00   0.00   \n",
      "Aristotle                                  14.29       14.29    14.29  14.29   \n",
      "An American in Paris                        0.00        0.00     0.00  25.00   \n",
      "Academy Award for Best Production Design    0.00        0.00    33.33  33.33   \n",
      "Academy Awards                              0.00        0.00     0.00   0.00   \n",
      "Actrius                                     0.00        0.00     0.00   0.00   \n",
      "Animalia (book)                             0.00        0.00     0.00   0.00   \n",
      "International Atomic Time                   0.00        0.00     0.00   0.00   \n",
      "Altruism                                    0.00        0.00     0.00  33.33   \n",
      "Ayn Rand                                    0.00        0.00     0.00   0.00   \n",
      "Alain Connes                                0.00        0.00     0.00   0.00   \n",
      "Allan Dwan                                  0.00        0.00     0.00   0.00   \n",
      "Algeria                                     0.00        0.00     0.00   0.00   \n",
      "List of Atlas Shrugged characters           0.00        0.00     0.00   0.00   \n",
      "Anthropology                               20.00       40.00     0.00  20.00   \n",
      "Agricultural science                        0.00        0.00     0.00   0.00   \n",
      "Alchemy                                     0.00        0.00     0.00   0.00   \n",
      "Alien                                       0.00        0.00     0.00   0.00   \n",
      "Astronomer                                  0.00        0.00     0.00   0.00   \n",
      "ASCII                                       0.00        0.00     0.00   0.00   \n",
      "Austin (disambiguation)                     0.00        0.00     0.00   0.00   \n",
      "Animation                                   0.00        0.00     0.00   0.00   \n",
      "Apollo                                      0.00        0.00     0.00   0.00   \n",
      "Andre Agassi                                0.00        0.00    50.00  50.00   \n",
      "\n",
      "                                            All  \n",
      "Anarchism                                 25.00  \n",
      "Autism                                     0.00  \n",
      "Albedo                                     0.00  \n",
      "A                                          0.00  \n",
      "Alabama                                    0.00  \n",
      "Achilles                                   0.00  \n",
      "Abraham Lincoln                           40.00  \n",
      "Aristotle                                 14.29  \n",
      "An American in Paris                      25.00  \n",
      "Academy Award for Best Production Design  33.33  \n",
      "Academy Awards                             0.00  \n",
      "Actrius                                    0.00  \n",
      "Animalia (book)                            0.00  \n",
      "International Atomic Time                  0.00  \n",
      "Altruism                                  33.33  \n",
      "Ayn Rand                                   0.00  \n",
      "Alain Connes                               0.00  \n",
      "Allan Dwan                                 0.00  \n",
      "Algeria                                    0.00  \n",
      "List of Atlas Shrugged characters          0.00  \n",
      "Anthropology                              40.00  \n",
      "Agricultural science                       0.00  \n",
      "Alchemy                                    0.00  \n",
      "Alien                                      0.00  \n",
      "Astronomer                                 0.00  \n",
      "ASCII                                      0.00  \n",
      "Austin (disambiguation)                    0.00  \n",
      "Animation                                  0.00  \n",
      "Apollo                                     0.00  \n",
      "Andre Agassi                              50.00  \n",
      "          Anchor  Categories    Infobox       Text        All\n",
      "count  30.000000   30.000000  30.000000  30.000000  30.000000\n",
      "mean    1.809667    3.976333   3.254000   5.865000   8.698333\n",
      "std     5.589267   11.071659  10.981862  13.023897  15.653745\n",
      "min     0.000000    0.000000   0.000000   0.000000   0.000000\n",
      "25%     0.000000    0.000000   0.000000   0.000000   0.000000\n",
      "50%     0.000000    0.000000   0.000000   0.000000   0.000000\n",
      "75%     0.000000    0.000000   0.000000   0.000000  10.717500\n",
      "max    20.000000   40.000000  50.000000  50.000000  50.000000\n",
      "\n",
      "Average of All column:  8.7\n",
      "Precision:  0.5300739137853476\n",
      "Recall:  0.12643678160919541\n",
      "F1: 0.0531570919501954\n"
     ]
    },
    {
     "name": "stderr",
     "output_type": "stream",
     "text": [
      "D:\\anaconda3\\lib\\site-packages\\sklearn\\preprocessing\\_label.py:994: UserWarning: unknown class(es) ['Architecture', 'Crime', 'Dance', 'Earth', 'Education', 'Exercise', 'Fitness', 'Food', 'Internet', 'Media', 'Painting', 'Recreation'] will be ignored\n",
      "  warnings.warn('unknown class(es) {0} will be ignored'\n"
     ]
    }
   ],
   "source": [
    "with open('../data/test_30_tested.json') as json_file:\n",
    "    articles_test = json.load(json_file)\n",
    "    \n",
    "titles = [art.get('title') for art in articles_test]\n",
    "anchors = [0] * 30\n",
    "categories = [0] * 30\n",
    "infoboxes = [0] * 30\n",
    "texts = [0] * 30\n",
    "extended = [0] * 30\n",
    "counter = 0\n",
    "\n",
    "for art in articles_test:\n",
    "    len_annotated = len(art.get('annotated_categories'))\n",
    "\n",
    "    n_anchors = take(len_annotated, art.get('anchor_sims_text').keys())\n",
    "    n_anchors.extend(take(len_annotated, art.get('categories_sims_text').keys()))\n",
    "    n_anchors.extend(take(len_annotated, art.get('infobox_sims_text').keys()))\n",
    "    n_anchors.extend(take(len_annotated, art.get('text_sims_text').keys()))\n",
    "    art['extended_sims_text'] = list(set(n_anchors))\n",
    "\n",
    "    for cat in art.get('annotated_categories'):\n",
    "        if cat in art.get('anchor_sims_text') and not pd.isna(art.get('anchor_sims_text').get(cat)) and list(art.get('anchor_sims_text')).index(cat) + 1 <= len_annotated:\n",
    "            anchors[counter] += 1\n",
    "        if cat in art.get('categories_sims_text') and not pd.isna(art.get('categories_sims_text').get(cat)) and list(art.get('categories_sims_text')).index(cat) + 1 <= len_annotated:\n",
    "            categories[counter] += 1\n",
    "        if cat in art.get('infobox_sims_text') and not pd.isna(art.get('infobox_sims_text').get(cat)) and list(art.get('infobox_sims_text')).index(cat) + 1 <= len_annotated:\n",
    "            infoboxes[counter] += 1\n",
    "        if cat in art.get('text_sims_text') and not pd.isna(art.get('text_sims_text').get(cat)) and list(art.get('text_sims_text')).index(cat) + 1 <= len_annotated:\n",
    "            texts[counter] += 1\n",
    "        if cat in art.get('extended_sims_text'):\n",
    "            extended[counter] += 1\n",
    "    anchors[counter] = float(\"{:.2f}\".format(anchors[counter] / len_annotated * 100))\n",
    "    categories[counter] = float(\"{:.2f}\".format(categories[counter] / len_annotated * 100))\n",
    "    infoboxes[counter] = float(\"{:.2f}\".format(infoboxes[counter] / len_annotated * 100))\n",
    "    texts[counter] = float(\"{:.2f}\".format(texts[counter] / len_annotated* 100))\n",
    "    extended[counter] = float(\"{:.2f}\".format(extended[counter] / len_annotated* 100))\n",
    "\n",
    "    counter += 1\n",
    "    \n",
    "cars = {\n",
    "    'Anchor': anchors,\n",
    "    'Categories': categories,\n",
    "    'Infobox': infoboxes, \n",
    "    'Text': texts,\n",
    "    'All': extended\n",
    "}\n",
    "\n",
    "df = pd.DataFrame(cars, columns = ['Anchor','Categories','Infobox','Text','All'], index=titles)\n",
    "\n",
    "print(df)\n",
    "print (df.describe())\n",
    "print('\\nAverage of All column: ', float(\"{:.2f}\".format(df['All'].mean())))\n",
    "\n",
    "A=[art['annotated_categories'] for art in articles_test]\n",
    "B=[art['extended_sims_text'] for art in articles_test]\n",
    "\n",
    "multi = MultiLabelBinarizer()\n",
    "\n",
    "y_true = multi.fit(A).transform(A)\n",
    "y_pred = multi.transform(B)\n",
    "\n",
    "print('Precision: ',precision_score(y_true, y_pred,average='weighted',zero_division=1))\n",
    "print('Recall: ',recall_score(y_true, y_pred, average='weighted',zero_division=1))\n",
    "print('F1:' ,f1_score(y_true, y_pred, average='weighted'))"
   ]
  },
  {
   "cell_type": "code",
   "execution_count": 157,
   "metadata": {},
   "outputs": [
    {
     "name": "stdout",
     "output_type": "stream",
     "text": [
      "None\n"
     ]
    }
   ],
   "source": [
    "print(articles_test[0].get('extended_sims'))"
   ]
  },
  {
   "cell_type": "markdown",
   "metadata": {},
   "source": [
    "## Invertovany index"
   ]
  },
  {
   "cell_type": "code",
   "execution_count": 150,
   "metadata": {},
   "outputs": [],
   "source": [
    "from collections import defaultdict\n",
    "\n",
    "class invertedIndex(object):\n",
    "\n",
    "    def __init__(self,docs,method):\n",
    "        self.docSets = defaultdict(set)\n",
    "        for doc in docs:\n",
    "            index = doc.get('title')\n",
    "            t = [preprocess_text(a) for a in doc.get(method)]\n",
    "            for term in [item for sublist in t for item in sublist]:\n",
    "                self.docSets[term].add(index)\n",
    "        #print(self.docSets)\n",
    "        \n",
    "    def search(self, term, andor):\n",
    "        pole=set()            \n",
    "        for a in preprocess_text(term):\n",
    "            #print(self.docSets[a])\n",
    "            if andor == 'and':\n",
    "                if len(pole) == 0:\n",
    "                    pole = self.docSets[a]\n",
    "                else:\n",
    "                    pole = pole.intersection(self.docSets[a])\n",
    "            elif andor == 'or':\n",
    "                pole = pole.union(self.docSets[a])\n",
    "        return pole"
   ]
  },
  {
   "cell_type": "markdown",
   "metadata": {},
   "source": [
    "### Inverted index - hladanie podla textu"
   ]
  },
  {
   "cell_type": "code",
   "execution_count": 161,
   "metadata": {
    "scrolled": true
   },
   "outputs": [
    {
     "name": "stdout",
     "output_type": "stream",
     "text": [
      "{'Achilles', 'Alien', 'Academy Awards', 'Animation', 'Alchemy', 'Ayn Rand', 'Alabama', 'Academy Award for Best Production Design', 'Algeria', 'Aristotle', 'An American in Paris', 'Anthropology'}\n"
     ]
    }
   ],
   "source": [
    "i=invertedIndex(articles_test, 'text_tokens')\n",
    "#print(i)\n",
    "\n",
    "print(i.search(\"art film\", \"and\"))"
   ]
  },
  {
   "cell_type": "markdown",
   "metadata": {},
   "source": [
    "### Invertovany index - hladanie podla kategorie (infobox)"
   ]
  },
  {
   "cell_type": "code",
   "execution_count": 162,
   "metadata": {
    "scrolled": true
   },
   "outputs": [
    {
     "name": "stdout",
     "output_type": "stream",
     "text": [
      "{'Alien', 'Academy Awards', 'Animation', 'Actrius', 'Academy Award for Best Production Design'}\n"
     ]
    }
   ],
   "source": [
    "j=invertedIndex(articles_test, 'extended_sims_info')\n",
    "#print(j)\n",
    "\n",
    "print(j.search(\"art film\", \"and\"))"
   ]
  },
  {
   "cell_type": "markdown",
   "metadata": {},
   "source": [
    "### Invertovany index - hladanie podla kategorie (text)"
   ]
  },
  {
   "cell_type": "code",
   "execution_count": 159,
   "metadata": {},
   "outputs": [
    {
     "name": "stdout",
     "output_type": "stream",
     "text": [
      "{'Academy Award for Best Production Design'}\n"
     ]
    }
   ],
   "source": [
    "# j=invertedIndex(articles_test, 'extended_sims')\n",
    "#print(j)\n",
    "\n",
    "print(j.search(\"art film\", \"and\"))"
   ]
  },
  {
   "cell_type": "markdown",
   "metadata": {},
   "source": [
    "## Presna zhoda"
   ]
  },
  {
   "cell_type": "markdown",
   "metadata": {},
   "source": [
    "### 6. Z tela článku vyhľadať najčastejšie používané termy a tie, ktoré boli identifikované v kroku 2"
   ]
  },
  {
   "cell_type": "markdown",
   "metadata": {},
   "source": [
    "Find exact match words or expressions with categorised words"
   ]
  },
  {
   "cell_type": "code",
   "execution_count": null,
   "metadata": {},
   "outputs": [],
   "source": [
    "Find exact match words or expressions with categorised words\n",
    "\n",
    "def find_exact_match(articles, categories):\n",
    "    for article in articles:\n",
    "        article['categories_exact_text'] = []\n",
    "        article['categories_exact_anchors'] = []\n",
    "        article['categories_exact_infobox'] = []\n",
    "        for category in categories:\n",
    "            related_words = category.get('related_words')\n",
    "            found_text = []\n",
    "            found_anchors = []\n",
    "            found_infobox = []\n",
    "            found_text = list(filter(lambda word: re.findall(rf'\\W+({word})\\W+', article['text'], re.IGNORECASE), related_words))\n",
    "            found_anchors = list(filter(lambda word: re.findall(rf'\\W+({word})\\W+', str(article['anchors']).strip('[]'), re.IGNORECASE), related_words))\n",
    "            found_infobox = list(filter(lambda word: re.findall(rf'\\W+({word})\\W+', str(article['infobox']).strip('[]'), re.IGNORECASE), related_words))\n",
    "            if found_text:\n",
    "                article['categories_exact_text'].append({'category':category.get('category'),'related_words':found_text})\n",
    "            if found_anchors:\n",
    "                article['categories_exact_anchors'].append({'category':category.get('category'),'related_words':found_anchors})\n",
    "            if found_infobox:\n",
    "                article['categories_exact_infobox'].append({'category':category.get('category'),'related_words':found_infobox})\n",
    "    return articles"
   ]
  },
  {
   "cell_type": "code",
   "execution_count": null,
   "metadata": {},
   "outputs": [],
   "source": [
    "def save_articles(articles, file_name):\n",
    "    with open(f'../data/{file_name}.json', 'w') as outfile:\n",
    "        json.dump(articles, outfile, indent=4)"
   ]
  },
  {
   "cell_type": "code",
   "execution_count": null,
   "metadata": {},
   "outputs": [],
   "source": [
    "exact_match = find_exact_match(articles, cats_with_words)\n",
    "save_articles(exact_match, 'wiki_100_exact_match')"
   ]
  },
  {
   "cell_type": "markdown",
   "metadata": {},
   "source": [
    "### Vyskusat PySpark"
   ]
  },
  {
   "cell_type": "code",
   "execution_count": null,
   "metadata": {},
   "outputs": [],
   "source": [
    "import findspark\n",
    "findspark.init()\n",
    "findspark.find()\n",
    "import pyspark\n",
    "findspark.find()"
   ]
  },
  {
   "cell_type": "code",
   "execution_count": null,
   "metadata": {},
   "outputs": [],
   "source": [
    "from pyspark import SparkConf, SparkContext\n",
    "from pyspark.sql import SparkSession\n",
    "conf = SparkConf().setAppName('SparkApp').setMaster(\"local\")\n",
    "sc = pyspark.SparkContext(conf = conf)\n",
    "spark = SparkSession(sc)"
   ]
  },
  {
   "cell_type": "code",
   "execution_count": null,
   "metadata": {},
   "outputs": [],
   "source": [
    "tic = time.perf_counter()\n",
    "numeric_val = sc.parallelize(articles)\n",
    "square_udf_int = udf(lambda z: remove_stop_words(z))\n",
    "#numeric_val.map(lambda x: remove_stop_words(x)).collect()\n",
    "toc = time.perf_counter()\n",
    "print(f\"Performed in {toc - tic:0.4f} seconds\")"
   ]
  },
  {
   "cell_type": "code",
   "execution_count": null,
   "metadata": {},
   "outputs": [],
   "source": [
    "tic = time.perf_counter()\n",
    "numeric_val.map(lambda x: square_udf_int(x)).collect()\n",
    "toc = time.perf_counter()\n",
    "print(f\"Performed in {toc - tic:0.4f} seconds\")"
   ]
  },
  {
   "cell_type": "code",
   "execution_count": null,
   "metadata": {},
   "outputs": [],
   "source": [
    "def square(x):\n",
    "    return x**2"
   ]
  },
  {
   "cell_type": "code",
   "execution_count": null,
   "metadata": {},
   "outputs": [],
   "source": [
    "from pyspark.sql.types import IntegerType\n",
    "from pyspark.sql.functions import udf\n",
    "square_udf_int = udf(lambda z: square(z), IntegerType())"
   ]
  },
  {
   "cell_type": "code",
   "execution_count": null,
   "metadata": {},
   "outputs": [],
   "source": [
    "square_udf_int([1,2,3])"
   ]
  }
 ],
 "metadata": {
  "kernelspec": {
   "display_name": "Python 3",
   "language": "python",
   "name": "python3"
  },
  "language_info": {
   "codemirror_mode": {
    "name": "ipython",
    "version": 3
   },
   "file_extension": ".py",
   "mimetype": "text/x-python",
   "name": "python",
   "nbconvert_exporter": "python",
   "pygments_lexer": "ipython3",
   "version": "3.8.3"
  }
 },
 "nbformat": 4,
 "nbformat_minor": 4
}
